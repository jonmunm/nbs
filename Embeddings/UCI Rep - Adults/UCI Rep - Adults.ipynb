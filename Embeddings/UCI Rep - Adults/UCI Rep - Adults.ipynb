{
 "cells": [
  {
   "cell_type": "code",
   "execution_count": 1,
   "metadata": {},
   "outputs": [],
   "source": [
    "import pandas as pd\n",
    "import numpy as np\n",
    "from datetime import datetime, timedelta\n",
    "from typing import List, Dict, Tuple\n",
    "\n",
    "from sklearn import model_selection\n",
    "from sklearn.preprocessing import LabelEncoder, StandardScaler\n",
    "from sklearn.preprocessing import FunctionTransformer as FT\n",
    "from sklearn.base import TransformerMixin\n",
    "from sklearn.impute import SimpleImputer\n",
    "from sklearn.manifold import TSNE\n",
    "from sklearn.metrics import roc_auc_score, accuracy_score\n",
    "\n",
    "from Models import UciAdultsClassifier\n",
    "from Datasets import TabularDataset\n",
    "\n",
    "from statistics import mean, stdev\n",
    "\n",
    "%matplotlib inline\n",
    "import matplotlib.pyplot as plt\n",
    "\n",
    "import torch\n",
    "import torch.nn as nn\n",
    "import torch.optim as optim\n",
    "from torch.utils.data import DataLoader"
   ]
  },
  {
   "cell_type": "code",
   "execution_count": 2,
   "metadata": {},
   "outputs": [
    {
     "name": "stdout",
     "output_type": "stream",
     "text": [
      "32,561 registros a las 2020-08-30 00:56:59.720982\n"
     ]
    },
    {
     "data": {
      "text/html": [
       "<div>\n",
       "<style scoped>\n",
       "    .dataframe tbody tr th:only-of-type {\n",
       "        vertical-align: middle;\n",
       "    }\n",
       "\n",
       "    .dataframe tbody tr th {\n",
       "        vertical-align: top;\n",
       "    }\n",
       "\n",
       "    .dataframe thead th {\n",
       "        text-align: right;\n",
       "    }\n",
       "</style>\n",
       "<table border=\"1\" class=\"dataframe\">\n",
       "  <thead>\n",
       "    <tr style=\"text-align: right;\">\n",
       "      <th></th>\n",
       "      <th>age</th>\n",
       "      <th>workclass</th>\n",
       "      <th>fnlwgt</th>\n",
       "      <th>education</th>\n",
       "      <th>education-num</th>\n",
       "      <th>marital-status</th>\n",
       "      <th>occupation</th>\n",
       "      <th>relationship</th>\n",
       "      <th>race</th>\n",
       "      <th>sex</th>\n",
       "      <th>capital-gain</th>\n",
       "      <th>capital-loss</th>\n",
       "      <th>hours-per-week</th>\n",
       "      <th>native-country</th>\n",
       "      <th>income</th>\n",
       "    </tr>\n",
       "  </thead>\n",
       "  <tbody>\n",
       "    <tr>\n",
       "      <th>0</th>\n",
       "      <td>39</td>\n",
       "      <td>State-gov</td>\n",
       "      <td>77516</td>\n",
       "      <td>Bachelors</td>\n",
       "      <td>13</td>\n",
       "      <td>Never-married</td>\n",
       "      <td>Adm-clerical</td>\n",
       "      <td>Not-in-family</td>\n",
       "      <td>White</td>\n",
       "      <td>Male</td>\n",
       "      <td>2174</td>\n",
       "      <td>0</td>\n",
       "      <td>40</td>\n",
       "      <td>United-States</td>\n",
       "      <td>&lt;=50K</td>\n",
       "    </tr>\n",
       "    <tr>\n",
       "      <th>1</th>\n",
       "      <td>50</td>\n",
       "      <td>Self-emp-not-inc</td>\n",
       "      <td>83311</td>\n",
       "      <td>Bachelors</td>\n",
       "      <td>13</td>\n",
       "      <td>Married-civ-spouse</td>\n",
       "      <td>Exec-managerial</td>\n",
       "      <td>Husband</td>\n",
       "      <td>White</td>\n",
       "      <td>Male</td>\n",
       "      <td>0</td>\n",
       "      <td>0</td>\n",
       "      <td>13</td>\n",
       "      <td>United-States</td>\n",
       "      <td>&lt;=50K</td>\n",
       "    </tr>\n",
       "    <tr>\n",
       "      <th>2</th>\n",
       "      <td>38</td>\n",
       "      <td>Private</td>\n",
       "      <td>215646</td>\n",
       "      <td>HS-grad</td>\n",
       "      <td>9</td>\n",
       "      <td>Divorced</td>\n",
       "      <td>Handlers-cleaners</td>\n",
       "      <td>Not-in-family</td>\n",
       "      <td>White</td>\n",
       "      <td>Male</td>\n",
       "      <td>0</td>\n",
       "      <td>0</td>\n",
       "      <td>40</td>\n",
       "      <td>United-States</td>\n",
       "      <td>&lt;=50K</td>\n",
       "    </tr>\n",
       "    <tr>\n",
       "      <th>3</th>\n",
       "      <td>53</td>\n",
       "      <td>Private</td>\n",
       "      <td>234721</td>\n",
       "      <td>11th</td>\n",
       "      <td>7</td>\n",
       "      <td>Married-civ-spouse</td>\n",
       "      <td>Handlers-cleaners</td>\n",
       "      <td>Husband</td>\n",
       "      <td>Black</td>\n",
       "      <td>Male</td>\n",
       "      <td>0</td>\n",
       "      <td>0</td>\n",
       "      <td>40</td>\n",
       "      <td>United-States</td>\n",
       "      <td>&lt;=50K</td>\n",
       "    </tr>\n",
       "    <tr>\n",
       "      <th>4</th>\n",
       "      <td>28</td>\n",
       "      <td>Private</td>\n",
       "      <td>338409</td>\n",
       "      <td>Bachelors</td>\n",
       "      <td>13</td>\n",
       "      <td>Married-civ-spouse</td>\n",
       "      <td>Prof-specialty</td>\n",
       "      <td>Wife</td>\n",
       "      <td>Black</td>\n",
       "      <td>Female</td>\n",
       "      <td>0</td>\n",
       "      <td>0</td>\n",
       "      <td>40</td>\n",
       "      <td>Cuba</td>\n",
       "      <td>&lt;=50K</td>\n",
       "    </tr>\n",
       "  </tbody>\n",
       "</table>\n",
       "</div>"
      ],
      "text/plain": [
       "   age          workclass  fnlwgt   education  education-num  \\\n",
       "0   39          State-gov   77516   Bachelors             13   \n",
       "1   50   Self-emp-not-inc   83311   Bachelors             13   \n",
       "2   38            Private  215646     HS-grad              9   \n",
       "3   53            Private  234721        11th              7   \n",
       "4   28            Private  338409   Bachelors             13   \n",
       "\n",
       "        marital-status          occupation    relationship    race      sex  \\\n",
       "0        Never-married        Adm-clerical   Not-in-family   White     Male   \n",
       "1   Married-civ-spouse     Exec-managerial         Husband   White     Male   \n",
       "2             Divorced   Handlers-cleaners   Not-in-family   White     Male   \n",
       "3   Married-civ-spouse   Handlers-cleaners         Husband   Black     Male   \n",
       "4   Married-civ-spouse      Prof-specialty            Wife   Black   Female   \n",
       "\n",
       "   capital-gain  capital-loss  hours-per-week  native-country  income  \n",
       "0          2174             0              40   United-States   <=50K  \n",
       "1             0             0              13   United-States   <=50K  \n",
       "2             0             0              40   United-States   <=50K  \n",
       "3             0             0              40   United-States   <=50K  \n",
       "4             0             0              40            Cuba   <=50K  "
      ]
     },
     "execution_count": 2,
     "metadata": {},
     "output_type": "execute_result"
    }
   ],
   "source": [
    "columns=[\n",
    "    'age', \n",
    "    'workclass', \n",
    "    'fnlwgt', \n",
    "    'education', \n",
    "    'education-num',\n",
    "    'marital-status', \n",
    "    'occupation', \n",
    "    'relationship', \n",
    "    'race', \n",
    "    'sex',\n",
    "    'capital-gain', \n",
    "    'capital-loss', \n",
    "    'hours-per-week', \n",
    "    'native-country',\n",
    "    'income']\n",
    "adult_train_df = pd.read_csv('adult_train.csv', sep=\",\", header=None, names=columns)\n",
    "print('{0:,} registros a las {1}'.format(len(adult_train_df), datetime.now()))\n",
    "adult_train_df.head()"
   ]
  },
  {
   "cell_type": "code",
   "execution_count": 3,
   "metadata": {},
   "outputs": [
    {
     "data": {
      "text/plain": [
       "age                  0\n",
       "workclass         1836\n",
       "fnlwgt               0\n",
       "education            0\n",
       "education-num        0\n",
       "marital-status       0\n",
       "occupation        1843\n",
       "relationship         0\n",
       "race                 0\n",
       "sex                  0\n",
       "capital-gain         0\n",
       "capital-loss         0\n",
       "hours-per-week       0\n",
       "native-country     583\n",
       "income               0\n",
       "dtype: int64"
      ]
     },
     "execution_count": 3,
     "metadata": {},
     "output_type": "execute_result"
    }
   ],
   "source": [
    "adult_train_df.replace(to_replace=' ?', value= np.nan, inplace=True)\n",
    "adult_train_df.isna().sum()"
   ]
  },
  {
   "cell_type": "code",
   "execution_count": 4,
   "metadata": {},
   "outputs": [
    {
     "name": "stdout",
     "output_type": "stream",
     "text": [
      "30,162 registros a las 2020-08-28 00:38:14.234956\n"
     ]
    },
    {
     "data": {
      "text/html": [
       "<div>\n",
       "<style scoped>\n",
       "    .dataframe tbody tr th:only-of-type {\n",
       "        vertical-align: middle;\n",
       "    }\n",
       "\n",
       "    .dataframe tbody tr th {\n",
       "        vertical-align: top;\n",
       "    }\n",
       "\n",
       "    .dataframe thead th {\n",
       "        text-align: right;\n",
       "    }\n",
       "</style>\n",
       "<table border=\"1\" class=\"dataframe\">\n",
       "  <thead>\n",
       "    <tr style=\"text-align: right;\">\n",
       "      <th></th>\n",
       "      <th>age</th>\n",
       "      <th>workclass</th>\n",
       "      <th>fnlwgt</th>\n",
       "      <th>education</th>\n",
       "      <th>education-num</th>\n",
       "      <th>marital-status</th>\n",
       "      <th>occupation</th>\n",
       "      <th>relationship</th>\n",
       "      <th>race</th>\n",
       "      <th>sex</th>\n",
       "      <th>capital-gain</th>\n",
       "      <th>capital-loss</th>\n",
       "      <th>hours-per-week</th>\n",
       "      <th>native-country</th>\n",
       "      <th>income</th>\n",
       "    </tr>\n",
       "  </thead>\n",
       "  <tbody>\n",
       "    <tr>\n",
       "      <th>0</th>\n",
       "      <td>39</td>\n",
       "      <td>State-gov</td>\n",
       "      <td>77516</td>\n",
       "      <td>Bachelors</td>\n",
       "      <td>13</td>\n",
       "      <td>Never-married</td>\n",
       "      <td>Adm-clerical</td>\n",
       "      <td>Not-in-family</td>\n",
       "      <td>White</td>\n",
       "      <td>Male</td>\n",
       "      <td>2174</td>\n",
       "      <td>0</td>\n",
       "      <td>40</td>\n",
       "      <td>United-States</td>\n",
       "      <td>&lt;=50K</td>\n",
       "    </tr>\n",
       "    <tr>\n",
       "      <th>1</th>\n",
       "      <td>50</td>\n",
       "      <td>Self-emp-not-inc</td>\n",
       "      <td>83311</td>\n",
       "      <td>Bachelors</td>\n",
       "      <td>13</td>\n",
       "      <td>Married-civ-spouse</td>\n",
       "      <td>Exec-managerial</td>\n",
       "      <td>Husband</td>\n",
       "      <td>White</td>\n",
       "      <td>Male</td>\n",
       "      <td>0</td>\n",
       "      <td>0</td>\n",
       "      <td>13</td>\n",
       "      <td>United-States</td>\n",
       "      <td>&lt;=50K</td>\n",
       "    </tr>\n",
       "    <tr>\n",
       "      <th>2</th>\n",
       "      <td>38</td>\n",
       "      <td>Private</td>\n",
       "      <td>215646</td>\n",
       "      <td>HS-grad</td>\n",
       "      <td>9</td>\n",
       "      <td>Divorced</td>\n",
       "      <td>Handlers-cleaners</td>\n",
       "      <td>Not-in-family</td>\n",
       "      <td>White</td>\n",
       "      <td>Male</td>\n",
       "      <td>0</td>\n",
       "      <td>0</td>\n",
       "      <td>40</td>\n",
       "      <td>United-States</td>\n",
       "      <td>&lt;=50K</td>\n",
       "    </tr>\n",
       "    <tr>\n",
       "      <th>3</th>\n",
       "      <td>53</td>\n",
       "      <td>Private</td>\n",
       "      <td>234721</td>\n",
       "      <td>11th</td>\n",
       "      <td>7</td>\n",
       "      <td>Married-civ-spouse</td>\n",
       "      <td>Handlers-cleaners</td>\n",
       "      <td>Husband</td>\n",
       "      <td>Black</td>\n",
       "      <td>Male</td>\n",
       "      <td>0</td>\n",
       "      <td>0</td>\n",
       "      <td>40</td>\n",
       "      <td>United-States</td>\n",
       "      <td>&lt;=50K</td>\n",
       "    </tr>\n",
       "    <tr>\n",
       "      <th>4</th>\n",
       "      <td>28</td>\n",
       "      <td>Private</td>\n",
       "      <td>338409</td>\n",
       "      <td>Bachelors</td>\n",
       "      <td>13</td>\n",
       "      <td>Married-civ-spouse</td>\n",
       "      <td>Prof-specialty</td>\n",
       "      <td>Wife</td>\n",
       "      <td>Black</td>\n",
       "      <td>Female</td>\n",
       "      <td>0</td>\n",
       "      <td>0</td>\n",
       "      <td>40</td>\n",
       "      <td>Cuba</td>\n",
       "      <td>&lt;=50K</td>\n",
       "    </tr>\n",
       "  </tbody>\n",
       "</table>\n",
       "</div>"
      ],
      "text/plain": [
       "   age          workclass  fnlwgt   education  education-num  \\\n",
       "0   39          State-gov   77516   Bachelors             13   \n",
       "1   50   Self-emp-not-inc   83311   Bachelors             13   \n",
       "2   38            Private  215646     HS-grad              9   \n",
       "3   53            Private  234721        11th              7   \n",
       "4   28            Private  338409   Bachelors             13   \n",
       "\n",
       "        marital-status          occupation    relationship    race      sex  \\\n",
       "0        Never-married        Adm-clerical   Not-in-family   White     Male   \n",
       "1   Married-civ-spouse     Exec-managerial         Husband   White     Male   \n",
       "2             Divorced   Handlers-cleaners   Not-in-family   White     Male   \n",
       "3   Married-civ-spouse   Handlers-cleaners         Husband   Black     Male   \n",
       "4   Married-civ-spouse      Prof-specialty            Wife   Black   Female   \n",
       "\n",
       "   capital-gain  capital-loss  hours-per-week  native-country  income  \n",
       "0          2174             0              40   United-States   <=50K  \n",
       "1             0             0              13   United-States   <=50K  \n",
       "2             0             0              40   United-States   <=50K  \n",
       "3             0             0              40   United-States   <=50K  \n",
       "4             0             0              40            Cuba   <=50K  "
      ]
     },
     "execution_count": 4,
     "metadata": {},
     "output_type": "execute_result"
    }
   ],
   "source": [
    "adult_train_df.dropna(inplace=True)\n",
    "print('{0:,} registros a las {1}'.format(len(adult_train_df), datetime.now()))\n",
    "adult_train_df.head()"
   ]
  },
  {
   "cell_type": "code",
   "execution_count": 3,
   "metadata": {},
   "outputs": [
    {
     "name": "stdout",
     "output_type": "stream",
     "text": [
      "32,561 registros a las 2020-08-29 23:46:35.607674\n"
     ]
    },
    {
     "data": {
      "text/html": [
       "<div>\n",
       "<style scoped>\n",
       "    .dataframe tbody tr th:only-of-type {\n",
       "        vertical-align: middle;\n",
       "    }\n",
       "\n",
       "    .dataframe tbody tr th {\n",
       "        vertical-align: top;\n",
       "    }\n",
       "\n",
       "    .dataframe thead th {\n",
       "        text-align: right;\n",
       "    }\n",
       "</style>\n",
       "<table border=\"1\" class=\"dataframe\">\n",
       "  <thead>\n",
       "    <tr style=\"text-align: right;\">\n",
       "      <th></th>\n",
       "      <th>age</th>\n",
       "      <th>workclass</th>\n",
       "      <th>fnlwgt</th>\n",
       "      <th>education</th>\n",
       "      <th>education-num</th>\n",
       "      <th>marital-status</th>\n",
       "      <th>occupation</th>\n",
       "      <th>relationship</th>\n",
       "      <th>race</th>\n",
       "      <th>sex</th>\n",
       "      <th>capital-gain</th>\n",
       "      <th>capital-loss</th>\n",
       "      <th>hours-per-week</th>\n",
       "      <th>native-country</th>\n",
       "      <th>income</th>\n",
       "    </tr>\n",
       "  </thead>\n",
       "  <tbody>\n",
       "    <tr>\n",
       "      <th>0</th>\n",
       "      <td>39</td>\n",
       "      <td>State-gov</td>\n",
       "      <td>77516</td>\n",
       "      <td>Bachelors</td>\n",
       "      <td>13</td>\n",
       "      <td>Never-married</td>\n",
       "      <td>Adm-clerical</td>\n",
       "      <td>Not-in-family</td>\n",
       "      <td>White</td>\n",
       "      <td>Male</td>\n",
       "      <td>2174</td>\n",
       "      <td>0</td>\n",
       "      <td>40</td>\n",
       "      <td>United-States</td>\n",
       "      <td>0</td>\n",
       "    </tr>\n",
       "    <tr>\n",
       "      <th>1</th>\n",
       "      <td>50</td>\n",
       "      <td>Self-emp-not-inc</td>\n",
       "      <td>83311</td>\n",
       "      <td>Bachelors</td>\n",
       "      <td>13</td>\n",
       "      <td>Married-civ-spouse</td>\n",
       "      <td>Exec-managerial</td>\n",
       "      <td>Husband</td>\n",
       "      <td>White</td>\n",
       "      <td>Male</td>\n",
       "      <td>0</td>\n",
       "      <td>0</td>\n",
       "      <td>13</td>\n",
       "      <td>United-States</td>\n",
       "      <td>0</td>\n",
       "    </tr>\n",
       "    <tr>\n",
       "      <th>2</th>\n",
       "      <td>38</td>\n",
       "      <td>Private</td>\n",
       "      <td>215646</td>\n",
       "      <td>HS-grad</td>\n",
       "      <td>9</td>\n",
       "      <td>Divorced</td>\n",
       "      <td>Handlers-cleaners</td>\n",
       "      <td>Not-in-family</td>\n",
       "      <td>White</td>\n",
       "      <td>Male</td>\n",
       "      <td>0</td>\n",
       "      <td>0</td>\n",
       "      <td>40</td>\n",
       "      <td>United-States</td>\n",
       "      <td>0</td>\n",
       "    </tr>\n",
       "    <tr>\n",
       "      <th>3</th>\n",
       "      <td>53</td>\n",
       "      <td>Private</td>\n",
       "      <td>234721</td>\n",
       "      <td>11th</td>\n",
       "      <td>7</td>\n",
       "      <td>Married-civ-spouse</td>\n",
       "      <td>Handlers-cleaners</td>\n",
       "      <td>Husband</td>\n",
       "      <td>Black</td>\n",
       "      <td>Male</td>\n",
       "      <td>0</td>\n",
       "      <td>0</td>\n",
       "      <td>40</td>\n",
       "      <td>United-States</td>\n",
       "      <td>0</td>\n",
       "    </tr>\n",
       "    <tr>\n",
       "      <th>4</th>\n",
       "      <td>28</td>\n",
       "      <td>Private</td>\n",
       "      <td>338409</td>\n",
       "      <td>Bachelors</td>\n",
       "      <td>13</td>\n",
       "      <td>Married-civ-spouse</td>\n",
       "      <td>Prof-specialty</td>\n",
       "      <td>Wife</td>\n",
       "      <td>Black</td>\n",
       "      <td>Female</td>\n",
       "      <td>0</td>\n",
       "      <td>0</td>\n",
       "      <td>40</td>\n",
       "      <td>Cuba</td>\n",
       "      <td>0</td>\n",
       "    </tr>\n",
       "  </tbody>\n",
       "</table>\n",
       "</div>"
      ],
      "text/plain": [
       "   age          workclass  fnlwgt   education  education-num  \\\n",
       "0   39          State-gov   77516   Bachelors             13   \n",
       "1   50   Self-emp-not-inc   83311   Bachelors             13   \n",
       "2   38            Private  215646     HS-grad              9   \n",
       "3   53            Private  234721        11th              7   \n",
       "4   28            Private  338409   Bachelors             13   \n",
       "\n",
       "        marital-status          occupation    relationship    race      sex  \\\n",
       "0        Never-married        Adm-clerical   Not-in-family   White     Male   \n",
       "1   Married-civ-spouse     Exec-managerial         Husband   White     Male   \n",
       "2             Divorced   Handlers-cleaners   Not-in-family   White     Male   \n",
       "3   Married-civ-spouse   Handlers-cleaners         Husband   Black     Male   \n",
       "4   Married-civ-spouse      Prof-specialty            Wife   Black   Female   \n",
       "\n",
       "   capital-gain  capital-loss  hours-per-week  native-country  income  \n",
       "0          2174             0              40   United-States       0  \n",
       "1             0             0              13   United-States       0  \n",
       "2             0             0              40   United-States       0  \n",
       "3             0             0              40   United-States       0  \n",
       "4             0             0              40            Cuba       0  "
      ]
     },
     "execution_count": 3,
     "metadata": {},
     "output_type": "execute_result"
    }
   ],
   "source": [
    "adult_train_df['income'].replace({' <=50K': 0, ' >50K': 1}, inplace=True)\n",
    "print('{0:,} registros a las {1}'.format(len(adult_train_df), datetime.now()))\n",
    "adult_train_df.head()"
   ]
  },
  {
   "cell_type": "code",
   "execution_count": 3,
   "metadata": {},
   "outputs": [
    {
     "data": {
      "text/plain": [
       "age                int64\n",
       "workclass         object\n",
       "fnlwgt             int64\n",
       "education         object\n",
       "education-num      int64\n",
       "marital-status    object\n",
       "occupation        object\n",
       "relationship      object\n",
       "race              object\n",
       "sex               object\n",
       "capital-gain       int64\n",
       "capital-loss       int64\n",
       "hours-per-week     int64\n",
       "native-country    object\n",
       "income            object\n",
       "dtype: object"
      ]
     },
     "execution_count": 3,
     "metadata": {},
     "output_type": "execute_result"
    }
   ],
   "source": [
    "adult_train_df.dtypes"
   ]
  },
  {
   "cell_type": "code",
   "execution_count": 4,
   "metadata": {},
   "outputs": [
    {
     "data": {
      "text/plain": [
       "(7, 5)"
      ]
     },
     "execution_count": 4,
     "metadata": {},
     "output_type": "execute_result"
    }
   ],
   "source": [
    "categorical_columns = ['occupation', 'workclass', 'native-country', 'marital-status', 'race', 'relationship', 'sex'] \n",
    "continius_columns = ['age', 'capital-gain', 'education-num', 'hours-per-week', 'capital-loss']\n",
    "\n",
    "q_categorical_columns = len(categorical_columns)\n",
    "q_continius_columns = len(continius_columns)\n",
    "q_categorical_columns, q_continius_columns"
   ]
  },
  {
   "cell_type": "code",
   "execution_count": 8,
   "metadata": {},
   "outputs": [],
   "source": [
    "categorical_columns_mapping = {}\n",
    "\n",
    "for column in categorical_columns:\n",
    "    label_encoder = LabelEncoder()\n",
    "    label_encoder = label_encoder.fit(adult_train_df[column])\n",
    "    adult_train_df[column] = label_encoder.transform(adult_train_df[column])\n",
    "    \n",
    "    categorical_columns_mapping[column] = (label_encoder.classes_, label_encoder.transform(label_encoder.classes_))\n",
    "    \n",
    "# categorical_columns_mapping"
   ]
  },
  {
   "cell_type": "code",
   "execution_count": 29,
   "metadata": {},
   "outputs": [
    {
     "name": "stdout",
     "output_type": "stream",
     "text": [
      "32,561 registros a las 2020-08-28 01:15:55.346193\n"
     ]
    },
    {
     "data": {
      "text/html": [
       "<div>\n",
       "<style scoped>\n",
       "    .dataframe tbody tr th:only-of-type {\n",
       "        vertical-align: middle;\n",
       "    }\n",
       "\n",
       "    .dataframe tbody tr th {\n",
       "        vertical-align: top;\n",
       "    }\n",
       "\n",
       "    .dataframe thead th {\n",
       "        text-align: right;\n",
       "    }\n",
       "</style>\n",
       "<table border=\"1\" class=\"dataframe\">\n",
       "  <thead>\n",
       "    <tr style=\"text-align: right;\">\n",
       "      <th></th>\n",
       "      <th>age</th>\n",
       "      <th>workclass</th>\n",
       "      <th>education-num</th>\n",
       "      <th>marital-status</th>\n",
       "      <th>occupation</th>\n",
       "      <th>relationship</th>\n",
       "      <th>race</th>\n",
       "      <th>sex</th>\n",
       "      <th>capital-gain</th>\n",
       "      <th>capital-loss</th>\n",
       "      <th>hours-per-week</th>\n",
       "      <th>native-country</th>\n",
       "      <th>income</th>\n",
       "    </tr>\n",
       "  </thead>\n",
       "  <tbody>\n",
       "    <tr>\n",
       "      <th>0</th>\n",
       "      <td>39</td>\n",
       "      <td>State-gov</td>\n",
       "      <td>13</td>\n",
       "      <td>Never-married</td>\n",
       "      <td>Adm-clerical</td>\n",
       "      <td>Not-in-family</td>\n",
       "      <td>White</td>\n",
       "      <td>Male</td>\n",
       "      <td>2174</td>\n",
       "      <td>0</td>\n",
       "      <td>40</td>\n",
       "      <td>United-States</td>\n",
       "      <td>0</td>\n",
       "    </tr>\n",
       "    <tr>\n",
       "      <th>1</th>\n",
       "      <td>50</td>\n",
       "      <td>Self-emp-not-inc</td>\n",
       "      <td>13</td>\n",
       "      <td>Married-civ-spouse</td>\n",
       "      <td>Exec-managerial</td>\n",
       "      <td>Husband</td>\n",
       "      <td>White</td>\n",
       "      <td>Male</td>\n",
       "      <td>0</td>\n",
       "      <td>0</td>\n",
       "      <td>13</td>\n",
       "      <td>United-States</td>\n",
       "      <td>0</td>\n",
       "    </tr>\n",
       "    <tr>\n",
       "      <th>2</th>\n",
       "      <td>38</td>\n",
       "      <td>Private</td>\n",
       "      <td>9</td>\n",
       "      <td>Divorced</td>\n",
       "      <td>Handlers-cleaners</td>\n",
       "      <td>Not-in-family</td>\n",
       "      <td>White</td>\n",
       "      <td>Male</td>\n",
       "      <td>0</td>\n",
       "      <td>0</td>\n",
       "      <td>40</td>\n",
       "      <td>United-States</td>\n",
       "      <td>0</td>\n",
       "    </tr>\n",
       "    <tr>\n",
       "      <th>3</th>\n",
       "      <td>53</td>\n",
       "      <td>Private</td>\n",
       "      <td>7</td>\n",
       "      <td>Married-civ-spouse</td>\n",
       "      <td>Handlers-cleaners</td>\n",
       "      <td>Husband</td>\n",
       "      <td>Black</td>\n",
       "      <td>Male</td>\n",
       "      <td>0</td>\n",
       "      <td>0</td>\n",
       "      <td>40</td>\n",
       "      <td>United-States</td>\n",
       "      <td>0</td>\n",
       "    </tr>\n",
       "    <tr>\n",
       "      <th>4</th>\n",
       "      <td>28</td>\n",
       "      <td>Private</td>\n",
       "      <td>13</td>\n",
       "      <td>Married-civ-spouse</td>\n",
       "      <td>Prof-specialty</td>\n",
       "      <td>Wife</td>\n",
       "      <td>Black</td>\n",
       "      <td>Female</td>\n",
       "      <td>0</td>\n",
       "      <td>0</td>\n",
       "      <td>40</td>\n",
       "      <td>Cuba</td>\n",
       "      <td>0</td>\n",
       "    </tr>\n",
       "  </tbody>\n",
       "</table>\n",
       "</div>"
      ],
      "text/plain": [
       "   age          workclass  education-num       marital-status  \\\n",
       "0   39          State-gov             13        Never-married   \n",
       "1   50   Self-emp-not-inc             13   Married-civ-spouse   \n",
       "2   38            Private              9             Divorced   \n",
       "3   53            Private              7   Married-civ-spouse   \n",
       "4   28            Private             13   Married-civ-spouse   \n",
       "\n",
       "           occupation    relationship    race      sex  capital-gain  \\\n",
       "0        Adm-clerical   Not-in-family   White     Male          2174   \n",
       "1     Exec-managerial         Husband   White     Male             0   \n",
       "2   Handlers-cleaners   Not-in-family   White     Male             0   \n",
       "3   Handlers-cleaners         Husband   Black     Male             0   \n",
       "4      Prof-specialty            Wife   Black   Female             0   \n",
       "\n",
       "   capital-loss  hours-per-week  native-country  income  \n",
       "0             0              40   United-States       0  \n",
       "1             0              13   United-States       0  \n",
       "2             0              40   United-States       0  \n",
       "3             0              40   United-States       0  \n",
       "4             0              40            Cuba       0  "
      ]
     },
     "execution_count": 29,
     "metadata": {},
     "output_type": "execute_result"
    }
   ],
   "source": [
    "adult_train_df.drop(['fnlwgt', 'education'], axis=1, inplace=True)\n",
    "print('{0:,} registros a las {1}'.format(len(adult_train_df), datetime.now()))\n",
    "adult_train_df.head()"
   ]
  },
  {
   "cell_type": "code",
   "execution_count": 9,
   "metadata": {},
   "outputs": [
    {
     "name": "stdout",
     "output_type": "stream",
     "text": [
      "32,561 registros a las 2020-08-28 01:08:34.125109\n"
     ]
    },
    {
     "data": {
      "text/html": [
       "<div>\n",
       "<style scoped>\n",
       "    .dataframe tbody tr th:only-of-type {\n",
       "        vertical-align: middle;\n",
       "    }\n",
       "\n",
       "    .dataframe tbody tr th {\n",
       "        vertical-align: top;\n",
       "    }\n",
       "\n",
       "    .dataframe thead th {\n",
       "        text-align: right;\n",
       "    }\n",
       "</style>\n",
       "<table border=\"1\" class=\"dataframe\">\n",
       "  <thead>\n",
       "    <tr style=\"text-align: right;\">\n",
       "      <th></th>\n",
       "      <th>age</th>\n",
       "      <th>workclass</th>\n",
       "      <th>education-num</th>\n",
       "      <th>marital-status</th>\n",
       "      <th>occupation</th>\n",
       "      <th>relationship</th>\n",
       "      <th>race</th>\n",
       "      <th>sex</th>\n",
       "      <th>capital-gain</th>\n",
       "      <th>capital-loss</th>\n",
       "      <th>hours-per-week</th>\n",
       "      <th>native-country</th>\n",
       "      <th>income</th>\n",
       "    </tr>\n",
       "  </thead>\n",
       "  <tbody>\n",
       "    <tr>\n",
       "      <th>0</th>\n",
       "      <td>0.030671</td>\n",
       "      <td>7</td>\n",
       "      <td>1.134739</td>\n",
       "      <td>4</td>\n",
       "      <td>1</td>\n",
       "      <td>1</td>\n",
       "      <td>4</td>\n",
       "      <td>1</td>\n",
       "      <td>0.148453</td>\n",
       "      <td>-0.21666</td>\n",
       "      <td>-0.035429</td>\n",
       "      <td>39</td>\n",
       "      <td>0</td>\n",
       "    </tr>\n",
       "    <tr>\n",
       "      <th>1</th>\n",
       "      <td>0.837109</td>\n",
       "      <td>6</td>\n",
       "      <td>1.134739</td>\n",
       "      <td>2</td>\n",
       "      <td>4</td>\n",
       "      <td>0</td>\n",
       "      <td>4</td>\n",
       "      <td>1</td>\n",
       "      <td>-0.145920</td>\n",
       "      <td>-0.21666</td>\n",
       "      <td>-2.222153</td>\n",
       "      <td>39</td>\n",
       "      <td>0</td>\n",
       "    </tr>\n",
       "    <tr>\n",
       "      <th>2</th>\n",
       "      <td>-0.042642</td>\n",
       "      <td>4</td>\n",
       "      <td>-0.420060</td>\n",
       "      <td>0</td>\n",
       "      <td>6</td>\n",
       "      <td>1</td>\n",
       "      <td>4</td>\n",
       "      <td>1</td>\n",
       "      <td>-0.145920</td>\n",
       "      <td>-0.21666</td>\n",
       "      <td>-0.035429</td>\n",
       "      <td>39</td>\n",
       "      <td>0</td>\n",
       "    </tr>\n",
       "    <tr>\n",
       "      <th>3</th>\n",
       "      <td>1.057047</td>\n",
       "      <td>4</td>\n",
       "      <td>-1.197459</td>\n",
       "      <td>2</td>\n",
       "      <td>6</td>\n",
       "      <td>0</td>\n",
       "      <td>2</td>\n",
       "      <td>1</td>\n",
       "      <td>-0.145920</td>\n",
       "      <td>-0.21666</td>\n",
       "      <td>-0.035429</td>\n",
       "      <td>39</td>\n",
       "      <td>0</td>\n",
       "    </tr>\n",
       "    <tr>\n",
       "      <th>4</th>\n",
       "      <td>-0.775768</td>\n",
       "      <td>4</td>\n",
       "      <td>1.134739</td>\n",
       "      <td>2</td>\n",
       "      <td>10</td>\n",
       "      <td>5</td>\n",
       "      <td>2</td>\n",
       "      <td>0</td>\n",
       "      <td>-0.145920</td>\n",
       "      <td>-0.21666</td>\n",
       "      <td>-0.035429</td>\n",
       "      <td>5</td>\n",
       "      <td>0</td>\n",
       "    </tr>\n",
       "  </tbody>\n",
       "</table>\n",
       "</div>"
      ],
      "text/plain": [
       "        age  workclass  education-num  marital-status  occupation  \\\n",
       "0  0.030671          7       1.134739               4           1   \n",
       "1  0.837109          6       1.134739               2           4   \n",
       "2 -0.042642          4      -0.420060               0           6   \n",
       "3  1.057047          4      -1.197459               2           6   \n",
       "4 -0.775768          4       1.134739               2          10   \n",
       "\n",
       "   relationship  race  sex  capital-gain  capital-loss  hours-per-week  \\\n",
       "0             1     4    1      0.148453      -0.21666       -0.035429   \n",
       "1             0     4    1     -0.145920      -0.21666       -2.222153   \n",
       "2             1     4    1     -0.145920      -0.21666       -0.035429   \n",
       "3             0     2    1     -0.145920      -0.21666       -0.035429   \n",
       "4             5     2    0     -0.145920      -0.21666       -0.035429   \n",
       "\n",
       "   native-country  income  \n",
       "0              39       0  \n",
       "1              39       0  \n",
       "2              39       0  \n",
       "3              39       0  \n",
       "4               5       0  "
      ]
     },
     "execution_count": 9,
     "metadata": {},
     "output_type": "execute_result"
    }
   ],
   "source": [
    "scaler = StandardScaler()\n",
    "adult_train_df[continius_columns] = scaler.fit_transform(adult_train_df[continius_columns])\n",
    "print('{0:,} registros a las {1}'.format(len(adult_train_df), datetime.now()))\n",
    "adult_train_df.head()"
   ]
  },
  {
   "cell_type": "code",
   "execution_count": 5,
   "metadata": {},
   "outputs": [
    {
     "data": {
      "text/plain": [
       "Index(['age', 'workclass', 'fnlwgt', 'education', 'education-num',\n",
       "       'marital-status', 'occupation', 'relationship', 'race', 'sex',\n",
       "       'capital-gain', 'capital-loss', 'hours-per-week', 'native-country',\n",
       "       'income'],\n",
       "      dtype='object')"
      ]
     },
     "execution_count": 5,
     "metadata": {},
     "output_type": "execute_result"
    }
   ],
   "source": [
    "adult_train_df.columns"
   ]
  },
  {
   "cell_type": "code",
   "execution_count": 6,
   "metadata": {},
   "outputs": [
    {
     "data": {
      "text/plain": [
       "(array([[39, ' State-gov', 13, ..., 0, 40, ' United-States'],\n",
       "        [50, ' Self-emp-not-inc', 13, ..., 0, 13, ' United-States'],\n",
       "        [38, ' Private', 9, ..., 0, 40, ' United-States'],\n",
       "        ...,\n",
       "        [58, ' Private', 9, ..., 0, 40, ' United-States'],\n",
       "        [22, ' Private', 9, ..., 0, 20, ' United-States'],\n",
       "        [52, ' Self-emp-inc', 9, ..., 0, 40, ' United-States']],\n",
       "       dtype=object),\n",
       " (32561, 12))"
      ]
     },
     "execution_count": 6,
     "metadata": {},
     "output_type": "execute_result"
    }
   ],
   "source": [
    "X_columns = [\n",
    "    'age', \n",
    "    'workclass', \n",
    "    'education-num', \n",
    "    'marital-status', \n",
    "    'occupation',\n",
    "    'relationship', \n",
    "    'race', \n",
    "    'sex', \n",
    "    'capital-gain', \n",
    "    'capital-loss',\n",
    "    'hours-per-week', \n",
    "    'native-country'\n",
    "]\n",
    "Y_column = ['income']\n",
    "X_ndarray = adult_train_df[X_columns].to_numpy()\n",
    "X_ndarray, X_ndarray.shape"
   ]
  },
  {
   "cell_type": "code",
   "execution_count": 16,
   "metadata": {},
   "outputs": [
    {
     "data": {
      "text/plain": [
       "array([' <=50K', ' <=50K', ' <=50K', ..., ' <=50K', ' <=50K', ' >50K'],\n",
       "      dtype=object)"
      ]
     },
     "execution_count": 16,
     "metadata": {},
     "output_type": "execute_result"
    }
   ],
   "source": [
    "Y_ndarray = adult_train_df[Y_column].to_numpy().squeeze()\n",
    "Y_ndarray"
   ]
  },
  {
   "cell_type": "code",
   "execution_count": 13,
   "metadata": {},
   "outputs": [
    {
     "data": {
      "text/plain": [
       "([4, 1, 11, 3, 6, 5, 7], [0, 8, 2, 10, 9])"
      ]
     },
     "execution_count": 13,
     "metadata": {},
     "output_type": "execute_result"
    }
   ],
   "source": [
    "categorical_column_indexes = [adult_train_df.columns.get_loc(column) for column in categorical_columns]\n",
    "continius_column_indexes = [adult_train_df.columns.get_loc(column) for column in continius_columns]\n",
    "categorical_column_indexes, continius_column_indexes"
   ]
  },
  {
   "cell_type": "code",
   "execution_count": 14,
   "metadata": {},
   "outputs": [
    {
     "data": {
      "text/plain": [
       "array([[ 1.,  7., 39.,  4.,  4.,  1.,  1.],\n",
       "       [ 4.,  6., 39.,  2.,  4.,  0.,  1.],\n",
       "       [ 6.,  4., 39.,  0.,  4.,  1.,  1.],\n",
       "       [ 6.,  4., 39.,  2.,  2.,  0.,  1.],\n",
       "       [10.,  4.,  5.,  2.,  2.,  5.,  0.],\n",
       "       [ 4.,  4., 39.,  2.,  4.,  5.,  0.],\n",
       "       [ 8.,  4., 23.,  3.,  2.,  1.,  0.],\n",
       "       [ 4.,  6., 39.,  2.,  4.,  0.,  1.],\n",
       "       [10.,  4., 39.,  4.,  4.,  1.,  0.],\n",
       "       [ 4.,  4., 39.,  2.,  4.,  0.,  1.]])"
      ]
     },
     "execution_count": 14,
     "metadata": {},
     "output_type": "execute_result"
    }
   ],
   "source": [
    "X_ndarray[:10, categorical_column_indexes]"
   ]
  },
  {
   "cell_type": "markdown",
   "metadata": {},
   "source": [
    "Datasets"
   ]
  },
  {
   "cell_type": "code",
   "execution_count": 17,
   "metadata": {},
   "outputs": [],
   "source": [
    "X_train, X_test, Y_train, Y_test = model_selection.train_test_split(X_ndarray, Y_ndarray, test_size = 0.2, random_state = 7)"
   ]
  },
  {
   "cell_type": "code",
   "execution_count": 18,
   "metadata": {},
   "outputs": [
    {
     "data": {
      "text/plain": [
       "1"
      ]
     },
     "execution_count": 18,
     "metadata": {},
     "output_type": "execute_result"
    }
   ],
   "source": [
    "len(np.array([1,2,3]).shape)"
   ]
  },
  {
   "cell_type": "code",
   "execution_count": 90,
   "metadata": {},
   "outputs": [],
   "source": [
    "FunctionTransformerList = List[FT]\n",
    "StringList = List[str]\n",
    "\n",
    "class NumericFeature(TransformerMixin):\n",
    "    def __init__(\n",
    "        self, \n",
    "        pre_tms:FunctionTransformerList=list(), \n",
    "        imputer:None=SimpleImputer(), \n",
    "        scaler:None=StandardScaler(), \n",
    "        post_tms:FunctionTransformerList=list()\n",
    "    ):\n",
    "        self.pre_tms = pre_tms\n",
    "        self.imputer = imputer\n",
    "        self.scaler = scaler\n",
    "        self.post_tms = post_tms\n",
    "        \n",
    "    def fit_transform(self, data:list) -> np.ndarray:        \n",
    "        for tms in self.pre_tms:\n",
    "            data = tms.transform(data)\n",
    "        \n",
    "        data = self.imputer.fit_transform(np.array(data).reshape(-1,1)).squeeze() if self.imputer != False else data\n",
    "        data = self.scaler.fit_transform(np.array(data).reshape(-1,1)).squeeze() if self.scaler != False else data\n",
    "        \n",
    "        for tms in self.post_tms:\n",
    "            data = tms.transform(data)\n",
    "            \n",
    "        return data\n",
    "    \n",
    "    def transform(self, data:list) -> np.ndarray:       \n",
    "        for tms in self.pre_tms:\n",
    "            data = tms.transform(data)\n",
    "            \n",
    "        data = self.imputer.transform(np.array(data).reshape(-1,1)).squeeze() if self.imputer != False else data\n",
    "        data = self.scaler.transform(np.array(data).reshape(-1,1)).squeeze() if self.scaler != False else data\n",
    "        \n",
    "        for tms in self.post_tms:\n",
    "            data = tms.transform(data)        \n",
    "        \n",
    "        return data\n",
    "\n",
    "class CategoricalFeature(TransformerMixin):\n",
    "    def __init__(\n",
    "        self, \n",
    "        pre_tms:FunctionTransformerList=list(),\n",
    "        encoder:None=LabelEncoder(),\n",
    "        post_tms:FunctionTransformerList=list(),\n",
    "    ):\n",
    "        self.pre_tms = pre_tms\n",
    "        self.encoder = encoder\n",
    "        self.post_tms = post_tms\n",
    "        \n",
    "    def fit_transform(self, data:list) -> np.ndarray:      \n",
    "        for tms in self.pre_tms:\n",
    "            data = tms.transform(data)\n",
    "            \n",
    "        data = self.encoder.fit_transform(data) if self.encoder != False else data\n",
    "        \n",
    "        for tms in self.post_tms:\n",
    "            data = tms.transform(data)     \n",
    "            \n",
    "        return data\n",
    "    \n",
    "    def transform(self, data:list) -> np.ndarray:      \n",
    "        for tms in self.pre_tms:\n",
    "            data = tms.transform(data)\n",
    "            \n",
    "        data = self.encoder.transform(data) if self.encoder != False else data\n",
    "        \n",
    "        for tms in self.post_tms:\n",
    "            data = tms.transform(data)     \n",
    "            \n",
    "        return data \n",
    "    \n",
    "def replace(data:list, replacements:dict):\n",
    "    replacements_keys = list(replacements.keys())\n",
    "    _data = data.copy()\n",
    "    for i, item in enumerate(_data):\n",
    "        _data[i] = replacements[item] if item in replacements_keys else _data[i]\n",
    "        \n",
    "    return _data\n",
    "\n",
    "def trim(data:StringList=list()):\n",
    "    return np.array([level.strip() for level in data])    "
   ]
  },
  {
   "cell_type": "code",
   "execution_count": 91,
   "metadata": {},
   "outputs": [],
   "source": [
    "TransformationList = List[Tuple[str, TransformerMixin]]\n",
    "\n",
    "class FieldsTransformer():\n",
    "    def __init__(self, features_tms:TransformationList=list()):\n",
    "        self.features_tms = features_tms\n",
    "        self.numerical_features_names = []\n",
    "        self.categorical_features_names = []\n",
    "        \n",
    "        for i, feature_tms in enumerate(self.features_tms):\n",
    "            feature, tms = feature_tms\n",
    "            \n",
    "            if isinstance(tms, NumericFeature):\n",
    "                self.numerical_features_names.append(feature)\n",
    "                \n",
    "            if isinstance(tms, CategoricalFeature):\n",
    "                self.categorical_features_names.append(feature)\n",
    "\n",
    "    def fit_transform(self, data:dict):\n",
    "        dataset_len = len(list(data.values())[0])\n",
    "        \n",
    "        numerical_features = np.zeros((dataset_len, len(self.numerical_features_names)), dtype=np.float64)\n",
    "        categorical_features = np.zeros((dataset_len, len(self.categorical_features_names)), dtype=np.int64)\n",
    "        \n",
    "        numerical_index = 0\n",
    "        categorical_index = 0\n",
    "        \n",
    "        for feature_tms in self.features_tms:\n",
    "            feature, tms = feature_tms\n",
    "            feature_transformed = tms.fit_transform(data[feature])\n",
    "            \n",
    "            if isinstance(tms, NumericFeature):\n",
    "                numerical_features[:,numerical_index] = feature_transformed\n",
    "                numerical_index = numerical_index+1\n",
    "                \n",
    "            if isinstance(tms, CategoricalFeature):\n",
    "                categorical_features[:,categorical_index] = feature_transformed\n",
    "                categorical_index = categorical_index+1\n",
    "\n",
    "        return numerical_features, categorical_features"
   ]
  },
  {
   "cell_type": "code",
   "execution_count": 92,
   "metadata": {},
   "outputs": [],
   "source": [
    "['occupation', 'workclass', 'native-country', 'marital-status', 'race', 'relationship', 'sex'] \n",
    "['age', 'capital-gain', 'education-num', 'hours-per-week', 'capital-loss']\n",
    "\n",
    "replacement_args = {'replacements': {'?':'N/A'}}\n",
    "fiels_tranformer = FieldsTransformer([\n",
    "    # Categorical features\n",
    "    ('occupation', CategoricalFeature([FT(trim), FT(replace, kw_args=replacement_args)])),\n",
    "    ('workclass', CategoricalFeature([FT(trim), FT(replace, kw_args=replacement_args)])),\n",
    "    ('native-country', CategoricalFeature([FT(trim), FT(replace, kw_args=replacement_args)])),\n",
    "    ('marital-status', CategoricalFeature([FT(trim), FT(replace, kw_args=replacement_args)])),\n",
    "    ('race', CategoricalFeature([FT(trim), FT(replace, kw_args=replacement_args)])),\n",
    "    ('relationship', CategoricalFeature([FT(trim), FT(replace, kw_args=replacement_args)])),\n",
    "    ('sex', CategoricalFeature([FT(trim), FT(replace, kw_args=replacement_args)])),\n",
    "    \n",
    "    # Numerical features\n",
    "    ('age', NumericFeature()),\n",
    "    ('capital-gain', NumericFeature()),\n",
    "    ('education-num', NumericFeature()),\n",
    "    ('hours-per-week', NumericFeature()),\n",
    "    ('capital-loss', NumericFeature())\n",
    "])\n"
   ]
  },
  {
   "cell_type": "code",
   "execution_count": 56,
   "metadata": {},
   "outputs": [
    {
     "data": {
      "text/plain": [
       "array([[1],\n",
       "       [2],\n",
       "       [3],\n",
       "       [4],\n",
       "       [5],\n",
       "       [6]])"
      ]
     },
     "execution_count": 56,
     "metadata": {},
     "output_type": "execute_result"
    }
   ],
   "source": [
    "a = np.array([1,2,3,4,5,6]).reshape(-1,1)\n",
    "a"
   ]
  },
  {
   "cell_type": "code",
   "execution_count": 29,
   "metadata": {},
   "outputs": [
    {
     "data": {
      "text/plain": [
       "array([[11],\n",
       "       [12],\n",
       "       [13],\n",
       "       [14],\n",
       "       [15],\n",
       "       [16]])"
      ]
     },
     "execution_count": 29,
     "metadata": {},
     "output_type": "execute_result"
    }
   ],
   "source": [
    "b = np.array([11,12,13,14,15,16]).reshape(-1,1)\n",
    "b"
   ]
  },
  {
   "cell_type": "code",
   "execution_count": 47,
   "metadata": {},
   "outputs": [
    {
     "data": {
      "text/plain": [
       "array([[ 1, 11],\n",
       "       [ 2, 12],\n",
       "       [ 3, 13],\n",
       "       [ 4, 14],\n",
       "       [ 5, 15],\n",
       "       [ 6, 16]])"
      ]
     },
     "execution_count": 47,
     "metadata": {},
     "output_type": "execute_result"
    }
   ],
   "source": [
    "np.hstack((a, b))"
   ]
  },
  {
   "cell_type": "code",
   "execution_count": 54,
   "metadata": {},
   "outputs": [
    {
     "data": {
      "text/plain": [
       "array([[0., 0.],\n",
       "       [0., 0.],\n",
       "       [0., 0.],\n",
       "       [0., 0.],\n",
       "       [0., 0.],\n",
       "       [0., 0.]])"
      ]
     },
     "execution_count": 54,
     "metadata": {},
     "output_type": "execute_result"
    }
   ],
   "source": [
    "zeros = np.zeros((6,2))\n",
    "zeros"
   ]
  },
  {
   "cell_type": "code",
   "execution_count": 58,
   "metadata": {},
   "outputs": [
    {
     "data": {
      "text/plain": [
       "array([[1., 0.],\n",
       "       [2., 0.],\n",
       "       [3., 0.],\n",
       "       [4., 0.],\n",
       "       [5., 0.],\n",
       "       [6., 0.]])"
      ]
     },
     "execution_count": 58,
     "metadata": {},
     "output_type": "execute_result"
    }
   ],
   "source": [
    "zeros[:,0] = a.squeeze()\n",
    "zeros"
   ]
  },
  {
   "cell_type": "code",
   "execution_count": 60,
   "metadata": {},
   "outputs": [
    {
     "data": {
      "text/plain": [
       "array([1, 2, 3, 4, 5, 6])"
      ]
     },
     "execution_count": 60,
     "metadata": {},
     "output_type": "execute_result"
    }
   ],
   "source": [
    "a.squeeze()"
   ]
  },
  {
   "cell_type": "code",
   "execution_count": null,
   "metadata": {},
   "outputs": [],
   "source": []
  },
  {
   "cell_type": "code",
   "execution_count": 93,
   "metadata": {},
   "outputs": [],
   "source": [
    "numerical_features, categorical_features = fiels_tranformer.fit_transform(adult_train_df.to_dict('list'))"
   ]
  },
  {
   "cell_type": "code",
   "execution_count": 100,
   "metadata": {},
   "outputs": [
    {
     "data": {
      "text/plain": [
       "(array([[ 0.03067056,  0.1484529 ,  1.13473876, -0.03542945, -0.21665953],\n",
       "        [ 0.83710898, -0.14592048,  1.13473876, -2.22215312, -0.21665953],\n",
       "        [-0.04264203, -0.14592048, -0.42005962, -0.03542945, -0.21665953],\n",
       "        ...,\n",
       "        [ 1.42360965, -0.14592048, -0.42005962, -0.03542945, -0.21665953],\n",
       "        [-1.21564337, -0.14592048, -0.42005962, -1.65522476, -0.21665953],\n",
       "        [ 0.98373415,  1.88842434, -0.42005962, -0.03542945, -0.21665953]]),\n",
       " dtype('float64'))"
      ]
     },
     "execution_count": 100,
     "metadata": {},
     "output_type": "execute_result"
    }
   ],
   "source": [
    "numerical_features, numerical_features.dtype"
   ]
  },
  {
   "cell_type": "code",
   "execution_count": 101,
   "metadata": {},
   "outputs": [
    {
     "data": {
      "text/plain": [
       "(array([[ 0,  7, 39, ...,  4,  1,  1],\n",
       "        [ 3,  6, 39, ...,  4,  0,  1],\n",
       "        [ 5,  4, 39, ...,  4,  1,  1],\n",
       "        ...,\n",
       "        [ 0,  4, 39, ...,  4,  4,  0],\n",
       "        [ 0,  4, 39, ...,  4,  3,  1],\n",
       "        [ 3,  5, 39, ...,  4,  5,  0]], dtype=int64),\n",
       " dtype('int64'))"
      ]
     },
     "execution_count": 101,
     "metadata": {},
     "output_type": "execute_result"
    }
   ],
   "source": [
    "categorical_features, categorical_features.dtype"
   ]
  },
  {
   "cell_type": "code",
   "execution_count": 62,
   "metadata": {},
   "outputs": [
    {
     "data": {
      "text/plain": [
       "[39, 50, 38, 53, 28]"
      ]
     },
     "execution_count": 62,
     "metadata": {},
     "output_type": "execute_result"
    }
   ],
   "source": [
    "data_dict = adult_train_df.to_dict('list')\n",
    "age = data_dict['age']\n",
    "age[:5]"
   ]
  },
  {
   "cell_type": "code",
   "execution_count": 65,
   "metadata": {},
   "outputs": [
    {
     "data": {
      "text/plain": [
       "array([' Female', ' Male'], dtype='<U7')"
      ]
     },
     "execution_count": 65,
     "metadata": {},
     "output_type": "execute_result"
    }
   ],
   "source": [
    "data_dict = adult_train_df.to_dict('list')\n",
    "sex = data_dict['sex']\n",
    "np.unique(sex)"
   ]
  },
  {
   "cell_type": "code",
   "execution_count": 21,
   "metadata": {},
   "outputs": [
    {
     "data": {
      "text/plain": [
       "array([ 0.90806053,  0.90806053, -1.28769219, ..., -0.84854165,\n",
       "        0.54210174,  1.20082756])"
      ]
     },
     "execution_count": 21,
     "metadata": {},
     "output_type": "execute_result"
    }
   ],
   "source": [
    "age_tranformer = NumericFeature()\n",
    "age_train = age_tranformer.fit_transform(np.asarray(X_train[:,0]))\n",
    "age_train"
   ]
  },
  {
   "cell_type": "code",
   "execution_count": 22,
   "metadata": {},
   "outputs": [
    {
     "data": {
      "text/plain": [
       "(numpy.ndarray, (26048,))"
      ]
     },
     "execution_count": 22,
     "metadata": {},
     "output_type": "execute_result"
    }
   ],
   "source": [
    "type(age_train), age_train.shape"
   ]
  },
  {
   "cell_type": "code",
   "execution_count": 23,
   "metadata": {},
   "outputs": [
    {
     "data": {
      "text/plain": [
       "array([ 0.02975944,  0.68848526, -1.21450043, ..., -1.50726746,\n",
       "       -1.14130868,  0.54210174])"
      ]
     },
     "execution_count": 23,
     "metadata": {},
     "output_type": "execute_result"
    }
   ],
   "source": [
    "age_test = age_tranformer.transform(np.asarray(X_test[:,0]))\n",
    "age_test"
   ]
  },
  {
   "cell_type": "code",
   "execution_count": 24,
   "metadata": {},
   "outputs": [
    {
     "data": {
      "text/plain": [
       "(numpy.ndarray, (6513,))"
      ]
     },
     "execution_count": 24,
     "metadata": {},
     "output_type": "execute_result"
    }
   ],
   "source": [
    "type(age_test), age_test.shape"
   ]
  },
  {
   "cell_type": "code",
   "execution_count": 26,
   "metadata": {},
   "outputs": [
    {
     "data": {
      "text/plain": [
       "array([[ 0.90806053],\n",
       "       [ 0.90806053],\n",
       "       [-1.28769219],\n",
       "       ...,\n",
       "       [-0.84854165],\n",
       "       [ 0.54210174],\n",
       "       [ 1.20082756]])"
      ]
     },
     "execution_count": 26,
     "metadata": {},
     "output_type": "execute_result"
    }
   ],
   "source": [
    "scaler = StandardScaler()\n",
    "age_train_v2 = scaler.fit_transform(X_train[:,0].reshape(-1,1))\n",
    "age_train_v2"
   ]
  },
  {
   "cell_type": "code",
   "execution_count": 102,
   "metadata": {},
   "outputs": [
    {
     "data": {
      "text/plain": [
       "array([[ 0.1484529 ],\n",
       "       [-0.14592048],\n",
       "       [-0.14592048],\n",
       "       ...,\n",
       "       [-0.14592048],\n",
       "       [-0.14592048],\n",
       "       [ 1.88842434]])"
      ]
     },
     "execution_count": 102,
     "metadata": {},
     "output_type": "execute_result"
    }
   ],
   "source": [
    "scaler = StandardScaler()\n",
    "age_train_v2 = scaler.fit_transform(adult_train_df['capital-gain'].to_numpy().reshape(-1,1))\n",
    "age_train_v2"
   ]
  },
  {
   "cell_type": "code",
   "execution_count": 27,
   "metadata": {},
   "outputs": [
    {
     "data": {
      "text/plain": [
       "(numpy.ndarray, (26048, 1))"
      ]
     },
     "execution_count": 27,
     "metadata": {},
     "output_type": "execute_result"
    }
   ],
   "source": [
    "type(age_train_v2), age_train_v2.shape"
   ]
  },
  {
   "cell_type": "code",
   "execution_count": 29,
   "metadata": {},
   "outputs": [
    {
     "data": {
      "text/plain": [
       "array([[ 0.02975944],\n",
       "       [ 0.68848526],\n",
       "       [-1.21450043],\n",
       "       ...,\n",
       "       [-1.50726746],\n",
       "       [-1.14130868],\n",
       "       [ 0.54210174]])"
      ]
     },
     "execution_count": 29,
     "metadata": {},
     "output_type": "execute_result"
    }
   ],
   "source": [
    "age_test_v2 = scaler.transform(X_test[:,0].reshape(-1,1))\n",
    "age_test_v2"
   ]
  },
  {
   "cell_type": "code",
   "execution_count": 30,
   "metadata": {},
   "outputs": [
    {
     "data": {
      "text/plain": [
       "(numpy.ndarray, (6513, 1))"
      ]
     },
     "execution_count": 30,
     "metadata": {},
     "output_type": "execute_result"
    }
   ],
   "source": [
    "type(age_test_v2), age_test_v2.shape"
   ]
  },
  {
   "cell_type": "code",
   "execution_count": 31,
   "metadata": {},
   "outputs": [
    {
     "data": {
      "text/plain": [
       "age               0\n",
       "workclass         0\n",
       "fnlwgt            0\n",
       "education         0\n",
       "education-num     0\n",
       "marital-status    0\n",
       "occupation        0\n",
       "relationship      0\n",
       "race              0\n",
       "sex               0\n",
       "capital-gain      0\n",
       "capital-loss      0\n",
       "hours-per-week    0\n",
       "native-country    0\n",
       "income            0\n",
       "dtype: int64"
      ]
     },
     "execution_count": 31,
     "metadata": {},
     "output_type": "execute_result"
    }
   ],
   "source": [
    "adult_train_df.isna().sum()"
   ]
  },
  {
   "cell_type": "code",
   "execution_count": 32,
   "metadata": {},
   "outputs": [
    {
     "data": {
      "text/plain": [
       " Private             22696\n",
       " Self-emp-not-inc     2541\n",
       " Local-gov            2093\n",
       " ?                    1836\n",
       " State-gov            1298\n",
       " Self-emp-inc         1116\n",
       " Federal-gov           960\n",
       " Without-pay            14\n",
       " Never-worked            7\n",
       "Name: workclass, dtype: int64"
      ]
     },
     "execution_count": 32,
     "metadata": {},
     "output_type": "execute_result"
    }
   ],
   "source": [
    "adult_train_df['workclass'].value_counts()"
   ]
  },
  {
   "cell_type": "code",
   "execution_count": 16,
   "metadata": {},
   "outputs": [
    {
     "data": {
      "text/plain": [
       "array([' State-gov', ' Self-emp-not-inc', ' Private', ' Private',\n",
       "       ' Private'], dtype=object)"
      ]
     },
     "execution_count": 16,
     "metadata": {},
     "output_type": "execute_result"
    }
   ],
   "source": [
    "adult_train_df['workclass'].values[:5]"
   ]
  },
  {
   "cell_type": "code",
   "execution_count": 33,
   "metadata": {},
   "outputs": [],
   "source": [
    "workclass_replace_tranformer = CategoricalFeature(\n",
    "    pre_tms=[\n",
    "        FT(trim),\n",
    "        FT(replace, kw_args={'replacements': {'?':'N/A'}}),   \n",
    "    ]\n",
    ")\n",
    "transformed_series = workclass_replace_tranformer.fit_transform(adult_train_df['workclass'].array)\n",
    "adult_train_df['workclass'] = pd.Series(transformed_series)"
   ]
  },
  {
   "cell_type": "code",
   "execution_count": 34,
   "metadata": {},
   "outputs": [
    {
     "data": {
      "text/plain": [
       "4    22696\n",
       "6     2541\n",
       "1     2093\n",
       "2     1836\n",
       "7     1298\n",
       "5     1116\n",
       "0      960\n",
       "8       14\n",
       "3        7\n",
       "Name: workclass, dtype: int64"
      ]
     },
     "execution_count": 34,
     "metadata": {},
     "output_type": "execute_result"
    }
   ],
   "source": [
    "adult_train_df['workclass'].value_counts()"
   ]
  },
  {
   "cell_type": "code",
   "execution_count": 35,
   "metadata": {},
   "outputs": [
    {
     "data": {
      "text/plain": [
       " Husband           13193\n",
       " Not-in-family      8305\n",
       " Own-child          5068\n",
       " Unmarried          3446\n",
       " Wife               1568\n",
       " Other-relative      981\n",
       "Name: relationship, dtype: int64"
      ]
     },
     "execution_count": 35,
     "metadata": {},
     "output_type": "execute_result"
    }
   ],
   "source": [
    "adult_train_df['relationship'].value_counts()"
   ]
  },
  {
   "cell_type": "code",
   "execution_count": 36,
   "metadata": {},
   "outputs": [
    {
     "data": {
      "text/plain": [
       "array([' Not-in-family', ' Husband', ' Not-in-family', ' Husband',\n",
       "       ' Wife'], dtype=object)"
      ]
     },
     "execution_count": 36,
     "metadata": {},
     "output_type": "execute_result"
    }
   ],
   "source": [
    "adult_train_df['relationship'].values[:5]"
   ]
  },
  {
   "cell_type": "code",
   "execution_count": 55,
   "metadata": {},
   "outputs": [
    {
     "data": {
      "text/plain": [
       "Husband           13193\n",
       "Not-in-family      8305\n",
       "Own-child          5068\n",
       "Unmarried          3446\n",
       "Wife               1568\n",
       "Other-relative      981\n",
       "Name: relationship, dtype: int64"
      ]
     },
     "execution_count": 55,
     "metadata": {},
     "output_type": "execute_result"
    }
   ],
   "source": [
    "adult_train_df['relationship'].value_counts()"
   ]
  },
  {
   "cell_type": "code",
   "execution_count": 37,
   "metadata": {},
   "outputs": [],
   "source": [
    "relationship_replace_tranformer = CategoricalFeature(\n",
    "    pre_tms=[\n",
    "        FT(trim)  \n",
    "    ]\n",
    ")\n",
    "transformed_series = relationship_replace_tranformer.fit_transform(adult_train_df['relationship'].array)\n",
    "adult_train_df['relationship'] = pd.Series(transformed_series)"
   ]
  },
  {
   "cell_type": "code",
   "execution_count": 38,
   "metadata": {},
   "outputs": [
    {
     "data": {
      "text/plain": [
       "0    13193\n",
       "1     8305\n",
       "3     5068\n",
       "4     3446\n",
       "5     1568\n",
       "2      981\n",
       "Name: relationship, dtype: int64"
      ]
     },
     "execution_count": 38,
     "metadata": {},
     "output_type": "execute_result"
    }
   ],
   "source": [
    "adult_train_df['relationship'].value_counts()"
   ]
  },
  {
   "cell_type": "code",
   "execution_count": 17,
   "metadata": {},
   "outputs": [
    {
     "data": {
      "text/plain": [
       "array([[ 3.,  2., 38.,  2.,  4.,  0.,  1.],\n",
       "       [ 0.,  5., 38.,  0.,  4.,  4.,  0.],\n",
       "       [ 6.,  2., 38.,  2.,  4.,  0.,  1.],\n",
       "       [ 9.,  5., 38.,  2.,  4.,  0.,  1.],\n",
       "       [ 3.,  2., 38.,  2.,  4.,  0.,  1.]])"
      ]
     },
     "execution_count": 17,
     "metadata": {},
     "output_type": "execute_result"
    }
   ],
   "source": [
    "X_train[:5, categorical_column_indexes]"
   ]
  },
  {
   "cell_type": "code",
   "execution_count": 18,
   "metadata": {},
   "outputs": [],
   "source": [
    "train_ds = TabularDataset(\n",
    "    continius_features=X_train[:,continius_column_indexes], \n",
    "    categorical_features=X_train[:,categorical_column_indexes], \n",
    "    y=Y_train, \n",
    "    normalize=False\n",
    ")\n",
    "\n",
    "test_ds = TabularDataset(\n",
    "    continius_features=X_test[:,continius_column_indexes], \n",
    "    categorical_features=X_test[:,categorical_column_indexes], \n",
    "    y=Y_test, \n",
    "    normalize=False\n",
    ")"
   ]
  },
  {
   "cell_type": "code",
   "execution_count": 19,
   "metadata": {},
   "outputs": [
    {
     "name": "stdout",
     "output_type": "stream",
     "text": [
      "0 -> X_continius: tensor([ 0.9564,  0.8379, -0.4397, -0.0777]), X_categorical: tensor([ 3,  2, 38,  2]) Y: tensor([1.])\n",
      "1 -> X_continius: tensor([ 0.8803, -0.1474, -0.4397,  0.4231]), X_categorical: tensor([ 0,  5, 38,  0]) Y: tensor([0.])\n",
      "2 -> X_continius: tensor([ 1.9462, -0.1474, -0.4397, -0.0777]), X_categorical: tensor([ 6,  2, 38,  2]) Y: tensor([0.])\n",
      "3 -> X_continius: tensor([ 1.0326, -0.1474,  1.5211, -0.0777]), X_categorical: tensor([ 9,  5, 38,  2]) Y: tensor([0.])\n",
      "4 -> X_continius: tensor([ 1.3371,  0.4612,  1.1289, -0.0777]), X_categorical: tensor([ 3,  2, 38,  2]) Y: tensor([0.])\n",
      "5 -> X_continius: tensor([-0.1095, -0.1474, -0.4397,  0.3396]), X_categorical: tensor([12,  2, 38,  0]) Y: tensor([0.])\n",
      "6 -> X_continius: tensor([-0.9470,  0.6250, -0.4397, -0.0777]), X_categorical: tensor([ 6,  2, 38,  4]) Y: tensor([0.])\n",
      "7 -> X_continius: tensor([ 2.9360,  2.5599,  2.3054, -0.0777]), X_categorical: tensor([ 4,  3, 38,  2]) Y: tensor([1.])\n",
      "8 -> X_continius: tensor([-0.9470, -0.1474, -1.2241, -0.0777]), X_categorical: tensor([ 7,  2, 38,  4]) Y: tensor([0.])\n",
      "9 -> X_continius: tensor([ 2.4791, -0.1474,  1.5211, -0.0777]), X_categorical: tensor([ 9,  1, 38,  6]) Y: tensor([0.])\n"
     ]
    }
   ],
   "source": [
    "for i in range(10):\n",
    "    x_continius, x_categorical, y = train_ds[i]\n",
    "    print(f'{i} -> X_continius: {x_continius[:4]}, X_categorical: {x_categorical[:4]} Y: {y}')"
   ]
  },
  {
   "cell_type": "markdown",
   "metadata": {},
   "source": [
    "Dataloaders"
   ]
  },
  {
   "cell_type": "code",
   "execution_count": 20,
   "metadata": {},
   "outputs": [],
   "source": [
    "train_dl = DataLoader(train_ds, batch_size=1000, shuffle=True)\n",
    "\n",
    "train_dl_for_prediction = DataLoader(train_ds, batch_size=1000, shuffle=False)\n",
    "test_dl = DataLoader(test_ds, batch_size=1000, shuffle=False)"
   ]
  },
  {
   "cell_type": "code",
   "execution_count": 21,
   "metadata": {},
   "outputs": [
    {
     "name": "stdout",
     "output_type": "stream",
     "text": [
      "torch.Size([1000, 5]), torch.Size([1000, 7]), torch.Size([1000, 1])\n",
      "torch.Size([1000, 5]), torch.Size([1000, 7]), torch.Size([1000, 1])\n",
      "torch.Size([1000, 5]), torch.Size([1000, 7]), torch.Size([1000, 1])\n",
      "torch.Size([1000, 5]), torch.Size([1000, 7]), torch.Size([1000, 1])\n",
      "torch.Size([1000, 5]), torch.Size([1000, 7]), torch.Size([1000, 1])\n",
      "torch.Size([1000, 5]), torch.Size([1000, 7]), torch.Size([1000, 1])\n",
      "torch.Size([1000, 5]), torch.Size([1000, 7]), torch.Size([1000, 1])\n",
      "torch.Size([1000, 5]), torch.Size([1000, 7]), torch.Size([1000, 1])\n",
      "torch.Size([1000, 5]), torch.Size([1000, 7]), torch.Size([1000, 1])\n",
      "torch.Size([1000, 5]), torch.Size([1000, 7]), torch.Size([1000, 1])\n",
      "torch.Size([1000, 5]), torch.Size([1000, 7]), torch.Size([1000, 1])\n",
      "torch.Size([1000, 5]), torch.Size([1000, 7]), torch.Size([1000, 1])\n",
      "torch.Size([1000, 5]), torch.Size([1000, 7]), torch.Size([1000, 1])\n",
      "torch.Size([1000, 5]), torch.Size([1000, 7]), torch.Size([1000, 1])\n",
      "torch.Size([1000, 5]), torch.Size([1000, 7]), torch.Size([1000, 1])\n",
      "torch.Size([1000, 5]), torch.Size([1000, 7]), torch.Size([1000, 1])\n",
      "torch.Size([1000, 5]), torch.Size([1000, 7]), torch.Size([1000, 1])\n",
      "torch.Size([1000, 5]), torch.Size([1000, 7]), torch.Size([1000, 1])\n",
      "torch.Size([1000, 5]), torch.Size([1000, 7]), torch.Size([1000, 1])\n",
      "torch.Size([1000, 5]), torch.Size([1000, 7]), torch.Size([1000, 1])\n",
      "torch.Size([1000, 5]), torch.Size([1000, 7]), torch.Size([1000, 1])\n",
      "torch.Size([1000, 5]), torch.Size([1000, 7]), torch.Size([1000, 1])\n",
      "torch.Size([1000, 5]), torch.Size([1000, 7]), torch.Size([1000, 1])\n",
      "torch.Size([1000, 5]), torch.Size([1000, 7]), torch.Size([1000, 1])\n",
      "torch.Size([129, 5]), torch.Size([129, 7]), torch.Size([129, 1])\n"
     ]
    }
   ],
   "source": [
    "for x_continius, x_categorical, y in train_dl:\n",
    "    print(f'{x_continius.shape}, {x_categorical.shape}, {y.shape}')"
   ]
  },
  {
   "cell_type": "markdown",
   "metadata": {},
   "source": [
    "### Training the net"
   ]
  },
  {
   "cell_type": "code",
   "execution_count": 22,
   "metadata": {},
   "outputs": [
    {
     "data": {
      "text/plain": [
       "[(14, 7), (7, 3), (41, 20), (7, 3), (5, 2), (6, 3), (2, 1)]"
      ]
     },
     "execution_count": 22,
     "metadata": {},
     "output_type": "execute_result"
    }
   ],
   "source": [
    "embedding_dims = []\n",
    "for column in categorical_columns:\n",
    "    q_unique_values = len(adult_train_df[column].unique())\n",
    "    embedding_size = min(q_unique_values//2, 50)\n",
    "    embedding_dims.append((q_unique_values, embedding_size))\n",
    "\n",
    "embedding_dims"
   ]
  },
  {
   "cell_type": "code",
   "execution_count": 23,
   "metadata": {},
   "outputs": [],
   "source": [
    "model = UciAdultsClassifier(q_continius_features=q_continius_columns, q_categorical_features=q_categorical_columns, embedding_dims=embedding_dims)\n",
    "optimizer = optim.Adam(model.parameters(), lr=1e-2)\n",
    "bceloss_fn = nn.BCELoss(reduction='mean')\n",
    "epochs=100"
   ]
  },
  {
   "cell_type": "code",
   "execution_count": 24,
   "metadata": {},
   "outputs": [
    {
     "data": {
      "text/plain": [
       "UciAdultsClassifier(\n",
       "  (embeddings_layer): ModuleList(\n",
       "    (0): Embedding(14, 7)\n",
       "    (1): Embedding(7, 3)\n",
       "    (2): Embedding(41, 20)\n",
       "    (3): Embedding(7, 3)\n",
       "    (4): Embedding(5, 2)\n",
       "    (5): Embedding(6, 3)\n",
       "    (6): Embedding(2, 1)\n",
       "  )\n",
       "  (embedding_dropout): Dropout(p=0.6, inplace=False)\n",
       "  (layer1): Sequential(\n",
       "    (0): Linear(in_features=44, out_features=128, bias=True)\n",
       "    (1): ReLU()\n",
       "    (2): BatchNorm1d(128, eps=1e-05, momentum=0.1, affine=True, track_running_stats=True)\n",
       "  )\n",
       "  (layer2): Sequential(\n",
       "    (0): Linear(in_features=128, out_features=64, bias=True)\n",
       "    (1): ReLU()\n",
       "    (2): Dropout(p=0.3, inplace=False)\n",
       "    (3): BatchNorm1d(64, eps=1e-05, momentum=0.1, affine=True, track_running_stats=True)\n",
       "  )\n",
       "  (layer3): Sequential(\n",
       "    (0): Linear(in_features=64, out_features=32, bias=True)\n",
       "    (1): ReLU()\n",
       "    (2): Dropout(p=0.3, inplace=False)\n",
       "    (3): BatchNorm1d(32, eps=1e-05, momentum=0.1, affine=True, track_running_stats=True)\n",
       "  )\n",
       "  (output): Sequential(\n",
       "    (0): Linear(in_features=32, out_features=1, bias=True)\n",
       "    (1): ReLU()\n",
       "    (2): Dropout(p=0.3, inplace=False)\n",
       "    (3): BatchNorm1d(1, eps=1e-05, momentum=0.1, affine=True, track_running_stats=True)\n",
       "    (4): Sigmoid()\n",
       "  )\n",
       ")"
      ]
     },
     "execution_count": 24,
     "metadata": {},
     "output_type": "execute_result"
    }
   ],
   "source": [
    "model"
   ]
  },
  {
   "cell_type": "code",
   "execution_count": 25,
   "metadata": {},
   "outputs": [],
   "source": [
    "losses = model.fit(train_dl=train_dl, epochs=epochs, loss_fn=bceloss_fn, opt=optimizer)"
   ]
  },
  {
   "cell_type": "code",
   "execution_count": 26,
   "metadata": {},
   "outputs": [
    {
     "data": {
      "text/plain": [
       "[<matplotlib.lines.Line2D at 0x13f8ead60>]"
      ]
     },
     "execution_count": 26,
     "metadata": {},
     "output_type": "execute_result"
    },
    {
     "data": {
      "image/png": "[encoded data removed]",
      "text/plain": [
       "<Figure size 432x288 with 1 Axes>"
      ]
     },
     "metadata": {
      "needs_background": "light"
     },
     "output_type": "display_data"
    }
   ],
   "source": [
    "plt.plot(range(len(losses)), losses)"
   ]
  },
  {
   "cell_type": "code",
   "execution_count": 27,
   "metadata": {},
   "outputs": [],
   "source": [
    "x_continius_train, x_categorical_train, y_train = train_ds.reverse_transform()"
   ]
  },
  {
   "cell_type": "code",
   "execution_count": 28,
   "metadata": {},
   "outputs": [],
   "source": [
    "x_continius_test, x_categorical_test, y_test = test_ds.reverse_transform()"
   ]
  },
  {
   "cell_type": "markdown",
   "metadata": {},
   "source": [
    "### Validating the net"
   ]
  },
  {
   "cell_type": "code",
   "execution_count": 29,
   "metadata": {},
   "outputs": [],
   "source": [
    "y_train_pred = model.predict(train_dl_for_prediction).numpy().squeeze()"
   ]
  },
  {
   "cell_type": "code",
   "execution_count": 30,
   "metadata": {},
   "outputs": [],
   "source": [
    "y_test_pred = model.predict(test_dl).numpy().squeeze()"
   ]
  },
  {
   "cell_type": "code",
   "execution_count": 31,
   "metadata": {},
   "outputs": [
    {
     "name": "stdout",
     "output_type": "stream",
     "text": [
      "Auc Roc in training: 0.9190385276392666\n"
     ]
    }
   ],
   "source": [
    "aucroc_train = roc_auc_score(y_train, y_train_pred)\n",
    "print(f'Auc Roc in training: {aucroc_train}')"
   ]
  },
  {
   "cell_type": "code",
   "execution_count": 32,
   "metadata": {},
   "outputs": [
    {
     "name": "stdout",
     "output_type": "stream",
     "text": [
      "Accuracy in training: 0.8689129263541796\n"
     ]
    }
   ],
   "source": [
    "accuracy_train = accuracy_score(y_train, [1 if pred >= .5 else 0 for pred in y_train_pred])\n",
    "print(f'Accuracy in training: {accuracy_train}')"
   ]
  },
  {
   "cell_type": "code",
   "execution_count": 33,
   "metadata": {},
   "outputs": [
    {
     "name": "stdout",
     "output_type": "stream",
     "text": [
      "Auc Roc in test: 0.8793694960736893\n"
     ]
    }
   ],
   "source": [
    "aucroc_test = roc_auc_score(y_test, y_test_pred)\n",
    "print(f'Auc Roc in test: {aucroc_test}')"
   ]
  },
  {
   "cell_type": "code",
   "execution_count": 34,
   "metadata": {},
   "outputs": [
    {
     "name": "stdout",
     "output_type": "stream",
     "text": [
      "Accuracy in test: 0.841869716558926\n"
     ]
    }
   ],
   "source": [
    "accuracy_test = accuracy_score(y_test, [1 if pred >= .5 else 0 for pred in y_test_pred])\n",
    "print(f'Accuracy in test: {accuracy_test}')"
   ]
  }
 ],
 "metadata": {
  "kernelspec": {
   "display_name": "Python 3",
   "language": "python",
   "name": "python3"
  },
  "language_info": {
   "codemirror_mode": {
    "name": "ipython",
    "version": 3
   },
   "file_extension": ".py",
   "mimetype": "text/x-python",
   "name": "python",
   "nbconvert_exporter": "python",
   "pygments_lexer": "ipython3",
   "version": "3.8.5"
  }
 },
 "nbformat": 4,
 "nbformat_minor": 4
}
