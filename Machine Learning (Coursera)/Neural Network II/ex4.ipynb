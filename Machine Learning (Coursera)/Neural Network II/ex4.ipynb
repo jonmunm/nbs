{
 "cells": [
  {
   "cell_type": "markdown",
   "metadata": {},
   "source": [
    "# Andrew Ng's Machine Learning Exercise 4: Neural Networks Learning"
   ]
  },
  {
   "cell_type": "code",
   "execution_count": 1,
   "metadata": {},
   "outputs": [],
   "source": [
    "from __future__ import division"
   ]
  },
  {
   "cell_type": "code",
   "execution_count": 2,
   "metadata": {},
   "outputs": [],
   "source": [
    "import numpy as np\n",
    "from scipy.optimize import minimize\n",
    "import scipy.io # used to load matlab-formatted .m files.\n",
    "import matplotlib.pyplot as plt\n",
    "import matplotlib.gridspec as gridspec\n",
    "import seaborn as sns"
   ]
  },
  {
   "cell_type": "code",
   "execution_count": 3,
   "metadata": {},
   "outputs": [],
   "source": [
    "%matplotlib inline  "
   ]
  },
  {
   "cell_type": "code",
   "execution_count": 4,
   "metadata": {},
   "outputs": [],
   "source": [
    "sns.set_style(\"white\")\n",
    "sns.set_style(\"ticks\")\n",
    "sns.set_context(\"notebook\")"
   ]
  },
  {
   "cell_type": "code",
   "execution_count": 5,
   "metadata": {},
   "outputs": [
    {
     "name": "stderr",
     "output_type": "stream",
     "text": [
      "c:\\users\\jonathan muñoz\\appdata\\local\\programs\\python\\python37\\lib\\_collections_abc.py:841: MatplotlibDeprecationWarning: \n",
      "The examples.directory rcparam was deprecated in Matplotlib 3.0 and will be removed in 3.2. In the future, examples will be found relative to the 'datapath' directory.\n",
      "  self[key] = other[key]\n",
      "c:\\users\\jonathan muñoz\\appdata\\local\\programs\\python\\python37\\lib\\_collections_abc.py:841: MatplotlibDeprecationWarning: \n",
      "The savefig.frameon rcparam was deprecated in Matplotlib 3.1 and will be removed in 3.3.\n",
      "  self[key] = other[key]\n",
      "c:\\users\\jonathan muñoz\\appdata\\local\\programs\\python\\python37\\lib\\_collections_abc.py:841: MatplotlibDeprecationWarning: \n",
      "The text.latex.unicode rcparam was deprecated in Matplotlib 3.0 and will be removed in 3.2.\n",
      "  self[key] = other[key]\n",
      "c:\\users\\jonathan muñoz\\appdata\\local\\programs\\python\\python37\\lib\\_collections_abc.py:841: MatplotlibDeprecationWarning: \n",
      "The verbose.fileo rcparam was deprecated in Matplotlib 3.1 and will be removed in 3.3.\n",
      "  self[key] = other[key]\n",
      "c:\\users\\jonathan muñoz\\appdata\\local\\programs\\python\\python37\\lib\\_collections_abc.py:841: MatplotlibDeprecationWarning: \n",
      "The verbose.level rcparam was deprecated in Matplotlib 3.1 and will be removed in 3.3.\n",
      "  self[key] = other[key]\n"
     ]
    }
   ],
   "source": [
    "def sns_reset(): \n",
    "    \"\"\"Call this function to toggle back to the sns plotting environment from the matplotlib environment.\"\"\"\n",
    "    sns.reset_defaults()\n",
    "    sns.set_style(\"white\")\n",
    "    sns.set_style(\"ticks\")\n",
    "    sns.set_context(\"notebook\")\n",
    "\n",
    "# Call these three functions at the top of the notebook to allow toggling between sns and matplotlib \n",
    "# environments while maintaining a uniform plot style throughout.\n",
    "sns.reset_orig() \n",
    "sns_reset()\n",
    "plt.ion()"
   ]
  },
  {
   "cell_type": "markdown",
   "metadata": {},
   "source": [
    "Load the dataset used in both sections below."
   ]
  },
  {
   "cell_type": "code",
   "execution_count": 6,
   "metadata": {},
   "outputs": [],
   "source": [
    "data_dict = scipy.io.loadmat('ex4data1.mat')"
   ]
  },
  {
   "cell_type": "code",
   "execution_count": 8,
   "metadata": {},
   "outputs": [],
   "source": [
    "X = data_dict['X']\n",
    "y = data_dict['y'].ravel()\n",
    "\n",
    "M = X.shape[0] # = 400 pixels per sample\n",
    "N = X.shape[1] # = 5000 samples\n",
    "L = 26 # = number of nodes in the hidden layer (including bias node)\n",
    "K = len(np.unique(y)) # = 10 distinct classes for this example."
   ]
  },
  {
   "cell_type": "code",
   "execution_count": 9,
   "metadata": {},
   "outputs": [
    {
     "data": {
      "text/plain": [
       "((5000, 400), (5000,), 5000, 400, 26, 10)"
      ]
     },
     "execution_count": 9,
     "metadata": {},
     "output_type": "execute_result"
    }
   ],
   "source": [
    "X.shape, y.shape, M, N, L, K"
   ]
  },
  {
   "cell_type": "markdown",
   "metadata": {},
   "source": [
    "Add a column of ones to the data matrix that allows us to treat the intercept parameter as a feature."
   ]
  },
  {
   "cell_type": "code",
   "execution_count": 11,
   "metadata": {},
   "outputs": [],
   "source": [
    "X = np.hstack((np.ones((M, 1)), X)) "
   ]
  },
  {
   "cell_type": "code",
   "execution_count": 12,
   "metadata": {},
   "outputs": [
    {
     "data": {
      "text/plain": [
       "(5000, 401)"
      ]
     },
     "execution_count": 12,
     "metadata": {},
     "output_type": "execute_result"
    }
   ],
   "source": [
    "X.shape"
   ]
  },
  {
   "cell_type": "markdown",
   "metadata": {},
   "source": [
    "Define the sigmoid function."
   ]
  },
  {
   "cell_type": "code",
   "execution_count": 13,
   "metadata": {},
   "outputs": [],
   "source": [
    "sigmoid = lambda x: 1 / (1 + np.exp(-x))"
   ]
  },
  {
   "cell_type": "markdown",
   "metadata": {},
   "source": [
    "Generate a one-hot encoding, Y,  of the target vector, y."
   ]
  },
  {
   "cell_type": "code",
   "execution_count": 14,
   "metadata": {},
   "outputs": [],
   "source": [
    "Y = np.zeros((M, K), dtype='uint8') \n",
    "\n",
    "for i, row in enumerate(Y):\n",
    "    Y[i, y[i] - 1] = 1"
   ]
  },
  {
   "cell_type": "code",
   "execution_count": 15,
   "metadata": {},
   "outputs": [
    {
     "data": {
      "text/plain": [
       "(5000, 10)"
      ]
     },
     "execution_count": 15,
     "metadata": {},
     "output_type": "execute_result"
    }
   ],
   "source": [
    "Y.shape"
   ]
  },
  {
   "cell_type": "code",
   "execution_count": 16,
   "metadata": {},
   "outputs": [
    {
     "data": {
      "text/plain": [
       "array([[0, 0, 0, 0, 0, 0, 0, 0, 0, 1],\n",
       "       [0, 0, 0, 0, 0, 0, 0, 0, 0, 1],\n",
       "       [0, 0, 0, 0, 0, 0, 0, 0, 0, 1],\n",
       "       [0, 0, 0, 0, 0, 0, 0, 0, 0, 1],\n",
       "       [0, 0, 0, 0, 0, 0, 0, 0, 0, 1],\n",
       "       [0, 0, 0, 0, 0, 0, 0, 0, 0, 1],\n",
       "       [0, 0, 0, 0, 0, 0, 0, 0, 0, 1],\n",
       "       [0, 0, 0, 0, 0, 0, 0, 0, 0, 1],\n",
       "       [0, 0, 0, 0, 0, 0, 0, 0, 0, 1],\n",
       "       [0, 0, 0, 0, 0, 0, 0, 0, 0, 1]], dtype=uint8)"
      ]
     },
     "execution_count": 16,
     "metadata": {},
     "output_type": "execute_result"
    }
   ],
   "source": [
    "Y[:10, :]"
   ]
  },
  {
   "cell_type": "markdown",
   "metadata": {
    "collapsed": true
   },
   "source": [
    "Load the saved neural network parameters (the trained neural network weights)."
   ]
  },
  {
   "cell_type": "code",
   "execution_count": 17,
   "metadata": {},
   "outputs": [],
   "source": [
    "weights_dict = scipy.io.loadmat('ex4weights.mat')"
   ]
  },
  {
   "cell_type": "code",
   "execution_count": 18,
   "metadata": {},
   "outputs": [],
   "source": [
    "theta_1 = weights_dict['Theta1'] # theta_1.shape = (25, 401)\n",
    "theta_2 = weights_dict['Theta2'] # theta_2.shape = (10, 26)\n",
    "\n",
    "nn_params_saved = np.concatenate((theta_1.flatten(), theta_2.flatten()))"
   ]
  },
  {
   "cell_type": "code",
   "execution_count": 19,
   "metadata": {},
   "outputs": [
    {
     "data": {
      "text/plain": [
       "((25, 401), (10, 26))"
      ]
     },
     "execution_count": 19,
     "metadata": {},
     "output_type": "execute_result"
    }
   ],
   "source": [
    "theta_1.shape, theta_2.shape"
   ]
  },
  {
   "cell_type": "markdown",
   "metadata": {},
   "source": [
    "# 1 Neural networks"
   ]
  },
  {
   "cell_type": "markdown",
   "metadata": {},
   "source": [
    "## 1.1 Visualizing the data"
   ]
  },
  {
   "cell_type": "markdown",
   "metadata": {},
   "source": [
    "Same visualization using the same dataset as in Exercise 3, section 1.1:  Draw ```dim * dim``` random examples of images from the dataset and display them in a grid.  Note:  Drop column of ones from X here."
   ]
  },
  {
   "cell_type": "code",
   "execution_count": 13,
   "metadata": {
    "collapsed": true
   },
   "outputs": [],
   "source": [
    "dim = K\n",
    "\n",
    "examples = X[:, 1:][np.random.randint(M, size=dim * dim)]"
   ]
  },
  {
   "cell_type": "code",
   "execution_count": 14,
   "metadata": {},
   "outputs": [
    {
     "data": {
      "image/png": "[encoded data removed]",
      "text/plain": [
       "<matplotlib.figure.Figure at 0x11507ee90>"
      ]
     },
     "metadata": {},
     "output_type": "display_data"
    }
   ],
   "source": [
    "\"\"\"Python version of displayData.m.\"\"\"\n",
    "fig = plt.figure(figsize=(5, 5))\n",
    "\n",
    "gs = gridspec.GridSpec(dim, dim)\n",
    "gs.update(bottom=0.01, top=0.99, left=0.01, right=0.99, \n",
    "          hspace=0.05, wspace=0.05)\n",
    "\n",
    "k = 0\n",
    "for i in xrange(dim):\n",
    "    for j in xrange(dim):\n",
    "        ax = plt.subplot(gs[i, j])\n",
    "        ax.axis('off')\n",
    "        ax.imshow(examples[k].reshape(int(np.sqrt(N)), int(np.sqrt(N))).T,\n",
    "            cmap=plt.get_cmap('Greys'), interpolation='nearest')\n",
    "        k += 1\n",
    "        \n",
    "plt.savefig('ex4_plots/fig_1.png', dpi=300)"
   ]
  },
  {
   "cell_type": "markdown",
   "metadata": {},
   "source": [
    "## 1.3 Feedforward and cost function"
   ]
  },
  {
   "cell_type": "markdown",
   "metadata": {},
   "source": [
    "Given the saved neural network parameters, feedforward to calculate the cost function."
   ]
  },
  {
   "cell_type": "code",
   "execution_count": 24,
   "metadata": {},
   "outputs": [],
   "source": [
    "def nn_cost_function(nn_params, X, Y, M, N, L, K, lambda_):\n",
    "    \"\"\"Python version of nnCostFunction.m after completing 'Part 1'.\"\"\"\n",
    "\n",
    "    # Unroll the parameter vector.\n",
    "    theta_1 = nn_params[:(L - 1) * (N + 1)].reshape(L - 1, N + 1)\n",
    "    theta_2 = nn_params[(L - 1) * (N + 1):].reshape(K, L)\n",
    "    \n",
    "    # Calculate activations in the second layer.\n",
    "    a_2 = sigmoid(theta_1.dot(X.T))\n",
    "    \n",
    "    # Add the second layer's bias node.\n",
    "    a_2_p = np.vstack((np.ones(M), a_2))\n",
    "    \n",
    "    # Calculate the activation of the third layer.\n",
    "    a_3 = sigmoid(theta_2.dot(a_2_p))\n",
    "    #print(a_3[:, :10])\n",
    "    # Calculate the cost function.\n",
    "    cost = 1 / M * np.trace(- Y.dot(np.log(a_3)) - (1 - Y).dot(np.log(1 - a_3)))\n",
    "    \n",
    "    return cost"
   ]
  },
  {
   "cell_type": "code",
   "execution_count": 25,
   "metadata": {},
   "outputs": [
    {
     "data": {
      "text/plain": [
       "0.2876291651613189"
      ]
     },
     "execution_count": 25,
     "metadata": {},
     "output_type": "execute_result"
    }
   ],
   "source": [
    "cost_saved = nn_cost_function(nn_params_saved, X, Y, M, N, L, K) \n",
    "cost_saved\n",
    "#print 'Cost at parameters (loaded from ex4weights): %.6f' % cost_saved\n",
    "#print '(this value should be about 0.287629)'"
   ]
  },
  {
   "cell_type": "markdown",
   "metadata": {},
   "source": [
    "## 1.4 Regularized cost function"
   ]
  },
  {
   "cell_type": "markdown",
   "metadata": {},
   "source": [
    "Add a regularization term to the cost function.  Note: Bias parameters are not regularized."
   ]
  },
  {
   "cell_type": "code",
   "execution_count": 17,
   "metadata": {},
   "outputs": [],
   "source": [
    "def nn_cost_function_reg(nn_params, X, Y, M, N, L, K, lam):\n",
    "    \"\"\"Python version of nnCostFunction.m after completing 'Part 1' with regularization added.\"\"\"\n",
    "\n",
    "    # Unroll the parameter vector.\n",
    "    theta_1 = nn_params[:(L - 1) * (N + 1)].reshape(L - 1, N + 1)\n",
    "    theta_2 = nn_params[(L - 1) * (N + 1):].reshape(K, L)\n",
    "    \n",
    "    # Calculate activations in the second layer.\n",
    "    a_2 = sigmoid(theta_1.dot(X.T))\n",
    "    \n",
    "    # Add the second layer's bias node.\n",
    "    a_2_p = np.vstack((np.ones(M), a_2))\n",
    "    \n",
    "    # Calculate the activation of the third layer.\n",
    "    a_3 = sigmoid(theta_2.dot(a_2_p))\n",
    "    \n",
    "    # Calculate the cost function with the addition of a regularization term.\n",
    "    cost = 1 / M * np.trace(- Y.dot(np.log(a_3)) - (1 - Y).dot(np.log(1 - a_3))) \\\n",
    "        + lam / 2 / M * (np.sum(theta_1[:, 1:] * theta_1[:, 1:]) + np.sum(theta_2[:, 1:] * theta_2[:, 1:]))\n",
    "            \n",
    "    return cost"
   ]
  },
  {
   "cell_type": "code",
   "execution_count": 18,
   "metadata": {},
   "outputs": [
    {
     "name": "stdout",
     "output_type": "stream",
     "text": [
      "Regularized cost at parameters (loaded from ex4weights): 0.383770\n",
      "(this value should be about 0.383770)\n"
     ]
    }
   ],
   "source": [
    "cost_saved_reg = nn_cost_function_reg(nn_params_saved, X, Y, M, N, L, K, 1)\n",
    "\n",
    "print 'Regularized cost at parameters (loaded from ex4weights): %.6f' % cost_saved_reg\n",
    "print '(this value should be about 0.383770)'"
   ]
  },
  {
   "cell_type": "markdown",
   "metadata": {},
   "source": [
    "# 2 Backpropagation"
   ]
  },
  {
   "cell_type": "markdown",
   "metadata": {},
   "source": [
    "## 2.1 Sigmoid gradient"
   ]
  },
  {
   "cell_type": "code",
   "execution_count": 19,
   "metadata": {
    "collapsed": true
   },
   "outputs": [],
   "source": [
    "\"\"\"Python version of sigmoidGradient.m.\"\"\"\n",
    "sigmoid_gradient = lambda x: sigmoid(x) * (1 - sigmoid(x))"
   ]
  },
  {
   "cell_type": "code",
   "execution_count": 20,
   "metadata": {},
   "outputs": [
    {
     "name": "stdout",
     "output_type": "stream",
     "text": [
      "Sigmoid gradient evaluated at [-1 -0.5 0 0.5 1]: 0.197, 0.235, 0.250, 0.235, 0.197\n",
      "(should be an even function)\n"
     ]
    }
   ],
   "source": [
    "print 'Sigmoid gradient evaluated at [-1 -0.5 0 0.5 1]:', \\\n",
    "    ', '.join('%.3f' % item for item in sigmoid_gradient(np.array([-1, -0.5, 0, 0.5, 1])))\n",
    "print '(should be an even function)'"
   ]
  },
  {
   "cell_type": "markdown",
   "metadata": {},
   "source": [
    "## 2.2 Random initialization"
   ]
  },
  {
   "cell_type": "markdown",
   "metadata": {},
   "source": [
    "Draw initial values of the neural network parameters from a uniform distribution on the open interval $(-\\epsilon_{\\rm init}, \\epsilon_{\\rm init})$."
   ]
  },
  {
   "cell_type": "code",
   "execution_count": 21,
   "metadata": {
    "collapsed": true
   },
   "outputs": [],
   "source": [
    "eps_init = 0.12"
   ]
  },
  {
   "cell_type": "code",
   "execution_count": 22,
   "metadata": {},
   "outputs": [],
   "source": [
    "\"\"\"Python version of randInitializeWeights.m.\"\"\"\n",
    "theta_1_0 = np.random.uniform(-eps_init, eps_init, theta_1.shape)\n",
    "theta_2_0 = np.random.uniform(-eps_init, eps_init, theta_2.shape)\n",
    "\n",
    "nn_params_0 = np.concatenate((theta_1_0.flatten(), theta_2_0.flatten()))"
   ]
  },
  {
   "cell_type": "markdown",
   "metadata": {},
   "source": [
    "## 2.3 Backpropagation"
   ]
  },
  {
   "cell_type": "markdown",
   "metadata": {},
   "source": [
    "Expand on the definition of the cost function defined above such that both cost and gradient are returned."
   ]
  },
  {
   "cell_type": "code",
   "execution_count": 23,
   "metadata": {
    "collapsed": true
   },
   "outputs": [],
   "source": [
    "def nn_cost_function_grad(nn_params, X, Y, M, N, L, K, lam):\n",
    "    \"\"\"Python version of nnCostFunction.m after completing 'Part 2' \n",
    "    (the cost function is regularized here but not the gradient).\"\"\"    \n",
    "    \n",
    "    # Unroll the parameter vector.\n",
    "    theta_1 = nn_params[:(L - 1) * (N + 1)].reshape(L - 1, N + 1)\n",
    "    theta_2 = nn_params[(L - 1) * (N + 1):].reshape(K, L)\n",
    "    \n",
    "    \"\"\"Feedforward pass.\"\"\"\n",
    "    # Calculate activations in the second layer (as well as z_2, which is needed below).\n",
    "    z_2 = theta_1.dot(X.T)\n",
    "    a_2_p = np.vstack((np.ones(M), sigmoid(z_2)))\n",
    "    \n",
    "    # Calculate the activation of the third layer.\n",
    "    a_3 = sigmoid(theta_2.dot(a_2_p))\n",
    "    \n",
    "    # Calculate the cost function with the addition of a regularization term.\n",
    "    cost = 1 / M * np.trace(- Y.dot(np.log(a_3)) - (1 - Y).dot(np.log(1 - a_3))) \\\n",
    "        + lam / 2 / M * (np.sum(theta_1[:, 1:] * theta_1[:, 1:]) + np.sum(theta_2[:, 1:] * theta_2[:, 1:]))    \n",
    "    \n",
    "    \"\"\"Backpropagation (use the chain rule).\"\"\"\n",
    "    # Calculate the gradient for parameters in the third layer.\n",
    "    grad_theta_2 = 1 / M * (a_3 - Y.T).dot(a_2_p.T) \n",
    "    \n",
    "    # Calculate the gradient for parameters in the second layer.\n",
    "    theta_delta = theta_2_0[:, 1:].T.dot(a_3 - Y.T)\n",
    "    s_g_z_2 = sigmoid_gradient(z_2)\n",
    "    grad_theta_1 = 1 / M * np.array([[np.sum(theta_delta[p] * s_g_z_2[p] * X.T[q]) \n",
    "        for q in xrange(N+1)] for p in xrange(L-1)]) \n",
    "    \n",
    "    # Roll the two gradient vectors into a single vector and return.\n",
    "    return cost, np.concatenate((grad_theta_1.flatten(), grad_theta_2.flatten()))  "
   ]
  },
  {
   "cell_type": "markdown",
   "metadata": {},
   "source": [
    "## 2.4 Gradient checking"
   ]
  },
  {
   "cell_type": "markdown",
   "metadata": {},
   "source": [
    "Compare the gradient as computed from the analytical expression above to the gradient computed numerically based on estimates of the cost function (without regularization) at two nearby points in the neural network parameter space."
   ]
  },
  {
   "cell_type": "code",
   "execution_count": 24,
   "metadata": {},
   "outputs": [],
   "source": [
    "def compute_numerical_gradient(indicies_to_check, eps, nn_params, X, Y, M, N, L, K):\n",
    "    \"\"\"Python version of computeNumericalGradient.m.\"\"\"\n",
    "    numerical_grad = np.zeros(len(indicies_to_check))\n",
    "    unit_vector = np.zeros(nn_params.shape)\n",
    "    k = 0\n",
    "    for i in indicies_to_check:\n",
    "        unit_vector[i] = eps\n",
    "        loss_1 = nn_cost_function(nn_params + unit_vector, X, Y, M, N, L, K)\n",
    "        loss_2 = nn_cost_function(nn_params - unit_vector, X, Y, M, N, L, K)\n",
    "        numerical_grad[k] =  (loss_1 - loss_2) / (2 * eps)\n",
    "        unit_vector[i] = 0\n",
    "        k += 1\n",
    "    return numerical_grad"
   ]
  },
  {
   "cell_type": "markdown",
   "metadata": {},
   "source": [
    "Because checking the gradient vector would be somewhat computationally intensive, we perform the comparison of analytical and numerical gradient calculations only on a random subset of gradient vector elements.  "
   ]
  },
  {
   "cell_type": "code",
   "execution_count": 25,
   "metadata": {},
   "outputs": [],
   "source": [
    "num_to_check = 20\n",
    "\n",
    "indicies_to_check = np.arange(len(nn_params_0))\n",
    "np.random.shuffle(indicies_to_check)\n",
    "indicies_to_check = indicies_to_check[:num_to_check] "
   ]
  },
  {
   "cell_type": "markdown",
   "metadata": {},
   "source": [
    "The following few lines calculate the difference between the analytical and numerical computation of random gradient vector elements."
   ]
  },
  {
   "cell_type": "code",
   "execution_count": 26,
   "metadata": {},
   "outputs": [],
   "source": [
    "\"\"\"Together with the next few lines, this is a Python check similar to the check in checkNNGradients.m.\"\"\"\n",
    "_, analytical_grad_random_subset = nn_cost_function_grad(nn_params_0, X, Y, M, N, L, K, 0)\n",
    "analytical_grad_random_subset = analytical_grad_random_subset[indicies_to_check]\n",
    "# takes ~20sec to run on my laptop."
   ]
  },
  {
   "cell_type": "code",
   "execution_count": 27,
   "metadata": {
    "collapsed": true
   },
   "outputs": [],
   "source": [
    "eps = 1e-5\n",
    "numerical_grad_random_subset = compute_numerical_gradient(indicies_to_check, eps, nn_params_0, X, Y, M, N, L, K)"
   ]
  },
  {
   "cell_type": "code",
   "execution_count": 28,
   "metadata": {},
   "outputs": [],
   "source": [
    "diff = 2 * (analytical_grad_random_subset - numerical_grad_random_subset) / \\\n",
    "    (analytical_grad_random_subset + numerical_grad_random_subset)"
   ]
  },
  {
   "cell_type": "markdown",
   "metadata": {},
   "source": [
    "This line demonstrates that the largest difference is $O(\n",
    "10\\times\\epsilon)$."
   ]
  },
  {
   "cell_type": "code",
   "execution_count": 34,
   "metadata": {},
   "outputs": [
    {
     "data": {
      "text/plain": [
       "True"
      ]
     },
     "execution_count": 34,
     "metadata": {},
     "output_type": "execute_result"
    }
   ],
   "source": [
    "np.sum(abs(diff) < 1e-4) == len(diff)"
   ]
  },
  {
   "cell_type": "markdown",
   "metadata": {},
   "source": [
    "## 2.5 Regularized neural networks"
   ]
  },
  {
   "cell_type": "markdown",
   "metadata": {},
   "source": [
    "Add gradient regularization.  Note: Bias parameters are not regularized."
   ]
  },
  {
   "cell_type": "code",
   "execution_count": 64,
   "metadata": {},
   "outputs": [],
   "source": [
    "cost_history = [] # Use this array to log costs calculated in the call to scipy's \"minimize\" below.\n",
    "\n",
    "def nn_cost_function_grad_reg(nn_params, X, Y, M, N, L, K, lam):\n",
    "    \"\"\"Python version of nnCostFunction.m after completing 'Part 3'.\"\"\"  \n",
    "    \n",
    "    # Unroll the parameter vector.\n",
    "    theta_1 = nn_params[:(L - 1) * (N + 1)].reshape(L - 1, N + 1)\n",
    "    theta_2 = nn_params[(L - 1) * (N + 1):].reshape(K, L)\n",
    "    \n",
    "    \"\"\"Feedforward pass.\"\"\"\n",
    "    # Calculate activations in the second layer (as well as z_2, which is needed below).\n",
    "    z_2 = theta_1.dot(X.T)\n",
    "    a_2_p = np.vstack((np.ones(M), sigmoid(z_2)))\n",
    "    \n",
    "    # Calculate the activation of the third layer.\n",
    "    a_3 = sigmoid(theta_2.dot(a_2_p))\n",
    "    \n",
    "    # Calculate the cost function with the addition of a regularization term.\n",
    "    cost = 1 / M * np.trace(- Y.dot(np.log(a_3)) - (1 - Y).dot(np.log(1 - a_3))) \\\n",
    "        + lam / 2 / M * (np.sum(theta_1[:, 1:] * theta_1[:, 1:]) + np.sum(theta_2[:, 1:] * theta_2[:, 1:]))    \n",
    "    \n",
    "    \"\"\"Backpropagation (use the chain rule).\"\"\"\n",
    "    # Calculate the gradient for parameters in the third layer.\n",
    "    grad_theta_2 = 1 / M * (a_3 - Y.T).dot(a_2_p.T) \\\n",
    "        + lam / M * np.hstack((np.zeros(K).reshape(-1,1), theta_2[:, 1:])) # this is the theta_2 grad reg term\n",
    "    \n",
    "    # Calculate the gradient for parameters in the second layer.\n",
    "    theta_delta = theta_2_0[:, 1:].T.dot(a_3 - Y.T)\n",
    "    s_g_z_2 = sigmoid_gradient(z_2)\n",
    "    grad_theta_1 = 1 / M * np.array([[np.sum(theta_delta[p] * s_g_z_2[p] * X.T[q]) \n",
    "        for q in xrange(N+1)] for p in xrange(L-1)]) \\\n",
    "        + lam / M * np.hstack((np.zeros(L-1).reshape(-1,1), theta_1[:, 1:])) # this is the theta_1 grad reg term\n",
    "    \n",
    "    # Roll the two gradient vectors into a single vector.\n",
    "    grad = np.concatenate((grad_theta_1.flatten(), grad_theta_2.flatten()))  \n",
    "    \n",
    "    cost_history.append(cost)\n",
    "    return cost, grad"
   ]
  },
  {
   "cell_type": "markdown",
   "metadata": {},
   "source": [
    "## 2.6 Learning parameters"
   ]
  },
  {
   "cell_type": "markdown",
   "metadata": {},
   "source": [
    "For a regularization parameter set to 1 and random initial neural network parameter values as drawn above, train the network."
   ]
  },
  {
   "cell_type": "code",
   "execution_count": 108,
   "metadata": {
    "collapsed": true
   },
   "outputs": [],
   "source": [
    "lam = 1"
   ]
  },
  {
   "cell_type": "code",
   "execution_count": 109,
   "metadata": {},
   "outputs": [],
   "source": [
    "cost_history = []\n",
    "\n",
    "res = minimize(nn_cost_function_grad_reg, nn_params_0, \n",
    "               method='L-BFGS-B', args=(X, Y, M, N, L, K, lam), jac=True, options={'maxiter': 100}) "
   ]
  },
  {
   "cell_type": "code",
   "execution_count": 112,
   "metadata": {},
   "outputs": [
    {
     "name": "stdout",
     "output_type": "stream",
     "text": [
      "Cost at best-fit theta: 0.670\n"
     ]
    }
   ],
   "source": [
    "nn_params_learned = res['x']\n",
    "np.savetxt('ex4_weights_learned/nn_params_learned.txt', nn_params_learned)\n",
    "\n",
    "print 'Cost at best-fit theta: %.3f' % res['fun'] "
   ]
  },
  {
   "cell_type": "code",
   "execution_count": 111,
   "metadata": {},
   "outputs": [
    {
     "data": {
      "image/png": "[encoded data removed]",
      "text/plain": [
       "<matplotlib.figure.Figure at 0x122eaf050>"
      ]
     },
     "metadata": {},
     "output_type": "display_data"
    }
   ],
   "source": [
    "num_steps = 100\n",
    "\n",
    "plt.figure()\n",
    "plt.scatter(np.arange(num_steps), np.array(cost_history[:num_steps]), c='k', marker='o')\n",
    "plt.xlabel('Steps')\n",
    "plt.ylabel('Cost')\n",
    "plt.xlim(-num_steps * 0.05, num_steps * 1.05)\n",
    "plt.ylim(0, max(cost_history[:num_steps]) * 1.05)\n",
    "plt.savefig('ex4_plots/cost_vs_steps_learned.png', dpi=300)"
   ]
  },
  {
   "cell_type": "markdown",
   "metadata": {},
   "source": [
    "Alternatively, load the parameters learned from a previous training run."
   ]
  },
  {
   "cell_type": "code",
   "execution_count": 54,
   "metadata": {
    "collapsed": true
   },
   "outputs": [],
   "source": [
    "# nn_params_learned = np.loadtxt('ex4_weights_learned/nn_params_learned.txt')"
   ]
  },
  {
   "cell_type": "code",
   "execution_count": 113,
   "metadata": {
    "collapsed": true
   },
   "outputs": [],
   "source": [
    "def nn_accuracy(nn_params, X, y):\n",
    "    \"\"\"Similar to predict.m but converting predictions and labeled values into an overall accuracy score.\"\"\"  \n",
    "        \n",
    "    theta_1 = nn_params[:(L - 1) * (N + 1)].reshape(L - 1, N + 1)\n",
    "    theta_2 = nn_params[(L - 1) * (N + 1):].reshape(K, L)\n",
    "    \n",
    "    z_2 = theta_1.dot(X.T)\n",
    "    a_2 = sigmoid(z_2)\n",
    "    a_2_p = np.vstack((np.ones(M), a_2))\n",
    "    a_3 = sigmoid(theta_2.dot(a_2_p))\n",
    "    \n",
    "    return np.sum((a_3.argmax(axis=0) + 1) == y) / M"
   ]
  },
  {
   "cell_type": "markdown",
   "metadata": {},
   "source": [
    "Accuracy of the neural net trained here:"
   ]
  },
  {
   "cell_type": "code",
   "execution_count": 114,
   "metadata": {},
   "outputs": [
    {
     "data": {
      "text/plain": [
       "0.93640000000000001"
      ]
     },
     "execution_count": 114,
     "metadata": {},
     "output_type": "execute_result"
    }
   ],
   "source": [
    "nn_accuracy(nn_params_learned, X, y)"
   ]
  },
  {
   "cell_type": "markdown",
   "metadata": {},
   "source": [
    "Accuracy of the neural net provided:"
   ]
  },
  {
   "cell_type": "code",
   "execution_count": 115,
   "metadata": {},
   "outputs": [
    {
     "data": {
      "text/plain": [
       "0.97519999999999996"
      ]
     },
     "execution_count": 115,
     "metadata": {},
     "output_type": "execute_result"
    }
   ],
   "source": [
    "nn_accuracy(np.concatenate((theta_1.flatten(), theta_2.flatten())), X, y)"
   ]
  },
  {
   "cell_type": "markdown",
   "metadata": {},
   "source": [
    "# 3 Visualizing the hidden layer"
   ]
  },
  {
   "cell_type": "markdown",
   "metadata": {},
   "source": [
    "Visualizing the neural net trained here:"
   ]
  },
  {
   "cell_type": "code",
   "execution_count": 116,
   "metadata": {
    "collapsed": true
   },
   "outputs": [],
   "source": [
    "dim = int(np.sqrt(L - 1)) # L = dim x dim + 1, where the 1 counts the bias term.\n",
    "\n",
    "theta_1_learned = nn_params_learned[:(L - 1) * (N + 1)].reshape(L - 1, N + 1)"
   ]
  },
  {
   "cell_type": "code",
   "execution_count": 117,
   "metadata": {},
   "outputs": [
    {
     "data": {
      "image/png": "[encoded data removed]",
      "text/plain": [
       "<matplotlib.figure.Figure at 0x11f51c990>"
      ]
     },
     "metadata": {},
     "output_type": "display_data"
    }
   ],
   "source": [
    "fig = plt.figure(figsize=(5, 5))\n",
    "\n",
    "gs = gridspec.GridSpec(dim, dim)\n",
    "gs.update(bottom=0.01, top=0.99, left=0.01, right=0.99, \n",
    "          hspace=0.05, wspace=0.05)\n",
    "\n",
    "k = 0\n",
    "for i in xrange(dim):\n",
    "    for j in xrange(dim):\n",
    "        ax = plt.subplot(gs[i, j])\n",
    "        ax.axis('off')\n",
    "        ax.imshow(theta_1_learned[k][1:].reshape(int(np.sqrt(N)), int(np.sqrt(N))).T,\n",
    "                 cmap=plt.get_cmap('Greys'), \n",
    "                 interpolation = 'nearest')\n",
    "        k += 1\n",
    "        \n",
    "plt.savefig('ex4_plots/fig_4_nn_learned.png', dpi=300)"
   ]
  },
  {
   "cell_type": "markdown",
   "metadata": {},
   "source": [
    "Visualizing the neural net provided:"
   ]
  },
  {
   "cell_type": "code",
   "execution_count": 118,
   "metadata": {},
   "outputs": [
    {
     "data": {
      "image/png": "[encoded data removed]",
      "text/plain": [
       "<matplotlib.figure.Figure at 0x11fa19dd0>"
      ]
     },
     "metadata": {},
     "output_type": "display_data"
    }
   ],
   "source": [
    "fig = plt.figure(figsize=(5, 5))\n",
    "\n",
    "gs = gridspec.GridSpec(dim, dim)\n",
    "gs.update(bottom=0.01, top=0.99, left=0.01, right=0.99, \n",
    "          hspace=0.05, wspace=0.05)\n",
    "\n",
    "k = 0\n",
    "for i in xrange(dim):\n",
    "    for j in xrange(dim):\n",
    "        ax = plt.subplot(gs[i, j])\n",
    "        ax.axis('off')\n",
    "        ax.imshow(theta_1[k][1:].reshape(int(np.sqrt(N)), int(np.sqrt(N))).T,\n",
    "                 cmap=plt.get_cmap('Greys'),\n",
    "                 interpolation = 'nearest')\n",
    "        k += 1\n",
    "        \n",
    "plt.savefig('ex4_plots/fig_4_nn_saved.png', dpi=300)"
   ]
  },
  {
   "cell_type": "markdown",
   "metadata": {},
   "source": [
    "## 3.1 Overfitting example"
   ]
  },
  {
   "cell_type": "code",
   "execution_count": 119,
   "metadata": {},
   "outputs": [],
   "source": [
    "lam = 0.01"
   ]
  },
  {
   "cell_type": "code",
   "execution_count": 120,
   "metadata": {},
   "outputs": [],
   "source": [
    "cost_history = []\n",
    "\n",
    "res_overfit = minimize(nn_cost_function_grad_reg, nn_params_0, \n",
    "               method='L-BFGS-B', args=(X, Y, M, N, L, K, lam), jac=True, options={'maxiter': 100}) "
   ]
  },
  {
   "cell_type": "code",
   "execution_count": 121,
   "metadata": {},
   "outputs": [
    {
     "name": "stdout",
     "output_type": "stream",
     "text": [
      "Cost at best-fit theta: 0.221\n"
     ]
    }
   ],
   "source": [
    "nn_params_learned_overfit = res_overfit['x']\n",
    "np.savetxt('ex4_weights_learned/nn_params_learned_overfit.txt', nn_params_learned_overfit)\n",
    "\n",
    "print 'Cost at best-fit theta: %.3f' % nn_cost_function_grad_reg(nn_params_learned_overfit, X, Y, M, N, L, K, lam)[0]"
   ]
  },
  {
   "cell_type": "code",
   "execution_count": 122,
   "metadata": {},
   "outputs": [
    {
     "data": {
      "image/png": "[encoded data removed]",
      "text/plain": [
       "<matplotlib.figure.Figure at 0x122a05850>"
      ]
     },
     "metadata": {},
     "output_type": "display_data"
    }
   ],
   "source": [
    "num_steps = 100\n",
    "\n",
    "plt.figure()\n",
    "plt.scatter(np.arange(num_steps), np.array(cost_history[:num_steps]), c='k', marker='o')\n",
    "plt.xlabel('Steps')\n",
    "plt.ylabel('Cost')\n",
    "plt.xlim(-num_steps * 0.05, num_steps * 1.05)\n",
    "plt.ylim(0, max(cost_history[:num_steps]) * 1.05)\n",
    "plt.savefig('ex4_plots/cost_vs_steps_learned.png', dpi=300)"
   ]
  },
  {
   "cell_type": "markdown",
   "metadata": {},
   "source": [
    "Alternatively, load the parameters learned from a previous training run."
   ]
  },
  {
   "cell_type": "code",
   "execution_count": 96,
   "metadata": {},
   "outputs": [],
   "source": [
    "# nn_params_learned_overfit = np.loadtxt('ex4_weights_learned/nn_params_learned_overfit.txt')"
   ]
  },
  {
   "cell_type": "markdown",
   "metadata": {},
   "source": [
    "Accuracy of the overfitted neural net:"
   ]
  },
  {
   "cell_type": "code",
   "execution_count": 123,
   "metadata": {},
   "outputs": [
    {
     "data": {
      "text/plain": [
       "0.97740000000000005"
      ]
     },
     "execution_count": 123,
     "metadata": {},
     "output_type": "execute_result"
    }
   ],
   "source": [
    "nn_accuracy(nn_params_learned_overfit, X, y)"
   ]
  },
  {
   "cell_type": "markdown",
   "metadata": {},
   "source": [
    "Accuracy of the neural net provided:"
   ]
  },
  {
   "cell_type": "code",
   "execution_count": 124,
   "metadata": {},
   "outputs": [
    {
     "data": {
      "text/plain": [
       "0.97519999999999996"
      ]
     },
     "execution_count": 124,
     "metadata": {},
     "output_type": "execute_result"
    }
   ],
   "source": [
    "nn_accuracy(np.concatenate((theta_1.flatten(), theta_2.flatten())), X, y)"
   ]
  },
  {
   "cell_type": "markdown",
   "metadata": {},
   "source": [
    "Visualizing the overfit neural net:"
   ]
  },
  {
   "cell_type": "code",
   "execution_count": 125,
   "metadata": {},
   "outputs": [],
   "source": [
    "theta_1_learned_overfit = nn_params_learned_overfit[:(L - 1) * (N + 1)].reshape(L - 1, N + 1)"
   ]
  },
  {
   "cell_type": "code",
   "execution_count": 126,
   "metadata": {},
   "outputs": [
    {
     "data": {
      "image/png": "[encoded data removed]",
      "text/plain": [
       "<matplotlib.figure.Figure at 0x11fb10410>"
      ]
     },
     "metadata": {},
     "output_type": "display_data"
    }
   ],
   "source": [
    "fig = plt.figure(figsize=(5, 5))\n",
    "\n",
    "gs = gridspec.GridSpec(dim, dim)\n",
    "gs.update(bottom=0.01, top=0.99, left=0.01, right=0.99, \n",
    "          hspace=0.05, wspace=0.05)\n",
    "\n",
    "k = 0\n",
    "for i in xrange(dim):\n",
    "    for j in xrange(dim):\n",
    "        ax = plt.subplot(gs[i, j])\n",
    "        ax.axis('off')\n",
    "        ax.imshow(theta_1_learned_overfit[k][1:].reshape(int(np.sqrt(N)), int(np.sqrt(N))).T,\n",
    "                 cmap=plt.get_cmap('Greys'), \n",
    "                 interpolation = 'nearest')\n",
    "        k += 1\n",
    "        \n",
    "plt.savefig('ex4_plots/fig_4_nn_learned_overfit.png', dpi=300)"
   ]
  }
 ],
 "metadata": {
  "kernelspec": {
   "display_name": "Python 3",
   "language": "python",
   "name": "python3"
  },
  "language_info": {
   "codemirror_mode": {
    "name": "ipython",
    "version": 3
   },
   "file_extension": ".py",
   "mimetype": "text/x-python",
   "name": "python",
   "nbconvert_exporter": "python",
   "pygments_lexer": "ipython3",
   "version": "3.7.4"
  }
 },
 "nbformat": 4,
 "nbformat_minor": 1
}
