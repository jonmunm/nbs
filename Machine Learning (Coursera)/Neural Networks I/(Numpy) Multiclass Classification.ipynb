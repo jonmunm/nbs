{
 "cells": [
  {
   "cell_type": "code",
   "execution_count": 1,
   "metadata": {},
   "outputs": [],
   "source": [
    "import pandas as pd\n",
    "import numpy as np\n",
    "import matplotlib.pyplot as plt\n",
    "import seaborn as sns\n",
    "import torch\n",
    "import scipy.io"
   ]
  },
  {
   "cell_type": "code",
   "execution_count": 2,
   "metadata": {},
   "outputs": [],
   "source": [
    "data = scipy.io.loadmat('ex3data1.mat', mat_dtype=True)\n",
    "x, y = data['X'], data['y']\n",
    "y = y.ravel()\n",
    "M = len(y)\n",
    "\n",
    "X = np.vstack((np.ones(M), x.T))\n",
    "\n",
    "N = X.shape[0]\n",
    "K = len(np.unique(y))"
   ]
  },
  {
   "cell_type": "markdown",
   "metadata": {},
   "source": [
    "# Vectorizing regularized logistic regression"
   ]
  },
  {
   "cell_type": "code",
   "execution_count": 3,
   "metadata": {},
   "outputs": [],
   "source": [
    "sigmoid = lambda x: 1 / (1 + np.exp(-x))"
   ]
  },
  {
   "cell_type": "markdown",
   "metadata": {},
   "source": [
    "## Vectorizing the cost function"
   ]
  },
  {
   "cell_type": "code",
   "execution_count": 4,
   "metadata": {},
   "outputs": [],
   "source": [
    "def costFunctionReg(X, y, M, N, theta, lambda_):\n",
    "    h = sigmoid(theta.T.dot(X))\n",
    "    J = (-np.log(h).dot(y) - np.log(1-h).dot(1-y))/M + lambda_ / (2 * M) * theta[1:].dot(theta[1:].T)\n",
    "    grad = X.dot((h - y))/M + (lambda_/M) * np.array([0 if i == 0 else theta[i] for i in range(len(theta))])\n",
    "    return J, grad"
   ]
  },
  {
   "cell_type": "code",
   "execution_count": 16,
   "metadata": {},
   "outputs": [],
   "source": [
    "lambda_test = 3\n",
    "M_test = 5\n",
    "theta_test = np.array([-2., -1., 1., 2.])\n",
    "X_test = np.vstack((np.ones(5), np.array([range(1, 16)]).reshape(3, 5)/10))\n",
    "y_test = np.array([1., 0., 1., 0., 1.])"
   ]
  },
  {
   "cell_type": "code",
   "execution_count": 6,
   "metadata": {
    "scrolled": true
   },
   "outputs": [
    {
     "data": {
      "text/plain": [
       "(2.534819396109744,\n",
       " array([ 0.14656137, -0.54855841,  0.72472227,  1.39800296]))"
      ]
     },
     "execution_count": 6,
     "metadata": {},
     "output_type": "execute_result"
    }
   ],
   "source": [
    "J, grad = costFunctionReg(X_test, y_test, M_test, _, theta_test, lambda_test)\n",
    "J, grad"
   ]
  },
  {
   "cell_type": "markdown",
   "metadata": {},
   "source": [
    "## One-vs-all Classification"
   ]
  },
  {
   "cell_type": "code",
   "execution_count": 7,
   "metadata": {},
   "outputs": [],
   "source": [
    "iterations = 5000\n",
    "lambda_ = .1\n",
    "alpha = .3"
   ]
  },
  {
   "cell_type": "code",
   "execution_count": 8,
   "metadata": {},
   "outputs": [],
   "source": [
    "def gradientDescent(X, y, M, N, initial_theta, alpha, lambda_, iterations):\n",
    "    theta = initial_theta.copy()\n",
    "    for i in range(0, iterations):\n",
    "        _, grad = costFunctionReg(X, y, M, N, theta, lambda_)\n",
    "        theta -= alpha * grad\n",
    "    \n",
    "    return theta"
   ]
  },
  {
   "cell_type": "code",
   "execution_count": 9,
   "metadata": {},
   "outputs": [],
   "source": [
    "def oneVsAll(X, y, K):\n",
    "\n",
    "    theta_0 = np.zeros(N)\n",
    "    all_theta = []\n",
    "    \n",
    "    for k in range(1, K + 1):\n",
    "        theta = gradientDescent(X, (y == k).astype(int), M, N, theta_0, alpha, lambda_, iterations)\n",
    "        all_theta.append(theta)\n",
    "        \n",
    "    return np.array(all_theta)"
   ]
  },
  {
   "cell_type": "code",
   "execution_count": 10,
   "metadata": {},
   "outputs": [],
   "source": [
    "all_theta = oneVsAll(X, y, K)"
   ]
  },
  {
   "cell_type": "code",
   "execution_count": 11,
   "metadata": {},
   "outputs": [],
   "source": [
    "def predict(X, initial_theta):\n",
    "    return sigmoid(X.T.dot(initial_theta.T))"
   ]
  },
  {
   "cell_type": "code",
   "execution_count": 12,
   "metadata": {},
   "outputs": [],
   "source": [
    "predictions = predict(X, all_theta)"
   ]
  },
  {
   "cell_type": "code",
   "execution_count": 13,
   "metadata": {},
   "outputs": [],
   "source": [
    "def accuracy(predictions, y):\n",
    "    selected_y = np.argmax(predictions, axis=1) + 1\n",
    "    return (selected_y == y).mean()"
   ]
  },
  {
   "cell_type": "code",
   "execution_count": 14,
   "metadata": {
    "scrolled": true
   },
   "outputs": [
    {
     "data": {
      "text/plain": [
       "0.935"
      ]
     },
     "execution_count": 14,
     "metadata": {},
     "output_type": "execute_result"
    }
   ],
   "source": [
    "accuracy(predictions, y)"
   ]
  }
 ],
 "metadata": {
  "kernelspec": {
   "display_name": "Python 3",
   "language": "python",
   "name": "python3"
  },
  "language_info": {
   "codemirror_mode": {
    "name": "ipython",
    "version": 3
   },
   "file_extension": ".py",
   "mimetype": "text/x-python",
   "name": "python",
   "nbconvert_exporter": "python",
   "pygments_lexer": "ipython3",
   "version": "3.7.4"
  }
 },
 "nbformat": 4,
 "nbformat_minor": 2
}
