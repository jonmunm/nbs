{
 "cells": [
  {
   "cell_type": "code",
   "execution_count": 1,
   "metadata": {},
   "outputs": [],
   "source": [
    "import torch\n",
    "import scipy.io"
   ]
  },
  {
   "cell_type": "code",
   "execution_count": 2,
   "metadata": {},
   "outputs": [],
   "source": [
    "torch.set_default_dtype(torch.double)"
   ]
  },
  {
   "cell_type": "code",
   "execution_count": 3,
   "metadata": {},
   "outputs": [],
   "source": [
    "data = scipy.io.loadmat('ex3data1.mat')\n",
    "# y -> (1, 5000)\n",
    "# x -> (5000, 400)\n",
    "x, y = torch.tensor(data['X']), torch.tensor(data['y']).T\n",
    "M = y.shape[1]\n",
    "\n",
    "# X -> (401, 5000)\n",
    "X = torch.cat((torch.ones(1, M), x.T))\n",
    "N = X.shape[0]\n",
    "\n",
    "K = len(torch.unique(y))\n",
    "\n",
    "hidden_layer_size = 25"
   ]
  },
  {
   "cell_type": "code",
   "execution_count": 4,
   "metadata": {},
   "outputs": [],
   "source": [
    "weights = scipy.io.loadmat('ex3weights.mat')\n",
    "\n",
    "# theta_1 -> (25, 401); theta_2 -> (10, 26)\n",
    "theta_1, theta_2 = torch.tensor(weights['Theta1']), torch.tensor(weights['Theta2'])"
   ]
  },
  {
   "cell_type": "markdown",
   "metadata": {},
   "source": [
    "# Predictions"
   ]
  },
  {
   "cell_type": "code",
   "execution_count": 5,
   "metadata": {},
   "outputs": [],
   "source": [
    "sigmoid = lambda x: 1 / (1 + torch.exp(-x))"
   ]
  },
  {
   "cell_type": "code",
   "execution_count": 6,
   "metadata": {},
   "outputs": [],
   "source": [
    "def predict(theta_1, theta_2, X, K):\n",
    "    M = X.shape[1] # Tamaño del dataset de entrenamiento\n",
    "    a_2 = torch.cat((torch.ones(1, M), sigmoid(torch.mm(theta_1, X))))\n",
    "    h = sigmoid(torch.mm(theta_2, a_2))\n",
    "    return h"
   ]
  },
  {
   "cell_type": "code",
   "execution_count": 7,
   "metadata": {},
   "outputs": [],
   "source": [
    "predictions = predict(theta_1, theta_2, X, K) # -> (10, 5000)"
   ]
  },
  {
   "cell_type": "markdown",
   "metadata": {},
   "source": [
    "# Accuracy"
   ]
  },
  {
   "cell_type": "code",
   "execution_count": 8,
   "metadata": {},
   "outputs": [],
   "source": [
    "def accuracy(predictions, y):\n",
    "    selected_y = torch.argmax(predictions, axis=0) + 1\n",
    "    return (selected_y == y).type(torch.double).mean().item()"
   ]
  },
  {
   "cell_type": "code",
   "execution_count": 9,
   "metadata": {
    "scrolled": true
   },
   "outputs": [
    {
     "data": {
      "text/plain": [
       "0.9752"
      ]
     },
     "execution_count": 9,
     "metadata": {},
     "output_type": "execute_result"
    }
   ],
   "source": [
    "accuracy(predictions, y)"
   ]
  }
 ],
 "metadata": {
  "kernelspec": {
   "display_name": "Python 3",
   "language": "python",
   "name": "python3"
  },
  "language_info": {
   "codemirror_mode": {
    "name": "ipython",
    "version": 3
   },
   "file_extension": ".py",
   "mimetype": "text/x-python",
   "name": "python",
   "nbconvert_exporter": "python",
   "pygments_lexer": "ipython3",
   "version": "3.7.4"
  }
 },
 "nbformat": 4,
 "nbformat_minor": 2
}
