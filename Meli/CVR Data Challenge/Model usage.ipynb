{
 "cells": [
  {
   "cell_type": "code",
   "execution_count": 1,
   "metadata": {},
   "outputs": [],
   "source": [
    "import sys\n",
    "sys.path.append('.')\n",
    "\n",
    "import pandas as pd\n",
    "import numpy as np\n",
    "from datetime import datetime, timedelta\n",
    "\n",
    "import sklearn\n",
    "from sklearn.metrics import roc_auc_score, accuracy_score\n",
    "from sklearn.preprocessing import FunctionTransformer as FT\n",
    "from sklearn.impute import SimpleImputer\n",
    "\n",
    "from lib.Extractor import FeatureExtractor\n",
    "from lib.Models import FullyConnectedNetworkClassifier\n",
    "from lib.Datasets import TabularDataset\n",
    "from lib.Transformers import NumericalTransformer, CategoricalTransformer, CategoricalTargetTransformer, DatasetTransformer\n",
    "\n",
    "%matplotlib inline\n",
    "import matplotlib.pyplot as plt\n",
    "\n",
    "import torch\n",
    "import torch.nn as nn\n",
    "from torch.optim import Adam, SGD\n",
    "from torch.optim.lr_scheduler import ExponentialLR, OneCycleLR\n",
    "from torch.utils.data import DataLoader"
   ]
  },
  {
   "cell_type": "markdown",
   "metadata": {},
   "source": [
    "##### Reproducibility"
   ]
  },
  {
   "cell_type": "code",
   "execution_count": 2,
   "metadata": {},
   "outputs": [],
   "source": [
    "torch.manual_seed(0)\n",
    "np.random.seed(0)"
   ]
  },
  {
   "cell_type": "markdown",
   "metadata": {},
   "source": [
    "### Dataset's"
   ]
  },
  {
   "cell_type": "code",
   "execution_count": 3,
   "metadata": {},
   "outputs": [
    {
     "name": "stdout",
     "output_type": "stream",
     "text": [
      "144,995 registros a las 2020-09-29 22:06:38.918100\n"
     ]
    },
    {
     "data": {
      "text/html": [
       "<div>\n",
       "<style scoped>\n",
       "    .dataframe tbody tr th:only-of-type {\n",
       "        vertical-align: middle;\n",
       "    }\n",
       "\n",
       "    .dataframe tbody tr th {\n",
       "        vertical-align: top;\n",
       "    }\n",
       "\n",
       "    .dataframe thead th {\n",
       "        text-align: right;\n",
       "    }\n",
       "</style>\n",
       "<table border=\"1\" class=\"dataframe\">\n",
       "  <thead>\n",
       "    <tr style=\"text-align: right;\">\n",
       "      <th></th>\n",
       "      <th>accepts_mercadopago</th>\n",
       "      <th>available_quantity</th>\n",
       "      <th>avg_gmv_item_domain_30days</th>\n",
       "      <th>avg_gmv_item_sel</th>\n",
       "      <th>avg_gmv_seller_bday</th>\n",
       "      <th>avg_qty_orders_item_domain_30days</th>\n",
       "      <th>avg_qty_orders_item_sel_30days</th>\n",
       "      <th>avg_si_item_sel_30day</th>\n",
       "      <th>benefit</th>\n",
       "      <th>boosted</th>\n",
       "      <th>...</th>\n",
       "      <th>total_orders_sel_30days</th>\n",
       "      <th>total_si_domain_30days</th>\n",
       "      <th>total_si_item_30days</th>\n",
       "      <th>total_si_sel_30days</th>\n",
       "      <th>total_visits_domain</th>\n",
       "      <th>total_visits_item</th>\n",
       "      <th>total_visits_seller</th>\n",
       "      <th>uid</th>\n",
       "      <th>user_id</th>\n",
       "      <th>warranty</th>\n",
       "    </tr>\n",
       "  </thead>\n",
       "  <tbody>\n",
       "    <tr>\n",
       "      <th>0</th>\n",
       "      <td>True</td>\n",
       "      <td>59</td>\n",
       "      <td>938.031376</td>\n",
       "      <td>2153.933091</td>\n",
       "      <td>135195.200333</td>\n",
       "      <td>3.430563</td>\n",
       "      <td>12.407860</td>\n",
       "      <td>13.691450</td>\n",
       "      <td>0.001</td>\n",
       "      <td>False</td>\n",
       "      <td>...</td>\n",
       "      <td>23364.0</td>\n",
       "      <td>56717.0</td>\n",
       "      <td>17.0</td>\n",
       "      <td>25781.0</td>\n",
       "      <td>7993972</td>\n",
       "      <td>543</td>\n",
       "      <td>854813</td>\n",
       "      <td>cb5bfac7-229a-4e3e-96dd-80b2ad3972c1</td>\n",
       "      <td>NaN</td>\n",
       "      <td>Garantía de fábrica: 12 meses</td>\n",
       "    </tr>\n",
       "    <tr>\n",
       "      <th>1</th>\n",
       "      <td>True</td>\n",
       "      <td>37</td>\n",
       "      <td>159.826531</td>\n",
       "      <td>240.325973</td>\n",
       "      <td>19338.230000</td>\n",
       "      <td>3.142739</td>\n",
       "      <td>4.429577</td>\n",
       "      <td>4.511599</td>\n",
       "      <td>0.001</td>\n",
       "      <td>False</td>\n",
       "      <td>...</td>\n",
       "      <td>10693.0</td>\n",
       "      <td>81455.0</td>\n",
       "      <td>5.0</td>\n",
       "      <td>10891.0</td>\n",
       "      <td>7821316</td>\n",
       "      <td>1789</td>\n",
       "      <td>1422288</td>\n",
       "      <td>b0f9aa19-00d5-4afd-aa77-45be7c849562</td>\n",
       "      <td>NaN</td>\n",
       "      <td>NaN</td>\n",
       "    </tr>\n",
       "    <tr>\n",
       "      <th>2</th>\n",
       "      <td>True</td>\n",
       "      <td>9</td>\n",
       "      <td>67.635391</td>\n",
       "      <td>86.066296</td>\n",
       "      <td>154.919333</td>\n",
       "      <td>2.633771</td>\n",
       "      <td>2.592593</td>\n",
       "      <td>2.722222</td>\n",
       "      <td>0.001</td>\n",
       "      <td>False</td>\n",
       "      <td>...</td>\n",
       "      <td>140.0</td>\n",
       "      <td>16792.0</td>\n",
       "      <td>8.0</td>\n",
       "      <td>147.0</td>\n",
       "      <td>1303909</td>\n",
       "      <td>1473</td>\n",
       "      <td>17801</td>\n",
       "      <td>fd59890a-f2c2-4282-b2ee-c68f25e20697</td>\n",
       "      <td>151157147.0</td>\n",
       "      <td>NaN</td>\n",
       "    </tr>\n",
       "    <tr>\n",
       "      <th>3</th>\n",
       "      <td>True</td>\n",
       "      <td>12</td>\n",
       "      <td>92.085756</td>\n",
       "      <td>332.848400</td>\n",
       "      <td>554.747333</td>\n",
       "      <td>3.280069</td>\n",
       "      <td>12.620000</td>\n",
       "      <td>12.840000</td>\n",
       "      <td>0.001</td>\n",
       "      <td>False</td>\n",
       "      <td>...</td>\n",
       "      <td>631.0</td>\n",
       "      <td>1988.0</td>\n",
       "      <td>14.0</td>\n",
       "      <td>642.0</td>\n",
       "      <td>139419</td>\n",
       "      <td>7473</td>\n",
       "      <td>44336</td>\n",
       "      <td>72340acf-2a1c-4214-a604-132e0cb56939</td>\n",
       "      <td>NaN</td>\n",
       "      <td>Garantía de fábrica: 90 días</td>\n",
       "    </tr>\n",
       "    <tr>\n",
       "      <th>4</th>\n",
       "      <td>True</td>\n",
       "      <td>5</td>\n",
       "      <td>156.905222</td>\n",
       "      <td>955.997475</td>\n",
       "      <td>3154.791667</td>\n",
       "      <td>2.737876</td>\n",
       "      <td>3.666667</td>\n",
       "      <td>4.363636</td>\n",
       "      <td>0.001</td>\n",
       "      <td>False</td>\n",
       "      <td>...</td>\n",
       "      <td>363.0</td>\n",
       "      <td>8707.0</td>\n",
       "      <td>32.0</td>\n",
       "      <td>432.0</td>\n",
       "      <td>209373</td>\n",
       "      <td>416</td>\n",
       "      <td>46206</td>\n",
       "      <td>84da1314-814c-4d4f-be23-3de9ea1da4b6</td>\n",
       "      <td>NaN</td>\n",
       "      <td>Garantía del vendedor: 90 días</td>\n",
       "    </tr>\n",
       "  </tbody>\n",
       "</table>\n",
       "<p>5 rows × 56 columns</p>\n",
       "</div>"
      ],
      "text/plain": [
       "   accepts_mercadopago  available_quantity  avg_gmv_item_domain_30days  \\\n",
       "0                 True                  59                  938.031376   \n",
       "1                 True                  37                  159.826531   \n",
       "2                 True                   9                   67.635391   \n",
       "3                 True                  12                   92.085756   \n",
       "4                 True                   5                  156.905222   \n",
       "\n",
       "   avg_gmv_item_sel  avg_gmv_seller_bday  avg_qty_orders_item_domain_30days  \\\n",
       "0       2153.933091        135195.200333                           3.430563   \n",
       "1        240.325973         19338.230000                           3.142739   \n",
       "2         86.066296           154.919333                           2.633771   \n",
       "3        332.848400           554.747333                           3.280069   \n",
       "4        955.997475          3154.791667                           2.737876   \n",
       "\n",
       "   avg_qty_orders_item_sel_30days  avg_si_item_sel_30day  benefit  boosted  \\\n",
       "0                       12.407860              13.691450    0.001    False   \n",
       "1                        4.429577               4.511599    0.001    False   \n",
       "2                        2.592593               2.722222    0.001    False   \n",
       "3                       12.620000              12.840000    0.001    False   \n",
       "4                        3.666667               4.363636    0.001    False   \n",
       "\n",
       "   ... total_orders_sel_30days  total_si_domain_30days total_si_item_30days  \\\n",
       "0  ...                 23364.0                 56717.0                 17.0   \n",
       "1  ...                 10693.0                 81455.0                  5.0   \n",
       "2  ...                   140.0                 16792.0                  8.0   \n",
       "3  ...                   631.0                  1988.0                 14.0   \n",
       "4  ...                   363.0                  8707.0                 32.0   \n",
       "\n",
       "  total_si_sel_30days total_visits_domain total_visits_item  \\\n",
       "0             25781.0             7993972               543   \n",
       "1             10891.0             7821316              1789   \n",
       "2               147.0             1303909              1473   \n",
       "3               642.0              139419              7473   \n",
       "4               432.0              209373               416   \n",
       "\n",
       "   total_visits_seller                                   uid      user_id  \\\n",
       "0               854813  cb5bfac7-229a-4e3e-96dd-80b2ad3972c1          NaN   \n",
       "1              1422288  b0f9aa19-00d5-4afd-aa77-45be7c849562          NaN   \n",
       "2                17801  fd59890a-f2c2-4282-b2ee-c68f25e20697  151157147.0   \n",
       "3                44336  72340acf-2a1c-4214-a604-132e0cb56939          NaN   \n",
       "4                46206  84da1314-814c-4d4f-be23-3de9ea1da4b6          NaN   \n",
       "\n",
       "                         warranty  \n",
       "0   Garantía de fábrica: 12 meses  \n",
       "1                             NaN  \n",
       "2                             NaN  \n",
       "3    Garantía de fábrica: 90 días  \n",
       "4  Garantía del vendedor: 90 días  \n",
       "\n",
       "[5 rows x 56 columns]"
      ]
     },
     "execution_count": 3,
     "metadata": {},
     "output_type": "execute_result"
    }
   ],
   "source": [
    "train_df = pd.read_csv('csv/_train_2020_09_13.csv', low_memory=False)\n",
    "print('{0:,} registros a las {1}'.format(len(train_df), datetime.now()))\n",
    "train_df.head()"
   ]
  },
  {
   "cell_type": "code",
   "execution_count": 4,
   "metadata": {},
   "outputs": [
    {
     "name": "stdout",
     "output_type": "stream",
     "text": [
      "35,766 registros a las 2020-09-29 22:06:39.346853\n"
     ]
    },
    {
     "data": {
      "text/html": [
       "<div>\n",
       "<style scoped>\n",
       "    .dataframe tbody tr th:only-of-type {\n",
       "        vertical-align: middle;\n",
       "    }\n",
       "\n",
       "    .dataframe tbody tr th {\n",
       "        vertical-align: top;\n",
       "    }\n",
       "\n",
       "    .dataframe thead th {\n",
       "        text-align: right;\n",
       "    }\n",
       "</style>\n",
       "<table border=\"1\" class=\"dataframe\">\n",
       "  <thead>\n",
       "    <tr style=\"text-align: right;\">\n",
       "      <th></th>\n",
       "      <th>accepts_mercadopago</th>\n",
       "      <th>available_quantity</th>\n",
       "      <th>avg_gmv_item_domain_30days</th>\n",
       "      <th>avg_gmv_item_sel</th>\n",
       "      <th>avg_gmv_seller_bday</th>\n",
       "      <th>avg_qty_orders_item_domain_30days</th>\n",
       "      <th>avg_qty_orders_item_sel_30days</th>\n",
       "      <th>avg_si_item_sel_30day</th>\n",
       "      <th>benefit</th>\n",
       "      <th>boosted</th>\n",
       "      <th>...</th>\n",
       "      <th>total_orders_sel_30days</th>\n",
       "      <th>total_si_domain_30days</th>\n",
       "      <th>total_si_item_30days</th>\n",
       "      <th>total_si_sel_30days</th>\n",
       "      <th>total_visits_domain</th>\n",
       "      <th>total_visits_item</th>\n",
       "      <th>total_visits_seller</th>\n",
       "      <th>uid</th>\n",
       "      <th>user_id</th>\n",
       "      <th>warranty</th>\n",
       "    </tr>\n",
       "  </thead>\n",
       "  <tbody>\n",
       "    <tr>\n",
       "      <th>0</th>\n",
       "      <td>True</td>\n",
       "      <td>6</td>\n",
       "      <td>280.245759</td>\n",
       "      <td>508.898157</td>\n",
       "      <td>19880.954667</td>\n",
       "      <td>3.340348</td>\n",
       "      <td>7.337031</td>\n",
       "      <td>8.120307</td>\n",
       "      <td>0.001</td>\n",
       "      <td>False</td>\n",
       "      <td>...</td>\n",
       "      <td>8599.0</td>\n",
       "      <td>18979.0</td>\n",
       "      <td>120.0</td>\n",
       "      <td>9517.0</td>\n",
       "      <td>1919367</td>\n",
       "      <td>19627</td>\n",
       "      <td>375891</td>\n",
       "      <td>7a81b3dc-0f1d-47b9-9ebe-6b080f0f9a78</td>\n",
       "      <td>43543000.0</td>\n",
       "      <td>GARANTIA DEL FABRICANTE 12 MESES</td>\n",
       "    </tr>\n",
       "    <tr>\n",
       "      <th>1</th>\n",
       "      <td>True</td>\n",
       "      <td>44</td>\n",
       "      <td>114.704700</td>\n",
       "      <td>200.589045</td>\n",
       "      <td>2239.911000</td>\n",
       "      <td>4.387991</td>\n",
       "      <td>2.588060</td>\n",
       "      <td>3.023881</td>\n",
       "      <td>0.001</td>\n",
       "      <td>False</td>\n",
       "      <td>...</td>\n",
       "      <td>867.0</td>\n",
       "      <td>5279.0</td>\n",
       "      <td>4.0</td>\n",
       "      <td>1013.0</td>\n",
       "      <td>336447</td>\n",
       "      <td>243</td>\n",
       "      <td>202158</td>\n",
       "      <td>ede61a11-5ef8-4626-86d0-2040abcb15d3</td>\n",
       "      <td>NaN</td>\n",
       "      <td>NaN</td>\n",
       "    </tr>\n",
       "    <tr>\n",
       "      <th>2</th>\n",
       "      <td>True</td>\n",
       "      <td>163</td>\n",
       "      <td>69.938155</td>\n",
       "      <td>120.521127</td>\n",
       "      <td>4917.262000</td>\n",
       "      <td>2.836291</td>\n",
       "      <td>4.301471</td>\n",
       "      <td>7.982026</td>\n",
       "      <td>0.001</td>\n",
       "      <td>False</td>\n",
       "      <td>...</td>\n",
       "      <td>5265.0</td>\n",
       "      <td>16769.0</td>\n",
       "      <td>90.0</td>\n",
       "      <td>9770.0</td>\n",
       "      <td>293809</td>\n",
       "      <td>1514</td>\n",
       "      <td>134501</td>\n",
       "      <td>37695e18-617e-4977-9d8d-25b963bcbfda</td>\n",
       "      <td>158491483.0</td>\n",
       "      <td>Garantía del vendedor: 15 días</td>\n",
       "    </tr>\n",
       "    <tr>\n",
       "      <th>3</th>\n",
       "      <td>True</td>\n",
       "      <td>99980</td>\n",
       "      <td>61.344055</td>\n",
       "      <td>43.361379</td>\n",
       "      <td>335.328000</td>\n",
       "      <td>5.504259</td>\n",
       "      <td>5.172414</td>\n",
       "      <td>12.599138</td>\n",
       "      <td>0.001</td>\n",
       "      <td>False</td>\n",
       "      <td>...</td>\n",
       "      <td>1200.0</td>\n",
       "      <td>8458.0</td>\n",
       "      <td>18.0</td>\n",
       "      <td>2923.0</td>\n",
       "      <td>98151</td>\n",
       "      <td>207</td>\n",
       "      <td>81713</td>\n",
       "      <td>6177b855-73f4-454b-92a6-84ab2870ba56</td>\n",
       "      <td>195821718.0</td>\n",
       "      <td>Garantía del vendedor: 180 días</td>\n",
       "    </tr>\n",
       "    <tr>\n",
       "      <th>4</th>\n",
       "      <td>True</td>\n",
       "      <td>3741</td>\n",
       "      <td>275.396775</td>\n",
       "      <td>5019.725800</td>\n",
       "      <td>8366.209667</td>\n",
       "      <td>3.506554</td>\n",
       "      <td>124.760000</td>\n",
       "      <td>139.820000</td>\n",
       "      <td>0.001</td>\n",
       "      <td>False</td>\n",
       "      <td>...</td>\n",
       "      <td>6238.0</td>\n",
       "      <td>15074.0</td>\n",
       "      <td>219.0</td>\n",
       "      <td>6991.0</td>\n",
       "      <td>1612203</td>\n",
       "      <td>21461</td>\n",
       "      <td>503854</td>\n",
       "      <td>b80c6195-ae11-4980-81a2-0b6af863abd3</td>\n",
       "      <td>322103542.0</td>\n",
       "      <td>Garantía del vendedor: 6 meses</td>\n",
       "    </tr>\n",
       "  </tbody>\n",
       "</table>\n",
       "<p>5 rows × 56 columns</p>\n",
       "</div>"
      ],
      "text/plain": [
       "   accepts_mercadopago  available_quantity  avg_gmv_item_domain_30days  \\\n",
       "0                 True                   6                  280.245759   \n",
       "1                 True                  44                  114.704700   \n",
       "2                 True                 163                   69.938155   \n",
       "3                 True               99980                   61.344055   \n",
       "4                 True                3741                  275.396775   \n",
       "\n",
       "   avg_gmv_item_sel  avg_gmv_seller_bday  avg_qty_orders_item_domain_30days  \\\n",
       "0        508.898157         19880.954667                           3.340348   \n",
       "1        200.589045          2239.911000                           4.387991   \n",
       "2        120.521127          4917.262000                           2.836291   \n",
       "3         43.361379           335.328000                           5.504259   \n",
       "4       5019.725800          8366.209667                           3.506554   \n",
       "\n",
       "   avg_qty_orders_item_sel_30days  avg_si_item_sel_30day  benefit  boosted  \\\n",
       "0                        7.337031               8.120307    0.001    False   \n",
       "1                        2.588060               3.023881    0.001    False   \n",
       "2                        4.301471               7.982026    0.001    False   \n",
       "3                        5.172414              12.599138    0.001    False   \n",
       "4                      124.760000             139.820000    0.001    False   \n",
       "\n",
       "   ... total_orders_sel_30days  total_si_domain_30days total_si_item_30days  \\\n",
       "0  ...                  8599.0                 18979.0                120.0   \n",
       "1  ...                   867.0                  5279.0                  4.0   \n",
       "2  ...                  5265.0                 16769.0                 90.0   \n",
       "3  ...                  1200.0                  8458.0                 18.0   \n",
       "4  ...                  6238.0                 15074.0                219.0   \n",
       "\n",
       "  total_si_sel_30days total_visits_domain total_visits_item  \\\n",
       "0              9517.0             1919367             19627   \n",
       "1              1013.0              336447               243   \n",
       "2              9770.0              293809              1514   \n",
       "3              2923.0               98151               207   \n",
       "4              6991.0             1612203             21461   \n",
       "\n",
       "   total_visits_seller                                   uid      user_id  \\\n",
       "0               375891  7a81b3dc-0f1d-47b9-9ebe-6b080f0f9a78   43543000.0   \n",
       "1               202158  ede61a11-5ef8-4626-86d0-2040abcb15d3          NaN   \n",
       "2               134501  37695e18-617e-4977-9d8d-25b963bcbfda  158491483.0   \n",
       "3                81713  6177b855-73f4-454b-92a6-84ab2870ba56  195821718.0   \n",
       "4               503854  b80c6195-ae11-4980-81a2-0b6af863abd3  322103542.0   \n",
       "\n",
       "                           warranty  \n",
       "0  GARANTIA DEL FABRICANTE 12 MESES  \n",
       "1                               NaN  \n",
       "2    Garantía del vendedor: 15 días  \n",
       "3   Garantía del vendedor: 180 días  \n",
       "4    Garantía del vendedor: 6 meses  \n",
       "\n",
       "[5 rows x 56 columns]"
      ]
     },
     "execution_count": 4,
     "metadata": {},
     "output_type": "execute_result"
    }
   ],
   "source": [
    "validation_df = pd.read_csv('csv/_validation_2020_09_13.csv', low_memory=False)\n",
    "print('{0:,} registros a las {1}'.format(len(validation_df), datetime.now()))\n",
    "validation_df.head()"
   ]
  },
  {
   "cell_type": "markdown",
   "metadata": {},
   "source": [
    "### Test set"
   ]
  },
  {
   "cell_type": "code",
   "execution_count": 5,
   "metadata": {},
   "outputs": [
    {
     "name": "stdout",
     "output_type": "stream",
     "text": [
      "19,211 registros a las 2020-09-29 22:06:39.541352\n"
     ]
    },
    {
     "data": {
      "text/html": [
       "<div>\n",
       "<style scoped>\n",
       "    .dataframe tbody tr th:only-of-type {\n",
       "        vertical-align: middle;\n",
       "    }\n",
       "\n",
       "    .dataframe tbody tr th {\n",
       "        vertical-align: top;\n",
       "    }\n",
       "\n",
       "    .dataframe thead th {\n",
       "        text-align: right;\n",
       "    }\n",
       "</style>\n",
       "<table border=\"1\" class=\"dataframe\">\n",
       "  <thead>\n",
       "    <tr style=\"text-align: right;\">\n",
       "      <th></th>\n",
       "      <th>accepts_mercadopago</th>\n",
       "      <th>available_quantity</th>\n",
       "      <th>avg_gmv_item_domain_30days</th>\n",
       "      <th>avg_gmv_item_sel</th>\n",
       "      <th>avg_gmv_seller_bday</th>\n",
       "      <th>avg_qty_orders_item_domain_30days</th>\n",
       "      <th>avg_qty_orders_item_sel_30days</th>\n",
       "      <th>avg_si_item_sel_30day</th>\n",
       "      <th>benefit</th>\n",
       "      <th>boosted</th>\n",
       "      <th>...</th>\n",
       "      <th>total_si_domain_30days</th>\n",
       "      <th>total_si_item_30days</th>\n",
       "      <th>total_si_sel_30days</th>\n",
       "      <th>total_visits_domain</th>\n",
       "      <th>total_visits_item</th>\n",
       "      <th>total_visits_seller</th>\n",
       "      <th>uid</th>\n",
       "      <th>user_id</th>\n",
       "      <th>warranty</th>\n",
       "      <th>ROW_ID</th>\n",
       "    </tr>\n",
       "  </thead>\n",
       "  <tbody>\n",
       "    <tr>\n",
       "      <th>0</th>\n",
       "      <td>True</td>\n",
       "      <td>4</td>\n",
       "      <td>98.426510</td>\n",
       "      <td>91.979648</td>\n",
       "      <td>3657.724000</td>\n",
       "      <td>3.589443</td>\n",
       "      <td>3.461023</td>\n",
       "      <td>4.988265</td>\n",
       "      <td>0.001</td>\n",
       "      <td>False</td>\n",
       "      <td>...</td>\n",
       "      <td>1364.0</td>\n",
       "      <td>18.0</td>\n",
       "      <td>5951.0</td>\n",
       "      <td>40954</td>\n",
       "      <td>300</td>\n",
       "      <td>100477</td>\n",
       "      <td>703f4bd1-cc3e-4102-8cfa-fe3cdd15ebb7</td>\n",
       "      <td>233223201.0</td>\n",
       "      <td>Garantia de fabrica</td>\n",
       "      <td>0</td>\n",
       "    </tr>\n",
       "    <tr>\n",
       "      <th>1</th>\n",
       "      <td>True</td>\n",
       "      <td>12</td>\n",
       "      <td>242.485208</td>\n",
       "      <td>821.376944</td>\n",
       "      <td>985.652333</td>\n",
       "      <td>3.215580</td>\n",
       "      <td>26.222222</td>\n",
       "      <td>28.388889</td>\n",
       "      <td>0.001</td>\n",
       "      <td>False</td>\n",
       "      <td>...</td>\n",
       "      <td>3724.0</td>\n",
       "      <td>41.0</td>\n",
       "      <td>1022.0</td>\n",
       "      <td>135133</td>\n",
       "      <td>926</td>\n",
       "      <td>44033</td>\n",
       "      <td>d714e65e-5447-4f7d-9a4e-aaa57efa6107</td>\n",
       "      <td>337881137.0</td>\n",
       "      <td>NaN</td>\n",
       "      <td>1</td>\n",
       "    </tr>\n",
       "    <tr>\n",
       "      <th>2</th>\n",
       "      <td>True</td>\n",
       "      <td>5</td>\n",
       "      <td>2450.533424</td>\n",
       "      <td>1365.504354</td>\n",
       "      <td>33454.856667</td>\n",
       "      <td>7.097276</td>\n",
       "      <td>14.646259</td>\n",
       "      <td>15.217687</td>\n",
       "      <td>0.001</td>\n",
       "      <td>False</td>\n",
       "      <td>...</td>\n",
       "      <td>1839.0</td>\n",
       "      <td>71.0</td>\n",
       "      <td>11185.0</td>\n",
       "      <td>204788</td>\n",
       "      <td>8457</td>\n",
       "      <td>716157</td>\n",
       "      <td>299cb623-b71c-4f9d-b792-48d5744f0449</td>\n",
       "      <td>86609353.0</td>\n",
       "      <td>Garantía de fábrica: 12 meses</td>\n",
       "      <td>2</td>\n",
       "    </tr>\n",
       "    <tr>\n",
       "      <th>3</th>\n",
       "      <td>True</td>\n",
       "      <td>9052</td>\n",
       "      <td>157.735448</td>\n",
       "      <td>78.692131</td>\n",
       "      <td>160.007333</td>\n",
       "      <td>4.927390</td>\n",
       "      <td>2.983607</td>\n",
       "      <td>3.524590</td>\n",
       "      <td>0.001</td>\n",
       "      <td>False</td>\n",
       "      <td>...</td>\n",
       "      <td>85528.0</td>\n",
       "      <td>44.0</td>\n",
       "      <td>215.0</td>\n",
       "      <td>1404477</td>\n",
       "      <td>1907</td>\n",
       "      <td>6580</td>\n",
       "      <td>f2060244-f0da-43db-91b7-4c1bb5f99e67</td>\n",
       "      <td>430797570.0</td>\n",
       "      <td>Sin garantía</td>\n",
       "      <td>3</td>\n",
       "    </tr>\n",
       "    <tr>\n",
       "      <th>4</th>\n",
       "      <td>True</td>\n",
       "      <td>37</td>\n",
       "      <td>116.891454</td>\n",
       "      <td>163.245653</td>\n",
       "      <td>4043.050667</td>\n",
       "      <td>2.937837</td>\n",
       "      <td>7.257066</td>\n",
       "      <td>19.771198</td>\n",
       "      <td>0.001</td>\n",
       "      <td>False</td>\n",
       "      <td>...</td>\n",
       "      <td>61466.0</td>\n",
       "      <td>274.0</td>\n",
       "      <td>14690.0</td>\n",
       "      <td>1466424</td>\n",
       "      <td>2633</td>\n",
       "      <td>215184</td>\n",
       "      <td>d7f3b7f4-a9fa-4bd8-a600-3f2714480779</td>\n",
       "      <td>6566243.0</td>\n",
       "      <td>Garantía de fábrica: 6 meses</td>\n",
       "      <td>4</td>\n",
       "    </tr>\n",
       "  </tbody>\n",
       "</table>\n",
       "<p>5 rows × 56 columns</p>\n",
       "</div>"
      ],
      "text/plain": [
       "   accepts_mercadopago  available_quantity  avg_gmv_item_domain_30days  \\\n",
       "0                 True                   4                   98.426510   \n",
       "1                 True                  12                  242.485208   \n",
       "2                 True                   5                 2450.533424   \n",
       "3                 True                9052                  157.735448   \n",
       "4                 True                  37                  116.891454   \n",
       "\n",
       "   avg_gmv_item_sel  avg_gmv_seller_bday  avg_qty_orders_item_domain_30days  \\\n",
       "0         91.979648          3657.724000                           3.589443   \n",
       "1        821.376944           985.652333                           3.215580   \n",
       "2       1365.504354         33454.856667                           7.097276   \n",
       "3         78.692131           160.007333                           4.927390   \n",
       "4        163.245653          4043.050667                           2.937837   \n",
       "\n",
       "   avg_qty_orders_item_sel_30days  avg_si_item_sel_30day  benefit  boosted  \\\n",
       "0                        3.461023               4.988265    0.001    False   \n",
       "1                       26.222222              28.388889    0.001    False   \n",
       "2                       14.646259              15.217687    0.001    False   \n",
       "3                        2.983607               3.524590    0.001    False   \n",
       "4                        7.257066              19.771198    0.001    False   \n",
       "\n",
       "   ... total_si_domain_30days total_si_item_30days total_si_sel_30days  \\\n",
       "0  ...                 1364.0                 18.0              5951.0   \n",
       "1  ...                 3724.0                 41.0              1022.0   \n",
       "2  ...                 1839.0                 71.0             11185.0   \n",
       "3  ...                85528.0                 44.0               215.0   \n",
       "4  ...                61466.0                274.0             14690.0   \n",
       "\n",
       "  total_visits_domain total_visits_item  total_visits_seller  \\\n",
       "0               40954               300               100477   \n",
       "1              135133               926                44033   \n",
       "2              204788              8457               716157   \n",
       "3             1404477              1907                 6580   \n",
       "4             1466424              2633               215184   \n",
       "\n",
       "                                    uid      user_id  \\\n",
       "0  703f4bd1-cc3e-4102-8cfa-fe3cdd15ebb7  233223201.0   \n",
       "1  d714e65e-5447-4f7d-9a4e-aaa57efa6107  337881137.0   \n",
       "2  299cb623-b71c-4f9d-b792-48d5744f0449   86609353.0   \n",
       "3  f2060244-f0da-43db-91b7-4c1bb5f99e67  430797570.0   \n",
       "4  d7f3b7f4-a9fa-4bd8-a600-3f2714480779    6566243.0   \n",
       "\n",
       "                        warranty ROW_ID  \n",
       "0            Garantia de fabrica      0  \n",
       "1                            NaN      1  \n",
       "2  Garantía de fábrica: 12 meses      2  \n",
       "3                   Sin garantía      3  \n",
       "4   Garantía de fábrica: 6 meses      4  \n",
       "\n",
       "[5 rows x 56 columns]"
      ]
     },
     "execution_count": 5,
     "metadata": {},
     "output_type": "execute_result"
    }
   ],
   "source": [
    "test_df = pd.read_csv('csv/test.csv', sep=',', low_memory=False)\n",
    "print('{0:,} registros a las {1}'.format(len(test_df), datetime.now()))\n",
    "test_df.head()"
   ]
  },
  {
   "cell_type": "markdown",
   "metadata": {},
   "source": [
    "#### To dictionaries"
   ]
  },
  {
   "cell_type": "code",
   "execution_count": 6,
   "metadata": {},
   "outputs": [],
   "source": [
    "X_train = train_df.to_dict('records')\n",
    "X_validation = validation_df.to_dict('records')\n",
    "X_test = test_df.to_dict('records')\n",
    "\n",
    "Y_train = train_df['conversion'].values\n",
    "Y_validation = validation_df['conversion'].values"
   ]
  },
  {
   "cell_type": "code",
   "execution_count": 7,
   "metadata": {},
   "outputs": [
    {
     "data": {
      "text/plain": [
       "'nan'"
      ]
     },
     "execution_count": 7,
     "metadata": {},
     "output_type": "execute_result"
    }
   ],
   "source": [
    "str(np.nan)"
   ]
  },
  {
   "cell_type": "markdown",
   "metadata": {},
   "source": [
    "### Transformations"
   ]
  },
  {
   "cell_type": "markdown",
   "metadata": {},
   "source": [
    "#### Functions"
   ]
  },
  {
   "cell_type": "code",
   "execution_count": 8,
   "metadata": {},
   "outputs": [],
   "source": [
    "def get_day_of_week(feature:np.ndarray) -> np.ndarray:\n",
    "    dates = [datetime.strptime(str_date[:10], '%Y-%m-%d') for str_date in feature]\n",
    "    return np.array([dt.weekday() for dt in dates])\n",
    "\n",
    "def is_weekend(feature:np.ndarray) -> np.ndarray:\n",
    "    dates = [datetime.strptime(str_date[:10], '%Y-%m-%d') for str_date in feature]\n",
    "    return np.array([False if dt.weekday() >= 0 and dt.weekday() <= 4 else True for dt in dates])\n",
    "\n",
    "def get_hour(feature:np.ndarray) -> np.ndarray:\n",
    "    return np.array([int(str_date[11:13]) for str_date in feature])\n",
    "\n",
    "def has_tag(feature:np.ndarray, tag:str) -> np.ndarray:\n",
    "    return np.array([True if tag in item else False for item in feature])\n",
    "\n",
    "def has_value(feature:np.ndarray) -> np.ndarray:\n",
    "    return np.array([True if item != 'nan' else False for item in feature])\n",
    "\n",
    "def has_warranty(feature:np.ndarray) -> np.ndarray:\n",
    "    return np.array([True if 'SIN GARAN' in item.upper() else False for item in feature])\n",
    "\n",
    "def transform_tags(feature:np.ndarray) -> np.ndarray:\n",
    "    tms_1 = [value[1:-1] for value in feature]\n",
    "    tms_2 = [sorted(value.split(', ')) for value in tms_1]\n",
    "    return np.array([' '.join(value) for value in tms_2])"
   ]
  },
  {
   "cell_type": "code",
   "execution_count": 9,
   "metadata": {},
   "outputs": [],
   "source": [
    "dataset_tranformer = DatasetTransformer([\n",
    "    ('free_shipping', CategoricalTransformer('free_shipping')),\n",
    "    ('is_pdp', CategoricalTransformer('is_pdp')),\n",
    "    ('category_id', CategoricalTransformer('category_id', handle_unknown=True)),\n",
    "    ('domain_id', CategoricalTransformer('domain_id', handle_unknown=True)),\n",
    "    ('product_id', CategoricalTransformer('product_id', handle_unknown=True)),\n",
    "    ('item_id', CategoricalTransformer('item_id', handle_unknown=True)),\n",
    "    ('listing_type_id', CategoricalTransformer('listing_type_id')),\n",
    "    ('logistic_type', CategoricalTransformer('logistic_type')),\n",
    "    ('platform', CategoricalTransformer('platform')),\n",
    "    ('is_loggued_user', CategoricalTransformer(feature='user_id', pre_tms=[FT(has_value)])),\n",
    "    ('has_main_picture', CategoricalTransformer(feature='main_picture', pre_tms=[FT(has_value)])),\n",
    "    ('offset', CategoricalTransformer('offset', handle_unknown=True)),\n",
    "    ('print_position', CategoricalTransformer('print_position', handle_unknown=True)),\n",
    "    ('has_warranty', CategoricalTransformer(feature='warranty', pre_tms=[FT(has_warranty)])),\n",
    "    \n",
    "    #('tags', CategoricalTransformer(feature='tags', pre_tms=[FT(transform_tags)], handle_unknown=True)),\n",
    "    # Tag features\n",
    "    ('has_good_quality_picture', CategoricalTransformer(feature='tags', pre_tms=[FT(has_tag, kw_args={'tag':'good_quality_picture'})])),\n",
    "    ('has_good_quality_thumbnail', CategoricalTransformer(feature='tags', pre_tms=[FT(has_tag, kw_args={'tag':'good_quality_thumbnail'})])),\n",
    "    ('has_brand_verified', CategoricalTransformer(feature='tags', pre_tms=[FT(has_tag, kw_args={'tag':'brand_verified'})])),\n",
    "    ('is_ahora_12', CategoricalTransformer(feature='tags', pre_tms=[FT(has_tag, kw_args={'tag':'ahora-12'})])),\n",
    "    ('is_deal_of_the_day', CategoricalTransformer(feature='tags', pre_tms=[FT(has_tag, kw_args={'tag':'deal_of_the_day'})])),\n",
    "    ('has_loyalty_discount_eligible', CategoricalTransformer(feature='tags', pre_tms=[FT(has_tag, kw_args={'tag':'loyalty_discount_eligible'})])),\n",
    "    ('has_today_promotion', CategoricalTransformer(feature='tags', pre_tms=[FT(has_tag, kw_args={'tag':'today_promotion'})])),\n",
    "    ('has_infractions', CategoricalTransformer(feature='tags', pre_tms=[FT(has_tag, kw_args={'tag':'under_infractions'})])), \n",
    "    \n",
    "    # Time features\n",
    "    ('day_of_week', CategoricalTransformer(feature='print_server_timestamp', pre_tms=[FT(get_day_of_week)])),\n",
    "    ('hour', CategoricalTransformer(feature='print_server_timestamp', pre_tms=[FT(get_hour)])),\n",
    "    ('is_weekend', CategoricalTransformer(feature='print_server_timestamp', pre_tms=[FT(is_weekend)])),\n",
    "    \n",
    "    # Numerical features\n",
    "    ('price', NumericalTransformer('price')),\n",
    "    ('available_quantity', NumericalTransformer('available_quantity')),\n",
    "    ('health', NumericalTransformer('health')),\n",
    "    ('sold_quantity', NumericalTransformer('sold_quantity')),\n",
    "    ('qty_items_seller', NumericalTransformer('qty_items_sel')),\n",
    "    ('total_visits_seller', NumericalTransformer('total_visits_seller')),\n",
    "    ('total_visits_item', NumericalTransformer('total_visits_item')),\n",
    "    ('total_gmv_item_30days', NumericalTransformer('total_gmv_item_30days', imputer=SimpleImputer(strategy='constant', fill_value=0))),\n",
    "    ('total_orders_item_30days', NumericalTransformer('total_orders_item_30days', imputer=SimpleImputer(strategy='constant', fill_value=0)))\n",
    "])\n",
    "\n",
    "target_transformer = CategoricalTargetTransformer('conversion')"
   ]
  },
  {
   "cell_type": "code",
   "execution_count": 10,
   "metadata": {},
   "outputs": [
    {
     "name": "stdout",
     "output_type": "stream",
     "text": [
      "CPU times: user 9.41 s, sys: 680 ms, total: 10.1 s\n",
      "Wall time: 10.1 s\n"
     ]
    }
   ],
   "source": [
    "%%time\n",
    "numerical_features_train, categorical_features_train = dataset_tranformer.fit_transform(X_train)\n",
    "target_train = target_transformer.fit_transform(Y_train)"
   ]
  },
  {
   "cell_type": "code",
   "execution_count": 11,
   "metadata": {},
   "outputs": [
    {
     "name": "stdout",
     "output_type": "stream",
     "text": [
      "CPU times: user 29.8 s, sys: 232 ms, total: 30.1 s\n",
      "Wall time: 30 s\n"
     ]
    }
   ],
   "source": [
    "%%time\n",
    "numerical_features_validation, categorical_features_validation = dataset_tranformer.transform(X_validation)\n",
    "target_validation = target_transformer.transform(Y_validation)"
   ]
  },
  {
   "cell_type": "code",
   "execution_count": 12,
   "metadata": {},
   "outputs": [
    {
     "name": "stdout",
     "output_type": "stream",
     "text": [
      "CPU times: user 16.8 s, sys: 186 ms, total: 17 s\n",
      "Wall time: 17.2 s\n"
     ]
    }
   ],
   "source": [
    "%%time\n",
    "numerical_features_test, categorical_features_test = dataset_tranformer.transform(X_test)"
   ]
  },
  {
   "cell_type": "markdown",
   "metadata": {},
   "source": [
    "### Datasets and Dataloaders"
   ]
  },
  {
   "cell_type": "code",
   "execution_count": 13,
   "metadata": {},
   "outputs": [],
   "source": [
    "train_ds = TabularDataset(numerical_features_train, categorical_features_train, target_train)\n",
    "validation_ds = TabularDataset(numerical_features_validation, categorical_features_validation, target_validation)\n",
    "test_ds = TabularDataset(numerical_features_test, categorical_features_test)"
   ]
  },
  {
   "cell_type": "code",
   "execution_count": 14,
   "metadata": {},
   "outputs": [],
   "source": [
    "train_dl = DataLoader(train_ds, batch_size=1024, shuffle=True)\n",
    "\n",
    "train_dl_for_prediction = DataLoader(train_ds, batch_size=1024, shuffle=False)\n",
    "validation_dl = DataLoader(validation_ds, batch_size=1024, shuffle=False)\n",
    "test_dl = DataLoader(test_ds, batch_size=1024, shuffle=False)"
   ]
  },
  {
   "cell_type": "code",
   "execution_count": 15,
   "metadata": {},
   "outputs": [
    {
     "data": {
      "text/plain": [
       "142"
      ]
     },
     "execution_count": 15,
     "metadata": {},
     "output_type": "execute_result"
    }
   ],
   "source": [
    "len(train_dl)"
   ]
  },
  {
   "cell_type": "markdown",
   "metadata": {},
   "source": [
    "### Training the network"
   ]
  },
  {
   "cell_type": "code",
   "execution_count": 16,
   "metadata": {},
   "outputs": [],
   "source": [
    "embedding_dims = dataset_tranformer.get_embeddings_size()\n",
    "numerical_features_quantity, categorical_features_quantity = dataset_tranformer.get_features_quantity()"
   ]
  },
  {
   "cell_type": "code",
   "execution_count": 17,
   "metadata": {},
   "outputs": [],
   "source": [
    "model = FullyConnectedNetworkClassifier(\n",
    "    q_numerical_features = numerical_features_quantity, \n",
    "    q_categorical_features = categorical_features_quantity,\n",
    "    hidden_layers_size=[512,256,128],\n",
    "    embedding_dims=embedding_dims\n",
    ")\n",
    "optimizer = Adam(model.parameters(), lr=.08, weight_decay=0.001)\n",
    "lr_scheduler = ExponentialLR(optimizer=optimizer, gamma=0.98)\n",
    "bceloss_fn = nn.BCELoss(reduction='mean')\n",
    "epochs=3"
   ]
  },
  {
   "cell_type": "code",
   "execution_count": 18,
   "metadata": {},
   "outputs": [
    {
     "data": {
      "text/plain": [
       "FullyConnectedNetworkClassifier(\n",
       "  (embeddings_layer): ModuleList(\n",
       "    (0): Embedding(2, 1)\n",
       "    (1): Embedding(3, 1)\n",
       "    (2): Embedding(2047, 50)\n",
       "    (3): Embedding(1587, 50)\n",
       "    (4): Embedding(3412, 50)\n",
       "    (5): Embedding(19942, 50)\n",
       "    (6): Embedding(2, 1)\n",
       "    (7): Embedding(7, 3)\n",
       "    (8): Embedding(4, 2)\n",
       "    (9): Embedding(2, 1)\n",
       "    (10): Embedding(2, 1)\n",
       "    (11): Embedding(207, 50)\n",
       "    (12): Embedding(9961, 50)\n",
       "    (13): Embedding(2, 1)\n",
       "    (14): Embedding(2, 1)\n",
       "    (15): Embedding(2, 1)\n",
       "    (16): Embedding(2, 1)\n",
       "    (17): Embedding(2, 1)\n",
       "    (18): Embedding(2, 1)\n",
       "    (19): Embedding(2, 1)\n",
       "    (20): Embedding(2, 1)\n",
       "    (21): Embedding(2, 1)\n",
       "    (22): Embedding(7, 3)\n",
       "    (23): Embedding(24, 12)\n",
       "    (24): Embedding(2, 1)\n",
       "  )\n",
       "  (embedding_dropout): Dropout(p=0.6, inplace=False)\n",
       "  (layer_0): Sequential(\n",
       "    (0): Linear(in_features=344, out_features=512, bias=True)\n",
       "    (1): ReLU()\n",
       "    (2): Dropout(p=0.3, inplace=False)\n",
       "    (3): BatchNorm1d(512, eps=1e-05, momentum=0.1, affine=True, track_running_stats=True)\n",
       "  )\n",
       "  (layer_1): Sequential(\n",
       "    (0): Linear(in_features=512, out_features=256, bias=True)\n",
       "    (1): ReLU()\n",
       "    (2): Dropout(p=0.3, inplace=False)\n",
       "    (3): BatchNorm1d(256, eps=1e-05, momentum=0.1, affine=True, track_running_stats=True)\n",
       "  )\n",
       "  (layer_2): Sequential(\n",
       "    (0): Linear(in_features=256, out_features=128, bias=True)\n",
       "    (1): ReLU()\n",
       "    (2): Dropout(p=0.3, inplace=False)\n",
       "    (3): BatchNorm1d(128, eps=1e-05, momentum=0.1, affine=True, track_running_stats=True)\n",
       "  )\n",
       "  (output): Sequential(\n",
       "    (0): Linear(in_features=128, out_features=1, bias=True)\n",
       "    (1): Sigmoid()\n",
       "  )\n",
       ")"
      ]
     },
     "execution_count": 18,
     "metadata": {},
     "output_type": "execute_result"
    }
   ],
   "source": [
    "model"
   ]
  },
  {
   "cell_type": "code",
   "execution_count": 19,
   "metadata": {},
   "outputs": [
    {
     "name": "stdout",
     "output_type": "stream",
     "text": [
      "CPU times: user 2min 45s, sys: 6.74 s, total: 2min 52s\n",
      "Wall time: 57.3 s\n"
     ]
    }
   ],
   "source": [
    "%%time\n",
    "losses = model.fit(train_dl=train_dl, epochs=epochs, loss_fn=bceloss_fn, opt=optimizer, scheduler=lr_scheduler)"
   ]
  },
  {
   "cell_type": "code",
   "execution_count": 20,
   "metadata": {},
   "outputs": [
    {
     "data": {
      "text/plain": [
       "[<matplotlib.lines.Line2D at 0x15a301f40>]"
      ]
     },
     "execution_count": 20,
     "metadata": {},
     "output_type": "execute_result"
    },
    {
     "data": {
      "image/png": "[encoded data removed]",
      "text/plain": [
       "<Figure size 432x288 with 1 Axes>"
      ]
     },
     "metadata": {
      "needs_background": "light"
     },
     "output_type": "display_data"
    }
   ],
   "source": [
    "plt.plot(range(len(losses)), losses)"
   ]
  },
  {
   "cell_type": "markdown",
   "metadata": {},
   "source": [
    "### Validating the net"
   ]
  },
  {
   "cell_type": "code",
   "execution_count": 21,
   "metadata": {},
   "outputs": [],
   "source": [
    "x_numerical_train, x_categorical_train, y_train = train_ds.reverse_transform()"
   ]
  },
  {
   "cell_type": "code",
   "execution_count": 22,
   "metadata": {},
   "outputs": [],
   "source": [
    "x_numerical_val, x_categorical_val, y_val = validation_ds.reverse_transform()"
   ]
  },
  {
   "cell_type": "code",
   "execution_count": 23,
   "metadata": {},
   "outputs": [],
   "source": [
    "x_numerical_test, x_categorical_test, _ = test_ds.reverse_transform()"
   ]
  },
  {
   "cell_type": "code",
   "execution_count": 24,
   "metadata": {},
   "outputs": [],
   "source": [
    "y_train_pred = model.predict(train_dl_for_prediction).numpy().squeeze()"
   ]
  },
  {
   "cell_type": "code",
   "execution_count": 25,
   "metadata": {},
   "outputs": [],
   "source": [
    "y_val_pred = model.predict(validation_dl).numpy().squeeze()"
   ]
  },
  {
   "cell_type": "code",
   "execution_count": 26,
   "metadata": {},
   "outputs": [],
   "source": [
    "y_test_pred = model.predict(test_dl).numpy().squeeze()"
   ]
  },
  {
   "cell_type": "markdown",
   "metadata": {},
   "source": [
    "#### Training"
   ]
  },
  {
   "cell_type": "code",
   "execution_count": 27,
   "metadata": {},
   "outputs": [
    {
     "name": "stdout",
     "output_type": "stream",
     "text": [
      "Auc Roc in training: 0.9121242562094962\n"
     ]
    }
   ],
   "source": [
    "aucroc_train = roc_auc_score(y_train, y_train_pred)\n",
    "print(f'Auc Roc in training: {aucroc_train}')"
   ]
  },
  {
   "cell_type": "markdown",
   "metadata": {},
   "source": [
    "#### Validation"
   ]
  },
  {
   "cell_type": "code",
   "execution_count": 28,
   "metadata": {},
   "outputs": [
    {
     "name": "stdout",
     "output_type": "stream",
     "text": [
      "Auc Roc in test: 0.8771226035243797\n"
     ]
    }
   ],
   "source": [
    "aucroc_val = roc_auc_score(y_val, y_val_pred)\n",
    "print(f'Auc Roc in test: {aucroc_val}')"
   ]
  },
  {
   "cell_type": "markdown",
   "metadata": {},
   "source": [
    "#### Testing submission"
   ]
  },
  {
   "cell_type": "code",
   "execution_count": 29,
   "metadata": {},
   "outputs": [
    {
     "data": {
      "text/html": [
       "<div>\n",
       "<style scoped>\n",
       "    .dataframe tbody tr th:only-of-type {\n",
       "        vertical-align: middle;\n",
       "    }\n",
       "\n",
       "    .dataframe tbody tr th {\n",
       "        vertical-align: top;\n",
       "    }\n",
       "\n",
       "    .dataframe thead th {\n",
       "        text-align: right;\n",
       "    }\n",
       "</style>\n",
       "<table border=\"1\" class=\"dataframe\">\n",
       "  <thead>\n",
       "    <tr style=\"text-align: right;\">\n",
       "      <th></th>\n",
       "      <th>ROW_ID</th>\n",
       "      <th>conversion</th>\n",
       "    </tr>\n",
       "  </thead>\n",
       "  <tbody>\n",
       "    <tr>\n",
       "      <th>19206</th>\n",
       "      <td>19206</td>\n",
       "      <td>0.0546</td>\n",
       "    </tr>\n",
       "    <tr>\n",
       "      <th>19207</th>\n",
       "      <td>19207</td>\n",
       "      <td>0.0352</td>\n",
       "    </tr>\n",
       "    <tr>\n",
       "      <th>19208</th>\n",
       "      <td>19208</td>\n",
       "      <td>0.0031</td>\n",
       "    </tr>\n",
       "    <tr>\n",
       "      <th>19209</th>\n",
       "      <td>19209</td>\n",
       "      <td>0.0424</td>\n",
       "    </tr>\n",
       "    <tr>\n",
       "      <th>19210</th>\n",
       "      <td>19210</td>\n",
       "      <td>0.0030</td>\n",
       "    </tr>\n",
       "  </tbody>\n",
       "</table>\n",
       "</div>"
      ],
      "text/plain": [
       "       ROW_ID  conversion\n",
       "19206   19206      0.0546\n",
       "19207   19207      0.0352\n",
       "19208   19208      0.0031\n",
       "19209   19209      0.0424\n",
       "19210   19210      0.0030"
      ]
     },
     "execution_count": 29,
     "metadata": {},
     "output_type": "execute_result"
    }
   ],
   "source": [
    "submission = pd.DataFrame({\n",
    "    'conversion': y_test_pred\n",
    "}).reset_index().rename({'index':'ROW_ID'}, axis=1)\n",
    "submission['conversion'] = np.round(submission['conversion'], 4)\n",
    "submission.tail()"
   ]
  },
  {
   "cell_type": "code",
   "execution_count": 30,
   "metadata": {},
   "outputs": [],
   "source": [
    "submission.to_csv('submission_2020_09_22_002.csv.gz', compression='gzip', index=False)"
   ]
  }
 ],
 "metadata": {
  "kernelspec": {
   "display_name": "Python 3",
   "language": "python",
   "name": "python3"
  },
  "language_info": {
   "codemirror_mode": {
    "name": "ipython",
    "version": 3
   },
   "file_extension": ".py",
   "mimetype": "text/x-python",
   "name": "python",
   "nbconvert_exporter": "python",
   "pygments_lexer": "ipython3",
   "version": "3.8.5"
  }
 },
 "nbformat": 4,
 "nbformat_minor": 4
}
