{
 "cells": [
  {
   "cell_type": "code",
   "execution_count": 1,
   "metadata": {},
   "outputs": [],
   "source": [
    "import sys\n",
    "sys.path.append('.')\n",
    "\n",
    "import pandas as pd\n",
    "import numpy as np\n",
    "from datetime import datetime, timedelta\n",
    "\n",
    "import sklearn\n",
    "from sklearn.metrics import roc_auc_score, accuracy_score\n",
    "from sklearn.preprocessing import FunctionTransformer as FT\n",
    "\n",
    "from lib.Extractor import FeatureExtractor\n",
    "from lib.Models import FullyConnectedNetworkClassifier\n",
    "from lib.Datasets import TabularDataset\n",
    "from lib.Transformers import NumericalTransformer, CategoricalTransformer, DatasetTransformer\n",
    "\n",
    "%matplotlib inline\n",
    "import matplotlib.pyplot as plt\n",
    "\n",
    "import torch\n",
    "import torch.nn as nn\n",
    "from torch.optim import Adam\n",
    "from torch.optim.lr_scheduler import ExponentialLR\n",
    "from torch.utils.data import DataLoader"
   ]
  },
  {
   "cell_type": "code",
   "execution_count": 2,
   "metadata": {},
   "outputs": [
    {
     "name": "stdout",
     "output_type": "stream",
     "text": [
      "0.23.2\n",
      "1.19.1\n"
     ]
    },
    {
     "data": {
      "text/plain": [
       "(None, None)"
      ]
     },
     "execution_count": 2,
     "metadata": {},
     "output_type": "execute_result"
    }
   ],
   "source": [
    "print(sklearn.__version__), print(np.__version__)"
   ]
  },
  {
   "cell_type": "markdown",
   "metadata": {},
   "source": [
    "##### Reproducibility"
   ]
  },
  {
   "cell_type": "code",
   "execution_count": 3,
   "metadata": {},
   "outputs": [],
   "source": [
    "torch.manual_seed(0)\n",
    "np.random.seed(0)"
   ]
  },
  {
   "cell_type": "markdown",
   "metadata": {},
   "source": [
    "### Whole training set"
   ]
  },
  {
   "cell_type": "code",
   "execution_count": 4,
   "metadata": {},
   "outputs": [
    {
     "name": "stdout",
     "output_type": "stream",
     "text": [
      "180,761 registros a las 2020-09-10 10:49:17.327969\n"
     ]
    },
    {
     "data": {
      "text/html": [
       "<div>\n",
       "<style scoped>\n",
       "    .dataframe tbody tr th:only-of-type {\n",
       "        vertical-align: middle;\n",
       "    }\n",
       "\n",
       "    .dataframe tbody tr th {\n",
       "        vertical-align: top;\n",
       "    }\n",
       "\n",
       "    .dataframe thead th {\n",
       "        text-align: right;\n",
       "    }\n",
       "</style>\n",
       "<table border=\"1\" class=\"dataframe\">\n",
       "  <thead>\n",
       "    <tr style=\"text-align: right;\">\n",
       "      <th></th>\n",
       "      <th>accepts_mercadopago</th>\n",
       "      <th>available_quantity</th>\n",
       "      <th>avg_gmv_item_domain_30days</th>\n",
       "      <th>avg_gmv_item_sel</th>\n",
       "      <th>avg_gmv_seller_bday</th>\n",
       "      <th>avg_qty_orders_item_domain_30days</th>\n",
       "      <th>avg_qty_orders_item_sel_30days</th>\n",
       "      <th>avg_si_item_sel_30day</th>\n",
       "      <th>benefit</th>\n",
       "      <th>boosted</th>\n",
       "      <th>...</th>\n",
       "      <th>total_orders_sel_30days</th>\n",
       "      <th>total_si_domain_30days</th>\n",
       "      <th>total_si_item_30days</th>\n",
       "      <th>total_si_sel_30days</th>\n",
       "      <th>total_visits_domain</th>\n",
       "      <th>total_visits_item</th>\n",
       "      <th>total_visits_seller</th>\n",
       "      <th>uid</th>\n",
       "      <th>user_id</th>\n",
       "      <th>warranty</th>\n",
       "    </tr>\n",
       "  </thead>\n",
       "  <tbody>\n",
       "    <tr>\n",
       "      <th>0</th>\n",
       "      <td>True</td>\n",
       "      <td>59</td>\n",
       "      <td>938.031376</td>\n",
       "      <td>2153.933091</td>\n",
       "      <td>135195.200333</td>\n",
       "      <td>3.430563</td>\n",
       "      <td>12.407860</td>\n",
       "      <td>13.691450</td>\n",
       "      <td>0.001</td>\n",
       "      <td>False</td>\n",
       "      <td>...</td>\n",
       "      <td>23364.0</td>\n",
       "      <td>56717.0</td>\n",
       "      <td>17.0</td>\n",
       "      <td>25781.0</td>\n",
       "      <td>7993972</td>\n",
       "      <td>543</td>\n",
       "      <td>854813</td>\n",
       "      <td>cb5bfac7-229a-4e3e-96dd-80b2ad3972c1</td>\n",
       "      <td>NaN</td>\n",
       "      <td>Garantía de fábrica: 12 meses</td>\n",
       "    </tr>\n",
       "    <tr>\n",
       "      <th>1</th>\n",
       "      <td>True</td>\n",
       "      <td>37</td>\n",
       "      <td>159.826531</td>\n",
       "      <td>240.325973</td>\n",
       "      <td>19338.230000</td>\n",
       "      <td>3.142739</td>\n",
       "      <td>4.429577</td>\n",
       "      <td>4.511599</td>\n",
       "      <td>0.001</td>\n",
       "      <td>False</td>\n",
       "      <td>...</td>\n",
       "      <td>10693.0</td>\n",
       "      <td>81455.0</td>\n",
       "      <td>5.0</td>\n",
       "      <td>10891.0</td>\n",
       "      <td>7821316</td>\n",
       "      <td>1789</td>\n",
       "      <td>1422288</td>\n",
       "      <td>b0f9aa19-00d5-4afd-aa77-45be7c849562</td>\n",
       "      <td>NaN</td>\n",
       "      <td>NaN</td>\n",
       "    </tr>\n",
       "    <tr>\n",
       "      <th>2</th>\n",
       "      <td>True</td>\n",
       "      <td>9</td>\n",
       "      <td>67.635391</td>\n",
       "      <td>86.066296</td>\n",
       "      <td>154.919333</td>\n",
       "      <td>2.633771</td>\n",
       "      <td>2.592593</td>\n",
       "      <td>2.722222</td>\n",
       "      <td>0.001</td>\n",
       "      <td>False</td>\n",
       "      <td>...</td>\n",
       "      <td>140.0</td>\n",
       "      <td>16792.0</td>\n",
       "      <td>8.0</td>\n",
       "      <td>147.0</td>\n",
       "      <td>1303909</td>\n",
       "      <td>1473</td>\n",
       "      <td>17801</td>\n",
       "      <td>fd59890a-f2c2-4282-b2ee-c68f25e20697</td>\n",
       "      <td>151157147.0</td>\n",
       "      <td>NaN</td>\n",
       "    </tr>\n",
       "    <tr>\n",
       "      <th>3</th>\n",
       "      <td>True</td>\n",
       "      <td>12</td>\n",
       "      <td>92.085756</td>\n",
       "      <td>332.848400</td>\n",
       "      <td>554.747333</td>\n",
       "      <td>3.280069</td>\n",
       "      <td>12.620000</td>\n",
       "      <td>12.840000</td>\n",
       "      <td>0.001</td>\n",
       "      <td>False</td>\n",
       "      <td>...</td>\n",
       "      <td>631.0</td>\n",
       "      <td>1988.0</td>\n",
       "      <td>14.0</td>\n",
       "      <td>642.0</td>\n",
       "      <td>139419</td>\n",
       "      <td>7473</td>\n",
       "      <td>44336</td>\n",
       "      <td>72340acf-2a1c-4214-a604-132e0cb56939</td>\n",
       "      <td>NaN</td>\n",
       "      <td>Garantía de fábrica: 90 días</td>\n",
       "    </tr>\n",
       "    <tr>\n",
       "      <th>4</th>\n",
       "      <td>True</td>\n",
       "      <td>5</td>\n",
       "      <td>156.905222</td>\n",
       "      <td>955.997475</td>\n",
       "      <td>3154.791667</td>\n",
       "      <td>2.737876</td>\n",
       "      <td>3.666667</td>\n",
       "      <td>4.363636</td>\n",
       "      <td>0.001</td>\n",
       "      <td>False</td>\n",
       "      <td>...</td>\n",
       "      <td>363.0</td>\n",
       "      <td>8707.0</td>\n",
       "      <td>32.0</td>\n",
       "      <td>432.0</td>\n",
       "      <td>209373</td>\n",
       "      <td>416</td>\n",
       "      <td>46206</td>\n",
       "      <td>84da1314-814c-4d4f-be23-3de9ea1da4b6</td>\n",
       "      <td>NaN</td>\n",
       "      <td>Garantía del vendedor: 90 días</td>\n",
       "    </tr>\n",
       "  </tbody>\n",
       "</table>\n",
       "<p>5 rows × 56 columns</p>\n",
       "</div>"
      ],
      "text/plain": [
       "   accepts_mercadopago  available_quantity  avg_gmv_item_domain_30days  \\\n",
       "0                 True                  59                  938.031376   \n",
       "1                 True                  37                  159.826531   \n",
       "2                 True                   9                   67.635391   \n",
       "3                 True                  12                   92.085756   \n",
       "4                 True                   5                  156.905222   \n",
       "\n",
       "   avg_gmv_item_sel  avg_gmv_seller_bday  avg_qty_orders_item_domain_30days  \\\n",
       "0       2153.933091        135195.200333                           3.430563   \n",
       "1        240.325973         19338.230000                           3.142739   \n",
       "2         86.066296           154.919333                           2.633771   \n",
       "3        332.848400           554.747333                           3.280069   \n",
       "4        955.997475          3154.791667                           2.737876   \n",
       "\n",
       "   avg_qty_orders_item_sel_30days  avg_si_item_sel_30day  benefit  boosted  \\\n",
       "0                       12.407860              13.691450    0.001    False   \n",
       "1                        4.429577               4.511599    0.001    False   \n",
       "2                        2.592593               2.722222    0.001    False   \n",
       "3                       12.620000              12.840000    0.001    False   \n",
       "4                        3.666667               4.363636    0.001    False   \n",
       "\n",
       "   ... total_orders_sel_30days  total_si_domain_30days total_si_item_30days  \\\n",
       "0  ...                 23364.0                 56717.0                 17.0   \n",
       "1  ...                 10693.0                 81455.0                  5.0   \n",
       "2  ...                   140.0                 16792.0                  8.0   \n",
       "3  ...                   631.0                  1988.0                 14.0   \n",
       "4  ...                   363.0                  8707.0                 32.0   \n",
       "\n",
       "  total_si_sel_30days total_visits_domain total_visits_item  \\\n",
       "0             25781.0             7993972               543   \n",
       "1             10891.0             7821316              1789   \n",
       "2               147.0             1303909              1473   \n",
       "3               642.0              139419              7473   \n",
       "4               432.0              209373               416   \n",
       "\n",
       "   total_visits_seller                                   uid      user_id  \\\n",
       "0               854813  cb5bfac7-229a-4e3e-96dd-80b2ad3972c1          NaN   \n",
       "1              1422288  b0f9aa19-00d5-4afd-aa77-45be7c849562          NaN   \n",
       "2                17801  fd59890a-f2c2-4282-b2ee-c68f25e20697  151157147.0   \n",
       "3                44336  72340acf-2a1c-4214-a604-132e0cb56939          NaN   \n",
       "4                46206  84da1314-814c-4d4f-be23-3de9ea1da4b6          NaN   \n",
       "\n",
       "                         warranty  \n",
       "0   Garantía de fábrica: 12 meses  \n",
       "1                             NaN  \n",
       "2                             NaN  \n",
       "3    Garantía de fábrica: 90 días  \n",
       "4  Garantía del vendedor: 90 días  \n",
       "\n",
       "[5 rows x 56 columns]"
      ]
     },
     "execution_count": 4,
     "metadata": {},
     "output_type": "execute_result"
    }
   ],
   "source": [
    "whole_train_df = pd.read_csv('train.csv.gz', compression='gzip', header=0, sep=',', error_bad_lines=False, low_memory=False)\n",
    "print('{0:,} registros a las {1}'.format(len(whole_train_df), datetime.now()))\n",
    "whole_train_df.head()"
   ]
  },
  {
   "cell_type": "code",
   "execution_count": 5,
   "metadata": {},
   "outputs": [
    {
     "data": {
      "text/plain": [
       "False    164017\n",
       "True      16744\n",
       "Name: conversion, dtype: int64"
      ]
     },
     "execution_count": 5,
     "metadata": {},
     "output_type": "execute_result"
    }
   ],
   "source": [
    "whole_train_df['conversion'].value_counts()"
   ]
  },
  {
   "cell_type": "markdown",
   "metadata": {},
   "source": [
    "### Training and Validation set's split"
   ]
  },
  {
   "cell_type": "code",
   "execution_count": 6,
   "metadata": {},
   "outputs": [],
   "source": [
    "train_data = []\n",
    "validation_data = []\n",
    "\n",
    "for row in whole_train_df.itertuples(index=False):\n",
    "    if abs(hash(row.item_id)) % 10 < 2: \n",
    "        validation_data.append(row)\n",
    "    else:\n",
    "        train_data.append(row)\n",
    "        \n",
    "train_df = pd.DataFrame(data=train_data, columns=whole_train_df.columns)\n",
    "validation_df = pd.DataFrame(data=validation_data, columns=whole_train_df.columns)"
   ]
  },
  {
   "cell_type": "code",
   "execution_count": 7,
   "metadata": {},
   "outputs": [
    {
     "name": "stdout",
     "output_type": "stream",
     "text": [
      "142,721 registros a las 2020-09-10 10:49:21.620401\n"
     ]
    },
    {
     "data": {
      "text/html": [
       "<div>\n",
       "<style scoped>\n",
       "    .dataframe tbody tr th:only-of-type {\n",
       "        vertical-align: middle;\n",
       "    }\n",
       "\n",
       "    .dataframe tbody tr th {\n",
       "        vertical-align: top;\n",
       "    }\n",
       "\n",
       "    .dataframe thead th {\n",
       "        text-align: right;\n",
       "    }\n",
       "</style>\n",
       "<table border=\"1\" class=\"dataframe\">\n",
       "  <thead>\n",
       "    <tr style=\"text-align: right;\">\n",
       "      <th></th>\n",
       "      <th>accepts_mercadopago</th>\n",
       "      <th>available_quantity</th>\n",
       "      <th>avg_gmv_item_domain_30days</th>\n",
       "      <th>avg_gmv_item_sel</th>\n",
       "      <th>avg_gmv_seller_bday</th>\n",
       "      <th>avg_qty_orders_item_domain_30days</th>\n",
       "      <th>avg_qty_orders_item_sel_30days</th>\n",
       "      <th>avg_si_item_sel_30day</th>\n",
       "      <th>benefit</th>\n",
       "      <th>boosted</th>\n",
       "      <th>...</th>\n",
       "      <th>total_orders_sel_30days</th>\n",
       "      <th>total_si_domain_30days</th>\n",
       "      <th>total_si_item_30days</th>\n",
       "      <th>total_si_sel_30days</th>\n",
       "      <th>total_visits_domain</th>\n",
       "      <th>total_visits_item</th>\n",
       "      <th>total_visits_seller</th>\n",
       "      <th>uid</th>\n",
       "      <th>user_id</th>\n",
       "      <th>warranty</th>\n",
       "    </tr>\n",
       "  </thead>\n",
       "  <tbody>\n",
       "    <tr>\n",
       "      <th>0</th>\n",
       "      <td>True</td>\n",
       "      <td>59</td>\n",
       "      <td>938.031376</td>\n",
       "      <td>2153.933091</td>\n",
       "      <td>135195.200333</td>\n",
       "      <td>3.430563</td>\n",
       "      <td>12.407860</td>\n",
       "      <td>13.691450</td>\n",
       "      <td>0.001</td>\n",
       "      <td>False</td>\n",
       "      <td>...</td>\n",
       "      <td>23364.0</td>\n",
       "      <td>56717.0</td>\n",
       "      <td>17.0</td>\n",
       "      <td>25781.0</td>\n",
       "      <td>7993972</td>\n",
       "      <td>543</td>\n",
       "      <td>854813</td>\n",
       "      <td>cb5bfac7-229a-4e3e-96dd-80b2ad3972c1</td>\n",
       "      <td>NaN</td>\n",
       "      <td>Garantía de fábrica: 12 meses</td>\n",
       "    </tr>\n",
       "    <tr>\n",
       "      <th>1</th>\n",
       "      <td>True</td>\n",
       "      <td>37</td>\n",
       "      <td>159.826531</td>\n",
       "      <td>240.325973</td>\n",
       "      <td>19338.230000</td>\n",
       "      <td>3.142739</td>\n",
       "      <td>4.429577</td>\n",
       "      <td>4.511599</td>\n",
       "      <td>0.001</td>\n",
       "      <td>False</td>\n",
       "      <td>...</td>\n",
       "      <td>10693.0</td>\n",
       "      <td>81455.0</td>\n",
       "      <td>5.0</td>\n",
       "      <td>10891.0</td>\n",
       "      <td>7821316</td>\n",
       "      <td>1789</td>\n",
       "      <td>1422288</td>\n",
       "      <td>b0f9aa19-00d5-4afd-aa77-45be7c849562</td>\n",
       "      <td>NaN</td>\n",
       "      <td>NaN</td>\n",
       "    </tr>\n",
       "    <tr>\n",
       "      <th>2</th>\n",
       "      <td>True</td>\n",
       "      <td>9</td>\n",
       "      <td>67.635391</td>\n",
       "      <td>86.066296</td>\n",
       "      <td>154.919333</td>\n",
       "      <td>2.633771</td>\n",
       "      <td>2.592593</td>\n",
       "      <td>2.722222</td>\n",
       "      <td>0.001</td>\n",
       "      <td>False</td>\n",
       "      <td>...</td>\n",
       "      <td>140.0</td>\n",
       "      <td>16792.0</td>\n",
       "      <td>8.0</td>\n",
       "      <td>147.0</td>\n",
       "      <td>1303909</td>\n",
       "      <td>1473</td>\n",
       "      <td>17801</td>\n",
       "      <td>fd59890a-f2c2-4282-b2ee-c68f25e20697</td>\n",
       "      <td>151157147.0</td>\n",
       "      <td>NaN</td>\n",
       "    </tr>\n",
       "    <tr>\n",
       "      <th>3</th>\n",
       "      <td>True</td>\n",
       "      <td>12</td>\n",
       "      <td>92.085756</td>\n",
       "      <td>332.848400</td>\n",
       "      <td>554.747333</td>\n",
       "      <td>3.280069</td>\n",
       "      <td>12.620000</td>\n",
       "      <td>12.840000</td>\n",
       "      <td>0.001</td>\n",
       "      <td>False</td>\n",
       "      <td>...</td>\n",
       "      <td>631.0</td>\n",
       "      <td>1988.0</td>\n",
       "      <td>14.0</td>\n",
       "      <td>642.0</td>\n",
       "      <td>139419</td>\n",
       "      <td>7473</td>\n",
       "      <td>44336</td>\n",
       "      <td>72340acf-2a1c-4214-a604-132e0cb56939</td>\n",
       "      <td>NaN</td>\n",
       "      <td>Garantía de fábrica: 90 días</td>\n",
       "    </tr>\n",
       "    <tr>\n",
       "      <th>4</th>\n",
       "      <td>True</td>\n",
       "      <td>5</td>\n",
       "      <td>156.905222</td>\n",
       "      <td>955.997475</td>\n",
       "      <td>3154.791667</td>\n",
       "      <td>2.737876</td>\n",
       "      <td>3.666667</td>\n",
       "      <td>4.363636</td>\n",
       "      <td>0.001</td>\n",
       "      <td>False</td>\n",
       "      <td>...</td>\n",
       "      <td>363.0</td>\n",
       "      <td>8707.0</td>\n",
       "      <td>32.0</td>\n",
       "      <td>432.0</td>\n",
       "      <td>209373</td>\n",
       "      <td>416</td>\n",
       "      <td>46206</td>\n",
       "      <td>84da1314-814c-4d4f-be23-3de9ea1da4b6</td>\n",
       "      <td>NaN</td>\n",
       "      <td>Garantía del vendedor: 90 días</td>\n",
       "    </tr>\n",
       "  </tbody>\n",
       "</table>\n",
       "<p>5 rows × 56 columns</p>\n",
       "</div>"
      ],
      "text/plain": [
       "   accepts_mercadopago  available_quantity  avg_gmv_item_domain_30days  \\\n",
       "0                 True                  59                  938.031376   \n",
       "1                 True                  37                  159.826531   \n",
       "2                 True                   9                   67.635391   \n",
       "3                 True                  12                   92.085756   \n",
       "4                 True                   5                  156.905222   \n",
       "\n",
       "   avg_gmv_item_sel  avg_gmv_seller_bday  avg_qty_orders_item_domain_30days  \\\n",
       "0       2153.933091        135195.200333                           3.430563   \n",
       "1        240.325973         19338.230000                           3.142739   \n",
       "2         86.066296           154.919333                           2.633771   \n",
       "3        332.848400           554.747333                           3.280069   \n",
       "4        955.997475          3154.791667                           2.737876   \n",
       "\n",
       "   avg_qty_orders_item_sel_30days  avg_si_item_sel_30day  benefit  boosted  \\\n",
       "0                       12.407860              13.691450    0.001    False   \n",
       "1                        4.429577               4.511599    0.001    False   \n",
       "2                        2.592593               2.722222    0.001    False   \n",
       "3                       12.620000              12.840000    0.001    False   \n",
       "4                        3.666667               4.363636    0.001    False   \n",
       "\n",
       "   ... total_orders_sel_30days  total_si_domain_30days total_si_item_30days  \\\n",
       "0  ...                 23364.0                 56717.0                 17.0   \n",
       "1  ...                 10693.0                 81455.0                  5.0   \n",
       "2  ...                   140.0                 16792.0                  8.0   \n",
       "3  ...                   631.0                  1988.0                 14.0   \n",
       "4  ...                   363.0                  8707.0                 32.0   \n",
       "\n",
       "  total_si_sel_30days total_visits_domain total_visits_item  \\\n",
       "0             25781.0             7993972               543   \n",
       "1             10891.0             7821316              1789   \n",
       "2               147.0             1303909              1473   \n",
       "3               642.0              139419              7473   \n",
       "4               432.0              209373               416   \n",
       "\n",
       "   total_visits_seller                                   uid      user_id  \\\n",
       "0               854813  cb5bfac7-229a-4e3e-96dd-80b2ad3972c1          NaN   \n",
       "1              1422288  b0f9aa19-00d5-4afd-aa77-45be7c849562          NaN   \n",
       "2                17801  fd59890a-f2c2-4282-b2ee-c68f25e20697  151157147.0   \n",
       "3                44336  72340acf-2a1c-4214-a604-132e0cb56939          NaN   \n",
       "4                46206  84da1314-814c-4d4f-be23-3de9ea1da4b6          NaN   \n",
       "\n",
       "                         warranty  \n",
       "0   Garantía de fábrica: 12 meses  \n",
       "1                             NaN  \n",
       "2                             NaN  \n",
       "3    Garantía de fábrica: 90 días  \n",
       "4  Garantía del vendedor: 90 días  \n",
       "\n",
       "[5 rows x 56 columns]"
      ]
     },
     "execution_count": 7,
     "metadata": {},
     "output_type": "execute_result"
    }
   ],
   "source": [
    "print('{0:,} registros a las {1}'.format(len(train_df), datetime.now()))\n",
    "train_df.head()"
   ]
  },
  {
   "cell_type": "code",
   "execution_count": 8,
   "metadata": {},
   "outputs": [
    {
     "name": "stdout",
     "output_type": "stream",
     "text": [
      "38,040 registros a las 2020-09-10 10:49:21.645359\n"
     ]
    },
    {
     "data": {
      "text/html": [
       "<div>\n",
       "<style scoped>\n",
       "    .dataframe tbody tr th:only-of-type {\n",
       "        vertical-align: middle;\n",
       "    }\n",
       "\n",
       "    .dataframe tbody tr th {\n",
       "        vertical-align: top;\n",
       "    }\n",
       "\n",
       "    .dataframe thead th {\n",
       "        text-align: right;\n",
       "    }\n",
       "</style>\n",
       "<table border=\"1\" class=\"dataframe\">\n",
       "  <thead>\n",
       "    <tr style=\"text-align: right;\">\n",
       "      <th></th>\n",
       "      <th>accepts_mercadopago</th>\n",
       "      <th>available_quantity</th>\n",
       "      <th>avg_gmv_item_domain_30days</th>\n",
       "      <th>avg_gmv_item_sel</th>\n",
       "      <th>avg_gmv_seller_bday</th>\n",
       "      <th>avg_qty_orders_item_domain_30days</th>\n",
       "      <th>avg_qty_orders_item_sel_30days</th>\n",
       "      <th>avg_si_item_sel_30day</th>\n",
       "      <th>benefit</th>\n",
       "      <th>boosted</th>\n",
       "      <th>...</th>\n",
       "      <th>total_orders_sel_30days</th>\n",
       "      <th>total_si_domain_30days</th>\n",
       "      <th>total_si_item_30days</th>\n",
       "      <th>total_si_sel_30days</th>\n",
       "      <th>total_visits_domain</th>\n",
       "      <th>total_visits_item</th>\n",
       "      <th>total_visits_seller</th>\n",
       "      <th>uid</th>\n",
       "      <th>user_id</th>\n",
       "      <th>warranty</th>\n",
       "    </tr>\n",
       "  </thead>\n",
       "  <tbody>\n",
       "    <tr>\n",
       "      <th>0</th>\n",
       "      <td>True</td>\n",
       "      <td>7</td>\n",
       "      <td>224.204346</td>\n",
       "      <td>214.277733</td>\n",
       "      <td>535.694333</td>\n",
       "      <td>4.344064</td>\n",
       "      <td>12.240000</td>\n",
       "      <td>22.973333</td>\n",
       "      <td>0.001</td>\n",
       "      <td>False</td>\n",
       "      <td>...</td>\n",
       "      <td>918.0</td>\n",
       "      <td>2339.0</td>\n",
       "      <td>55.0</td>\n",
       "      <td>1723.0</td>\n",
       "      <td>180386</td>\n",
       "      <td>5132</td>\n",
       "      <td>46381</td>\n",
       "      <td>67b5ca7d-32a2-4415-9594-d0afe6dd1c26</td>\n",
       "      <td>206574359.0</td>\n",
       "      <td>Garantía de fábrica: 30 días</td>\n",
       "    </tr>\n",
       "    <tr>\n",
       "      <th>1</th>\n",
       "      <td>True</td>\n",
       "      <td>103</td>\n",
       "      <td>145.135733</td>\n",
       "      <td>210.173802</td>\n",
       "      <td>2192.813333</td>\n",
       "      <td>2.919105</td>\n",
       "      <td>3.913738</td>\n",
       "      <td>3.936102</td>\n",
       "      <td>0.001</td>\n",
       "      <td>False</td>\n",
       "      <td>...</td>\n",
       "      <td>1225.0</td>\n",
       "      <td>62311.0</td>\n",
       "      <td>5.0</td>\n",
       "      <td>1232.0</td>\n",
       "      <td>8771098</td>\n",
       "      <td>175</td>\n",
       "      <td>124650</td>\n",
       "      <td>84657B30-C2C4-4E85-9C5C-56B97F7D8AA2</td>\n",
       "      <td>458914812.0</td>\n",
       "      <td>NaN</td>\n",
       "    </tr>\n",
       "    <tr>\n",
       "      <th>2</th>\n",
       "      <td>True</td>\n",
       "      <td>88</td>\n",
       "      <td>542.637015</td>\n",
       "      <td>946.298046</td>\n",
       "      <td>2744.264333</td>\n",
       "      <td>12.550167</td>\n",
       "      <td>5.275862</td>\n",
       "      <td>11.655172</td>\n",
       "      <td>0.001</td>\n",
       "      <td>False</td>\n",
       "      <td>...</td>\n",
       "      <td>459.0</td>\n",
       "      <td>50590.0</td>\n",
       "      <td>13.0</td>\n",
       "      <td>1014.0</td>\n",
       "      <td>1464836</td>\n",
       "      <td>584</td>\n",
       "      <td>52950</td>\n",
       "      <td>776c167c-86ae-439a-a43b-3b2e49e5b28b</td>\n",
       "      <td>183272651.0</td>\n",
       "      <td>Sin garantía</td>\n",
       "    </tr>\n",
       "    <tr>\n",
       "      <th>3</th>\n",
       "      <td>True</td>\n",
       "      <td>12070</td>\n",
       "      <td>421.741468</td>\n",
       "      <td>186.159000</td>\n",
       "      <td>372.318000</td>\n",
       "      <td>5.584577</td>\n",
       "      <td>12.850000</td>\n",
       "      <td>16.800000</td>\n",
       "      <td>0.001</td>\n",
       "      <td>False</td>\n",
       "      <td>...</td>\n",
       "      <td>771.0</td>\n",
       "      <td>2364.0</td>\n",
       "      <td>10.0</td>\n",
       "      <td>1008.0</td>\n",
       "      <td>147798</td>\n",
       "      <td>599</td>\n",
       "      <td>46868</td>\n",
       "      <td>34b6f9ee-c6fb-42fc-9b21-cfa428ec986d</td>\n",
       "      <td>NaN</td>\n",
       "      <td>Sin garantía</td>\n",
       "    </tr>\n",
       "    <tr>\n",
       "      <th>4</th>\n",
       "      <td>True</td>\n",
       "      <td>159</td>\n",
       "      <td>169.234106</td>\n",
       "      <td>232.164797</td>\n",
       "      <td>22535.463000</td>\n",
       "      <td>3.505991</td>\n",
       "      <td>4.756868</td>\n",
       "      <td>4.916896</td>\n",
       "      <td>0.001</td>\n",
       "      <td>False</td>\n",
       "      <td>...</td>\n",
       "      <td>13852.0</td>\n",
       "      <td>85853.0</td>\n",
       "      <td>78.0</td>\n",
       "      <td>14318.0</td>\n",
       "      <td>13032888</td>\n",
       "      <td>9324</td>\n",
       "      <td>1987466</td>\n",
       "      <td>faad859a-02eb-4275-97b3-b8a148ae93c3</td>\n",
       "      <td>83869460.0</td>\n",
       "      <td>NaN</td>\n",
       "    </tr>\n",
       "  </tbody>\n",
       "</table>\n",
       "<p>5 rows × 56 columns</p>\n",
       "</div>"
      ],
      "text/plain": [
       "   accepts_mercadopago  available_quantity  avg_gmv_item_domain_30days  \\\n",
       "0                 True                   7                  224.204346   \n",
       "1                 True                 103                  145.135733   \n",
       "2                 True                  88                  542.637015   \n",
       "3                 True               12070                  421.741468   \n",
       "4                 True                 159                  169.234106   \n",
       "\n",
       "   avg_gmv_item_sel  avg_gmv_seller_bday  avg_qty_orders_item_domain_30days  \\\n",
       "0        214.277733           535.694333                           4.344064   \n",
       "1        210.173802          2192.813333                           2.919105   \n",
       "2        946.298046          2744.264333                          12.550167   \n",
       "3        186.159000           372.318000                           5.584577   \n",
       "4        232.164797         22535.463000                           3.505991   \n",
       "\n",
       "   avg_qty_orders_item_sel_30days  avg_si_item_sel_30day  benefit  boosted  \\\n",
       "0                       12.240000              22.973333    0.001    False   \n",
       "1                        3.913738               3.936102    0.001    False   \n",
       "2                        5.275862              11.655172    0.001    False   \n",
       "3                       12.850000              16.800000    0.001    False   \n",
       "4                        4.756868               4.916896    0.001    False   \n",
       "\n",
       "   ... total_orders_sel_30days  total_si_domain_30days total_si_item_30days  \\\n",
       "0  ...                   918.0                  2339.0                 55.0   \n",
       "1  ...                  1225.0                 62311.0                  5.0   \n",
       "2  ...                   459.0                 50590.0                 13.0   \n",
       "3  ...                   771.0                  2364.0                 10.0   \n",
       "4  ...                 13852.0                 85853.0                 78.0   \n",
       "\n",
       "  total_si_sel_30days total_visits_domain total_visits_item  \\\n",
       "0              1723.0              180386              5132   \n",
       "1              1232.0             8771098               175   \n",
       "2              1014.0             1464836               584   \n",
       "3              1008.0              147798               599   \n",
       "4             14318.0            13032888              9324   \n",
       "\n",
       "   total_visits_seller                                   uid      user_id  \\\n",
       "0                46381  67b5ca7d-32a2-4415-9594-d0afe6dd1c26  206574359.0   \n",
       "1               124650  84657B30-C2C4-4E85-9C5C-56B97F7D8AA2  458914812.0   \n",
       "2                52950  776c167c-86ae-439a-a43b-3b2e49e5b28b  183272651.0   \n",
       "3                46868  34b6f9ee-c6fb-42fc-9b21-cfa428ec986d          NaN   \n",
       "4              1987466  faad859a-02eb-4275-97b3-b8a148ae93c3   83869460.0   \n",
       "\n",
       "                       warranty  \n",
       "0  Garantía de fábrica: 30 días  \n",
       "1                           NaN  \n",
       "2                  Sin garantía  \n",
       "3                  Sin garantía  \n",
       "4                           NaN  \n",
       "\n",
       "[5 rows x 56 columns]"
      ]
     },
     "execution_count": 8,
     "metadata": {},
     "output_type": "execute_result"
    }
   ],
   "source": [
    "print('{0:,} registros a las {1}'.format(len(validation_df), datetime.now()))\n",
    "validation_df.head()"
   ]
  },
  {
   "cell_type": "markdown",
   "metadata": {},
   "source": [
    "### Test set"
   ]
  },
  {
   "cell_type": "code",
   "execution_count": 9,
   "metadata": {},
   "outputs": [
    {
     "name": "stdout",
     "output_type": "stream",
     "text": [
      "19,211 registros a las 2020-09-10 10:49:21.912797\n"
     ]
    },
    {
     "data": {
      "text/html": [
       "<div>\n",
       "<style scoped>\n",
       "    .dataframe tbody tr th:only-of-type {\n",
       "        vertical-align: middle;\n",
       "    }\n",
       "\n",
       "    .dataframe tbody tr th {\n",
       "        vertical-align: top;\n",
       "    }\n",
       "\n",
       "    .dataframe thead th {\n",
       "        text-align: right;\n",
       "    }\n",
       "</style>\n",
       "<table border=\"1\" class=\"dataframe\">\n",
       "  <thead>\n",
       "    <tr style=\"text-align: right;\">\n",
       "      <th></th>\n",
       "      <th>accepts_mercadopago</th>\n",
       "      <th>available_quantity</th>\n",
       "      <th>avg_gmv_item_domain_30days</th>\n",
       "      <th>avg_gmv_item_sel</th>\n",
       "      <th>avg_gmv_seller_bday</th>\n",
       "      <th>avg_qty_orders_item_domain_30days</th>\n",
       "      <th>avg_qty_orders_item_sel_30days</th>\n",
       "      <th>avg_si_item_sel_30day</th>\n",
       "      <th>benefit</th>\n",
       "      <th>boosted</th>\n",
       "      <th>...</th>\n",
       "      <th>total_si_domain_30days</th>\n",
       "      <th>total_si_item_30days</th>\n",
       "      <th>total_si_sel_30days</th>\n",
       "      <th>total_visits_domain</th>\n",
       "      <th>total_visits_item</th>\n",
       "      <th>total_visits_seller</th>\n",
       "      <th>uid</th>\n",
       "      <th>user_id</th>\n",
       "      <th>warranty</th>\n",
       "      <th>ROW_ID</th>\n",
       "    </tr>\n",
       "  </thead>\n",
       "  <tbody>\n",
       "    <tr>\n",
       "      <th>0</th>\n",
       "      <td>True</td>\n",
       "      <td>4</td>\n",
       "      <td>98.426510</td>\n",
       "      <td>91.979648</td>\n",
       "      <td>3657.724000</td>\n",
       "      <td>3.589443</td>\n",
       "      <td>3.461023</td>\n",
       "      <td>4.988265</td>\n",
       "      <td>0.001</td>\n",
       "      <td>False</td>\n",
       "      <td>...</td>\n",
       "      <td>1364.0</td>\n",
       "      <td>18.0</td>\n",
       "      <td>5951.0</td>\n",
       "      <td>40954</td>\n",
       "      <td>300</td>\n",
       "      <td>100477</td>\n",
       "      <td>703f4bd1-cc3e-4102-8cfa-fe3cdd15ebb7</td>\n",
       "      <td>233223201.0</td>\n",
       "      <td>Garantia de fabrica</td>\n",
       "      <td>0</td>\n",
       "    </tr>\n",
       "    <tr>\n",
       "      <th>1</th>\n",
       "      <td>True</td>\n",
       "      <td>12</td>\n",
       "      <td>242.485208</td>\n",
       "      <td>821.376944</td>\n",
       "      <td>985.652333</td>\n",
       "      <td>3.215580</td>\n",
       "      <td>26.222222</td>\n",
       "      <td>28.388889</td>\n",
       "      <td>0.001</td>\n",
       "      <td>False</td>\n",
       "      <td>...</td>\n",
       "      <td>3724.0</td>\n",
       "      <td>41.0</td>\n",
       "      <td>1022.0</td>\n",
       "      <td>135133</td>\n",
       "      <td>926</td>\n",
       "      <td>44033</td>\n",
       "      <td>d714e65e-5447-4f7d-9a4e-aaa57efa6107</td>\n",
       "      <td>337881137.0</td>\n",
       "      <td>NaN</td>\n",
       "      <td>1</td>\n",
       "    </tr>\n",
       "    <tr>\n",
       "      <th>2</th>\n",
       "      <td>True</td>\n",
       "      <td>5</td>\n",
       "      <td>2450.533424</td>\n",
       "      <td>1365.504354</td>\n",
       "      <td>33454.856667</td>\n",
       "      <td>7.097276</td>\n",
       "      <td>14.646259</td>\n",
       "      <td>15.217687</td>\n",
       "      <td>0.001</td>\n",
       "      <td>False</td>\n",
       "      <td>...</td>\n",
       "      <td>1839.0</td>\n",
       "      <td>71.0</td>\n",
       "      <td>11185.0</td>\n",
       "      <td>204788</td>\n",
       "      <td>8457</td>\n",
       "      <td>716157</td>\n",
       "      <td>299cb623-b71c-4f9d-b792-48d5744f0449</td>\n",
       "      <td>86609353.0</td>\n",
       "      <td>Garantía de fábrica: 12 meses</td>\n",
       "      <td>2</td>\n",
       "    </tr>\n",
       "    <tr>\n",
       "      <th>3</th>\n",
       "      <td>True</td>\n",
       "      <td>9052</td>\n",
       "      <td>157.735448</td>\n",
       "      <td>78.692131</td>\n",
       "      <td>160.007333</td>\n",
       "      <td>4.927390</td>\n",
       "      <td>2.983607</td>\n",
       "      <td>3.524590</td>\n",
       "      <td>0.001</td>\n",
       "      <td>False</td>\n",
       "      <td>...</td>\n",
       "      <td>85528.0</td>\n",
       "      <td>44.0</td>\n",
       "      <td>215.0</td>\n",
       "      <td>1404477</td>\n",
       "      <td>1907</td>\n",
       "      <td>6580</td>\n",
       "      <td>f2060244-f0da-43db-91b7-4c1bb5f99e67</td>\n",
       "      <td>430797570.0</td>\n",
       "      <td>Sin garantía</td>\n",
       "      <td>3</td>\n",
       "    </tr>\n",
       "    <tr>\n",
       "      <th>4</th>\n",
       "      <td>True</td>\n",
       "      <td>37</td>\n",
       "      <td>116.891454</td>\n",
       "      <td>163.245653</td>\n",
       "      <td>4043.050667</td>\n",
       "      <td>2.937837</td>\n",
       "      <td>7.257066</td>\n",
       "      <td>19.771198</td>\n",
       "      <td>0.001</td>\n",
       "      <td>False</td>\n",
       "      <td>...</td>\n",
       "      <td>61466.0</td>\n",
       "      <td>274.0</td>\n",
       "      <td>14690.0</td>\n",
       "      <td>1466424</td>\n",
       "      <td>2633</td>\n",
       "      <td>215184</td>\n",
       "      <td>d7f3b7f4-a9fa-4bd8-a600-3f2714480779</td>\n",
       "      <td>6566243.0</td>\n",
       "      <td>Garantía de fábrica: 6 meses</td>\n",
       "      <td>4</td>\n",
       "    </tr>\n",
       "  </tbody>\n",
       "</table>\n",
       "<p>5 rows × 56 columns</p>\n",
       "</div>"
      ],
      "text/plain": [
       "   accepts_mercadopago  available_quantity  avg_gmv_item_domain_30days  \\\n",
       "0                 True                   4                   98.426510   \n",
       "1                 True                  12                  242.485208   \n",
       "2                 True                   5                 2450.533424   \n",
       "3                 True                9052                  157.735448   \n",
       "4                 True                  37                  116.891454   \n",
       "\n",
       "   avg_gmv_item_sel  avg_gmv_seller_bday  avg_qty_orders_item_domain_30days  \\\n",
       "0         91.979648          3657.724000                           3.589443   \n",
       "1        821.376944           985.652333                           3.215580   \n",
       "2       1365.504354         33454.856667                           7.097276   \n",
       "3         78.692131           160.007333                           4.927390   \n",
       "4        163.245653          4043.050667                           2.937837   \n",
       "\n",
       "   avg_qty_orders_item_sel_30days  avg_si_item_sel_30day  benefit  boosted  \\\n",
       "0                        3.461023               4.988265    0.001    False   \n",
       "1                       26.222222              28.388889    0.001    False   \n",
       "2                       14.646259              15.217687    0.001    False   \n",
       "3                        2.983607               3.524590    0.001    False   \n",
       "4                        7.257066              19.771198    0.001    False   \n",
       "\n",
       "   ... total_si_domain_30days total_si_item_30days total_si_sel_30days  \\\n",
       "0  ...                 1364.0                 18.0              5951.0   \n",
       "1  ...                 3724.0                 41.0              1022.0   \n",
       "2  ...                 1839.0                 71.0             11185.0   \n",
       "3  ...                85528.0                 44.0               215.0   \n",
       "4  ...                61466.0                274.0             14690.0   \n",
       "\n",
       "  total_visits_domain total_visits_item  total_visits_seller  \\\n",
       "0               40954               300               100477   \n",
       "1              135133               926                44033   \n",
       "2              204788              8457               716157   \n",
       "3             1404477              1907                 6580   \n",
       "4             1466424              2633               215184   \n",
       "\n",
       "                                    uid      user_id  \\\n",
       "0  703f4bd1-cc3e-4102-8cfa-fe3cdd15ebb7  233223201.0   \n",
       "1  d714e65e-5447-4f7d-9a4e-aaa57efa6107  337881137.0   \n",
       "2  299cb623-b71c-4f9d-b792-48d5744f0449   86609353.0   \n",
       "3  f2060244-f0da-43db-91b7-4c1bb5f99e67  430797570.0   \n",
       "4  d7f3b7f4-a9fa-4bd8-a600-3f2714480779    6566243.0   \n",
       "\n",
       "                        warranty ROW_ID  \n",
       "0            Garantia de fabrica      0  \n",
       "1                            NaN      1  \n",
       "2  Garantía de fábrica: 12 meses      2  \n",
       "3                   Sin garantía      3  \n",
       "4   Garantía de fábrica: 6 meses      4  \n",
       "\n",
       "[5 rows x 56 columns]"
      ]
     },
     "execution_count": 9,
     "metadata": {},
     "output_type": "execute_result"
    }
   ],
   "source": [
    "test_df = pd.read_csv('test.csv', sep=',')\n",
    "print('{0:,} registros a las {1}'.format(len(test_df), datetime.now()))\n",
    "test_df.head()"
   ]
  },
  {
   "cell_type": "markdown",
   "metadata": {},
   "source": [
    "### Selected features"
   ]
  },
  {
   "cell_type": "code",
   "execution_count": 10,
   "metadata": {},
   "outputs": [],
   "source": [
    "numerical_features = [\n",
    "    'available_quantity',\n",
    "    'avg_gmv_item_sel',\n",
    "    'avg_qty_orders_item_domain_30days',\n",
    "    'avg_qty_orders_item_sel_30days',\n",
    "    'health', \n",
    "    'sold_quantity',\n",
    "    'total_asp_item_domain_30days',\n",
    "    'total_asp_item_sel_30days',\n",
    "    'total_gmv_domain_bday',\n",
    "    'total_gmv_item_30days',\n",
    "    'total_items_seller',\n",
    "    'total_orders_domain_30days',\n",
    "    'total_orders_item_30days',\n",
    "    'total_orders_sel_30days',  \n",
    "]\n",
    "\n",
    "categorical_features = [\n",
    "    'free_shipping',\n",
    "    'is_pdp',\n",
    "    \n",
    "    # Categoricals\n",
    "    'category_id',\n",
    "    'deal_print_id',\n",
    "    'domain_id',\n",
    "    'product_id',\n",
    "    'item_id',\n",
    "    'listing_type_id',\n",
    "    'logistic_type',\n",
    "    'platform',\n",
    "    'tags',\n",
    "    'uid',\n",
    "    'user_id',\n",
    "    'offset',  \n",
    "    'print_position',\n",
    "]\n",
    "\n",
    "date_features = ['date']\n",
    "new_categorical_features = ['day_of_week', 'is_weekend']\n",
    "target_column = ['conversion']"
   ]
  },
  {
   "cell_type": "code",
   "execution_count": 11,
   "metadata": {},
   "outputs": [
    {
     "data": {
      "text/plain": [
       "(14, 15, 1, 31)"
      ]
     },
     "execution_count": 11,
     "metadata": {},
     "output_type": "execute_result"
    }
   ],
   "source": [
    "len(numerical_features), len(categorical_features), len(date_features), len(numerical_features+categorical_features+new_categorical_features)"
   ]
  },
  {
   "cell_type": "markdown",
   "metadata": {},
   "source": [
    "### Dataset's features subsetings"
   ]
  },
  {
   "cell_type": "markdown",
   "metadata": {},
   "source": [
    "#### Training"
   ]
  },
  {
   "cell_type": "code",
   "execution_count": 12,
   "metadata": {},
   "outputs": [
    {
     "name": "stdout",
     "output_type": "stream",
     "text": [
      "142,721 registros a las 2020-09-10 10:49:22.094645\n"
     ]
    },
    {
     "data": {
      "text/plain": [
       "(array([[True, False, 'MLA1055', 'a9cb2270-5f61-11ea-89fc-13e674cbfad4',\n",
       "         'MLA-CELLPHONES', 15183595.0, 'MLA830939055', 'gold_special',\n",
       "         'cross_docking', '/web/desktop',\n",
       "         '[good_quality_picture, good_quality_thumbnail, today_promotion, brand_verified, extended_warranty_eligible, immediate_payment, cart_eligible]',\n",
       "         'cb5bfac7-229a-4e3e-96dd-80b2ad3972c1', nan, 0, 1717, 59,\n",
       "         2153.933091, 3.4305625, 12.407859798194373, 0.0, 65,\n",
       "         277.20515880060003, 188.75394947, 500283.400333, 5793.18, 4119,\n",
       "         54889.0, 17.0, 23364.0],\n",
       "        [True, False, 'MLA3724', '17bfe7b0-7480-11ea-a387-65bd48ab9972',\n",
       "         'MLA-SNEAKERS', nan, 'MLA823451186', 'gold_special', 'drop_off',\n",
       "         '/mobile/android',\n",
       "         '[good_quality_thumbnail, incomplete_technical_specs, today_promotion, brand_verified, good_quality_picture, immediate_payment, cart_eligible]',\n",
       "         'b0f9aa19-00d5-4afd-aa77-45be7c849562', nan, 288, 311, 37,\n",
       "         240.325973, 3.1427390791027165, 4.429577464788731, 0.81, 17,\n",
       "         56.936334144899995, 52.9825333579, 135373.071667, 350.29, 11711,\n",
       "         79857.0, 5.0, 10693.0],\n",
       "        [False, False, 'MLA109282',\n",
       "         'b36b3570-79e9-11ea-abe3-5f57eda5c45c', 'MLA-PANTS', nan,\n",
       "         'MLA759692718', 'gold_special', 'fulfillment', '/mobile/android',\n",
       "         '[brand_verified, good_quality_picture, good_quality_thumbnail, loyalty_discount_eligible, immediate_payment, cart_eligible]',\n",
       "         'fd59890a-f2c2-4282-b2ee-c68f25e20697', 151157147.0, 48, 1686, 9,\n",
       "         86.066296, 2.6337706788362807, 2.592592592592593, 0.8, 123,\n",
       "         24.6856934883, 33.2138799074, 11856.484, 187.9, 151, 13851.0,\n",
       "         6.0, 140.0]], dtype=object),\n",
       " (142721, 29),\n",
       " array([[False],\n",
       "        [False],\n",
       "        [False]]),\n",
       " (142721, 1))"
      ]
     },
     "execution_count": 12,
     "metadata": {},
     "output_type": "execute_result"
    }
   ],
   "source": [
    "X_train = train_df[categorical_features+numerical_features].to_numpy()\n",
    "Y_train = train_df[target_column].to_numpy()\n",
    "print('{0:,} registros a las {1}'.format(len(X_train), datetime.now()))\n",
    "X_train[:3,:], X_train.shape, Y_train[:3,:], Y_train.shape"
   ]
  },
  {
   "cell_type": "markdown",
   "metadata": {},
   "source": [
    "#### Validation"
   ]
  },
  {
   "cell_type": "code",
   "execution_count": 13,
   "metadata": {},
   "outputs": [
    {
     "name": "stdout",
     "output_type": "stream",
     "text": [
      "38,040 registros a las 2020-09-10 10:49:22.136920\n"
     ]
    },
    {
     "data": {
      "text/plain": [
       "(array([[False, nan, 'MLA11236', 'cc407620-86e9-11ea-9076-139c55b6e72a',\n",
       "         'MLA-PLAYGROUND_SWING_SETS', nan, 'MLA822540433', 'gold_special',\n",
       "         'fulfillment', '/mobile/android',\n",
       "         '[loyalty_discount_eligible, brand_verified, good_quality_picture, good_quality_thumbnail, immediate_payment, cart_eligible]',\n",
       "         '67b5ca7d-32a2-4415-9594-d0afe6dd1c26', 206574359.0, 144, 206, 7,\n",
       "         214.277733, 4.344064386317908, 12.24, 0.77, 123, 57.6037147485,\n",
       "         16.60267056, 3714.318667, 1036.24, 126, 2159.0, 52.0, 918.0],\n",
       "        [True, False, 'MLA109027', '4b52a5a0-7beb-11ea-a906-9fd3391fb36e',\n",
       "         'MLA-SNEAKERS', nan, 'MLA823713224', 'gold_special',\n",
       "         'cross_docking', '/mobile/ios',\n",
       "         '[brand_verified, good_quality_picture, good_quality_thumbnail, immediate_payment, cart_eligible]',\n",
       "         '84657B30-C2C4-4E85-9C5C-56B97F7D8AA2', 458914812.0, 96, 7718,\n",
       "         103, 210.173802, 2.9191046628167805, 3.9137380191693287, 0.66, 6,\n",
       "         56.1828585121, 52.645153801899994, 101367.634, 302.75, 1092,\n",
       "         61164.0, 5.0, 1225.0],\n",
       "        [False, False, 'MLA420243',\n",
       "         'e40b30d0-7b20-11ea-ab23-e37362ff3792',\n",
       "         'MLA-SAFETY_FACE_SHIELD_VISORS', nan, 'MLA847474279', 'gold_pro',\n",
       "         'cross_docking', '/mobile/android',\n",
       "         '[good_quality_thumbnail, loyalty_discount_eligible, ahora-12, brand_verified, good_quality_picture, immediate_payment]',\n",
       "         '776c167c-86ae-439a-a43b-3b2e49e5b28b', 183272651.0, 144, 180,\n",
       "         88, 946.298046, 12.550167224080267, 5.275862068965517, 0.81, 12,\n",
       "         38.663674898000004, 122.0302602874, 21633.129, 127.37, 315,\n",
       "         15010.0, 7.0, 459.0]], dtype=object),\n",
       " (38040, 29),\n",
       " array([[False],\n",
       "        [False],\n",
       "        [False]]),\n",
       " (38040, 1))"
      ]
     },
     "execution_count": 13,
     "metadata": {},
     "output_type": "execute_result"
    }
   ],
   "source": [
    "X_validation = validation_df[categorical_features+numerical_features].to_numpy()\n",
    "Y_valitation = validation_df[target_column].to_numpy()\n",
    "print('{0:,} registros a las {1}'.format(len(X_validation), datetime.now()))\n",
    "X_validation[:3,:], X_validation.shape, Y_valitation[:3,:], Y_valitation.shape"
   ]
  },
  {
   "cell_type": "markdown",
   "metadata": {},
   "source": [
    "#### Testing"
   ]
  },
  {
   "cell_type": "code",
   "execution_count": 14,
   "metadata": {},
   "outputs": [
    {
     "name": "stdout",
     "output_type": "stream",
     "text": [
      "19,211 registros a las 2020-09-10 10:49:22.160871\n"
     ]
    },
    {
     "data": {
      "text/plain": [
       "(array([[False, False, 'MLA29933', '13486cc0-7b38-11ea-80da-b7bc289f1eb3',\n",
       "         'MLA-HEATING_PADS', nan, 'MLA687322333', 'gold_special',\n",
       "         'cross_docking', '/mobile/android',\n",
       "         '[brand_verified, good_quality_picture, loyalty_discount_eligible, immediate_payment, cart_eligible]',\n",
       "         '703f4bd1-cc3e-4102-8cfa-fe3cdd15ebb7', 233223201.0, 528, 828, 4,\n",
       "         91.979648, 3.5894428152492672, 3.4610226320201174, 0.66, 41,\n",
       "         24.540562950100004, 20.3597047167, 1118.781333, 480.73, 2383,\n",
       "         1224.0, 18.0, 4129.0],\n",
       "        [True, nan, 'MLA120354', '91f51450-7094-11ea-a195-69da39a3a2bc',\n",
       "         'MLA-SUITCASES', nan, 'MLA787958329', 'gold_special',\n",
       "         'fulfillment', '/mobile/android',\n",
       "         '[good_quality_thumbnail, loyalty_discount_eligible, today_promotion, brand_verified, good_quality_picture, immediate_payment]',\n",
       "         'd714e65e-5447-4f7d-9a4e-aaa57efa6107', 337881137.0, 432, 470,\n",
       "         12, 821.3769440000003, 3.215579710144928, 26.222222222222207,\n",
       "         0.88, 299, 92.97788803620001, 44.915133861099996, 8923.455667,\n",
       "         2616.55, 58, 3550.0, 39.0, 944.0],\n",
       "        [True, False, 'MLA401457', 'acae99c0-7bf1-11ea-80da-b7bc289f1eb3',\n",
       "         'MLA-ROBOT_VACUUMS', 15536518.0, 'MLA693734545', 'gold_pro',\n",
       "         'cross_docking', '/mobile/android',\n",
       "         '[brand_verified, good_quality_picture, good_quality_thumbnail, loyalty_discount_eligible, immediate_payment]',\n",
       "         '299cb623-b71c-4f9d-b792-48d5744f0449', 86609353.0, 48, 1861, 5,\n",
       "         1365.504354, 7.097276264591439, 14.646258503401361, 1.0, 572,\n",
       "         448.3317968171, 107.9364705769, 20992.903, 32814.85, 1441,\n",
       "         1824.0, 70.0, 10765.0]], dtype=object),\n",
       " (19211, 29))"
      ]
     },
     "execution_count": 14,
     "metadata": {},
     "output_type": "execute_result"
    }
   ],
   "source": [
    "X_test = test_df[categorical_features+numerical_features].to_numpy()\n",
    "print('{0:,} registros a las {1}'.format(len(X_test), datetime.now()))\n",
    "X_test[:3,:], X_test.shape"
   ]
  },
  {
   "cell_type": "markdown",
   "metadata": {},
   "source": [
    "### Transformations"
   ]
  },
  {
   "cell_type": "markdown",
   "metadata": {},
   "source": [
    "#### Feature extractions"
   ]
  },
  {
   "cell_type": "code",
   "execution_count": 15,
   "metadata": {},
   "outputs": [],
   "source": [
    "def decompose_print_date(features:np.ndarray) -> np.ndarray:\n",
    "    print_date_feature = features[0]\n",
    "    dates = [datetime.strptime(str_date, '%Y-%m-%d') for str_date in print_date_feature]\n",
    "    date_parts = np.array([[dt.year, dt.month, dt.day, dt.weekday()+1, 0 if dt.weekday() >= 0 and dt.weekday() <= 4 else 1] for dt in dates], dtype=np.int32)\n",
    "    return date_parts[:,0], date_parts[:,1], date_parts[:,2], date_parts[:,3], date_parts[:,4]"
   ]
  },
  {
   "cell_type": "code",
   "execution_count": 16,
   "metadata": {},
   "outputs": [
    {
     "data": {
      "text/plain": [
       "(array([[True, False, 'MLA1055', 'a9cb2270-5f61-11ea-89fc-13e674cbfad4',\n",
       "         'MLA-CELLPHONES', 15183595.0, 'MLA830939055', 'gold_special',\n",
       "         'cross_docking', '/web/desktop',\n",
       "         '[good_quality_picture, good_quality_thumbnail, today_promotion, brand_verified, extended_warranty_eligible, immediate_payment, cart_eligible]',\n",
       "         'cb5bfac7-229a-4e3e-96dd-80b2ad3972c1', nan, 0, 1717, 59,\n",
       "         2153.933091, 3.4305625, 12.407859798194373, 0.0, 65,\n",
       "         277.20515880060003, 188.75394947, 500283.400333, 5793.18, 4119,\n",
       "         54889.0, 17.0, 23364.0, 5, 0],\n",
       "        [True, False, 'MLA3724', '17bfe7b0-7480-11ea-a387-65bd48ab9972',\n",
       "         'MLA-SNEAKERS', nan, 'MLA823451186', 'gold_special', 'drop_off',\n",
       "         '/mobile/android',\n",
       "         '[good_quality_thumbnail, incomplete_technical_specs, today_promotion, brand_verified, good_quality_picture, immediate_payment, cart_eligible]',\n",
       "         'b0f9aa19-00d5-4afd-aa77-45be7c849562', nan, 288, 311, 37,\n",
       "         240.325973, 3.1427390791027165, 4.429577464788731, 0.81, 17,\n",
       "         56.936334144899995, 52.9825333579, 135373.071667, 350.29, 11711,\n",
       "         79857.0, 5.0, 10693.0, 3, 0],\n",
       "        [False, False, 'MLA109282',\n",
       "         'b36b3570-79e9-11ea-abe3-5f57eda5c45c', 'MLA-PANTS', nan,\n",
       "         'MLA759692718', 'gold_special', 'fulfillment', '/mobile/android',\n",
       "         '[brand_verified, good_quality_picture, good_quality_thumbnail, loyalty_discount_eligible, immediate_payment, cart_eligible]',\n",
       "         'fd59890a-f2c2-4282-b2ee-c68f25e20697', 151157147.0, 48, 1686, 9,\n",
       "         86.066296, 2.6337706788362807, 2.592592592592593, 0.8, 123,\n",
       "         24.6856934883, 33.2138799074, 11856.484, 187.9, 151, 13851.0,\n",
       "         6.0, 140.0, 3, 0]], dtype=object),\n",
       " (142721, 31))"
      ]
     },
     "execution_count": 16,
     "metadata": {},
     "output_type": "execute_result"
    }
   ],
   "source": [
    "# Year, Month, Day, Day of the week, Is weekend\n",
    "print_date_ft_extractor = FeatureExtractor(decompose_print_date)\n",
    "_, _, _, day_of_week_feature, is_weekend_feature = print_date_ft_extractor.transform([train_df['date'].to_numpy()])\n",
    "X_train = np.hstack((X_train, day_of_week_feature.reshape(-1,1), is_weekend_feature.reshape(-1,1)))\n",
    "X_train[:3,:], X_train.shape"
   ]
  },
  {
   "cell_type": "code",
   "execution_count": 17,
   "metadata": {},
   "outputs": [
    {
     "data": {
      "text/plain": [
       "(array([[False, nan, 'MLA11236', 'cc407620-86e9-11ea-9076-139c55b6e72a',\n",
       "         'MLA-PLAYGROUND_SWING_SETS', nan, 'MLA822540433', 'gold_special',\n",
       "         'fulfillment', '/mobile/android',\n",
       "         '[loyalty_discount_eligible, brand_verified, good_quality_picture, good_quality_thumbnail, immediate_payment, cart_eligible]',\n",
       "         '67b5ca7d-32a2-4415-9594-d0afe6dd1c26', 206574359.0, 144, 206, 7,\n",
       "         214.277733, 4.344064386317908, 12.24, 0.77, 123, 57.6037147485,\n",
       "         16.60267056, 3714.318667, 1036.24, 126, 2159.0, 52.0, 918.0, 6,\n",
       "         1],\n",
       "        [True, False, 'MLA109027', '4b52a5a0-7beb-11ea-a906-9fd3391fb36e',\n",
       "         'MLA-SNEAKERS', nan, 'MLA823713224', 'gold_special',\n",
       "         'cross_docking', '/mobile/ios',\n",
       "         '[brand_verified, good_quality_picture, good_quality_thumbnail, immediate_payment, cart_eligible]',\n",
       "         '84657B30-C2C4-4E85-9C5C-56B97F7D8AA2', 458914812.0, 96, 7718,\n",
       "         103, 210.173802, 2.9191046628167805, 3.9137380191693287, 0.66, 6,\n",
       "         56.1828585121, 52.645153801899994, 101367.634, 302.75, 1092,\n",
       "         61164.0, 5.0, 1225.0, 6, 1],\n",
       "        [False, False, 'MLA420243',\n",
       "         'e40b30d0-7b20-11ea-ab23-e37362ff3792',\n",
       "         'MLA-SAFETY_FACE_SHIELD_VISORS', nan, 'MLA847474279', 'gold_pro',\n",
       "         'cross_docking', '/mobile/android',\n",
       "         '[good_quality_thumbnail, loyalty_discount_eligible, ahora-12, brand_verified, good_quality_picture, immediate_payment]',\n",
       "         '776c167c-86ae-439a-a43b-3b2e49e5b28b', 183272651.0, 144, 180,\n",
       "         88, 946.298046, 12.550167224080267, 5.275862068965517, 0.81, 12,\n",
       "         38.663674898000004, 122.0302602874, 21633.129, 127.37, 315,\n",
       "         15010.0, 7.0, 459.0, 5, 0]], dtype=object),\n",
       " (38040, 31))"
      ]
     },
     "execution_count": 17,
     "metadata": {},
     "output_type": "execute_result"
    }
   ],
   "source": [
    "_, _, _, day_of_week_feature, is_weekend_feature = print_date_ft_extractor.transform([validation_df['date'].to_numpy()])\n",
    "X_validation = np.hstack((X_validation, day_of_week_feature.reshape(-1,1), is_weekend_feature.reshape(-1,1)))\n",
    "X_validation[:3,:], X_validation.shape"
   ]
  },
  {
   "cell_type": "code",
   "execution_count": 18,
   "metadata": {},
   "outputs": [
    {
     "data": {
      "text/plain": [
       "(array([[False, False, 'MLA29933', '13486cc0-7b38-11ea-80da-b7bc289f1eb3',\n",
       "         'MLA-HEATING_PADS', nan, 'MLA687322333', 'gold_special',\n",
       "         'cross_docking', '/mobile/android',\n",
       "         '[brand_verified, good_quality_picture, loyalty_discount_eligible, immediate_payment, cart_eligible]',\n",
       "         '703f4bd1-cc3e-4102-8cfa-fe3cdd15ebb7', 233223201.0, 528, 828, 4,\n",
       "         91.979648, 3.5894428152492672, 3.4610226320201174, 0.66, 41,\n",
       "         24.540562950100004, 20.3597047167, 1118.781333, 480.73, 2383,\n",
       "         1224.0, 18.0, 4129.0, 5, 0],\n",
       "        [True, nan, 'MLA120354', '91f51450-7094-11ea-a195-69da39a3a2bc',\n",
       "         'MLA-SUITCASES', nan, 'MLA787958329', 'gold_special',\n",
       "         'fulfillment', '/mobile/android',\n",
       "         '[good_quality_thumbnail, loyalty_discount_eligible, today_promotion, brand_verified, good_quality_picture, immediate_payment]',\n",
       "         'd714e65e-5447-4f7d-9a4e-aaa57efa6107', 337881137.0, 432, 470,\n",
       "         12, 821.3769440000003, 3.215579710144928, 26.222222222222207,\n",
       "         0.88, 299, 92.97788803620001, 44.915133861099996, 8923.455667,\n",
       "         2616.55, 58, 3550.0, 39.0, 944.0, 5, 0],\n",
       "        [True, False, 'MLA401457', 'acae99c0-7bf1-11ea-80da-b7bc289f1eb3',\n",
       "         'MLA-ROBOT_VACUUMS', 15536518.0, 'MLA693734545', 'gold_pro',\n",
       "         'cross_docking', '/mobile/android',\n",
       "         '[brand_verified, good_quality_picture, good_quality_thumbnail, loyalty_discount_eligible, immediate_payment]',\n",
       "         '299cb623-b71c-4f9d-b792-48d5744f0449', 86609353.0, 48, 1861, 5,\n",
       "         1365.504354, 7.097276264591439, 14.646258503401361, 1.0, 572,\n",
       "         448.3317968171, 107.9364705769, 20992.903, 32814.85, 1441,\n",
       "         1824.0, 70.0, 10765.0, 6, 1]], dtype=object),\n",
       " (19211, 31))"
      ]
     },
     "execution_count": 18,
     "metadata": {},
     "output_type": "execute_result"
    }
   ],
   "source": [
    "_, _, _, day_of_week_feature, is_weekend_feature = print_date_ft_extractor.transform([test_df['date'].to_numpy()])\n",
    "X_test = np.hstack((X_test, day_of_week_feature.reshape(-1,1), is_weekend_feature.reshape(-1,1)))\n",
    "X_test[:3,:], X_test.shape"
   ]
  },
  {
   "cell_type": "code",
   "execution_count": 19,
   "metadata": {},
   "outputs": [
    {
     "data": {
      "text/plain": [
       "(5, 31)"
      ]
     },
     "execution_count": 19,
     "metadata": {},
     "output_type": "execute_result"
    }
   ],
   "source": [
    "X_train[:5,:].shape"
   ]
  },
  {
   "cell_type": "code",
   "execution_count": 20,
   "metadata": {},
   "outputs": [],
   "source": [
    "#feature_tms = CategoricalTransformer(force_casting=True)\n",
    "#feature_tms = CategoricalTransformer([FT(trim), FT(replace, kw_args=categorical_missing_replacement_args), FT(transform_tags)])\n",
    "#feature_tms = CategoricalTransformer([FT(trim), FT(replace, kw_args=categorical_missing_replacement_args)], force_casting=True)\n",
    "#tranformed_train = feature_tms.fit_transform(X_train[:,12])\n",
    "#len(feature_tms.encoder.classes_)"
   ]
  },
  {
   "cell_type": "code",
   "execution_count": 21,
   "metadata": {},
   "outputs": [],
   "source": [
    "#feature_tms.transform(X_validation[:,12])\n",
    "#len(feature_tms.encoder.classes_)"
   ]
  },
  {
   "cell_type": "markdown",
   "metadata": {},
   "source": [
    "#### Functions"
   ]
  },
  {
   "cell_type": "code",
   "execution_count": 22,
   "metadata": {},
   "outputs": [],
   "source": [
    "def transform_tags(feature:np.ndarray) -> np.ndarray:\n",
    "    tms_1 = [value[1:-1] for value in feature]\n",
    "    tms_2 = [sorted(value.split(', ')) for value in tms_1]\n",
    "    tms_3 = [' '.join(value) for value in tms_2]\n",
    "    return np.array(tms_3, dtype=object)\n",
    "\n",
    "def replace(feature:np.ndarray, replacements:dict) -> np.ndarray:\n",
    "    replacements_keys = list(replacements.keys())\n",
    "    _data = feature.copy()\n",
    "    for i, item in enumerate(_data):\n",
    "        _data[i] = replacements[item] if item in replacements_keys else _data[i]\n",
    "        \n",
    "    return _data\n",
    "\n",
    "def trim(feature:np.ndarray) -> np.ndarray:\n",
    "    return np.array([level.strip() for level in feature])   "
   ]
  },
  {
   "cell_type": "code",
   "execution_count": 23,
   "metadata": {},
   "outputs": [],
   "source": [
    "boolean_replacement_args = {'replacements': {np.nan:3, True:1, False:0}}\n",
    "categorical_missing_replacement_args = {'replacements': {np.nan:'N/A'}}\n",
    "target_replacement_args = {'replacements': {True:1, False:0}}"
   ]
  },
  {
   "cell_type": "code",
   "execution_count": 24,
   "metadata": {},
   "outputs": [],
   "source": [
    "dataset_tranformer = DatasetTransformer([\n",
    "    # Categorical features - Boolean\n",
    "    ('free_shipping', CategoricalTransformer([FT(replace, kw_args=boolean_replacement_args)], force_casting=True)),\n",
    "    ('is_pdp', CategoricalTransformer([FT(replace, kw_args=boolean_replacement_args)], force_casting=True)),\n",
    "    # Categorical features\n",
    "    ('category_id', CategoricalTransformer([FT(trim), FT(replace, kw_args=categorical_missing_replacement_args)])),\n",
    "    ('deal_print_id', CategoricalTransformer([FT(trim), FT(replace, kw_args=categorical_missing_replacement_args)])),\n",
    "    ('domain_id', CategoricalTransformer([FT(trim), FT(replace, kw_args=categorical_missing_replacement_args)])),\n",
    "    ('product_id', CategoricalTransformer([FT(replace, kw_args=categorical_missing_replacement_args)], force_casting=True)),\n",
    "    ('item_id', CategoricalTransformer([FT(trim), FT(replace, kw_args=categorical_missing_replacement_args)])),\n",
    "    ('listing_type_id', CategoricalTransformer([FT(trim), FT(replace, kw_args=categorical_missing_replacement_args)])),\n",
    "    ('logistic_type', CategoricalTransformer([FT(trim), FT(replace, kw_args=categorical_missing_replacement_args)])),\n",
    "    ('platform', CategoricalTransformer([FT(trim), FT(replace, kw_args=categorical_missing_replacement_args)])),\n",
    "    ('tags', CategoricalTransformer([FT(trim), FT(replace, kw_args=categorical_missing_replacement_args), FT(transform_tags)])),\n",
    "    ('uid', CategoricalTransformer([FT(trim), FT(replace, kw_args=categorical_missing_replacement_args)])),\n",
    "    ('user_id', CategoricalTransformer([FT(replace, kw_args=categorical_missing_replacement_args)], force_casting=True)),\n",
    "    ('offset', CategoricalTransformer([FT(replace, kw_args=categorical_missing_replacement_args)], force_casting=True)),\n",
    "    ('print_position', CategoricalTransformer([FT(replace, kw_args=categorical_missing_replacement_args)], force_casting=True)),\n",
    "    \n",
    "    # Numerical features\n",
    "    ('available_quantity', NumericalTransformer()),\n",
    "    ('avg_gmv_item_sel', NumericalTransformer()),\n",
    "    ('avg_qty_orders_item_domain_30days', NumericalTransformer()),\n",
    "    ('avg_qty_orders_item_sel_30days', NumericalTransformer()),\n",
    "    ('health', NumericalTransformer()),\n",
    "    ('sold_quantity', NumericalTransformer()),\n",
    "    ('total_asp_item_domain_30days', NumericalTransformer()),\n",
    "    ('total_asp_item_sel_30days', NumericalTransformer()),\n",
    "    ('total_gmv_domain_bday', NumericalTransformer()),\n",
    "    ('total_gmv_item_30days', NumericalTransformer()),\n",
    "    ('total_items_seller', NumericalTransformer()),\n",
    "    ('total_orders_domain_30days', NumericalTransformer()),\n",
    "    ('total_orders_item_30days', NumericalTransformer()),\n",
    "    ('total_orders_sel_30days', NumericalTransformer()),\n",
    "\n",
    "    # Categorical Features extracted from \"date\"\n",
    "    ('day_of_week', CategoricalTransformer(force_casting=True)),\n",
    "    ('is_weekend', CategoricalTransformer(force_casting=True))],\n",
    "    \n",
    "    # Target\n",
    "    ('conversion', CategoricalTransformer([FT(replace, kw_args=target_replacement_args)], False))\n",
    ")"
   ]
  },
  {
   "cell_type": "code",
   "execution_count": 25,
   "metadata": {},
   "outputs": [
    {
     "name": "stdout",
     "output_type": "stream",
     "text": [
      "free_shipping\n",
      "is_pdp\n",
      "category_id\n",
      "deal_print_id\n",
      "domain_id\n",
      "product_id\n",
      "item_id\n",
      "listing_type_id\n",
      "logistic_type\n",
      "platform\n",
      "tags\n",
      "uid\n",
      "user_id\n",
      "offset\n",
      "print_position\n",
      "available_quantity\n",
      "avg_gmv_item_sel\n",
      "avg_qty_orders_item_domain_30days\n",
      "avg_qty_orders_item_sel_30days\n",
      "health\n",
      "sold_quantity\n",
      "total_asp_item_domain_30days\n",
      "total_asp_item_sel_30days\n",
      "total_gmv_domain_bday\n",
      "total_gmv_item_30days\n",
      "total_items_seller\n",
      "total_orders_domain_30days\n",
      "total_orders_item_30days\n",
      "total_orders_sel_30days\n",
      "day_of_week\n",
      "is_weekend\n",
      "CPU times: user 3.66 s, sys: 289 ms, total: 3.95 s\n",
      "Wall time: 3.97 s\n"
     ]
    }
   ],
   "source": [
    "%%time\n",
    "numerical_features_train, categorical_features_train, target_train = dataset_tranformer.fit_transform(X_train, Y_train)"
   ]
  },
  {
   "cell_type": "code",
   "execution_count": 26,
   "metadata": {},
   "outputs": [
    {
     "name": "stdout",
     "output_type": "stream",
     "text": [
      "CPU times: user 1min 2s, sys: 322 ms, total: 1min 2s\n",
      "Wall time: 1min 2s\n"
     ]
    }
   ],
   "source": [
    "%%time\n",
    "numerical_features_valition, categorical_features_validation, target_validation = dataset_tranformer.transform(X_validation, Y_valitation)"
   ]
  },
  {
   "cell_type": "code",
   "execution_count": 27,
   "metadata": {},
   "outputs": [
    {
     "name": "stdout",
     "output_type": "stream",
     "text": [
      "CPU times: user 38.2 s, sys: 256 ms, total: 38.5 s\n",
      "Wall time: 38.4 s\n"
     ]
    }
   ],
   "source": [
    "%%time\n",
    "numerical_features_test, categorical_features_test, _ = dataset_tranformer.transform(X_test)"
   ]
  },
  {
   "cell_type": "markdown",
   "metadata": {},
   "source": [
    "### Datasets and Dataloaders"
   ]
  },
  {
   "cell_type": "code",
   "execution_count": 28,
   "metadata": {},
   "outputs": [],
   "source": [
    "train_ds = TabularDataset(numerical_features_train, categorical_features_train, target_train)\n",
    "validation_ds = TabularDataset(numerical_features_valition, categorical_features_validation, target_validation)\n",
    "test_ds = TabularDataset(numerical_features_test, categorical_features_test)"
   ]
  },
  {
   "cell_type": "code",
   "execution_count": 29,
   "metadata": {},
   "outputs": [
    {
     "name": "stdout",
     "output_type": "stream",
     "text": [
      "0 -> x_numerical: tensor([-0.1778,  0.2387, -0.3372, -0.0541, -5.4541, -0.3291,  2.0516,  1.2797]), X_categorical: tensor([    1,     0,    46, 93235,   276,  1704, 16787,     1]) Y: tensor([0.])\n",
      "1 -> x_numerical: tensor([-0.1798, -0.2143, -0.4452, -0.3560,  0.0017, -0.3617, -0.2244, -0.2250]), X_categorical: tensor([    1,     0,   567, 13041,  1258,  3409, 15463,     1]) Y: tensor([0.])\n",
      "2 -> x_numerical: tensor([-0.1824, -0.2508, -0.6363, -0.4256, -0.0657, -0.2896, -0.5577, -0.4441]), X_categorical: tensor([    0,     0,    69, 98642,  1045,  3409,  8000,     1]) Y: tensor([0.])\n",
      "3 -> x_numerical: tensor([-0.1821, -0.1924, -0.3937, -0.0460,  1.2815, -0.3570, -0.4983, -0.5652]), X_categorical: tensor([     1,      0,    661, 113678,   1442,   3409,  19608,      0]) Y: tensor([0.])\n",
      "4 -> x_numerical: tensor([-1.8276e-01, -4.4881e-02, -5.9721e-01, -3.8491e-01,  1.6929e-03,\n",
      "         8.1559e-01, -2.8614e-01,  2.0904e+00]), X_categorical: tensor([    0,     0,   232, 67743,  1161,  2301,  2739,     1]) Y: tensor([0.])\n",
      "5 -> x_numerical: tensor([-0.1777, -0.1713,  0.3375, -0.3097,  1.2815,  0.6789,  0.5701,  0.1992]), X_categorical: tensor([    1,     0,   378, 16140,   289,  3409,    84,     0]) Y: tensor([1.])\n",
      "6 -> x_numerical: tensor([-0.1757, -0.1539,  0.4994,  0.2982,  0.1364, -0.2930, -0.4879, -0.5422]), X_categorical: tensor([     0,      2,    464, 128459,   1330,   1141,   4658,      1]) Y: tensor([0.])\n",
      "7 -> x_numerical: tensor([-0.1820, -0.2279,  0.3485, -0.2499, -0.2677,  2.1351, -0.4019, -0.6126]), X_categorical: tensor([    0,     0,  1130, 24077,   135,  3409,  3593,     1]) Y: tensor([0.])\n",
      "8 -> x_numerical: tensor([-0.1806, -0.1227,  0.2818, -0.2536, -0.6045, -0.2910, -0.1958,  0.4375]), X_categorical: tensor([     0,      0,   1776, 100023,    683,   2470,   5294,      1]) Y: tensor([1.])\n",
      "9 -> x_numerical: tensor([-0.1311,  0.4599,  2.0295,  0.0044,  0.4732, -0.1658, -0.0942,  1.4497]), X_categorical: tensor([     1,      2,   1777, 115697,   1393,   3409,   5799,      0]) Y: tensor([0.])\n"
     ]
    }
   ],
   "source": [
    "for i in range(10):\n",
    "    x_numerical, x_categorical, y = train_ds[i]\n",
    "    print(f'{i} -> x_numerical: {x_numerical[:8]}, X_categorical: {x_categorical[:8]} Y: {y}')"
   ]
  },
  {
   "cell_type": "code",
   "execution_count": 30,
   "metadata": {},
   "outputs": [
    {
     "name": "stdout",
     "output_type": "stream",
     "text": [
      "0 -> x_numerical: tensor([-0.1826, -0.2205,  0.0057, -0.0604, -0.2677, -0.2896, -0.2175, -0.6282]), X_categorical: tensor([     0,      2,     78, 112330,   1103,   3409,  15329,      1]) Y: tensor([0.])\n",
      "1 -> x_numerical: tensor([-0.1737, -0.2214, -0.5292, -0.3756, -1.0086, -0.3692, -0.2322, -0.2288]), X_categorical: tensor([    1,     0,    58, 41272,  1258,  3409, 23823,     1]) Y: tensor([0.])\n",
      "2 -> x_numerical: tensor([-1.7512e-01, -4.7177e-02,  3.0860e+00, -3.2400e-01,  1.6929e-03,\n",
      "        -3.6513e-01, -4.1326e-01,  5.4022e-01]), X_categorical: tensor([     0,      0,   1409, 173933,   1194,   3409,  24898,      0]) Y: tensor([0.])\n",
      "3 -> x_numerical: tensor([ 0.9279, -0.2271,  0.4713, -0.0373, -0.0657, -0.3617,  0.0896, -0.6601]), X_categorical: tensor([    0,     0,   749, 67529,   517,  3409, 16929,     1]) Y: tensor([0.])\n",
      "4 -> x_numerical: tensor([-0.1686, -0.2162, -0.3089, -0.3436,  0.0017, -0.3114, -0.2478, -0.2684]), X_categorical: tensor([     1,      2,    567, 120719,   1258,   3409,  10088,      1]) Y: tensor([0.])\n",
      "5 -> x_numerical: tensor([-0.1391, -0.2573, -0.5612, -0.4334, -0.0657,  0.0171, -0.4439, -0.5436]), X_categorical: tensor([    0,     0,  1643, 41715,   884,  3409, 11929,     0]) Y: tensor([0.])\n",
      "6 -> x_numerical: tensor([-0.1827, -0.2304, -0.9138, -0.0986,  0.4058,  0.2416, -0.5167, -0.6587]), X_categorical: tensor([    0,     0,   214, 65699,   388,  3409,  4054,     1]) Y: tensor([0.])\n",
      "7 -> x_numerical: tensor([-0.1605,  0.2975, -0.2379, -0.0477,  1.2815, -0.3508,  2.1478,  1.3957]), X_categorical: tensor([     1,      0,     46, 103112,    276,   2138,  19182,      0]) Y: tensor([0.])\n",
      "8 -> x_numerical: tensor([-0.0975, -0.1621,  0.5741,  0.0326,  0.0017, -0.1747, -0.0417, -0.3398]), X_categorical: tensor([    0,     2,    97, 95178,  1687,  3409,   601,     1]) Y: tensor([0.])\n",
      "9 -> x_numerical: tensor([-0.1816, -0.2343, -0.4683, -0.3946,  0.6753, -0.3542,  0.8306, -0.1019]), X_categorical: tensor([     1,      0,    180, 131010,    108,   3939,    621,      1]) Y: tensor([0.])\n"
     ]
    }
   ],
   "source": [
    "for i in range(10):\n",
    "    x_numerical, x_categorical, y = validation_ds[i]\n",
    "    print(f'{i} -> x_numerical: {x_numerical[:8]}, X_categorical: {x_categorical[:8]} Y: {y}')"
   ]
  },
  {
   "cell_type": "code",
   "execution_count": 31,
   "metadata": {},
   "outputs": [],
   "source": [
    "#for i in range(10):\n",
    "#    x_numerical, x_categorical, y = test_ds[i]\n",
    "#    print(f'{i} -> x_numerical: {x_numerical[:8]}, X_categorical: {x_categorical[:8]} Y: {y}')"
   ]
  },
  {
   "cell_type": "code",
   "execution_count": 32,
   "metadata": {},
   "outputs": [],
   "source": [
    "train_dl = DataLoader(train_ds, batch_size=1024, shuffle=True)\n",
    "\n",
    "train_dl_for_prediction = DataLoader(train_ds, batch_size=1024, shuffle=False)\n",
    "validation_dl = DataLoader(validation_ds, batch_size=1024, shuffle=False)\n",
    "test_dl = DataLoader(test_ds, batch_size=1024, shuffle=False)"
   ]
  },
  {
   "cell_type": "code",
   "execution_count": 33,
   "metadata": {},
   "outputs": [],
   "source": [
    "#for x_numerical, x_categorical, y in train_dl:\n",
    "#    print(f'{x_numerical.shape}, {x_categorical.shape}, {y.shape}')"
   ]
  },
  {
   "cell_type": "markdown",
   "metadata": {},
   "source": [
    "### Training the network"
   ]
  },
  {
   "cell_type": "code",
   "execution_count": 34,
   "metadata": {},
   "outputs": [
    {
     "data": {
      "text/plain": [
       "[(2, 1),\n",
       " (3, 1),\n",
       " (2284, 50),\n",
       " (196744, 50),\n",
       " (1742, 50),\n",
       " (4441, 50),\n",
       " (27695, 50),\n",
       " (2, 1),\n",
       " (7, 3),\n",
       " (4, 2),\n",
       " (324, 50),\n",
       " (159996, 50),\n",
       " (139111, 50),\n",
       " (209, 50),\n",
       " (10902, 50),\n",
       " (7, 3),\n",
       " (2, 1)]"
      ]
     },
     "execution_count": 34,
     "metadata": {},
     "output_type": "execute_result"
    }
   ],
   "source": [
    "embedding_dims = []\n",
    "for feature in categorical_features + new_categorical_features:\n",
    "    feature_tms = dataset_tranformer.get_feature_transformation(feature)\n",
    "    q_unique_values = len(feature_tms.encoder.classes_)\n",
    "    embedding_size = min(q_unique_values//2, 50)\n",
    "    mapping = (q_unique_values, embedding_size)\n",
    "    embedding_dims.append(mapping)\n",
    "\n",
    "embedding_dims"
   ]
  },
  {
   "cell_type": "code",
   "execution_count": 35,
   "metadata": {},
   "outputs": [],
   "source": [
    "model = FullyConnectedNetworkClassifier(\n",
    "    q_numerical_features = len(numerical_features), \n",
    "    q_categorical_features = len(categorical_features + new_categorical_features),\n",
    "    hidden_layers_size=[1024,512,128,64],\n",
    "    embedding_dims=embedding_dims\n",
    ")\n",
    "optimizer = Adam(model.parameters(), lr=1e-1)\n",
    "lr_scheduler = ExponentialLR(optimizer=optimizer, gamma=0.97)\n",
    "bceloss_fn = nn.BCELoss(reduction='mean')\n",
    "epochs=3"
   ]
  },
  {
   "cell_type": "code",
   "execution_count": 36,
   "metadata": {},
   "outputs": [
    {
     "data": {
      "text/plain": [
       "FullyConnectedNetworkClassifier(\n",
       "  (embeddings_layer): ModuleList(\n",
       "    (0): Embedding(2, 1)\n",
       "    (1): Embedding(3, 1)\n",
       "    (2): Embedding(2284, 50)\n",
       "    (3): Embedding(196744, 50)\n",
       "    (4): Embedding(1742, 50)\n",
       "    (5): Embedding(4441, 50)\n",
       "    (6): Embedding(27695, 50)\n",
       "    (7): Embedding(2, 1)\n",
       "    (8): Embedding(7, 3)\n",
       "    (9): Embedding(4, 2)\n",
       "    (10): Embedding(324, 50)\n",
       "    (11): Embedding(159996, 50)\n",
       "    (12): Embedding(139111, 50)\n",
       "    (13): Embedding(209, 50)\n",
       "    (14): Embedding(10902, 50)\n",
       "    (15): Embedding(7, 3)\n",
       "    (16): Embedding(2, 1)\n",
       "  )\n",
       "  (embedding_dropout): Dropout(p=0.6, inplace=False)\n",
       "  (layer_0): Sequential(\n",
       "    (0): Linear(in_features=526, out_features=1024, bias=True)\n",
       "    (1): ReLU()\n",
       "    (2): Dropout(p=0.3, inplace=False)\n",
       "    (3): BatchNorm1d(1024, eps=1e-05, momentum=0.1, affine=True, track_running_stats=True)\n",
       "  )\n",
       "  (layer_1): Sequential(\n",
       "    (0): Linear(in_features=1024, out_features=512, bias=True)\n",
       "    (1): ReLU()\n",
       "    (2): Dropout(p=0.3, inplace=False)\n",
       "    (3): BatchNorm1d(512, eps=1e-05, momentum=0.1, affine=True, track_running_stats=True)\n",
       "  )\n",
       "  (layer_2): Sequential(\n",
       "    (0): Linear(in_features=512, out_features=128, bias=True)\n",
       "    (1): ReLU()\n",
       "    (2): Dropout(p=0.3, inplace=False)\n",
       "    (3): BatchNorm1d(128, eps=1e-05, momentum=0.1, affine=True, track_running_stats=True)\n",
       "  )\n",
       "  (layer_3): Sequential(\n",
       "    (0): Linear(in_features=128, out_features=64, bias=True)\n",
       "    (1): ReLU()\n",
       "    (2): Dropout(p=0.3, inplace=False)\n",
       "    (3): BatchNorm1d(64, eps=1e-05, momentum=0.1, affine=True, track_running_stats=True)\n",
       "  )\n",
       "  (output): Sequential(\n",
       "    (0): Linear(in_features=64, out_features=1, bias=True)\n",
       "    (1): Sigmoid()\n",
       "  )\n",
       ")"
      ]
     },
     "execution_count": 36,
     "metadata": {},
     "output_type": "execute_result"
    }
   ],
   "source": [
    "model"
   ]
  },
  {
   "cell_type": "code",
   "execution_count": 37,
   "metadata": {},
   "outputs": [
    {
     "name": "stdout",
     "output_type": "stream",
     "text": [
      "CPU times: user 8min 52s, sys: 37.1 s, total: 9min 29s\n",
      "Wall time: 2min 44s\n"
     ]
    }
   ],
   "source": [
    "%%time\n",
    "losses = model.fit(train_dl=train_dl, epochs=epochs, loss_fn=bceloss_fn, opt=optimizer, scheduler=lr_scheduler)"
   ]
  },
  {
   "cell_type": "code",
   "execution_count": 38,
   "metadata": {},
   "outputs": [
    {
     "data": {
      "text/plain": [
       "[<matplotlib.lines.Line2D at 0x175ea1280>]"
      ]
     },
     "execution_count": 38,
     "metadata": {},
     "output_type": "execute_result"
    },
    {
     "data": {
      "image/png": "[encoded data removed]",
      "text/plain": [
       "<Figure size 432x288 with 1 Axes>"
      ]
     },
     "metadata": {
      "needs_background": "light"
     },
     "output_type": "display_data"
    }
   ],
   "source": [
    "plt.plot(range(len(losses)), losses)"
   ]
  },
  {
   "cell_type": "markdown",
   "metadata": {},
   "source": [
    "### Validating the net"
   ]
  },
  {
   "cell_type": "code",
   "execution_count": 39,
   "metadata": {},
   "outputs": [],
   "source": [
    "x_numerical_train, x_categorical_train, y_train = train_ds.reverse_transform()"
   ]
  },
  {
   "cell_type": "code",
   "execution_count": 40,
   "metadata": {},
   "outputs": [],
   "source": [
    "x_numerical_val, x_categorical_val, y_val = validation_ds.reverse_transform()"
   ]
  },
  {
   "cell_type": "code",
   "execution_count": 41,
   "metadata": {},
   "outputs": [],
   "source": [
    "x_numerical_test, x_categorical_test, _ = test_ds.reverse_transform()"
   ]
  },
  {
   "cell_type": "code",
   "execution_count": 42,
   "metadata": {},
   "outputs": [],
   "source": [
    "y_train_pred = model.predict(train_dl_for_prediction).numpy().squeeze()"
   ]
  },
  {
   "cell_type": "code",
   "execution_count": 43,
   "metadata": {},
   "outputs": [],
   "source": [
    "y_val_pred = model.predict(validation_dl).numpy().squeeze()"
   ]
  },
  {
   "cell_type": "code",
   "execution_count": 44,
   "metadata": {},
   "outputs": [],
   "source": [
    "y_test_pred = model.predict(test_dl).numpy().squeeze()"
   ]
  },
  {
   "cell_type": "markdown",
   "metadata": {},
   "source": [
    "#### Training"
   ]
  },
  {
   "cell_type": "code",
   "execution_count": 45,
   "metadata": {},
   "outputs": [
    {
     "name": "stdout",
     "output_type": "stream",
     "text": [
      "Auc Roc in training: 0.930069730591593\n"
     ]
    }
   ],
   "source": [
    "aucroc_train = roc_auc_score(y_train, y_train_pred)\n",
    "print(f'Auc Roc in training: {aucroc_train}')"
   ]
  },
  {
   "cell_type": "code",
   "execution_count": 46,
   "metadata": {},
   "outputs": [
    {
     "name": "stdout",
     "output_type": "stream",
     "text": [
      "Accuracy in training: 0.9226112485198394\n"
     ]
    }
   ],
   "source": [
    "accuracy_train = accuracy_score(y_train, [1 if pred >= .5 else 0 for pred in y_train_pred])\n",
    "print(f'Accuracy in training: {accuracy_train}')"
   ]
  },
  {
   "cell_type": "markdown",
   "metadata": {},
   "source": [
    "#### Validation"
   ]
  },
  {
   "cell_type": "code",
   "execution_count": 47,
   "metadata": {},
   "outputs": [
    {
     "name": "stdout",
     "output_type": "stream",
     "text": [
      "Auc Roc in test: 0.8594174323303001\n"
     ]
    }
   ],
   "source": [
    "aucroc_val = roc_auc_score(y_val, y_val_pred)\n",
    "print(f'Auc Roc in test: {aucroc_val}')"
   ]
  },
  {
   "cell_type": "code",
   "execution_count": 48,
   "metadata": {},
   "outputs": [
    {
     "name": "stdout",
     "output_type": "stream",
     "text": [
      "Accuracy in test: 0.9029968454258676\n"
     ]
    }
   ],
   "source": [
    "accuracy_val = accuracy_score(y_val, [1 if pred >= .5 else 0 for pred in y_val_pred])\n",
    "print(f'Accuracy in test: {accuracy_val}')"
   ]
  },
  {
   "cell_type": "markdown",
   "metadata": {},
   "source": [
    "#### Testing submission"
   ]
  },
  {
   "cell_type": "code",
   "execution_count": 51,
   "metadata": {},
   "outputs": [
    {
     "data": {
      "text/plain": [
       "array([0.00653152, 0.00143854, 0.24205764, 0.00068901, 0.26798746],\n",
       "      dtype=float32)"
      ]
     },
     "execution_count": 51,
     "metadata": {},
     "output_type": "execute_result"
    }
   ],
   "source": [
    "y_test_pred[:5]"
   ]
  },
  {
   "cell_type": "code",
   "execution_count": 52,
   "metadata": {},
   "outputs": [
    {
     "data": {
      "text/html": [
       "<div>\n",
       "<style scoped>\n",
       "    .dataframe tbody tr th:only-of-type {\n",
       "        vertical-align: middle;\n",
       "    }\n",
       "\n",
       "    .dataframe tbody tr th {\n",
       "        vertical-align: top;\n",
       "    }\n",
       "\n",
       "    .dataframe thead th {\n",
       "        text-align: right;\n",
       "    }\n",
       "</style>\n",
       "<table border=\"1\" class=\"dataframe\">\n",
       "  <thead>\n",
       "    <tr style=\"text-align: right;\">\n",
       "      <th></th>\n",
       "      <th>ROW_ID</th>\n",
       "      <th>conversion</th>\n",
       "    </tr>\n",
       "  </thead>\n",
       "  <tbody>\n",
       "    <tr>\n",
       "      <th>19206</th>\n",
       "      <td>19206</td>\n",
       "      <td>0.0473</td>\n",
       "    </tr>\n",
       "    <tr>\n",
       "      <th>19207</th>\n",
       "      <td>19207</td>\n",
       "      <td>0.0560</td>\n",
       "    </tr>\n",
       "    <tr>\n",
       "      <th>19208</th>\n",
       "      <td>19208</td>\n",
       "      <td>0.0039</td>\n",
       "    </tr>\n",
       "    <tr>\n",
       "      <th>19209</th>\n",
       "      <td>19209</td>\n",
       "      <td>0.0465</td>\n",
       "    </tr>\n",
       "    <tr>\n",
       "      <th>19210</th>\n",
       "      <td>19210</td>\n",
       "      <td>0.0013</td>\n",
       "    </tr>\n",
       "  </tbody>\n",
       "</table>\n",
       "</div>"
      ],
      "text/plain": [
       "       ROW_ID  conversion\n",
       "19206   19206      0.0473\n",
       "19207   19207      0.0560\n",
       "19208   19208      0.0039\n",
       "19209   19209      0.0465\n",
       "19210   19210      0.0013"
      ]
     },
     "execution_count": 52,
     "metadata": {},
     "output_type": "execute_result"
    }
   ],
   "source": [
    "submission = pd.DataFrame({\n",
    "    'conversion': y_test_pred\n",
    "}).reset_index().rename({'index':'ROW_ID'}, axis=1)\n",
    "submission['conversion'] = np.round(submission['conversion'], 4)\n",
    "submission.tail()"
   ]
  },
  {
   "cell_type": "code",
   "execution_count": 53,
   "metadata": {},
   "outputs": [],
   "source": [
    "submission.to_csv('submissions/submission.csv.gz', compression='gzip', index=False)"
   ]
  }
 ],
 "metadata": {
  "kernelspec": {
   "display_name": "Python 3",
   "language": "python",
   "name": "python3"
  },
  "language_info": {
   "codemirror_mode": {
    "name": "ipython",
    "version": 3
   },
   "file_extension": ".py",
   "mimetype": "text/x-python",
   "name": "python",
   "nbconvert_exporter": "python",
   "pygments_lexer": "ipython3",
   "version": "3.8.5"
  }
 },
 "nbformat": 4,
 "nbformat_minor": 4
}
