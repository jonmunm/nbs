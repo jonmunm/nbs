{
 "cells": [
  {
   "cell_type": "code",
   "execution_count": 1,
   "metadata": {},
   "outputs": [],
   "source": [
    "import sys\n",
    "sys.path.append('.')\n",
    "\n",
    "import pandas as pd\n",
    "import numpy as np\n",
    "from datetime import datetime, timedelta\n",
    "\n",
    "import sklearn\n",
    "from sklearn.metrics import roc_auc_score, accuracy_score\n",
    "from sklearn.preprocessing import FunctionTransformer as FT\n",
    "\n",
    "from lib.Extractor import FeatureExtractor\n",
    "from lib.Models import FullyConnectedNetworkRegressor\n",
    "from lib.Datasets import TabularDataset\n",
    "from lib.Transformers import NumericalTransformer, CategoricalTransformer, DatasetTransformer\n",
    "\n",
    "%matplotlib inline\n",
    "import matplotlib.pyplot as plt\n",
    "\n",
    "import torch\n",
    "import torch.nn as nn\n",
    "from torch.optim import Adam\n",
    "from torch.optim.lr_scheduler import ExponentialLR\n",
    "from torch.utils.data import DataLoader"
   ]
  },
  {
   "cell_type": "code",
   "execution_count": 2,
   "metadata": {},
   "outputs": [
    {
     "name": "stdout",
     "output_type": "stream",
     "text": [
      "0.23.2\n",
      "1.19.1\n"
     ]
    },
    {
     "data": {
      "text/plain": [
       "(None, None)"
      ]
     },
     "execution_count": 2,
     "metadata": {},
     "output_type": "execute_result"
    }
   ],
   "source": [
    "print(sklearn.__version__), print(np.__version__)"
   ]
  },
  {
   "cell_type": "markdown",
   "metadata": {},
   "source": [
    "##### Reproducibility"
   ]
  },
  {
   "cell_type": "code",
   "execution_count": 3,
   "metadata": {},
   "outputs": [],
   "source": [
    "torch.manual_seed(0)\n",
    "np.random.seed(0)"
   ]
  },
  {
   "cell_type": "markdown",
   "metadata": {},
   "source": [
    "### Training set"
   ]
  },
  {
   "cell_type": "code",
   "execution_count": 4,
   "metadata": {},
   "outputs": [
    {
     "name": "stdout",
     "output_type": "stream",
     "text": [
      "180,761 registros a las 2020-09-09 01:48:43.667521\n"
     ]
    },
    {
     "data": {
      "text/html": [
       "<div>\n",
       "<style scoped>\n",
       "    .dataframe tbody tr th:only-of-type {\n",
       "        vertical-align: middle;\n",
       "    }\n",
       "\n",
       "    .dataframe tbody tr th {\n",
       "        vertical-align: top;\n",
       "    }\n",
       "\n",
       "    .dataframe thead th {\n",
       "        text-align: right;\n",
       "    }\n",
       "</style>\n",
       "<table border=\"1\" class=\"dataframe\">\n",
       "  <thead>\n",
       "    <tr style=\"text-align: right;\">\n",
       "      <th></th>\n",
       "      <th>accepts_mercadopago</th>\n",
       "      <th>available_quantity</th>\n",
       "      <th>avg_gmv_item_domain_30days</th>\n",
       "      <th>avg_gmv_item_sel</th>\n",
       "      <th>avg_gmv_seller_bday</th>\n",
       "      <th>avg_qty_orders_item_domain_30days</th>\n",
       "      <th>avg_qty_orders_item_sel_30days</th>\n",
       "      <th>avg_si_item_sel_30day</th>\n",
       "      <th>benefit</th>\n",
       "      <th>boosted</th>\n",
       "      <th>...</th>\n",
       "      <th>total_orders_sel_30days</th>\n",
       "      <th>total_si_domain_30days</th>\n",
       "      <th>total_si_item_30days</th>\n",
       "      <th>total_si_sel_30days</th>\n",
       "      <th>total_visits_domain</th>\n",
       "      <th>total_visits_item</th>\n",
       "      <th>total_visits_seller</th>\n",
       "      <th>uid</th>\n",
       "      <th>user_id</th>\n",
       "      <th>warranty</th>\n",
       "    </tr>\n",
       "  </thead>\n",
       "  <tbody>\n",
       "    <tr>\n",
       "      <th>0</th>\n",
       "      <td>True</td>\n",
       "      <td>59</td>\n",
       "      <td>938.031376</td>\n",
       "      <td>2153.933091</td>\n",
       "      <td>135195.200333</td>\n",
       "      <td>3.430563</td>\n",
       "      <td>12.407860</td>\n",
       "      <td>13.691450</td>\n",
       "      <td>0.001</td>\n",
       "      <td>False</td>\n",
       "      <td>...</td>\n",
       "      <td>23364.0</td>\n",
       "      <td>56717.0</td>\n",
       "      <td>17.0</td>\n",
       "      <td>25781.0</td>\n",
       "      <td>7993972</td>\n",
       "      <td>543</td>\n",
       "      <td>854813</td>\n",
       "      <td>cb5bfac7-229a-4e3e-96dd-80b2ad3972c1</td>\n",
       "      <td>NaN</td>\n",
       "      <td>Garantía de fábrica: 12 meses</td>\n",
       "    </tr>\n",
       "    <tr>\n",
       "      <th>1</th>\n",
       "      <td>True</td>\n",
       "      <td>37</td>\n",
       "      <td>159.826531</td>\n",
       "      <td>240.325973</td>\n",
       "      <td>19338.230000</td>\n",
       "      <td>3.142739</td>\n",
       "      <td>4.429577</td>\n",
       "      <td>4.511599</td>\n",
       "      <td>0.001</td>\n",
       "      <td>False</td>\n",
       "      <td>...</td>\n",
       "      <td>10693.0</td>\n",
       "      <td>81455.0</td>\n",
       "      <td>5.0</td>\n",
       "      <td>10891.0</td>\n",
       "      <td>7821316</td>\n",
       "      <td>1789</td>\n",
       "      <td>1422288</td>\n",
       "      <td>b0f9aa19-00d5-4afd-aa77-45be7c849562</td>\n",
       "      <td>NaN</td>\n",
       "      <td>NaN</td>\n",
       "    </tr>\n",
       "    <tr>\n",
       "      <th>2</th>\n",
       "      <td>True</td>\n",
       "      <td>9</td>\n",
       "      <td>67.635391</td>\n",
       "      <td>86.066296</td>\n",
       "      <td>154.919333</td>\n",
       "      <td>2.633771</td>\n",
       "      <td>2.592593</td>\n",
       "      <td>2.722222</td>\n",
       "      <td>0.001</td>\n",
       "      <td>False</td>\n",
       "      <td>...</td>\n",
       "      <td>140.0</td>\n",
       "      <td>16792.0</td>\n",
       "      <td>8.0</td>\n",
       "      <td>147.0</td>\n",
       "      <td>1303909</td>\n",
       "      <td>1473</td>\n",
       "      <td>17801</td>\n",
       "      <td>fd59890a-f2c2-4282-b2ee-c68f25e20697</td>\n",
       "      <td>151157147.0</td>\n",
       "      <td>NaN</td>\n",
       "    </tr>\n",
       "    <tr>\n",
       "      <th>3</th>\n",
       "      <td>True</td>\n",
       "      <td>12</td>\n",
       "      <td>92.085756</td>\n",
       "      <td>332.848400</td>\n",
       "      <td>554.747333</td>\n",
       "      <td>3.280069</td>\n",
       "      <td>12.620000</td>\n",
       "      <td>12.840000</td>\n",
       "      <td>0.001</td>\n",
       "      <td>False</td>\n",
       "      <td>...</td>\n",
       "      <td>631.0</td>\n",
       "      <td>1988.0</td>\n",
       "      <td>14.0</td>\n",
       "      <td>642.0</td>\n",
       "      <td>139419</td>\n",
       "      <td>7473</td>\n",
       "      <td>44336</td>\n",
       "      <td>72340acf-2a1c-4214-a604-132e0cb56939</td>\n",
       "      <td>NaN</td>\n",
       "      <td>Garantía de fábrica: 90 días</td>\n",
       "    </tr>\n",
       "    <tr>\n",
       "      <th>4</th>\n",
       "      <td>True</td>\n",
       "      <td>5</td>\n",
       "      <td>156.905222</td>\n",
       "      <td>955.997475</td>\n",
       "      <td>3154.791667</td>\n",
       "      <td>2.737876</td>\n",
       "      <td>3.666667</td>\n",
       "      <td>4.363636</td>\n",
       "      <td>0.001</td>\n",
       "      <td>False</td>\n",
       "      <td>...</td>\n",
       "      <td>363.0</td>\n",
       "      <td>8707.0</td>\n",
       "      <td>32.0</td>\n",
       "      <td>432.0</td>\n",
       "      <td>209373</td>\n",
       "      <td>416</td>\n",
       "      <td>46206</td>\n",
       "      <td>84da1314-814c-4d4f-be23-3de9ea1da4b6</td>\n",
       "      <td>NaN</td>\n",
       "      <td>Garantía del vendedor: 90 días</td>\n",
       "    </tr>\n",
       "  </tbody>\n",
       "</table>\n",
       "<p>5 rows × 56 columns</p>\n",
       "</div>"
      ],
      "text/plain": [
       "   accepts_mercadopago  available_quantity  avg_gmv_item_domain_30days  \\\n",
       "0                 True                  59                  938.031376   \n",
       "1                 True                  37                  159.826531   \n",
       "2                 True                   9                   67.635391   \n",
       "3                 True                  12                   92.085756   \n",
       "4                 True                   5                  156.905222   \n",
       "\n",
       "   avg_gmv_item_sel  avg_gmv_seller_bday  avg_qty_orders_item_domain_30days  \\\n",
       "0       2153.933091        135195.200333                           3.430563   \n",
       "1        240.325973         19338.230000                           3.142739   \n",
       "2         86.066296           154.919333                           2.633771   \n",
       "3        332.848400           554.747333                           3.280069   \n",
       "4        955.997475          3154.791667                           2.737876   \n",
       "\n",
       "   avg_qty_orders_item_sel_30days  avg_si_item_sel_30day  benefit  boosted  \\\n",
       "0                       12.407860              13.691450    0.001    False   \n",
       "1                        4.429577               4.511599    0.001    False   \n",
       "2                        2.592593               2.722222    0.001    False   \n",
       "3                       12.620000              12.840000    0.001    False   \n",
       "4                        3.666667               4.363636    0.001    False   \n",
       "\n",
       "   ... total_orders_sel_30days  total_si_domain_30days total_si_item_30days  \\\n",
       "0  ...                 23364.0                 56717.0                 17.0   \n",
       "1  ...                 10693.0                 81455.0                  5.0   \n",
       "2  ...                   140.0                 16792.0                  8.0   \n",
       "3  ...                   631.0                  1988.0                 14.0   \n",
       "4  ...                   363.0                  8707.0                 32.0   \n",
       "\n",
       "  total_si_sel_30days total_visits_domain total_visits_item  \\\n",
       "0             25781.0             7993972               543   \n",
       "1             10891.0             7821316              1789   \n",
       "2               147.0             1303909              1473   \n",
       "3               642.0              139419              7473   \n",
       "4               432.0              209373               416   \n",
       "\n",
       "   total_visits_seller                                   uid      user_id  \\\n",
       "0               854813  cb5bfac7-229a-4e3e-96dd-80b2ad3972c1          NaN   \n",
       "1              1422288  b0f9aa19-00d5-4afd-aa77-45be7c849562          NaN   \n",
       "2                17801  fd59890a-f2c2-4282-b2ee-c68f25e20697  151157147.0   \n",
       "3                44336  72340acf-2a1c-4214-a604-132e0cb56939          NaN   \n",
       "4                46206  84da1314-814c-4d4f-be23-3de9ea1da4b6          NaN   \n",
       "\n",
       "                         warranty  \n",
       "0   Garantía de fábrica: 12 meses  \n",
       "1                             NaN  \n",
       "2                             NaN  \n",
       "3    Garantía de fábrica: 90 días  \n",
       "4  Garantía del vendedor: 90 días  \n",
       "\n",
       "[5 rows x 56 columns]"
      ]
     },
     "execution_count": 4,
     "metadata": {},
     "output_type": "execute_result"
    }
   ],
   "source": [
    "train_df = pd.read_csv('train.csv.gz', compression='gzip', header=0, sep=',', error_bad_lines=False)\n",
    "print('{0:,} registros a las {1}'.format(len(train_df), datetime.now()))\n",
    "train_df.head()"
   ]
  },
  {
   "cell_type": "markdown",
   "metadata": {},
   "source": [
    "### Test set"
   ]
  },
  {
   "cell_type": "code",
   "execution_count": 5,
   "metadata": {},
   "outputs": [
    {
     "name": "stdout",
     "output_type": "stream",
     "text": [
      "19,211 registros a las 2020-09-09 01:48:43.865863\n"
     ]
    },
    {
     "data": {
      "text/html": [
       "<div>\n",
       "<style scoped>\n",
       "    .dataframe tbody tr th:only-of-type {\n",
       "        vertical-align: middle;\n",
       "    }\n",
       "\n",
       "    .dataframe tbody tr th {\n",
       "        vertical-align: top;\n",
       "    }\n",
       "\n",
       "    .dataframe thead th {\n",
       "        text-align: right;\n",
       "    }\n",
       "</style>\n",
       "<table border=\"1\" class=\"dataframe\">\n",
       "  <thead>\n",
       "    <tr style=\"text-align: right;\">\n",
       "      <th></th>\n",
       "      <th>accepts_mercadopago</th>\n",
       "      <th>available_quantity</th>\n",
       "      <th>avg_gmv_item_domain_30days</th>\n",
       "      <th>avg_gmv_item_sel</th>\n",
       "      <th>avg_gmv_seller_bday</th>\n",
       "      <th>avg_qty_orders_item_domain_30days</th>\n",
       "      <th>avg_qty_orders_item_sel_30days</th>\n",
       "      <th>avg_si_item_sel_30day</th>\n",
       "      <th>benefit</th>\n",
       "      <th>boosted</th>\n",
       "      <th>...</th>\n",
       "      <th>total_si_domain_30days</th>\n",
       "      <th>total_si_item_30days</th>\n",
       "      <th>total_si_sel_30days</th>\n",
       "      <th>total_visits_domain</th>\n",
       "      <th>total_visits_item</th>\n",
       "      <th>total_visits_seller</th>\n",
       "      <th>uid</th>\n",
       "      <th>user_id</th>\n",
       "      <th>warranty</th>\n",
       "      <th>ROW_ID</th>\n",
       "    </tr>\n",
       "  </thead>\n",
       "  <tbody>\n",
       "    <tr>\n",
       "      <th>0</th>\n",
       "      <td>True</td>\n",
       "      <td>4</td>\n",
       "      <td>98.426510</td>\n",
       "      <td>91.979648</td>\n",
       "      <td>3657.724000</td>\n",
       "      <td>3.589443</td>\n",
       "      <td>3.461023</td>\n",
       "      <td>4.988265</td>\n",
       "      <td>0.001</td>\n",
       "      <td>False</td>\n",
       "      <td>...</td>\n",
       "      <td>1364.0</td>\n",
       "      <td>18.0</td>\n",
       "      <td>5951.0</td>\n",
       "      <td>40954</td>\n",
       "      <td>300</td>\n",
       "      <td>100477</td>\n",
       "      <td>703f4bd1-cc3e-4102-8cfa-fe3cdd15ebb7</td>\n",
       "      <td>233223201.0</td>\n",
       "      <td>Garantia de fabrica</td>\n",
       "      <td>0</td>\n",
       "    </tr>\n",
       "    <tr>\n",
       "      <th>1</th>\n",
       "      <td>True</td>\n",
       "      <td>12</td>\n",
       "      <td>242.485208</td>\n",
       "      <td>821.376944</td>\n",
       "      <td>985.652333</td>\n",
       "      <td>3.215580</td>\n",
       "      <td>26.222222</td>\n",
       "      <td>28.388889</td>\n",
       "      <td>0.001</td>\n",
       "      <td>False</td>\n",
       "      <td>...</td>\n",
       "      <td>3724.0</td>\n",
       "      <td>41.0</td>\n",
       "      <td>1022.0</td>\n",
       "      <td>135133</td>\n",
       "      <td>926</td>\n",
       "      <td>44033</td>\n",
       "      <td>d714e65e-5447-4f7d-9a4e-aaa57efa6107</td>\n",
       "      <td>337881137.0</td>\n",
       "      <td>NaN</td>\n",
       "      <td>1</td>\n",
       "    </tr>\n",
       "    <tr>\n",
       "      <th>2</th>\n",
       "      <td>True</td>\n",
       "      <td>5</td>\n",
       "      <td>2450.533424</td>\n",
       "      <td>1365.504354</td>\n",
       "      <td>33454.856667</td>\n",
       "      <td>7.097276</td>\n",
       "      <td>14.646259</td>\n",
       "      <td>15.217687</td>\n",
       "      <td>0.001</td>\n",
       "      <td>False</td>\n",
       "      <td>...</td>\n",
       "      <td>1839.0</td>\n",
       "      <td>71.0</td>\n",
       "      <td>11185.0</td>\n",
       "      <td>204788</td>\n",
       "      <td>8457</td>\n",
       "      <td>716157</td>\n",
       "      <td>299cb623-b71c-4f9d-b792-48d5744f0449</td>\n",
       "      <td>86609353.0</td>\n",
       "      <td>Garantía de fábrica: 12 meses</td>\n",
       "      <td>2</td>\n",
       "    </tr>\n",
       "    <tr>\n",
       "      <th>3</th>\n",
       "      <td>True</td>\n",
       "      <td>9052</td>\n",
       "      <td>157.735448</td>\n",
       "      <td>78.692131</td>\n",
       "      <td>160.007333</td>\n",
       "      <td>4.927390</td>\n",
       "      <td>2.983607</td>\n",
       "      <td>3.524590</td>\n",
       "      <td>0.001</td>\n",
       "      <td>False</td>\n",
       "      <td>...</td>\n",
       "      <td>85528.0</td>\n",
       "      <td>44.0</td>\n",
       "      <td>215.0</td>\n",
       "      <td>1404477</td>\n",
       "      <td>1907</td>\n",
       "      <td>6580</td>\n",
       "      <td>f2060244-f0da-43db-91b7-4c1bb5f99e67</td>\n",
       "      <td>430797570.0</td>\n",
       "      <td>Sin garantía</td>\n",
       "      <td>3</td>\n",
       "    </tr>\n",
       "    <tr>\n",
       "      <th>4</th>\n",
       "      <td>True</td>\n",
       "      <td>37</td>\n",
       "      <td>116.891454</td>\n",
       "      <td>163.245653</td>\n",
       "      <td>4043.050667</td>\n",
       "      <td>2.937837</td>\n",
       "      <td>7.257066</td>\n",
       "      <td>19.771198</td>\n",
       "      <td>0.001</td>\n",
       "      <td>False</td>\n",
       "      <td>...</td>\n",
       "      <td>61466.0</td>\n",
       "      <td>274.0</td>\n",
       "      <td>14690.0</td>\n",
       "      <td>1466424</td>\n",
       "      <td>2633</td>\n",
       "      <td>215184</td>\n",
       "      <td>d7f3b7f4-a9fa-4bd8-a600-3f2714480779</td>\n",
       "      <td>6566243.0</td>\n",
       "      <td>Garantía de fábrica: 6 meses</td>\n",
       "      <td>4</td>\n",
       "    </tr>\n",
       "  </tbody>\n",
       "</table>\n",
       "<p>5 rows × 56 columns</p>\n",
       "</div>"
      ],
      "text/plain": [
       "   accepts_mercadopago  available_quantity  avg_gmv_item_domain_30days  \\\n",
       "0                 True                   4                   98.426510   \n",
       "1                 True                  12                  242.485208   \n",
       "2                 True                   5                 2450.533424   \n",
       "3                 True                9052                  157.735448   \n",
       "4                 True                  37                  116.891454   \n",
       "\n",
       "   avg_gmv_item_sel  avg_gmv_seller_bday  avg_qty_orders_item_domain_30days  \\\n",
       "0         91.979648          3657.724000                           3.589443   \n",
       "1        821.376944           985.652333                           3.215580   \n",
       "2       1365.504354         33454.856667                           7.097276   \n",
       "3         78.692131           160.007333                           4.927390   \n",
       "4        163.245653          4043.050667                           2.937837   \n",
       "\n",
       "   avg_qty_orders_item_sel_30days  avg_si_item_sel_30day  benefit  boosted  \\\n",
       "0                        3.461023               4.988265    0.001    False   \n",
       "1                       26.222222              28.388889    0.001    False   \n",
       "2                       14.646259              15.217687    0.001    False   \n",
       "3                        2.983607               3.524590    0.001    False   \n",
       "4                        7.257066              19.771198    0.001    False   \n",
       "\n",
       "   ... total_si_domain_30days total_si_item_30days total_si_sel_30days  \\\n",
       "0  ...                 1364.0                 18.0              5951.0   \n",
       "1  ...                 3724.0                 41.0              1022.0   \n",
       "2  ...                 1839.0                 71.0             11185.0   \n",
       "3  ...                85528.0                 44.0               215.0   \n",
       "4  ...                61466.0                274.0             14690.0   \n",
       "\n",
       "  total_visits_domain total_visits_item  total_visits_seller  \\\n",
       "0               40954               300               100477   \n",
       "1              135133               926                44033   \n",
       "2              204788              8457               716157   \n",
       "3             1404477              1907                 6580   \n",
       "4             1466424              2633               215184   \n",
       "\n",
       "                                    uid      user_id  \\\n",
       "0  703f4bd1-cc3e-4102-8cfa-fe3cdd15ebb7  233223201.0   \n",
       "1  d714e65e-5447-4f7d-9a4e-aaa57efa6107  337881137.0   \n",
       "2  299cb623-b71c-4f9d-b792-48d5744f0449   86609353.0   \n",
       "3  f2060244-f0da-43db-91b7-4c1bb5f99e67  430797570.0   \n",
       "4  d7f3b7f4-a9fa-4bd8-a600-3f2714480779    6566243.0   \n",
       "\n",
       "                        warranty ROW_ID  \n",
       "0            Garantia de fabrica      0  \n",
       "1                            NaN      1  \n",
       "2  Garantía de fábrica: 12 meses      2  \n",
       "3                   Sin garantía      3  \n",
       "4   Garantía de fábrica: 6 meses      4  \n",
       "\n",
       "[5 rows x 56 columns]"
      ]
     },
     "execution_count": 5,
     "metadata": {},
     "output_type": "execute_result"
    }
   ],
   "source": [
    "test_df = pd.read_csv('test.csv', sep=',')\n",
    "print('{0:,} registros a las {1}'.format(len(test_df), datetime.now()))\n",
    "test_df.head()"
   ]
  },
  {
   "cell_type": "markdown",
   "metadata": {},
   "source": [
    "### Selected features"
   ]
  },
  {
   "cell_type": "code",
   "execution_count": 6,
   "metadata": {},
   "outputs": [],
   "source": [
    "numerical_features = [\n",
    "    'available_quantity',\n",
    "    'avg_gmv_item_sel',\n",
    "    'avg_qty_orders_item_domain_30days',\n",
    "    'avg_qty_orders_item_sel_30days',\n",
    "    'health', \n",
    "    'sold_quantity',\n",
    "    'total_asp_item_domain_30days',\n",
    "    'total_asp_item_sel_30days',\n",
    "    'total_gmv_domain_bday',\n",
    "    'total_gmv_item_30days',\n",
    "    'total_items_seller',\n",
    "    'total_orders_domain_30days',\n",
    "    'total_orders_item_30days',\n",
    "    'total_orders_sel_30days',  \n",
    "]\n",
    "\n",
    "categorical_features = [\n",
    "    'free_shipping',\n",
    "    'is_pdp',\n",
    "    \n",
    "    # Categoricals\n",
    "    'category_id',\n",
    "    'deal_print_id',\n",
    "    'domain_id',\n",
    "    'product_id',\n",
    "    'item_id',\n",
    "    'listing_type_id',\n",
    "    'logistic_type',\n",
    "    'platform',\n",
    "    'tags',\n",
    "    'uid',\n",
    "    'user_id',\n",
    "    'offset',  \n",
    "    'print_position',\n",
    "]\n",
    "\n",
    "date_features = ['date']\n",
    "new_categorical_features = ['day_of_week', 'is_weekend']\n",
    "target_column = ['conversion']"
   ]
  },
  {
   "cell_type": "code",
   "execution_count": 7,
   "metadata": {},
   "outputs": [
    {
     "data": {
      "text/plain": [
       "(14, 15, 1, 31)"
      ]
     },
     "execution_count": 7,
     "metadata": {},
     "output_type": "execute_result"
    }
   ],
   "source": [
    "len(numerical_features), len(categorical_features), len(date_features), len(numerical_features+categorical_features+new_categorical_features)"
   ]
  },
  {
   "cell_type": "markdown",
   "metadata": {},
   "source": [
    "### Training and Validation set's split"
   ]
  },
  {
   "cell_type": "code",
   "execution_count": 8,
   "metadata": {},
   "outputs": [
    {
     "data": {
      "text/plain": [
       "36152"
      ]
     },
     "execution_count": 8,
     "metadata": {},
     "output_type": "execute_result"
    }
   ],
   "source": [
    "validation_size = 20*len(train_df)//100\n",
    "validation_size"
   ]
  },
  {
   "cell_type": "code",
   "execution_count": 9,
   "metadata": {},
   "outputs": [
    {
     "data": {
      "text/plain": [
       "144609"
      ]
     },
     "execution_count": 9,
     "metadata": {},
     "output_type": "execute_result"
    }
   ],
   "source": [
    "train_idxs = len(train_df) - validation_size\n",
    "train_idxs"
   ]
  },
  {
   "cell_type": "code",
   "execution_count": 10,
   "metadata": {},
   "outputs": [],
   "source": [
    "train_df.sort_values('print_server_timestamp', ascending=True, inplace=True)\n",
    "validation_df = train_df.iloc[train_idxs:]\n",
    "train_df = train_df.iloc[:train_idxs]"
   ]
  },
  {
   "cell_type": "code",
   "execution_count": 11,
   "metadata": {},
   "outputs": [
    {
     "data": {
      "text/plain": [
       "(144609, 36152, 180761)"
      ]
     },
     "execution_count": 11,
     "metadata": {},
     "output_type": "execute_result"
    }
   ],
   "source": [
    "len(train_df), len(validation_df), len(train_df)+len(validation_df)"
   ]
  },
  {
   "cell_type": "markdown",
   "metadata": {},
   "source": [
    "### Dataset's features subsetings"
   ]
  },
  {
   "cell_type": "markdown",
   "metadata": {},
   "source": [
    "#### Training"
   ]
  },
  {
   "cell_type": "code",
   "execution_count": 12,
   "metadata": {},
   "outputs": [
    {
     "name": "stdout",
     "output_type": "stream",
     "text": [
      "144,609 registros a las 2020-09-09 01:48:44.420911\n"
     ]
    },
    {
     "data": {
      "text/plain": [
       "(array([[True, nan, 'MLA3724', '300ef4a0-5b71-11ea-9dd9-2d23c8df08dd',\n",
       "         'MLA-SNEAKERS', nan, 'MLA603969010', 'gold_special',\n",
       "         'cross_docking', '/web/mobile',\n",
       "         '[loyalty_discount_eligible, today_promotion, brand_verified, dragged_bids_and_visits, good_quality_picture, good_quality_thumbnail, immediate_payment, cart_eligible]',\n",
       "         '74b05211-cac9-4188-b86a-823b80271d76', nan, 288, 9083, 43,\n",
       "         581.451429, 3.608277525629225, 14.942857142857143, 0.91, 65,\n",
       "         56.2558272995, 35.894364619, 186564.056667, 542.24, 354,\n",
       "         113686.0, 17.0, 1569.0],\n",
       "        [False, False, 'MLA443874',\n",
       "         '347d2430-5b71-11ea-8f66-0701ae361185',\n",
       "         'MLA-VEHICLE_ACCESSORIES', nan, 'MLA726026359', 'gold_special',\n",
       "         'cross_docking', '/mobile/android',\n",
       "         '[loyalty_discount_eligible, today_promotion, brand_verified, good_quality_picture, good_quality_thumbnail, immediate_payment, cart_eligible]',\n",
       "         '4e747525-600a-4854-b443-630111263bdc', 160316621.0, 48, 4174,\n",
       "         102, 88.46478499999998, 2.0180006428801027, 2.055696202531645,\n",
       "         0.88, 108, 44.5312626843, 50.365577235399996, 32492.096, 54.48,\n",
       "         1272, 25112.0, 6.0, 812.0],\n",
       "        [False, False, 'MLA29893', '3cc27370-5b71-11ea-91b4-ed6da7f2eb92',\n",
       "         'MLA-HAIR_TREATMENTS', nan, 'MLA697495277', 'gold_special',\n",
       "         'cross_docking', '/mobile/android',\n",
       "         '[good_quality_picture, good_quality_thumbnail, today_promotion, brand_verified, immediate_payment, cart_eligible]',\n",
       "         'bb925a79-b009-4749-ae5a-1cb92eac23be', 345723383.0, 240, 357,\n",
       "         945, 156.81848200000005, 2.931146125620548, 3.5037783375314864,\n",
       "         0.8, 55, 27.121432469200002, 45.7934433426, 11720.422, 194.48,\n",
       "         4478, 13580.0, 5.0, 5564.0]], dtype=object),\n",
       " (144609, 29),\n",
       " array([[False],\n",
       "        [False],\n",
       "        [False]]),\n",
       " (144609, 1))"
      ]
     },
     "execution_count": 12,
     "metadata": {},
     "output_type": "execute_result"
    }
   ],
   "source": [
    "X_train = train_df[categorical_features+numerical_features].to_numpy()\n",
    "Y_train = train_df[target_column].to_numpy()\n",
    "print('{0:,} registros a las {1}'.format(len(X_train), datetime.now()))\n",
    "X_train[:3,:], X_train.shape, Y_train[:3,:], Y_train.shape"
   ]
  },
  {
   "cell_type": "markdown",
   "metadata": {},
   "source": [
    "#### Validation"
   ]
  },
  {
   "cell_type": "code",
   "execution_count": 13,
   "metadata": {},
   "outputs": [
    {
     "name": "stdout",
     "output_type": "stream",
     "text": [
      "36,152 registros a las 2020-09-09 01:48:44.471263\n"
     ]
    },
    {
     "data": {
      "text/plain": [
       "(array([[False, nan, 'MLA29895', '637e4be0-7d92-11ea-80da-b7bc289f1eb3',\n",
       "         'MLA-BEAUTY_AND_PERSONAL_CARE_SUPPLIES', nan, 'MLA611807155',\n",
       "         'gold_special', 'cross_docking', '/web/desktop',\n",
       "         '[brand_verified, good_quality_picture, good_quality_thumbnail, immediate_payment, cart_eligible]',\n",
       "         '2db4b2e0-d4b8-4826-9193-cf912557ae99', 57618704.0, 288, 571,\n",
       "         3887, 222.413667, 3.013401403956605, 6.527874564459928, 0.77,\n",
       "         131, 22.077383156999996, 24.540219594899998, 7180.828333, 145.72,\n",
       "         3666, 9444.0, 26.0, 7494.0],\n",
       "        [False, False, 'MLA127692',\n",
       "         '635d0840-7d92-11ea-a847-7bcbbc4a5603', 'MLA-CLEANING_MOPS', nan,\n",
       "         'MLA770873576', 'gold_special', 'cross_docking',\n",
       "         '/mobile/android',\n",
       "         '[brand_verified, good_quality_picture, good_quality_thumbnail, loyalty_discount_eligible, immediate_payment, cart_eligible]',\n",
       "         '12b3f697-7118-48e2-ae36-cafe9505ef7f', 77116884.0, 0, 28, 15,\n",
       "         97.767969, 18.016666666666666, 4.16, 0.7, 133, 31.9642612056,\n",
       "         16.9491474923, 9986.535667, 654.48, 577, 9729.0, 38.0, 1352.0],\n",
       "        [False, nan, 'MLA24788', '661fd1c0-7d92-11ea-b5cb-4d7e5e6a4d76',\n",
       "         'MLA-DIAPER_BAGS', nan, 'MLA810050545', 'gold_pro',\n",
       "         'cross_docking', '/web/desktop',\n",
       "         '[loyalty_discount_eligible, brand_verified, good_quality_picture, good_quality_thumbnail, immediate_payment]',\n",
       "         '247663f8-1ff4-4e5b-adf3-0b80ea4e6461', 127037904.0, 384, 398,\n",
       "         1844, 1750.34424, 5.764811490125672, 10.434240362811794, 0.9,\n",
       "         202, 45.18928093, 174.2309284138, 4805.346, 358.22, 2030, 3211.0,\n",
       "         11.0, 9203.0]], dtype=object),\n",
       " (36152, 29),\n",
       " array([[False],\n",
       "        [ True],\n",
       "        [False]]),\n",
       " (36152, 1))"
      ]
     },
     "execution_count": 13,
     "metadata": {},
     "output_type": "execute_result"
    }
   ],
   "source": [
    "X_validation = validation_df[categorical_features+numerical_features].to_numpy()\n",
    "Y_valitation = validation_df[target_column].to_numpy()\n",
    "print('{0:,} registros a las {1}'.format(len(X_validation), datetime.now()))\n",
    "X_validation[:3,:], X_validation.shape, Y_valitation[:3,:], Y_valitation.shape"
   ]
  },
  {
   "cell_type": "markdown",
   "metadata": {},
   "source": [
    "#### Testing"
   ]
  },
  {
   "cell_type": "code",
   "execution_count": 14,
   "metadata": {},
   "outputs": [
    {
     "name": "stdout",
     "output_type": "stream",
     "text": [
      "19,211 registros a las 2020-09-09 01:48:44.494142\n"
     ]
    },
    {
     "data": {
      "text/plain": [
       "(array([[False, False, 'MLA29933', '13486cc0-7b38-11ea-80da-b7bc289f1eb3',\n",
       "         'MLA-HEATING_PADS', nan, 'MLA687322333', 'gold_special',\n",
       "         'cross_docking', '/mobile/android',\n",
       "         '[brand_verified, good_quality_picture, loyalty_discount_eligible, immediate_payment, cart_eligible]',\n",
       "         '703f4bd1-cc3e-4102-8cfa-fe3cdd15ebb7', 233223201.0, 528, 828, 4,\n",
       "         91.979648, 3.5894428152492672, 3.4610226320201174, 0.66, 41,\n",
       "         24.540562950100004, 20.3597047167, 1118.781333, 480.73, 2383,\n",
       "         1224.0, 18.0, 4129.0],\n",
       "        [True, nan, 'MLA120354', '91f51450-7094-11ea-a195-69da39a3a2bc',\n",
       "         'MLA-SUITCASES', nan, 'MLA787958329', 'gold_special',\n",
       "         'fulfillment', '/mobile/android',\n",
       "         '[good_quality_thumbnail, loyalty_discount_eligible, today_promotion, brand_verified, good_quality_picture, immediate_payment]',\n",
       "         'd714e65e-5447-4f7d-9a4e-aaa57efa6107', 337881137.0, 432, 470,\n",
       "         12, 821.3769440000003, 3.215579710144928, 26.222222222222207,\n",
       "         0.88, 299, 92.97788803620001, 44.915133861099996, 8923.455667,\n",
       "         2616.55, 58, 3550.0, 39.0, 944.0],\n",
       "        [True, False, 'MLA401457', 'acae99c0-7bf1-11ea-80da-b7bc289f1eb3',\n",
       "         'MLA-ROBOT_VACUUMS', 15536518.0, 'MLA693734545', 'gold_pro',\n",
       "         'cross_docking', '/mobile/android',\n",
       "         '[brand_verified, good_quality_picture, good_quality_thumbnail, loyalty_discount_eligible, immediate_payment]',\n",
       "         '299cb623-b71c-4f9d-b792-48d5744f0449', 86609353.0, 48, 1861, 5,\n",
       "         1365.504354, 7.097276264591439, 14.646258503401361, 1.0, 572,\n",
       "         448.3317968171, 107.9364705769, 20992.903, 32814.85, 1441,\n",
       "         1824.0, 70.0, 10765.0]], dtype=object),\n",
       " (19211, 29))"
      ]
     },
     "execution_count": 14,
     "metadata": {},
     "output_type": "execute_result"
    }
   ],
   "source": [
    "X_test = test_df[categorical_features+numerical_features].to_numpy()\n",
    "print('{0:,} registros a las {1}'.format(len(X_test), datetime.now()))\n",
    "X_test[:3,:], X_test.shape"
   ]
  },
  {
   "cell_type": "markdown",
   "metadata": {},
   "source": [
    "### Transformations"
   ]
  },
  {
   "cell_type": "markdown",
   "metadata": {},
   "source": [
    "#### Feature extractions"
   ]
  },
  {
   "cell_type": "code",
   "execution_count": 15,
   "metadata": {},
   "outputs": [],
   "source": [
    "def decompose_print_date(features:np.ndarray) -> np.ndarray:\n",
    "    print_date_feature = features[0]\n",
    "    dates = [datetime.strptime(str_date, '%Y-%m-%d') for str_date in print_date_feature]\n",
    "    date_parts = np.array([[dt.year, dt.month, dt.day, dt.weekday()+1, 0 if dt.weekday() >= 0 and dt.weekday() <= 4 else 1] for dt in dates], dtype=np.int32)\n",
    "    return date_parts[:,0], date_parts[:,1], date_parts[:,2], date_parts[:,3], date_parts[:,4]"
   ]
  },
  {
   "cell_type": "code",
   "execution_count": 16,
   "metadata": {},
   "outputs": [
    {
     "data": {
      "text/plain": [
       "(array([[True, nan, 'MLA3724', '300ef4a0-5b71-11ea-9dd9-2d23c8df08dd',\n",
       "         'MLA-SNEAKERS', nan, 'MLA603969010', 'gold_special',\n",
       "         'cross_docking', '/web/mobile',\n",
       "         '[loyalty_discount_eligible, today_promotion, brand_verified, dragged_bids_and_visits, good_quality_picture, good_quality_thumbnail, immediate_payment, cart_eligible]',\n",
       "         '74b05211-cac9-4188-b86a-823b80271d76', nan, 288, 9083, 43,\n",
       "         581.451429, 3.608277525629225, 14.942857142857143, 0.91, 65,\n",
       "         56.2558272995, 35.894364619, 186564.056667, 542.24, 354,\n",
       "         113686.0, 17.0, 1569.0, 7, 1],\n",
       "        [False, False, 'MLA443874',\n",
       "         '347d2430-5b71-11ea-8f66-0701ae361185',\n",
       "         'MLA-VEHICLE_ACCESSORIES', nan, 'MLA726026359', 'gold_special',\n",
       "         'cross_docking', '/mobile/android',\n",
       "         '[loyalty_discount_eligible, today_promotion, brand_verified, good_quality_picture, good_quality_thumbnail, immediate_payment, cart_eligible]',\n",
       "         '4e747525-600a-4854-b443-630111263bdc', 160316621.0, 48, 4174,\n",
       "         102, 88.46478499999998, 2.0180006428801027, 2.055696202531645,\n",
       "         0.88, 108, 44.5312626843, 50.365577235399996, 32492.096, 54.48,\n",
       "         1272, 25112.0, 6.0, 812.0, 7, 1],\n",
       "        [False, False, 'MLA29893', '3cc27370-5b71-11ea-91b4-ed6da7f2eb92',\n",
       "         'MLA-HAIR_TREATMENTS', nan, 'MLA697495277', 'gold_special',\n",
       "         'cross_docking', '/mobile/android',\n",
       "         '[good_quality_picture, good_quality_thumbnail, today_promotion, brand_verified, immediate_payment, cart_eligible]',\n",
       "         'bb925a79-b009-4749-ae5a-1cb92eac23be', 345723383.0, 240, 357,\n",
       "         945, 156.81848200000005, 2.931146125620548, 3.5037783375314864,\n",
       "         0.8, 55, 27.121432469200002, 45.7934433426, 11720.422, 194.48,\n",
       "         4478, 13580.0, 5.0, 5564.0, 7, 1]], dtype=object),\n",
       " (144609, 31))"
      ]
     },
     "execution_count": 16,
     "metadata": {},
     "output_type": "execute_result"
    }
   ],
   "source": [
    "# Year, Month, Day, Day of the week, Is weekend\n",
    "print_date_ft_extractor = FeatureExtractor(decompose_print_date)\n",
    "_, _, _, day_of_week_feature, is_weekend_feature = print_date_ft_extractor.transform([train_df['date'].to_numpy()])\n",
    "X_train = np.hstack((X_train, day_of_week_feature.reshape(-1,1), is_weekend_feature.reshape(-1,1)))\n",
    "X_train[:3,:], X_train.shape"
   ]
  },
  {
   "cell_type": "code",
   "execution_count": 17,
   "metadata": {},
   "outputs": [
    {
     "data": {
      "text/plain": [
       "(array([[False, nan, 'MLA29895', '637e4be0-7d92-11ea-80da-b7bc289f1eb3',\n",
       "         'MLA-BEAUTY_AND_PERSONAL_CARE_SUPPLIES', nan, 'MLA611807155',\n",
       "         'gold_special', 'cross_docking', '/web/desktop',\n",
       "         '[brand_verified, good_quality_picture, good_quality_thumbnail, immediate_payment, cart_eligible]',\n",
       "         '2db4b2e0-d4b8-4826-9193-cf912557ae99', 57618704.0, 288, 571,\n",
       "         3887, 222.413667, 3.013401403956605, 6.527874564459928, 0.77,\n",
       "         131, 22.077383156999996, 24.540219594899998, 7180.828333, 145.72,\n",
       "         3666, 9444.0, 26.0, 7494.0, 1, 0],\n",
       "        [False, False, 'MLA127692',\n",
       "         '635d0840-7d92-11ea-a847-7bcbbc4a5603', 'MLA-CLEANING_MOPS', nan,\n",
       "         'MLA770873576', 'gold_special', 'cross_docking',\n",
       "         '/mobile/android',\n",
       "         '[brand_verified, good_quality_picture, good_quality_thumbnail, loyalty_discount_eligible, immediate_payment, cart_eligible]',\n",
       "         '12b3f697-7118-48e2-ae36-cafe9505ef7f', 77116884.0, 0, 28, 15,\n",
       "         97.767969, 18.016666666666666, 4.16, 0.7, 133, 31.9642612056,\n",
       "         16.9491474923, 9986.535667, 654.48, 577, 9729.0, 38.0, 1352.0, 1,\n",
       "         0],\n",
       "        [False, nan, 'MLA24788', '661fd1c0-7d92-11ea-b5cb-4d7e5e6a4d76',\n",
       "         'MLA-DIAPER_BAGS', nan, 'MLA810050545', 'gold_pro',\n",
       "         'cross_docking', '/web/desktop',\n",
       "         '[loyalty_discount_eligible, brand_verified, good_quality_picture, good_quality_thumbnail, immediate_payment]',\n",
       "         '247663f8-1ff4-4e5b-adf3-0b80ea4e6461', 127037904.0, 384, 398,\n",
       "         1844, 1750.34424, 5.764811490125672, 10.434240362811794, 0.9,\n",
       "         202, 45.18928093, 174.2309284138, 4805.346, 358.22, 2030, 3211.0,\n",
       "         11.0, 9203.0, 1, 0]], dtype=object),\n",
       " (36152, 31))"
      ]
     },
     "execution_count": 17,
     "metadata": {},
     "output_type": "execute_result"
    }
   ],
   "source": [
    "_, _, _, day_of_week_feature, is_weekend_feature = print_date_ft_extractor.transform([validation_df['date'].to_numpy()])\n",
    "X_validation = np.hstack((X_validation, day_of_week_feature.reshape(-1,1), is_weekend_feature.reshape(-1,1)))\n",
    "X_validation[:3,:], X_validation.shape"
   ]
  },
  {
   "cell_type": "code",
   "execution_count": 18,
   "metadata": {},
   "outputs": [
    {
     "data": {
      "text/plain": [
       "(array([[False, False, 'MLA29933', '13486cc0-7b38-11ea-80da-b7bc289f1eb3',\n",
       "         'MLA-HEATING_PADS', nan, 'MLA687322333', 'gold_special',\n",
       "         'cross_docking', '/mobile/android',\n",
       "         '[brand_verified, good_quality_picture, loyalty_discount_eligible, immediate_payment, cart_eligible]',\n",
       "         '703f4bd1-cc3e-4102-8cfa-fe3cdd15ebb7', 233223201.0, 528, 828, 4,\n",
       "         91.979648, 3.5894428152492672, 3.4610226320201174, 0.66, 41,\n",
       "         24.540562950100004, 20.3597047167, 1118.781333, 480.73, 2383,\n",
       "         1224.0, 18.0, 4129.0, 5, 0],\n",
       "        [True, nan, 'MLA120354', '91f51450-7094-11ea-a195-69da39a3a2bc',\n",
       "         'MLA-SUITCASES', nan, 'MLA787958329', 'gold_special',\n",
       "         'fulfillment', '/mobile/android',\n",
       "         '[good_quality_thumbnail, loyalty_discount_eligible, today_promotion, brand_verified, good_quality_picture, immediate_payment]',\n",
       "         'd714e65e-5447-4f7d-9a4e-aaa57efa6107', 337881137.0, 432, 470,\n",
       "         12, 821.3769440000003, 3.215579710144928, 26.222222222222207,\n",
       "         0.88, 299, 92.97788803620001, 44.915133861099996, 8923.455667,\n",
       "         2616.55, 58, 3550.0, 39.0, 944.0, 5, 0],\n",
       "        [True, False, 'MLA401457', 'acae99c0-7bf1-11ea-80da-b7bc289f1eb3',\n",
       "         'MLA-ROBOT_VACUUMS', 15536518.0, 'MLA693734545', 'gold_pro',\n",
       "         'cross_docking', '/mobile/android',\n",
       "         '[brand_verified, good_quality_picture, good_quality_thumbnail, loyalty_discount_eligible, immediate_payment]',\n",
       "         '299cb623-b71c-4f9d-b792-48d5744f0449', 86609353.0, 48, 1861, 5,\n",
       "         1365.504354, 7.097276264591439, 14.646258503401361, 1.0, 572,\n",
       "         448.3317968171, 107.9364705769, 20992.903, 32814.85, 1441,\n",
       "         1824.0, 70.0, 10765.0, 6, 1]], dtype=object),\n",
       " (19211, 31))"
      ]
     },
     "execution_count": 18,
     "metadata": {},
     "output_type": "execute_result"
    }
   ],
   "source": [
    "_, _, _, day_of_week_feature, is_weekend_feature = print_date_ft_extractor.transform([test_df['date'].to_numpy()])\n",
    "X_test = np.hstack((X_test, day_of_week_feature.reshape(-1,1), is_weekend_feature.reshape(-1,1)))\n",
    "X_test[:3,:], X_test.shape"
   ]
  },
  {
   "cell_type": "code",
   "execution_count": 19,
   "metadata": {},
   "outputs": [
    {
     "data": {
      "text/plain": [
       "(5, 31)"
      ]
     },
     "execution_count": 19,
     "metadata": {},
     "output_type": "execute_result"
    }
   ],
   "source": [
    "X_train[:5,:].shape"
   ]
  },
  {
   "cell_type": "code",
   "execution_count": 20,
   "metadata": {},
   "outputs": [],
   "source": [
    "#feature_tms = CategoricalTransformer(force_casting=True)\n",
    "#feature_tms = CategoricalTransformer([FT(trim), FT(replace, kw_args=categorical_missing_replacement_args), FT(transform_tags)])\n",
    "#feature_tms = CategoricalTransformer([FT(trim), FT(replace, kw_args=categorical_missing_replacement_args)], force_casting=True)\n",
    "#tranformed_train = feature_tms.fit_transform(X_train[:,12])\n",
    "#len(feature_tms.encoder.classes_)"
   ]
  },
  {
   "cell_type": "code",
   "execution_count": 21,
   "metadata": {},
   "outputs": [],
   "source": [
    "#feature_tms.transform(X_validation[:,12])\n",
    "#len(feature_tms.encoder.classes_)"
   ]
  },
  {
   "cell_type": "markdown",
   "metadata": {},
   "source": [
    "#### Functions"
   ]
  },
  {
   "cell_type": "code",
   "execution_count": 22,
   "metadata": {},
   "outputs": [],
   "source": [
    "def transform_tags(feature:np.ndarray) -> np.ndarray:\n",
    "    tms_1 = [value[1:-1] for value in feature]\n",
    "    tms_2 = [sorted(value.split(', ')) for value in tms_1]\n",
    "    tms_3 = [' '.join(value) for value in tms_2]\n",
    "    return np.array(tms_3, dtype=object)\n",
    "\n",
    "def replace(feature:np.ndarray, replacements:dict) -> np.ndarray:\n",
    "    replacements_keys = list(replacements.keys())\n",
    "    _data = feature.copy()\n",
    "    for i, item in enumerate(_data):\n",
    "        _data[i] = replacements[item] if item in replacements_keys else _data[i]\n",
    "        \n",
    "    return _data\n",
    "\n",
    "def trim(feature:np.ndarray) -> np.ndarray:\n",
    "    return np.array([level.strip() for level in feature])   "
   ]
  },
  {
   "cell_type": "code",
   "execution_count": 23,
   "metadata": {},
   "outputs": [],
   "source": [
    "boolean_replacement_args = {'replacements': {np.nan:3, True:1, False:0}}\n",
    "categorical_missing_replacement_args = {'replacements': {np.nan:'N/A'}}\n",
    "target_replacement_args = {'replacements': {True:1, False:0}}"
   ]
  },
  {
   "cell_type": "code",
   "execution_count": 24,
   "metadata": {},
   "outputs": [],
   "source": [
    "dataset_tranformer = DatasetTransformer([\n",
    "    # Categorical features - Boolean\n",
    "    ('free_shipping', CategoricalTransformer([FT(replace, kw_args=boolean_replacement_args)], force_casting=True)),\n",
    "    ('is_pdp', CategoricalTransformer([FT(replace, kw_args=boolean_replacement_args)], force_casting=True)),\n",
    "    # Categorical features\n",
    "    ('category_id', CategoricalTransformer([FT(trim), FT(replace, kw_args=categorical_missing_replacement_args)])),\n",
    "    ('deal_print_id', CategoricalTransformer([FT(trim), FT(replace, kw_args=categorical_missing_replacement_args)])),\n",
    "    ('domain_id', CategoricalTransformer([FT(trim), FT(replace, kw_args=categorical_missing_replacement_args)])),\n",
    "    ('product_id', CategoricalTransformer([FT(replace, kw_args=categorical_missing_replacement_args)], force_casting=True)),\n",
    "    ('item_id', CategoricalTransformer([FT(trim), FT(replace, kw_args=categorical_missing_replacement_args)])),\n",
    "    ('listing_type_id', CategoricalTransformer([FT(trim), FT(replace, kw_args=categorical_missing_replacement_args)])),\n",
    "    ('logistic_type', CategoricalTransformer([FT(trim), FT(replace, kw_args=categorical_missing_replacement_args)])),\n",
    "    ('platform', CategoricalTransformer([FT(trim), FT(replace, kw_args=categorical_missing_replacement_args)])),\n",
    "    ('tags', CategoricalTransformer([FT(trim), FT(replace, kw_args=categorical_missing_replacement_args), FT(transform_tags)])),\n",
    "    ('uid', CategoricalTransformer([FT(trim), FT(replace, kw_args=categorical_missing_replacement_args)])),\n",
    "    ('user_id', CategoricalTransformer([FT(replace, kw_args=categorical_missing_replacement_args)], force_casting=True)),\n",
    "    ('offset', CategoricalTransformer([FT(replace, kw_args=categorical_missing_replacement_args)], force_casting=True)),\n",
    "    ('print_position', CategoricalTransformer([FT(replace, kw_args=categorical_missing_replacement_args)], force_casting=True)),\n",
    "    \n",
    "    # Numerical features\n",
    "    ('available_quantity', NumericalTransformer()),\n",
    "    ('avg_gmv_item_sel', NumericalTransformer()),\n",
    "    ('avg_qty_orders_item_domain_30days', NumericalTransformer()),\n",
    "    ('avg_qty_orders_item_sel_30days', NumericalTransformer()),\n",
    "    ('health', NumericalTransformer()),\n",
    "    ('sold_quantity', NumericalTransformer()),\n",
    "    ('total_asp_item_domain_30days', NumericalTransformer()),\n",
    "    ('total_asp_item_sel_30days', NumericalTransformer()),\n",
    "    ('total_gmv_domain_bday', NumericalTransformer()),\n",
    "    ('total_gmv_item_30days', NumericalTransformer()),\n",
    "    ('total_items_seller', NumericalTransformer()),\n",
    "    ('total_orders_domain_30days', NumericalTransformer()),\n",
    "    ('total_orders_item_30days', NumericalTransformer()),\n",
    "    ('total_orders_sel_30days', NumericalTransformer()),\n",
    "\n",
    "    # Categorical Features extracted from \"date\"\n",
    "    ('day_of_week', CategoricalTransformer(force_casting=True)),\n",
    "    ('is_weekend', CategoricalTransformer(force_casting=True))],\n",
    "    \n",
    "    # Target\n",
    "    ('conversion', CategoricalTransformer([FT(replace, kw_args=target_replacement_args)], False))\n",
    ")"
   ]
  },
  {
   "cell_type": "code",
   "execution_count": 25,
   "metadata": {},
   "outputs": [
    {
     "name": "stdout",
     "output_type": "stream",
     "text": [
      "CPU times: user 3.56 s, sys: 273 ms, total: 3.83 s\n",
      "Wall time: 3.85 s\n"
     ]
    }
   ],
   "source": [
    "%%time\n",
    "numerical_features_train, categorical_features_train, target_train = dataset_tranformer.fit_transform(X_train, Y_train)"
   ]
  },
  {
   "cell_type": "code",
   "execution_count": 26,
   "metadata": {},
   "outputs": [
    {
     "name": "stdout",
     "output_type": "stream",
     "text": [
      "CPU times: user 53 s, sys: 240 ms, total: 53.3 s\n",
      "Wall time: 53.3 s\n"
     ]
    }
   ],
   "source": [
    "%%time\n",
    "numerical_features_valition, categorical_features_validation, target_validation = dataset_tranformer.transform(X_validation, Y_valitation)"
   ]
  },
  {
   "cell_type": "code",
   "execution_count": 27,
   "metadata": {},
   "outputs": [
    {
     "name": "stdout",
     "output_type": "stream",
     "text": [
      "CPU times: user 38.9 s, sys: 239 ms, total: 39.1 s\n",
      "Wall time: 39.1 s\n"
     ]
    }
   ],
   "source": [
    "%%time\n",
    "numerical_features_test, categorical_features_test, _ = dataset_tranformer.transform(X_test)"
   ]
  },
  {
   "cell_type": "markdown",
   "metadata": {},
   "source": [
    "### Datasets and Dataloaders"
   ]
  },
  {
   "cell_type": "code",
   "execution_count": 28,
   "metadata": {},
   "outputs": [],
   "source": [
    "train_ds = TabularDataset(numerical_features_train, categorical_features_train, target_train)\n",
    "validation_ds = TabularDataset(numerical_features_valition, categorical_features_validation, target_validation)\n",
    "test_ds = TabularDataset(numerical_features_test, categorical_features_test)"
   ]
  },
  {
   "cell_type": "code",
   "execution_count": 29,
   "metadata": {},
   "outputs": [
    {
     "name": "stdout",
     "output_type": "stream",
     "text": [
      "0 -> x_numerical: tensor([-0.1792, -0.1211, -0.2031,  0.1458,  0.6840, -0.3204, -0.2391, -0.4229]), X_categorical: tensor([    1,     2,   570, 26808,  1299,  3564,    86,     1]) Y: tensor([0.])\n",
      "1 -> x_numerical: tensor([-0.1740, -0.2444, -0.8562, -0.4948,  0.4823, -0.2900, -0.3567, -0.2630]), X_categorical: tensor([    0,     0,  1720, 29196,  1525,  3564,  6213,     1]) Y: tensor([0.])\n",
      "2 -> x_numerical: tensor([-0.0986, -0.2273, -0.4812, -0.4228, -0.0555, -0.3275, -0.5315, -0.3135]), X_categorical: tensor([    0,     0,   325, 33812,   716,  3564,  4764,     1]) Y: tensor([0.])\n",
      "3 -> x_numerical: tensor([-0.0897,  0.0044, -0.1456, -0.1036,  0.6840,  2.8272,  0.2522,  0.5645]), X_categorical: tensor([    1,     2,   183, 34459,    95,  1688,   678,     1]) Y: tensor([0.])\n",
      "4 -> x_numerical: tensor([-0.1787, -0.1889, -0.9570, -0.3049, -0.5933, -0.3650, -0.3288, -0.2510]), X_categorical: tensor([    1,     0,    61, 39518,   806,  3564, 15637,     1]) Y: tensor([0.])\n",
      "5 -> x_numerical: tensor([-0.1820,  0.3380, -0.3332, -0.1865,  0.6168, -0.3544,  1.9803,  3.3228]), X_categorical: tensor([    1,     0,    47, 49033,   286,  2043, 18932,     0]) Y: tensor([0.])\n",
      "6 -> x_numerical: tensor([-0.1825, -0.1313, -0.8422, -0.1957, -0.3916, -0.3155, -0.5647, -0.0109]), X_categorical: tensor([    0,     0,  1339, 59985,  1326,  3564, 10781,     1]) Y: tensor([0.])\n",
      "7 -> x_numerical: tensor([-0.1162, -0.2261, -0.3261, -0.3162,  0.6168, -0.1888, -0.4088, -0.4958]), X_categorical: tensor([    1,     0,  1694, 76615,   909,  3564,  7375,     1]) Y: tensor([0.])\n",
      "8 -> x_numerical: tensor([-0.1449, -0.2317, -0.5003, -0.3297,  0.4823,  0.1581, -0.6366, -0.5742]), X_categorical: tensor([    0,     2,   858, 77131,     8,  3564,   737,     1]) Y: tensor([0.])\n",
      "9 -> x_numerical: tensor([-0.1349, -0.1850,  2.0855,  0.0306,  0.0118,  0.2134, -0.4948, -0.5426]), X_categorical: tensor([    0,     2,   139, 79675,   556,  3564,  7818,     1]) Y: tensor([0.])\n"
     ]
    }
   ],
   "source": [
    "for i in range(10):\n",
    "    x_numerical, x_categorical, y = train_ds[i]\n",
    "    print(f'{i} -> x_numerical: {x_numerical[:8]}, X_categorical: {x_categorical[:8]} Y: {y}')"
   ]
  },
  {
   "cell_type": "code",
   "execution_count": 30,
   "metadata": {},
   "outputs": [
    {
     "name": "stdout",
     "output_type": "stream",
     "text": [
      "0 -> x_numerical: tensor([ 0.1643, -0.2109, -0.4474, -0.2725, -0.2571, -0.2737, -0.5821, -0.5482]), X_categorical: tensor([    0,     2,   326, 55487,   158,  3564,   547,     1]) Y: tensor([0.])\n",
      "1 -> x_numerical: tensor([-0.1817, -0.2421,  5.7135, -0.3902, -0.7277, -0.2723, -0.4829, -0.6321]), X_categorical: tensor([    0,     0,   169, 55413,   320,  3564, 10039,     1]) Y: tensor([1.])\n",
      "2 -> x_numerical: tensor([-0.0183,  0.1712,  0.6824, -0.0783,  0.6168, -0.2235, -0.3501,  1.1049]), X_categorical: tensor([    0,     2,   290, 56917,   415,  3564, 14020,     0]) Y: tensor([0.])\n",
      "3 -> x_numerical: tensor([-0.1773, -0.1902, -0.2245, -0.3181, -0.2571,  0.1560,  0.2389, -0.1813]), X_categorical: tensor([    0,     2,   446, 62579,  1313,  3564,  6954,     1]) Y: tensor([0.])\n",
      "4 -> x_numerical: tensor([-0.1353, -0.1736,  0.0807, -0.3818,  1.2890, -0.3558, -0.1593,  0.4591]), X_categorical: tensor([    1,     2,  1007, 63940,  1286,  3564,  8456,     0]) Y: tensor([0.])\n",
      "5 -> x_numerical: tensor([ 8.7526, -0.2563, -0.1238,  0.0630,  1.2890, -0.3502, -0.5892, -0.7876]), X_categorical: tensor([    1,     0,    96, 70988,   204,  3564, 24587,     0]) Y: tensor([0.])\n",
      "6 -> x_numerical: tensor([-0.1789, -0.2457, -0.0445, -0.3766, -0.2571,  0.3727, -0.3254, -0.6061]), X_categorical: tensor([    0,     2,   598, 79990,   606,  3564,   625,     1]) Y: tensor([0.])\n",
      "7 -> x_numerical: tensor([-0.1333, -0.2425, -0.4806, -0.4257,  0.6168, -0.3070, -0.4428, -0.5304]), X_categorical: tensor([    0,     2,   208, 79017,  1559,  3564,  1088,     1]) Y: tensor([0.])\n",
      "8 -> x_numerical: tensor([-0.1791, -0.2425, -0.5471, -0.4257, -0.0555,  0.3026, -0.6410, -0.5304]), X_categorical: tensor([    0,     2,   642, 92427,   882,  2976,  1925,     1]) Y: tensor([0.])\n",
      "9 -> x_numerical: tensor([-0.1711, -0.2209, -0.4829, -0.4424,  0.6168, -0.1895, -0.2438, -0.2325]), X_categorical: tensor([    1,     0,    58, 95206,  1299,  3564, 13980,     1]) Y: tensor([1.])\n"
     ]
    }
   ],
   "source": [
    "for i in range(10):\n",
    "    x_numerical, x_categorical, y = validation_ds[i]\n",
    "    print(f'{i} -> x_numerical: {x_numerical[:8]}, X_categorical: {x_categorical[:8]} Y: {y}')"
   ]
  },
  {
   "cell_type": "code",
   "execution_count": 31,
   "metadata": {},
   "outputs": [],
   "source": [
    "#for i in range(10):\n",
    "#    x_numerical, x_categorical, y = test_ds[i]\n",
    "#    print(f'{i} -> x_numerical: {x_numerical[:8]}, X_categorical: {x_categorical[:8]} Y: {y}')"
   ]
  },
  {
   "cell_type": "code",
   "execution_count": 32,
   "metadata": {},
   "outputs": [],
   "source": [
    "train_dl = DataLoader(train_ds, batch_size=1024, shuffle=True)\n",
    "\n",
    "train_dl_for_prediction = DataLoader(train_ds, batch_size=1024, shuffle=False)\n",
    "validation_dl = DataLoader(validation_ds, batch_size=1024, shuffle=False)\n",
    "test_dl = DataLoader(test_ds, batch_size=1024, shuffle=False)"
   ]
  },
  {
   "cell_type": "code",
   "execution_count": 33,
   "metadata": {},
   "outputs": [],
   "source": [
    "#for x_numerical, x_categorical, y in train_dl:\n",
    "#    print(f'{x_numerical.shape}, {x_categorical.shape}, {y.shape}')"
   ]
  },
  {
   "cell_type": "markdown",
   "metadata": {},
   "source": [
    "### Training the network"
   ]
  },
  {
   "cell_type": "code",
   "execution_count": 34,
   "metadata": {},
   "outputs": [
    {
     "data": {
      "text/plain": [
       "[(2, 1),\n",
       " (3, 1),\n",
       " (2284, 50),\n",
       " (196744, 50),\n",
       " (1742, 50),\n",
       " (4441, 50),\n",
       " (27695, 50),\n",
       " (2, 1),\n",
       " (7, 3),\n",
       " (4, 2),\n",
       " (324, 50),\n",
       " (159996, 50),\n",
       " (139111, 50),\n",
       " (209, 50),\n",
       " (10902, 50),\n",
       " (7, 3),\n",
       " (2, 1)]"
      ]
     },
     "execution_count": 34,
     "metadata": {},
     "output_type": "execute_result"
    }
   ],
   "source": [
    "embedding_dims = []\n",
    "for feature in categorical_features + new_categorical_features:\n",
    "    feature_tms = dataset_tranformer.get_feature_transformation(feature)\n",
    "    q_unique_values = len(feature_tms.encoder.classes_)\n",
    "    embedding_size = min(q_unique_values//2, 50)\n",
    "    mapping = (q_unique_values, embedding_size)\n",
    "    embedding_dims.append(mapping)\n",
    "\n",
    "embedding_dims"
   ]
  },
  {
   "cell_type": "code",
   "execution_count": 35,
   "metadata": {},
   "outputs": [],
   "source": [
    "model = FullyConnectedNetworkRegressor(\n",
    "    q_numerical_features = len(numerical_features), \n",
    "    q_categorical_features = len(categorical_features + new_categorical_features),\n",
    "    hidden_layers_size=[1024,512,128,64],\n",
    "    embedding_dims=embedding_dims\n",
    ")\n",
    "optimizer = Adam(model.parameters(), lr=1e-1)\n",
    "lr_scheduler = ExponentialLR(optimizer=optimizer, gamma=0.97)\n",
    "bceloss_fn = nn.BCELoss(reduction='mean')\n",
    "epochs=3"
   ]
  },
  {
   "cell_type": "code",
   "execution_count": 36,
   "metadata": {},
   "outputs": [
    {
     "data": {
      "text/plain": [
       "FullyConnectedNetworkRegressor(\n",
       "  (embeddings_layer): ModuleList(\n",
       "    (0): Embedding(2, 1)\n",
       "    (1): Embedding(3, 1)\n",
       "    (2): Embedding(2284, 50)\n",
       "    (3): Embedding(196744, 50)\n",
       "    (4): Embedding(1742, 50)\n",
       "    (5): Embedding(4441, 50)\n",
       "    (6): Embedding(27695, 50)\n",
       "    (7): Embedding(2, 1)\n",
       "    (8): Embedding(7, 3)\n",
       "    (9): Embedding(4, 2)\n",
       "    (10): Embedding(324, 50)\n",
       "    (11): Embedding(159996, 50)\n",
       "    (12): Embedding(139111, 50)\n",
       "    (13): Embedding(209, 50)\n",
       "    (14): Embedding(10902, 50)\n",
       "    (15): Embedding(7, 3)\n",
       "    (16): Embedding(2, 1)\n",
       "  )\n",
       "  (embedding_dropout): Dropout(p=0.6, inplace=False)\n",
       "  (layer_0): Sequential(\n",
       "    (0): Linear(in_features=526, out_features=1024, bias=True)\n",
       "    (1): ReLU()\n",
       "    (2): Dropout(p=0.3, inplace=False)\n",
       "    (3): BatchNorm1d(1024, eps=1e-05, momentum=0.1, affine=True, track_running_stats=True)\n",
       "  )\n",
       "  (layer_1): Sequential(\n",
       "    (0): Linear(in_features=1024, out_features=512, bias=True)\n",
       "    (1): ReLU()\n",
       "    (2): Dropout(p=0.3, inplace=False)\n",
       "    (3): BatchNorm1d(512, eps=1e-05, momentum=0.1, affine=True, track_running_stats=True)\n",
       "  )\n",
       "  (layer_2): Sequential(\n",
       "    (0): Linear(in_features=512, out_features=128, bias=True)\n",
       "    (1): ReLU()\n",
       "    (2): Dropout(p=0.3, inplace=False)\n",
       "    (3): BatchNorm1d(128, eps=1e-05, momentum=0.1, affine=True, track_running_stats=True)\n",
       "  )\n",
       "  (layer_3): Sequential(\n",
       "    (0): Linear(in_features=128, out_features=64, bias=True)\n",
       "    (1): ReLU()\n",
       "    (2): Dropout(p=0.3, inplace=False)\n",
       "    (3): BatchNorm1d(64, eps=1e-05, momentum=0.1, affine=True, track_running_stats=True)\n",
       "  )\n",
       "  (output): Sequential(\n",
       "    (0): Linear(in_features=64, out_features=1, bias=True)\n",
       "    (1): Sigmoid()\n",
       "  )\n",
       ")"
      ]
     },
     "execution_count": 36,
     "metadata": {},
     "output_type": "execute_result"
    }
   ],
   "source": [
    "model"
   ]
  },
  {
   "cell_type": "code",
   "execution_count": 37,
   "metadata": {},
   "outputs": [
    {
     "name": "stdout",
     "output_type": "stream",
     "text": [
      "CPU times: user 9min 3s, sys: 36.2 s, total: 9min 39s\n",
      "Wall time: 2min 47s\n"
     ]
    }
   ],
   "source": [
    "%%time\n",
    "losses = model.fit(train_dl=train_dl, epochs=epochs, loss_fn=bceloss_fn, opt=optimizer, scheduler=lr_scheduler)"
   ]
  },
  {
   "cell_type": "code",
   "execution_count": 38,
   "metadata": {},
   "outputs": [
    {
     "data": {
      "text/plain": [
       "[<matplotlib.lines.Line2D at 0x14d703310>]"
      ]
     },
     "execution_count": 38,
     "metadata": {},
     "output_type": "execute_result"
    },
    {
     "data": {
      "image/png": "[encoded data removed]",
      "text/plain": [
       "<Figure size 432x288 with 1 Axes>"
      ]
     },
     "metadata": {
      "needs_background": "light"
     },
     "output_type": "display_data"
    }
   ],
   "source": [
    "plt.plot(range(len(losses)), losses)"
   ]
  },
  {
   "cell_type": "markdown",
   "metadata": {},
   "source": [
    "### Validating the net"
   ]
  },
  {
   "cell_type": "code",
   "execution_count": 39,
   "metadata": {},
   "outputs": [],
   "source": [
    "x_numerical_train, x_categorical_train, y_train = train_ds.reverse_transform()"
   ]
  },
  {
   "cell_type": "code",
   "execution_count": 40,
   "metadata": {},
   "outputs": [],
   "source": [
    "x_numerical_val, x_categorical_val, y_val = validation_ds.reverse_transform()"
   ]
  },
  {
   "cell_type": "code",
   "execution_count": 41,
   "metadata": {},
   "outputs": [],
   "source": [
    "x_numerical_test, x_categorical_test, _ = test_ds.reverse_transform()"
   ]
  },
  {
   "cell_type": "code",
   "execution_count": 42,
   "metadata": {},
   "outputs": [],
   "source": [
    "y_train_pred = model.predict(train_dl_for_prediction).numpy().squeeze()"
   ]
  },
  {
   "cell_type": "code",
   "execution_count": 43,
   "metadata": {},
   "outputs": [],
   "source": [
    "y_val_pred = model.predict(validation_dl).numpy().squeeze()"
   ]
  },
  {
   "cell_type": "code",
   "execution_count": 44,
   "metadata": {},
   "outputs": [],
   "source": [
    "#y_test_pred = model.predict(test_dl).numpy().squeeze()"
   ]
  },
  {
   "cell_type": "markdown",
   "metadata": {},
   "source": [
    "#### Training"
   ]
  },
  {
   "cell_type": "code",
   "execution_count": 45,
   "metadata": {},
   "outputs": [
    {
     "name": "stdout",
     "output_type": "stream",
     "text": [
      "Auc Roc in training: 0.9293487262472389\n"
     ]
    }
   ],
   "source": [
    "aucroc_train = roc_auc_score(y_train, y_train_pred)\n",
    "print(f'Auc Roc in training: {aucroc_train}')"
   ]
  },
  {
   "cell_type": "code",
   "execution_count": 46,
   "metadata": {},
   "outputs": [
    {
     "name": "stdout",
     "output_type": "stream",
     "text": [
      "Accuracy in training: 0.9220380474244342\n"
     ]
    }
   ],
   "source": [
    "accuracy_train = accuracy_score(y_train, [1 if pred >= .5 else 0 for pred in y_train_pred])\n",
    "print(f'Accuracy in training: {accuracy_train}')"
   ]
  },
  {
   "cell_type": "markdown",
   "metadata": {},
   "source": [
    "#### Validation"
   ]
  },
  {
   "cell_type": "code",
   "execution_count": 47,
   "metadata": {},
   "outputs": [
    {
     "name": "stdout",
     "output_type": "stream",
     "text": [
      "Auc Roc in test: 0.8619401828373031\n"
     ]
    }
   ],
   "source": [
    "aucroc_val = roc_auc_score(y_val, y_val_pred)\n",
    "print(f'Auc Roc in test: {aucroc_val}')"
   ]
  },
  {
   "cell_type": "code",
   "execution_count": 48,
   "metadata": {},
   "outputs": [
    {
     "name": "stdout",
     "output_type": "stream",
     "text": [
      "Accuracy in test: 0.908276167293649\n"
     ]
    }
   ],
   "source": [
    "accuracy_val = accuracy_score(y_val, [1 if pred >= .5 else 0 for pred in y_val_pred])\n",
    "print(f'Accuracy in test: {accuracy_val}')"
   ]
  },
  {
   "cell_type": "markdown",
   "metadata": {},
   "source": [
    "#### Testing"
   ]
  },
  {
   "cell_type": "code",
   "execution_count": 49,
   "metadata": {},
   "outputs": [],
   "source": [
    "#aucroc_test = roc_auc_score(y_test, y_test_pred)\n",
    "#print(f'Auc Roc in test: {aucroc_test}')"
   ]
  },
  {
   "cell_type": "code",
   "execution_count": 50,
   "metadata": {},
   "outputs": [],
   "source": [
    "#accuracy_test = accuracy_score(y_test, [1 if pred >= .5 else 0 for pred in y_test_pred])\n",
    "#print(f'Accuracy in test: {accuracy_test}')"
   ]
  }
 ],
 "metadata": {
  "kernelspec": {
   "display_name": "Python 3",
   "language": "python",
   "name": "python3"
  },
  "language_info": {
   "codemirror_mode": {
    "name": "ipython",
    "version": 3
   },
   "file_extension": ".py",
   "mimetype": "text/x-python",
   "name": "python",
   "nbconvert_exporter": "python",
   "pygments_lexer": "ipython3",
   "version": "3.8.5"
  }
 },
 "nbformat": 4,
 "nbformat_minor": 4
}
