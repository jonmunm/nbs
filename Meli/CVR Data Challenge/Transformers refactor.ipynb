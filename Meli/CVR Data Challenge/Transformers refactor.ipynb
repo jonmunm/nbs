{
 "cells": [
  {
   "cell_type": "code",
   "execution_count": 1,
   "metadata": {},
   "outputs": [],
   "source": [
    "import sys\n",
    "sys.path.append('.')\n",
    "\n",
    "import pandas as pd\n",
    "import numpy as np\n",
    "from datetime import datetime, timedelta\n",
    "\n",
    "import sklearn\n",
    "from sklearn.metrics import roc_auc_score, accuracy_score\n",
    "from sklearn.preprocessing import FunctionTransformer as FT\n",
    "\n",
    "from lib.Extractor import FeatureExtractor\n",
    "from lib.Models import FullyConnectedNetworkClassifier\n",
    "from lib.Datasets import TabularDataset\n",
    "from lib.Transformers import NumericalTransformer, CategoricalTransformer, CategoricalTargetTransformer, DatasetTransformer\n",
    "from utils.utils import load_dataset\n",
    "\n",
    "%matplotlib inline\n",
    "import matplotlib.pyplot as plt\n",
    "\n",
    "import torch\n",
    "import torch.nn as nn\n",
    "from torch.optim import Adam\n",
    "from torch.optim.lr_scheduler import ExponentialLR\n",
    "from torch.utils.data import DataLoader"
   ]
  },
  {
   "cell_type": "code",
   "execution_count": 2,
   "metadata": {},
   "outputs": [
    {
     "name": "stdout",
     "output_type": "stream",
     "text": [
      "0.23.2\n",
      "1.19.1\n"
     ]
    },
    {
     "data": {
      "text/plain": [
       "(None, None)"
      ]
     },
     "execution_count": 2,
     "metadata": {},
     "output_type": "execute_result"
    }
   ],
   "source": [
    "print(sklearn.__version__), print(np.__version__)"
   ]
  },
  {
   "cell_type": "markdown",
   "metadata": {},
   "source": [
    "##### Reproducibility"
   ]
  },
  {
   "cell_type": "code",
   "execution_count": 3,
   "metadata": {},
   "outputs": [],
   "source": [
    "torch.manual_seed(0)\n",
    "np.random.seed(0)"
   ]
  },
  {
   "cell_type": "markdown",
   "metadata": {},
   "source": [
    "### Whole training set"
   ]
  },
  {
   "cell_type": "code",
   "execution_count": 4,
   "metadata": {},
   "outputs": [
    {
     "name": "stdout",
     "output_type": "stream",
     "text": [
      "180,761 registros a las 2020-09-12 21:19:05.479396\n"
     ]
    },
    {
     "data": {
      "text/html": [
       "<div>\n",
       "<style scoped>\n",
       "    .dataframe tbody tr th:only-of-type {\n",
       "        vertical-align: middle;\n",
       "    }\n",
       "\n",
       "    .dataframe tbody tr th {\n",
       "        vertical-align: top;\n",
       "    }\n",
       "\n",
       "    .dataframe thead th {\n",
       "        text-align: right;\n",
       "    }\n",
       "</style>\n",
       "<table border=\"1\" class=\"dataframe\">\n",
       "  <thead>\n",
       "    <tr style=\"text-align: right;\">\n",
       "      <th></th>\n",
       "      <th>accepts_mercadopago</th>\n",
       "      <th>available_quantity</th>\n",
       "      <th>avg_gmv_item_domain_30days</th>\n",
       "      <th>avg_gmv_item_sel</th>\n",
       "      <th>avg_gmv_seller_bday</th>\n",
       "      <th>avg_qty_orders_item_domain_30days</th>\n",
       "      <th>avg_qty_orders_item_sel_30days</th>\n",
       "      <th>avg_si_item_sel_30day</th>\n",
       "      <th>benefit</th>\n",
       "      <th>boosted</th>\n",
       "      <th>...</th>\n",
       "      <th>total_orders_sel_30days</th>\n",
       "      <th>total_si_domain_30days</th>\n",
       "      <th>total_si_item_30days</th>\n",
       "      <th>total_si_sel_30days</th>\n",
       "      <th>total_visits_domain</th>\n",
       "      <th>total_visits_item</th>\n",
       "      <th>total_visits_seller</th>\n",
       "      <th>uid</th>\n",
       "      <th>user_id</th>\n",
       "      <th>warranty</th>\n",
       "    </tr>\n",
       "  </thead>\n",
       "  <tbody>\n",
       "    <tr>\n",
       "      <th>0</th>\n",
       "      <td>True</td>\n",
       "      <td>59</td>\n",
       "      <td>938.031376</td>\n",
       "      <td>2153.933091</td>\n",
       "      <td>135195.200333</td>\n",
       "      <td>3.430563</td>\n",
       "      <td>12.407860</td>\n",
       "      <td>13.691450</td>\n",
       "      <td>0.001</td>\n",
       "      <td>False</td>\n",
       "      <td>...</td>\n",
       "      <td>23364.0</td>\n",
       "      <td>56717.0</td>\n",
       "      <td>17.0</td>\n",
       "      <td>25781.0</td>\n",
       "      <td>7993972</td>\n",
       "      <td>543</td>\n",
       "      <td>854813</td>\n",
       "      <td>cb5bfac7-229a-4e3e-96dd-80b2ad3972c1</td>\n",
       "      <td>NaN</td>\n",
       "      <td>Garantía de fábrica: 12 meses</td>\n",
       "    </tr>\n",
       "    <tr>\n",
       "      <th>1</th>\n",
       "      <td>True</td>\n",
       "      <td>37</td>\n",
       "      <td>159.826531</td>\n",
       "      <td>240.325973</td>\n",
       "      <td>19338.230000</td>\n",
       "      <td>3.142739</td>\n",
       "      <td>4.429577</td>\n",
       "      <td>4.511599</td>\n",
       "      <td>0.001</td>\n",
       "      <td>False</td>\n",
       "      <td>...</td>\n",
       "      <td>10693.0</td>\n",
       "      <td>81455.0</td>\n",
       "      <td>5.0</td>\n",
       "      <td>10891.0</td>\n",
       "      <td>7821316</td>\n",
       "      <td>1789</td>\n",
       "      <td>1422288</td>\n",
       "      <td>b0f9aa19-00d5-4afd-aa77-45be7c849562</td>\n",
       "      <td>NaN</td>\n",
       "      <td>NaN</td>\n",
       "    </tr>\n",
       "    <tr>\n",
       "      <th>2</th>\n",
       "      <td>True</td>\n",
       "      <td>9</td>\n",
       "      <td>67.635391</td>\n",
       "      <td>86.066296</td>\n",
       "      <td>154.919333</td>\n",
       "      <td>2.633771</td>\n",
       "      <td>2.592593</td>\n",
       "      <td>2.722222</td>\n",
       "      <td>0.001</td>\n",
       "      <td>False</td>\n",
       "      <td>...</td>\n",
       "      <td>140.0</td>\n",
       "      <td>16792.0</td>\n",
       "      <td>8.0</td>\n",
       "      <td>147.0</td>\n",
       "      <td>1303909</td>\n",
       "      <td>1473</td>\n",
       "      <td>17801</td>\n",
       "      <td>fd59890a-f2c2-4282-b2ee-c68f25e20697</td>\n",
       "      <td>151157147.0</td>\n",
       "      <td>NaN</td>\n",
       "    </tr>\n",
       "    <tr>\n",
       "      <th>3</th>\n",
       "      <td>True</td>\n",
       "      <td>12</td>\n",
       "      <td>92.085756</td>\n",
       "      <td>332.848400</td>\n",
       "      <td>554.747333</td>\n",
       "      <td>3.280069</td>\n",
       "      <td>12.620000</td>\n",
       "      <td>12.840000</td>\n",
       "      <td>0.001</td>\n",
       "      <td>False</td>\n",
       "      <td>...</td>\n",
       "      <td>631.0</td>\n",
       "      <td>1988.0</td>\n",
       "      <td>14.0</td>\n",
       "      <td>642.0</td>\n",
       "      <td>139419</td>\n",
       "      <td>7473</td>\n",
       "      <td>44336</td>\n",
       "      <td>72340acf-2a1c-4214-a604-132e0cb56939</td>\n",
       "      <td>NaN</td>\n",
       "      <td>Garantía de fábrica: 90 días</td>\n",
       "    </tr>\n",
       "    <tr>\n",
       "      <th>4</th>\n",
       "      <td>True</td>\n",
       "      <td>5</td>\n",
       "      <td>156.905222</td>\n",
       "      <td>955.997475</td>\n",
       "      <td>3154.791667</td>\n",
       "      <td>2.737876</td>\n",
       "      <td>3.666667</td>\n",
       "      <td>4.363636</td>\n",
       "      <td>0.001</td>\n",
       "      <td>False</td>\n",
       "      <td>...</td>\n",
       "      <td>363.0</td>\n",
       "      <td>8707.0</td>\n",
       "      <td>32.0</td>\n",
       "      <td>432.0</td>\n",
       "      <td>209373</td>\n",
       "      <td>416</td>\n",
       "      <td>46206</td>\n",
       "      <td>84da1314-814c-4d4f-be23-3de9ea1da4b6</td>\n",
       "      <td>NaN</td>\n",
       "      <td>Garantía del vendedor: 90 días</td>\n",
       "    </tr>\n",
       "  </tbody>\n",
       "</table>\n",
       "<p>5 rows × 56 columns</p>\n",
       "</div>"
      ],
      "text/plain": [
       "   accepts_mercadopago  available_quantity  avg_gmv_item_domain_30days  \\\n",
       "0                 True                  59                  938.031376   \n",
       "1                 True                  37                  159.826531   \n",
       "2                 True                   9                   67.635391   \n",
       "3                 True                  12                   92.085756   \n",
       "4                 True                   5                  156.905222   \n",
       "\n",
       "   avg_gmv_item_sel  avg_gmv_seller_bday  avg_qty_orders_item_domain_30days  \\\n",
       "0       2153.933091        135195.200333                           3.430563   \n",
       "1        240.325973         19338.230000                           3.142739   \n",
       "2         86.066296           154.919333                           2.633771   \n",
       "3        332.848400           554.747333                           3.280069   \n",
       "4        955.997475          3154.791667                           2.737876   \n",
       "\n",
       "   avg_qty_orders_item_sel_30days  avg_si_item_sel_30day  benefit  boosted  \\\n",
       "0                       12.407860              13.691450    0.001    False   \n",
       "1                        4.429577               4.511599    0.001    False   \n",
       "2                        2.592593               2.722222    0.001    False   \n",
       "3                       12.620000              12.840000    0.001    False   \n",
       "4                        3.666667               4.363636    0.001    False   \n",
       "\n",
       "   ... total_orders_sel_30days  total_si_domain_30days total_si_item_30days  \\\n",
       "0  ...                 23364.0                 56717.0                 17.0   \n",
       "1  ...                 10693.0                 81455.0                  5.0   \n",
       "2  ...                   140.0                 16792.0                  8.0   \n",
       "3  ...                   631.0                  1988.0                 14.0   \n",
       "4  ...                   363.0                  8707.0                 32.0   \n",
       "\n",
       "  total_si_sel_30days total_visits_domain total_visits_item  \\\n",
       "0             25781.0             7993972               543   \n",
       "1             10891.0             7821316              1789   \n",
       "2               147.0             1303909              1473   \n",
       "3               642.0              139419              7473   \n",
       "4               432.0              209373               416   \n",
       "\n",
       "   total_visits_seller                                   uid      user_id  \\\n",
       "0               854813  cb5bfac7-229a-4e3e-96dd-80b2ad3972c1          NaN   \n",
       "1              1422288  b0f9aa19-00d5-4afd-aa77-45be7c849562          NaN   \n",
       "2                17801  fd59890a-f2c2-4282-b2ee-c68f25e20697  151157147.0   \n",
       "3                44336  72340acf-2a1c-4214-a604-132e0cb56939          NaN   \n",
       "4                46206  84da1314-814c-4d4f-be23-3de9ea1da4b6          NaN   \n",
       "\n",
       "                         warranty  \n",
       "0   Garantía de fábrica: 12 meses  \n",
       "1                             NaN  \n",
       "2                             NaN  \n",
       "3    Garantía de fábrica: 90 días  \n",
       "4  Garantía del vendedor: 90 días  \n",
       "\n",
       "[5 rows x 56 columns]"
      ]
     },
     "execution_count": 4,
     "metadata": {},
     "output_type": "execute_result"
    }
   ],
   "source": [
    "whole_train_df = pd.read_csv('train.csv.gz', compression='gzip', header=0, sep=',', error_bad_lines=False, low_memory=False)\n",
    "print('{0:,} registros a las {1}'.format(len(whole_train_df), datetime.now()))\n",
    "whole_train_df.head()"
   ]
  },
  {
   "cell_type": "code",
   "execution_count": 5,
   "metadata": {},
   "outputs": [
    {
     "data": {
      "text/plain": [
       "False    164017\n",
       "True      16744\n",
       "Name: conversion, dtype: int64"
      ]
     },
     "execution_count": 5,
     "metadata": {},
     "output_type": "execute_result"
    }
   ],
   "source": [
    "whole_train_df['conversion'].value_counts()"
   ]
  },
  {
   "cell_type": "markdown",
   "metadata": {},
   "source": [
    "### Training and Validation set's split"
   ]
  },
  {
   "cell_type": "code",
   "execution_count": 6,
   "metadata": {},
   "outputs": [],
   "source": [
    "train_data = []\n",
    "validation_data = []\n",
    "\n",
    "for row in whole_train_df.itertuples(index=False):\n",
    "    if abs(hash(row.item_id)) % 10 < 2: \n",
    "        validation_data.append(row)\n",
    "    else:\n",
    "        train_data.append(row)\n",
    "        \n",
    "train_df = pd.DataFrame(data=train_data, columns=whole_train_df.columns)\n",
    "validation_df = pd.DataFrame(data=validation_data, columns=whole_train_df.columns)"
   ]
  },
  {
   "cell_type": "code",
   "execution_count": 7,
   "metadata": {},
   "outputs": [
    {
     "name": "stdout",
     "output_type": "stream",
     "text": [
      "143,072 registros a las 2020-09-12 21:19:09.571848\n"
     ]
    },
    {
     "data": {
      "text/html": [
       "<div>\n",
       "<style scoped>\n",
       "    .dataframe tbody tr th:only-of-type {\n",
       "        vertical-align: middle;\n",
       "    }\n",
       "\n",
       "    .dataframe tbody tr th {\n",
       "        vertical-align: top;\n",
       "    }\n",
       "\n",
       "    .dataframe thead th {\n",
       "        text-align: right;\n",
       "    }\n",
       "</style>\n",
       "<table border=\"1\" class=\"dataframe\">\n",
       "  <thead>\n",
       "    <tr style=\"text-align: right;\">\n",
       "      <th></th>\n",
       "      <th>accepts_mercadopago</th>\n",
       "      <th>available_quantity</th>\n",
       "      <th>avg_gmv_item_domain_30days</th>\n",
       "      <th>avg_gmv_item_sel</th>\n",
       "      <th>avg_gmv_seller_bday</th>\n",
       "      <th>avg_qty_orders_item_domain_30days</th>\n",
       "      <th>avg_qty_orders_item_sel_30days</th>\n",
       "      <th>avg_si_item_sel_30day</th>\n",
       "      <th>benefit</th>\n",
       "      <th>boosted</th>\n",
       "      <th>...</th>\n",
       "      <th>total_orders_sel_30days</th>\n",
       "      <th>total_si_domain_30days</th>\n",
       "      <th>total_si_item_30days</th>\n",
       "      <th>total_si_sel_30days</th>\n",
       "      <th>total_visits_domain</th>\n",
       "      <th>total_visits_item</th>\n",
       "      <th>total_visits_seller</th>\n",
       "      <th>uid</th>\n",
       "      <th>user_id</th>\n",
       "      <th>warranty</th>\n",
       "    </tr>\n",
       "  </thead>\n",
       "  <tbody>\n",
       "    <tr>\n",
       "      <th>0</th>\n",
       "      <td>True</td>\n",
       "      <td>59</td>\n",
       "      <td>938.031376</td>\n",
       "      <td>2153.933091</td>\n",
       "      <td>135195.200333</td>\n",
       "      <td>3.430563</td>\n",
       "      <td>12.407860</td>\n",
       "      <td>13.691450</td>\n",
       "      <td>0.001</td>\n",
       "      <td>False</td>\n",
       "      <td>...</td>\n",
       "      <td>23364.0</td>\n",
       "      <td>56717.0</td>\n",
       "      <td>17.0</td>\n",
       "      <td>25781.0</td>\n",
       "      <td>7993972</td>\n",
       "      <td>543</td>\n",
       "      <td>854813</td>\n",
       "      <td>cb5bfac7-229a-4e3e-96dd-80b2ad3972c1</td>\n",
       "      <td>NaN</td>\n",
       "      <td>Garantía de fábrica: 12 meses</td>\n",
       "    </tr>\n",
       "    <tr>\n",
       "      <th>1</th>\n",
       "      <td>True</td>\n",
       "      <td>37</td>\n",
       "      <td>159.826531</td>\n",
       "      <td>240.325973</td>\n",
       "      <td>19338.230000</td>\n",
       "      <td>3.142739</td>\n",
       "      <td>4.429577</td>\n",
       "      <td>4.511599</td>\n",
       "      <td>0.001</td>\n",
       "      <td>False</td>\n",
       "      <td>...</td>\n",
       "      <td>10693.0</td>\n",
       "      <td>81455.0</td>\n",
       "      <td>5.0</td>\n",
       "      <td>10891.0</td>\n",
       "      <td>7821316</td>\n",
       "      <td>1789</td>\n",
       "      <td>1422288</td>\n",
       "      <td>b0f9aa19-00d5-4afd-aa77-45be7c849562</td>\n",
       "      <td>NaN</td>\n",
       "      <td>NaN</td>\n",
       "    </tr>\n",
       "    <tr>\n",
       "      <th>2</th>\n",
       "      <td>True</td>\n",
       "      <td>12</td>\n",
       "      <td>92.085756</td>\n",
       "      <td>332.848400</td>\n",
       "      <td>554.747333</td>\n",
       "      <td>3.280069</td>\n",
       "      <td>12.620000</td>\n",
       "      <td>12.840000</td>\n",
       "      <td>0.001</td>\n",
       "      <td>False</td>\n",
       "      <td>...</td>\n",
       "      <td>631.0</td>\n",
       "      <td>1988.0</td>\n",
       "      <td>14.0</td>\n",
       "      <td>642.0</td>\n",
       "      <td>139419</td>\n",
       "      <td>7473</td>\n",
       "      <td>44336</td>\n",
       "      <td>72340acf-2a1c-4214-a604-132e0cb56939</td>\n",
       "      <td>NaN</td>\n",
       "      <td>Garantía de fábrica: 90 días</td>\n",
       "    </tr>\n",
       "    <tr>\n",
       "      <th>3</th>\n",
       "      <td>True</td>\n",
       "      <td>5</td>\n",
       "      <td>156.905222</td>\n",
       "      <td>955.997475</td>\n",
       "      <td>3154.791667</td>\n",
       "      <td>2.737876</td>\n",
       "      <td>3.666667</td>\n",
       "      <td>4.363636</td>\n",
       "      <td>0.001</td>\n",
       "      <td>False</td>\n",
       "      <td>...</td>\n",
       "      <td>363.0</td>\n",
       "      <td>8707.0</td>\n",
       "      <td>32.0</td>\n",
       "      <td>432.0</td>\n",
       "      <td>209373</td>\n",
       "      <td>416</td>\n",
       "      <td>46206</td>\n",
       "      <td>84da1314-814c-4d4f-be23-3de9ea1da4b6</td>\n",
       "      <td>NaN</td>\n",
       "      <td>Garantía del vendedor: 90 días</td>\n",
       "    </tr>\n",
       "    <tr>\n",
       "      <th>4</th>\n",
       "      <td>True</td>\n",
       "      <td>82</td>\n",
       "      <td>174.367607</td>\n",
       "      <td>495.326667</td>\n",
       "      <td>2030.839333</td>\n",
       "      <td>5.659401</td>\n",
       "      <td>21.715447</td>\n",
       "      <td>28.544715</td>\n",
       "      <td>0.001</td>\n",
       "      <td>False</td>\n",
       "      <td>...</td>\n",
       "      <td>2671.0</td>\n",
       "      <td>94577.0</td>\n",
       "      <td>17.0</td>\n",
       "      <td>3511.0</td>\n",
       "      <td>2006125</td>\n",
       "      <td>612</td>\n",
       "      <td>81237</td>\n",
       "      <td>c6874fdd-aabd-495a-9632-b651b0ffac87</td>\n",
       "      <td>32266680.0</td>\n",
       "      <td>Garantía de fábrica: 2 meses</td>\n",
       "    </tr>\n",
       "  </tbody>\n",
       "</table>\n",
       "<p>5 rows × 56 columns</p>\n",
       "</div>"
      ],
      "text/plain": [
       "   accepts_mercadopago  available_quantity  avg_gmv_item_domain_30days  \\\n",
       "0                 True                  59                  938.031376   \n",
       "1                 True                  37                  159.826531   \n",
       "2                 True                  12                   92.085756   \n",
       "3                 True                   5                  156.905222   \n",
       "4                 True                  82                  174.367607   \n",
       "\n",
       "   avg_gmv_item_sel  avg_gmv_seller_bday  avg_qty_orders_item_domain_30days  \\\n",
       "0       2153.933091        135195.200333                           3.430563   \n",
       "1        240.325973         19338.230000                           3.142739   \n",
       "2        332.848400           554.747333                           3.280069   \n",
       "3        955.997475          3154.791667                           2.737876   \n",
       "4        495.326667          2030.839333                           5.659401   \n",
       "\n",
       "   avg_qty_orders_item_sel_30days  avg_si_item_sel_30day  benefit  boosted  \\\n",
       "0                       12.407860              13.691450    0.001    False   \n",
       "1                        4.429577               4.511599    0.001    False   \n",
       "2                       12.620000              12.840000    0.001    False   \n",
       "3                        3.666667               4.363636    0.001    False   \n",
       "4                       21.715447              28.544715    0.001    False   \n",
       "\n",
       "   ... total_orders_sel_30days  total_si_domain_30days total_si_item_30days  \\\n",
       "0  ...                 23364.0                 56717.0                 17.0   \n",
       "1  ...                 10693.0                 81455.0                  5.0   \n",
       "2  ...                   631.0                  1988.0                 14.0   \n",
       "3  ...                   363.0                  8707.0                 32.0   \n",
       "4  ...                  2671.0                 94577.0                 17.0   \n",
       "\n",
       "  total_si_sel_30days total_visits_domain total_visits_item  \\\n",
       "0             25781.0             7993972               543   \n",
       "1             10891.0             7821316              1789   \n",
       "2               642.0              139419              7473   \n",
       "3               432.0              209373               416   \n",
       "4              3511.0             2006125               612   \n",
       "\n",
       "   total_visits_seller                                   uid     user_id  \\\n",
       "0               854813  cb5bfac7-229a-4e3e-96dd-80b2ad3972c1         NaN   \n",
       "1              1422288  b0f9aa19-00d5-4afd-aa77-45be7c849562         NaN   \n",
       "2                44336  72340acf-2a1c-4214-a604-132e0cb56939         NaN   \n",
       "3                46206  84da1314-814c-4d4f-be23-3de9ea1da4b6         NaN   \n",
       "4                81237  c6874fdd-aabd-495a-9632-b651b0ffac87  32266680.0   \n",
       "\n",
       "                         warranty  \n",
       "0   Garantía de fábrica: 12 meses  \n",
       "1                             NaN  \n",
       "2    Garantía de fábrica: 90 días  \n",
       "3  Garantía del vendedor: 90 días  \n",
       "4    Garantía de fábrica: 2 meses  \n",
       "\n",
       "[5 rows x 56 columns]"
      ]
     },
     "execution_count": 7,
     "metadata": {},
     "output_type": "execute_result"
    }
   ],
   "source": [
    "print('{0:,} registros a las {1}'.format(len(train_df), datetime.now()))\n",
    "train_df.head()"
   ]
  },
  {
   "cell_type": "code",
   "execution_count": 8,
   "metadata": {},
   "outputs": [
    {
     "name": "stdout",
     "output_type": "stream",
     "text": [
      "37,689 registros a las 2020-09-12 21:19:09.599230\n"
     ]
    },
    {
     "data": {
      "text/html": [
       "<div>\n",
       "<style scoped>\n",
       "    .dataframe tbody tr th:only-of-type {\n",
       "        vertical-align: middle;\n",
       "    }\n",
       "\n",
       "    .dataframe tbody tr th {\n",
       "        vertical-align: top;\n",
       "    }\n",
       "\n",
       "    .dataframe thead th {\n",
       "        text-align: right;\n",
       "    }\n",
       "</style>\n",
       "<table border=\"1\" class=\"dataframe\">\n",
       "  <thead>\n",
       "    <tr style=\"text-align: right;\">\n",
       "      <th></th>\n",
       "      <th>accepts_mercadopago</th>\n",
       "      <th>available_quantity</th>\n",
       "      <th>avg_gmv_item_domain_30days</th>\n",
       "      <th>avg_gmv_item_sel</th>\n",
       "      <th>avg_gmv_seller_bday</th>\n",
       "      <th>avg_qty_orders_item_domain_30days</th>\n",
       "      <th>avg_qty_orders_item_sel_30days</th>\n",
       "      <th>avg_si_item_sel_30day</th>\n",
       "      <th>benefit</th>\n",
       "      <th>boosted</th>\n",
       "      <th>...</th>\n",
       "      <th>total_orders_sel_30days</th>\n",
       "      <th>total_si_domain_30days</th>\n",
       "      <th>total_si_item_30days</th>\n",
       "      <th>total_si_sel_30days</th>\n",
       "      <th>total_visits_domain</th>\n",
       "      <th>total_visits_item</th>\n",
       "      <th>total_visits_seller</th>\n",
       "      <th>uid</th>\n",
       "      <th>user_id</th>\n",
       "      <th>warranty</th>\n",
       "    </tr>\n",
       "  </thead>\n",
       "  <tbody>\n",
       "    <tr>\n",
       "      <th>0</th>\n",
       "      <td>True</td>\n",
       "      <td>9</td>\n",
       "      <td>67.635391</td>\n",
       "      <td>86.066296</td>\n",
       "      <td>154.919333</td>\n",
       "      <td>2.633771</td>\n",
       "      <td>2.592593</td>\n",
       "      <td>2.722222</td>\n",
       "      <td>0.001</td>\n",
       "      <td>False</td>\n",
       "      <td>...</td>\n",
       "      <td>140.0</td>\n",
       "      <td>16792.0</td>\n",
       "      <td>8.0</td>\n",
       "      <td>147.0</td>\n",
       "      <td>1303909</td>\n",
       "      <td>1473</td>\n",
       "      <td>17801</td>\n",
       "      <td>fd59890a-f2c2-4282-b2ee-c68f25e20697</td>\n",
       "      <td>151157147.0</td>\n",
       "      <td>NaN</td>\n",
       "    </tr>\n",
       "    <tr>\n",
       "      <th>1</th>\n",
       "      <td>True</td>\n",
       "      <td>60</td>\n",
       "      <td>454.653574</td>\n",
       "      <td>421.946805</td>\n",
       "      <td>9817.295667</td>\n",
       "      <td>5.227991</td>\n",
       "      <td>5.654728</td>\n",
       "      <td>7.488539</td>\n",
       "      <td>0.000</td>\n",
       "      <td>False</td>\n",
       "      <td>...</td>\n",
       "      <td>3947.0</td>\n",
       "      <td>7253.0</td>\n",
       "      <td>49.0</td>\n",
       "      <td>5227.0</td>\n",
       "      <td>270671</td>\n",
       "      <td>1873</td>\n",
       "      <td>229152</td>\n",
       "      <td>f651be12-d9c5-4e29-b77e-8e95b5137af3</td>\n",
       "      <td>498004001.0</td>\n",
       "      <td>6 meses de garantía.</td>\n",
       "    </tr>\n",
       "    <tr>\n",
       "      <th>2</th>\n",
       "      <td>True</td>\n",
       "      <td>44</td>\n",
       "      <td>114.704700</td>\n",
       "      <td>200.589045</td>\n",
       "      <td>2239.911000</td>\n",
       "      <td>4.387991</td>\n",
       "      <td>2.588060</td>\n",
       "      <td>3.023881</td>\n",
       "      <td>0.001</td>\n",
       "      <td>False</td>\n",
       "      <td>...</td>\n",
       "      <td>867.0</td>\n",
       "      <td>5279.0</td>\n",
       "      <td>4.0</td>\n",
       "      <td>1013.0</td>\n",
       "      <td>336447</td>\n",
       "      <td>243</td>\n",
       "      <td>202158</td>\n",
       "      <td>ede61a11-5ef8-4626-86d0-2040abcb15d3</td>\n",
       "      <td>NaN</td>\n",
       "      <td>NaN</td>\n",
       "    </tr>\n",
       "    <tr>\n",
       "      <th>3</th>\n",
       "      <td>True</td>\n",
       "      <td>201</td>\n",
       "      <td>35.620699</td>\n",
       "      <td>39.111875</td>\n",
       "      <td>20.859667</td>\n",
       "      <td>2.107527</td>\n",
       "      <td>3.062500</td>\n",
       "      <td>4.312500</td>\n",
       "      <td>0.001</td>\n",
       "      <td>False</td>\n",
       "      <td>...</td>\n",
       "      <td>49.0</td>\n",
       "      <td>419.0</td>\n",
       "      <td>9.0</td>\n",
       "      <td>69.0</td>\n",
       "      <td>37832</td>\n",
       "      <td>1391</td>\n",
       "      <td>6031</td>\n",
       "      <td>236b8125-4b99-4e82-b2ff-1d3a306e1a66</td>\n",
       "      <td>222834358.0</td>\n",
       "      <td>Sin garantía</td>\n",
       "    </tr>\n",
       "    <tr>\n",
       "      <th>4</th>\n",
       "      <td>True</td>\n",
       "      <td>206</td>\n",
       "      <td>40.526875</td>\n",
       "      <td>52.671250</td>\n",
       "      <td>28.091333</td>\n",
       "      <td>2.462500</td>\n",
       "      <td>3.062500</td>\n",
       "      <td>4.062500</td>\n",
       "      <td>0.001</td>\n",
       "      <td>False</td>\n",
       "      <td>...</td>\n",
       "      <td>49.0</td>\n",
       "      <td>636.0</td>\n",
       "      <td>13.0</td>\n",
       "      <td>65.0</td>\n",
       "      <td>29690</td>\n",
       "      <td>946</td>\n",
       "      <td>3790</td>\n",
       "      <td>4bec55c3-21d4-408c-a2dd-dd58ceb38f08</td>\n",
       "      <td>186474264.0</td>\n",
       "      <td>Sin garantía</td>\n",
       "    </tr>\n",
       "  </tbody>\n",
       "</table>\n",
       "<p>5 rows × 56 columns</p>\n",
       "</div>"
      ],
      "text/plain": [
       "   accepts_mercadopago  available_quantity  avg_gmv_item_domain_30days  \\\n",
       "0                 True                   9                   67.635391   \n",
       "1                 True                  60                  454.653574   \n",
       "2                 True                  44                  114.704700   \n",
       "3                 True                 201                   35.620699   \n",
       "4                 True                 206                   40.526875   \n",
       "\n",
       "   avg_gmv_item_sel  avg_gmv_seller_bday  avg_qty_orders_item_domain_30days  \\\n",
       "0         86.066296           154.919333                           2.633771   \n",
       "1        421.946805          9817.295667                           5.227991   \n",
       "2        200.589045          2239.911000                           4.387991   \n",
       "3         39.111875            20.859667                           2.107527   \n",
       "4         52.671250            28.091333                           2.462500   \n",
       "\n",
       "   avg_qty_orders_item_sel_30days  avg_si_item_sel_30day  benefit  boosted  \\\n",
       "0                        2.592593               2.722222    0.001    False   \n",
       "1                        5.654728               7.488539    0.000    False   \n",
       "2                        2.588060               3.023881    0.001    False   \n",
       "3                        3.062500               4.312500    0.001    False   \n",
       "4                        3.062500               4.062500    0.001    False   \n",
       "\n",
       "   ... total_orders_sel_30days  total_si_domain_30days total_si_item_30days  \\\n",
       "0  ...                   140.0                 16792.0                  8.0   \n",
       "1  ...                  3947.0                  7253.0                 49.0   \n",
       "2  ...                   867.0                  5279.0                  4.0   \n",
       "3  ...                    49.0                   419.0                  9.0   \n",
       "4  ...                    49.0                   636.0                 13.0   \n",
       "\n",
       "  total_si_sel_30days total_visits_domain total_visits_item  \\\n",
       "0               147.0             1303909              1473   \n",
       "1              5227.0              270671              1873   \n",
       "2              1013.0              336447               243   \n",
       "3                69.0               37832              1391   \n",
       "4                65.0               29690               946   \n",
       "\n",
       "   total_visits_seller                                   uid      user_id  \\\n",
       "0                17801  fd59890a-f2c2-4282-b2ee-c68f25e20697  151157147.0   \n",
       "1               229152  f651be12-d9c5-4e29-b77e-8e95b5137af3  498004001.0   \n",
       "2               202158  ede61a11-5ef8-4626-86d0-2040abcb15d3          NaN   \n",
       "3                 6031  236b8125-4b99-4e82-b2ff-1d3a306e1a66  222834358.0   \n",
       "4                 3790  4bec55c3-21d4-408c-a2dd-dd58ceb38f08  186474264.0   \n",
       "\n",
       "               warranty  \n",
       "0                   NaN  \n",
       "1  6 meses de garantía.  \n",
       "2                   NaN  \n",
       "3          Sin garantía  \n",
       "4          Sin garantía  \n",
       "\n",
       "[5 rows x 56 columns]"
      ]
     },
     "execution_count": 8,
     "metadata": {},
     "output_type": "execute_result"
    }
   ],
   "source": [
    "print('{0:,} registros a las {1}'.format(len(validation_df), datetime.now()))\n",
    "validation_df.head()"
   ]
  },
  {
   "cell_type": "markdown",
   "metadata": {},
   "source": [
    "### Test set"
   ]
  },
  {
   "cell_type": "code",
   "execution_count": 9,
   "metadata": {},
   "outputs": [
    {
     "name": "stdout",
     "output_type": "stream",
     "text": [
      "19,211 registros a las 2020-09-12 21:19:09.815613\n"
     ]
    },
    {
     "data": {
      "text/html": [
       "<div>\n",
       "<style scoped>\n",
       "    .dataframe tbody tr th:only-of-type {\n",
       "        vertical-align: middle;\n",
       "    }\n",
       "\n",
       "    .dataframe tbody tr th {\n",
       "        vertical-align: top;\n",
       "    }\n",
       "\n",
       "    .dataframe thead th {\n",
       "        text-align: right;\n",
       "    }\n",
       "</style>\n",
       "<table border=\"1\" class=\"dataframe\">\n",
       "  <thead>\n",
       "    <tr style=\"text-align: right;\">\n",
       "      <th></th>\n",
       "      <th>accepts_mercadopago</th>\n",
       "      <th>available_quantity</th>\n",
       "      <th>avg_gmv_item_domain_30days</th>\n",
       "      <th>avg_gmv_item_sel</th>\n",
       "      <th>avg_gmv_seller_bday</th>\n",
       "      <th>avg_qty_orders_item_domain_30days</th>\n",
       "      <th>avg_qty_orders_item_sel_30days</th>\n",
       "      <th>avg_si_item_sel_30day</th>\n",
       "      <th>benefit</th>\n",
       "      <th>boosted</th>\n",
       "      <th>...</th>\n",
       "      <th>total_si_domain_30days</th>\n",
       "      <th>total_si_item_30days</th>\n",
       "      <th>total_si_sel_30days</th>\n",
       "      <th>total_visits_domain</th>\n",
       "      <th>total_visits_item</th>\n",
       "      <th>total_visits_seller</th>\n",
       "      <th>uid</th>\n",
       "      <th>user_id</th>\n",
       "      <th>warranty</th>\n",
       "      <th>ROW_ID</th>\n",
       "    </tr>\n",
       "  </thead>\n",
       "  <tbody>\n",
       "    <tr>\n",
       "      <th>0</th>\n",
       "      <td>True</td>\n",
       "      <td>4</td>\n",
       "      <td>98.426510</td>\n",
       "      <td>91.979648</td>\n",
       "      <td>3657.724000</td>\n",
       "      <td>3.589443</td>\n",
       "      <td>3.461023</td>\n",
       "      <td>4.988265</td>\n",
       "      <td>0.001</td>\n",
       "      <td>False</td>\n",
       "      <td>...</td>\n",
       "      <td>1364.0</td>\n",
       "      <td>18.0</td>\n",
       "      <td>5951.0</td>\n",
       "      <td>40954</td>\n",
       "      <td>300</td>\n",
       "      <td>100477</td>\n",
       "      <td>703f4bd1-cc3e-4102-8cfa-fe3cdd15ebb7</td>\n",
       "      <td>233223201.0</td>\n",
       "      <td>Garantia de fabrica</td>\n",
       "      <td>0</td>\n",
       "    </tr>\n",
       "    <tr>\n",
       "      <th>1</th>\n",
       "      <td>True</td>\n",
       "      <td>12</td>\n",
       "      <td>242.485208</td>\n",
       "      <td>821.376944</td>\n",
       "      <td>985.652333</td>\n",
       "      <td>3.215580</td>\n",
       "      <td>26.222222</td>\n",
       "      <td>28.388889</td>\n",
       "      <td>0.001</td>\n",
       "      <td>False</td>\n",
       "      <td>...</td>\n",
       "      <td>3724.0</td>\n",
       "      <td>41.0</td>\n",
       "      <td>1022.0</td>\n",
       "      <td>135133</td>\n",
       "      <td>926</td>\n",
       "      <td>44033</td>\n",
       "      <td>d714e65e-5447-4f7d-9a4e-aaa57efa6107</td>\n",
       "      <td>337881137.0</td>\n",
       "      <td>NaN</td>\n",
       "      <td>1</td>\n",
       "    </tr>\n",
       "    <tr>\n",
       "      <th>2</th>\n",
       "      <td>True</td>\n",
       "      <td>5</td>\n",
       "      <td>2450.533424</td>\n",
       "      <td>1365.504354</td>\n",
       "      <td>33454.856667</td>\n",
       "      <td>7.097276</td>\n",
       "      <td>14.646259</td>\n",
       "      <td>15.217687</td>\n",
       "      <td>0.001</td>\n",
       "      <td>False</td>\n",
       "      <td>...</td>\n",
       "      <td>1839.0</td>\n",
       "      <td>71.0</td>\n",
       "      <td>11185.0</td>\n",
       "      <td>204788</td>\n",
       "      <td>8457</td>\n",
       "      <td>716157</td>\n",
       "      <td>299cb623-b71c-4f9d-b792-48d5744f0449</td>\n",
       "      <td>86609353.0</td>\n",
       "      <td>Garantía de fábrica: 12 meses</td>\n",
       "      <td>2</td>\n",
       "    </tr>\n",
       "    <tr>\n",
       "      <th>3</th>\n",
       "      <td>True</td>\n",
       "      <td>9052</td>\n",
       "      <td>157.735448</td>\n",
       "      <td>78.692131</td>\n",
       "      <td>160.007333</td>\n",
       "      <td>4.927390</td>\n",
       "      <td>2.983607</td>\n",
       "      <td>3.524590</td>\n",
       "      <td>0.001</td>\n",
       "      <td>False</td>\n",
       "      <td>...</td>\n",
       "      <td>85528.0</td>\n",
       "      <td>44.0</td>\n",
       "      <td>215.0</td>\n",
       "      <td>1404477</td>\n",
       "      <td>1907</td>\n",
       "      <td>6580</td>\n",
       "      <td>f2060244-f0da-43db-91b7-4c1bb5f99e67</td>\n",
       "      <td>430797570.0</td>\n",
       "      <td>Sin garantía</td>\n",
       "      <td>3</td>\n",
       "    </tr>\n",
       "    <tr>\n",
       "      <th>4</th>\n",
       "      <td>True</td>\n",
       "      <td>37</td>\n",
       "      <td>116.891454</td>\n",
       "      <td>163.245653</td>\n",
       "      <td>4043.050667</td>\n",
       "      <td>2.937837</td>\n",
       "      <td>7.257066</td>\n",
       "      <td>19.771198</td>\n",
       "      <td>0.001</td>\n",
       "      <td>False</td>\n",
       "      <td>...</td>\n",
       "      <td>61466.0</td>\n",
       "      <td>274.0</td>\n",
       "      <td>14690.0</td>\n",
       "      <td>1466424</td>\n",
       "      <td>2633</td>\n",
       "      <td>215184</td>\n",
       "      <td>d7f3b7f4-a9fa-4bd8-a600-3f2714480779</td>\n",
       "      <td>6566243.0</td>\n",
       "      <td>Garantía de fábrica: 6 meses</td>\n",
       "      <td>4</td>\n",
       "    </tr>\n",
       "  </tbody>\n",
       "</table>\n",
       "<p>5 rows × 56 columns</p>\n",
       "</div>"
      ],
      "text/plain": [
       "   accepts_mercadopago  available_quantity  avg_gmv_item_domain_30days  \\\n",
       "0                 True                   4                   98.426510   \n",
       "1                 True                  12                  242.485208   \n",
       "2                 True                   5                 2450.533424   \n",
       "3                 True                9052                  157.735448   \n",
       "4                 True                  37                  116.891454   \n",
       "\n",
       "   avg_gmv_item_sel  avg_gmv_seller_bday  avg_qty_orders_item_domain_30days  \\\n",
       "0         91.979648          3657.724000                           3.589443   \n",
       "1        821.376944           985.652333                           3.215580   \n",
       "2       1365.504354         33454.856667                           7.097276   \n",
       "3         78.692131           160.007333                           4.927390   \n",
       "4        163.245653          4043.050667                           2.937837   \n",
       "\n",
       "   avg_qty_orders_item_sel_30days  avg_si_item_sel_30day  benefit  boosted  \\\n",
       "0                        3.461023               4.988265    0.001    False   \n",
       "1                       26.222222              28.388889    0.001    False   \n",
       "2                       14.646259              15.217687    0.001    False   \n",
       "3                        2.983607               3.524590    0.001    False   \n",
       "4                        7.257066              19.771198    0.001    False   \n",
       "\n",
       "   ... total_si_domain_30days total_si_item_30days total_si_sel_30days  \\\n",
       "0  ...                 1364.0                 18.0              5951.0   \n",
       "1  ...                 3724.0                 41.0              1022.0   \n",
       "2  ...                 1839.0                 71.0             11185.0   \n",
       "3  ...                85528.0                 44.0               215.0   \n",
       "4  ...                61466.0                274.0             14690.0   \n",
       "\n",
       "  total_visits_domain total_visits_item  total_visits_seller  \\\n",
       "0               40954               300               100477   \n",
       "1              135133               926                44033   \n",
       "2              204788              8457               716157   \n",
       "3             1404477              1907                 6580   \n",
       "4             1466424              2633               215184   \n",
       "\n",
       "                                    uid      user_id  \\\n",
       "0  703f4bd1-cc3e-4102-8cfa-fe3cdd15ebb7  233223201.0   \n",
       "1  d714e65e-5447-4f7d-9a4e-aaa57efa6107  337881137.0   \n",
       "2  299cb623-b71c-4f9d-b792-48d5744f0449   86609353.0   \n",
       "3  f2060244-f0da-43db-91b7-4c1bb5f99e67  430797570.0   \n",
       "4  d7f3b7f4-a9fa-4bd8-a600-3f2714480779    6566243.0   \n",
       "\n",
       "                        warranty ROW_ID  \n",
       "0            Garantia de fabrica      0  \n",
       "1                            NaN      1  \n",
       "2  Garantía de fábrica: 12 meses      2  \n",
       "3                   Sin garantía      3  \n",
       "4   Garantía de fábrica: 6 meses      4  \n",
       "\n",
       "[5 rows x 56 columns]"
      ]
     },
     "execution_count": 9,
     "metadata": {},
     "output_type": "execute_result"
    }
   ],
   "source": [
    "test_df = pd.read_csv('test.csv', sep=',')\n",
    "print('{0:,} registros a las {1}'.format(len(test_df), datetime.now()))\n",
    "test_df.head()"
   ]
  },
  {
   "cell_type": "code",
   "execution_count": 10,
   "metadata": {},
   "outputs": [
    {
     "data": {
      "text/plain": [
       "[{'accepts_mercadopago': True,\n",
       "  'available_quantity': 4,\n",
       "  'avg_gmv_item_domain_30days': 98.42651,\n",
       "  'avg_gmv_item_sel': 91.979648,\n",
       "  'avg_gmv_seller_bday': 3657.724,\n",
       "  'avg_qty_orders_item_domain_30days': 3.5894428152492672,\n",
       "  'avg_qty_orders_item_sel_30days': 3.4610226320201174,\n",
       "  'avg_si_item_sel_30day': 4.988265,\n",
       "  'benefit': 0.001,\n",
       "  'boosted': False,\n",
       "  'category_id': 'MLA29933',\n",
       "  'date': '2020-04-10',\n",
       "  'deal_print_id': '13486cc0-7b38-11ea-80da-b7bc289f1eb3',\n",
       "  'domain_id': 'MLA-HEATING_PADS',\n",
       "  'etl_version': '0.0.1',\n",
       "  'free_shipping': False,\n",
       "  'fulfillment': False,\n",
       "  'full_name': 'Salud y Equipamiento Médico -> Cuidado de la Salud -> Terapias de Frío y Calor -> Almohadillas Térmicas',\n",
       "  'health': 0.66,\n",
       "  'is_pdp': False,\n",
       "  'product_id': nan,\n",
       "  'item_id': 'MLA687322333',\n",
       "  'listing_type_id': 'gold_special',\n",
       "  'logistic_type': 'cross_docking',\n",
       "  'main_picture': 'http://mla-s2-p.mlstatic.com/989963-MLA31846949555_082019-O.jpg',\n",
       "  'offset': 528,\n",
       "  'original_price': 2000,\n",
       "  'platform': '/mobile/android',\n",
       "  'price': 1700,\n",
       "  'print_position': 828,\n",
       "  'print_server_timestamp': '2020-04-10T10:32:18.100-0400',\n",
       "  'qty_items_dom': 341.0,\n",
       "  'qty_items_sel': 1193.0,\n",
       "  'site_id': 'MLA',\n",
       "  'sold_quantity': 41,\n",
       "  'tags': '[brand_verified, good_quality_picture, loyalty_discount_eligible, immediate_payment, cart_eligible]',\n",
       "  'title': 'Almohadilla Eléctrica Termica Silfab Small 31 X 23 Cm Al80',\n",
       "  'total_asp_item_domain_30days': 24.540562950100004,\n",
       "  'total_asp_item_sel_30days': 20.3597047167,\n",
       "  'total_gmv_domain_bday': 1118.781333,\n",
       "  'total_gmv_item_30days': 480.73,\n",
       "  'total_items_domain': 1458,\n",
       "  'total_items_seller': 2383,\n",
       "  'total_orders_domain_30days': 1224.0,\n",
       "  'total_orders_item_30days': 18.0,\n",
       "  'total_orders_sel_30days': 4129.0,\n",
       "  'total_si_domain_30days': 1364.0,\n",
       "  'total_si_item_30days': 18.0,\n",
       "  'total_si_sel_30days': 5951.0,\n",
       "  'total_visits_domain': 40954,\n",
       "  'total_visits_item': 300,\n",
       "  'total_visits_seller': 100477,\n",
       "  'uid': '703f4bd1-cc3e-4102-8cfa-fe3cdd15ebb7',\n",
       "  'user_id': 233223201.0,\n",
       "  'warranty': 'Garantia de fabrica',\n",
       "  'ROW_ID': 0},\n",
       " {'accepts_mercadopago': True,\n",
       "  'available_quantity': 12,\n",
       "  'avg_gmv_item_domain_30days': 242.485208,\n",
       "  'avg_gmv_item_sel': 821.3769440000003,\n",
       "  'avg_gmv_seller_bday': 985.652333,\n",
       "  'avg_qty_orders_item_domain_30days': 3.215579710144928,\n",
       "  'avg_qty_orders_item_sel_30days': 26.222222222222207,\n",
       "  'avg_si_item_sel_30day': 28.388889,\n",
       "  'benefit': 0.001,\n",
       "  'boosted': False,\n",
       "  'category_id': 'MLA120354',\n",
       "  'date': '2020-03-27',\n",
       "  'deal_print_id': '91f51450-7094-11ea-a195-69da39a3a2bc',\n",
       "  'domain_id': 'MLA-SUITCASES',\n",
       "  'etl_version': '0.0.1',\n",
       "  'free_shipping': True,\n",
       "  'fulfillment': True,\n",
       "  'full_name': 'Ropa y Accesorios -> Equipaje, Bolsos y Carteras -> Equipaje y Accesorios de Viaje -> Valijas',\n",
       "  'health': 0.88,\n",
       "  'is_pdp': nan,\n",
       "  'product_id': nan,\n",
       "  'item_id': 'MLA787958329',\n",
       "  'listing_type_id': 'gold_special',\n",
       "  'logistic_type': 'fulfillment',\n",
       "  'main_picture': 'http://mla-s2-p.mlstatic.com/660711-MLA42271548262_062020-O.jpg',\n",
       "  'offset': 432,\n",
       "  'original_price': 3999,\n",
       "  'platform': '/mobile/android',\n",
       "  'price': 3090,\n",
       "  'print_position': 470,\n",
       "  'print_server_timestamp': '2020-03-27T21:36:46.702-0400',\n",
       "  'qty_items_dom': 1104.0,\n",
       "  'qty_items_sel': 36.0,\n",
       "  'site_id': 'MLA',\n",
       "  'sold_quantity': 299,\n",
       "  'tags': '[good_quality_thumbnail, loyalty_discount_eligible, today_promotion, brand_verified, good_quality_picture, immediate_payment]',\n",
       "  'title': 'Valija Carry On Cabina Chica De Viaje Semi Rígida De Mano ',\n",
       "  'total_asp_item_domain_30days': 92.97788803620001,\n",
       "  'total_asp_item_sel_30days': 44.915133861099996,\n",
       "  'total_gmv_domain_bday': 8923.455667,\n",
       "  'total_gmv_item_30days': 2616.55,\n",
       "  'total_items_domain': 7248,\n",
       "  'total_items_seller': 58,\n",
       "  'total_orders_domain_30days': 3550.0,\n",
       "  'total_orders_item_30days': 39.0,\n",
       "  'total_orders_sel_30days': 944.0,\n",
       "  'total_si_domain_30days': 3724.0,\n",
       "  'total_si_item_30days': 41.0,\n",
       "  'total_si_sel_30days': 1022.0,\n",
       "  'total_visits_domain': 135133,\n",
       "  'total_visits_item': 926,\n",
       "  'total_visits_seller': 44033,\n",
       "  'uid': 'd714e65e-5447-4f7d-9a4e-aaa57efa6107',\n",
       "  'user_id': 337881137.0,\n",
       "  'warranty': nan,\n",
       "  'ROW_ID': 1}]"
      ]
     },
     "execution_count": 10,
     "metadata": {},
     "output_type": "execute_result"
    }
   ],
   "source": [
    "X_test = test_df.to_dict('records')\n",
    "X_test[:2]"
   ]
  },
  {
   "cell_type": "markdown",
   "metadata": {},
   "source": [
    "### Loading with helper function"
   ]
  },
  {
   "cell_type": "code",
   "execution_count": 11,
   "metadata": {},
   "outputs": [],
   "source": [
    "#X_train, X_validation, Y_train, Y_validation = load_dataset()\n",
    "X_train = train_df.to_dict('records')\n",
    "X_validation = validation_df.to_dict('records')\n",
    "X_test = test_df.to_dict('records')\n",
    "\n",
    "Y_train = train_df['conversion'].values\n",
    "Y_validation = validation_df['conversion'].values"
   ]
  },
  {
   "cell_type": "code",
   "execution_count": 12,
   "metadata": {},
   "outputs": [
    {
     "data": {
      "text/plain": [
       "[{'accepts_mercadopago': True,\n",
       "  'available_quantity': 59,\n",
       "  'avg_gmv_item_domain_30days': 938.031376,\n",
       "  'avg_gmv_item_sel': 2153.933091,\n",
       "  'avg_gmv_seller_bday': 135195.200333,\n",
       "  'avg_qty_orders_item_domain_30days': 3.4305625,\n",
       "  'avg_qty_orders_item_sel_30days': 12.407859798194373,\n",
       "  'avg_si_item_sel_30day': 13.69145,\n",
       "  'benefit': 0.001,\n",
       "  'boosted': False,\n",
       "  'category_id': 'MLA1055',\n",
       "  'conversion': False,\n",
       "  'date': '2020-03-06',\n",
       "  'deal_print_id': 'a9cb2270-5f61-11ea-89fc-13e674cbfad4',\n",
       "  'domain_id': 'MLA-CELLPHONES',\n",
       "  'etl_version': '0.0.1',\n",
       "  'free_shipping': True,\n",
       "  'fulfillment': False,\n",
       "  'full_name': 'Celulares y Teléfonos -> Celulares y Smartphones',\n",
       "  'health': 0.0,\n",
       "  'is_pdp': False,\n",
       "  'product_id': 15183595.0,\n",
       "  'item_id': 'MLA830939055',\n",
       "  'listing_type_id': 'gold_special',\n",
       "  'logistic_type': 'cross_docking',\n",
       "  'main_picture': nan,\n",
       "  'offset': 0,\n",
       "  'original_price': 29999,\n",
       "  'platform': '/web/desktop',\n",
       "  'price': 20999,\n",
       "  'print_position': 1717,\n",
       "  'print_server_timestamp': '2020-03-06T00:19:30.735-0400',\n",
       "  'qty_items_dom': 16000.0,\n",
       "  'qty_items_sel': 1883.0,\n",
       "  'site_id': 'MLA',\n",
       "  'sold_quantity': 65,\n",
       "  'tags': '[good_quality_picture, good_quality_thumbnail, today_promotion, brand_verified, extended_warranty_eligible, immediate_payment, cart_eligible]',\n",
       "  'title': 'Motorola One Action 128 Gb Denim Blue 4 Gb Ram',\n",
       "  'total_asp_item_domain_30days': 277.20515880060003,\n",
       "  'total_asp_item_sel_30days': 188.75394947,\n",
       "  'total_gmv_domain_bday': 500283.400333,\n",
       "  'total_gmv_item_30days': 5793.18,\n",
       "  'total_items_domain': 121453,\n",
       "  'total_items_seller': 4119,\n",
       "  'total_orders_domain_30days': 54889.0,\n",
       "  'total_orders_item_30days': 17.0,\n",
       "  'total_orders_sel_30days': 23364.0,\n",
       "  'total_si_domain_30days': 56717.0,\n",
       "  'total_si_item_30days': 17.0,\n",
       "  'total_si_sel_30days': 25781.0,\n",
       "  'total_visits_domain': 7993972,\n",
       "  'total_visits_item': 543,\n",
       "  'total_visits_seller': 854813,\n",
       "  'uid': 'cb5bfac7-229a-4e3e-96dd-80b2ad3972c1',\n",
       "  'user_id': nan,\n",
       "  'warranty': 'Garantía de fábrica: 12 meses'},\n",
       " {'accepts_mercadopago': True,\n",
       "  'available_quantity': 37,\n",
       "  'avg_gmv_item_domain_30days': 159.82653100000005,\n",
       "  'avg_gmv_item_sel': 240.325973,\n",
       "  'avg_gmv_seller_bday': 19338.23,\n",
       "  'avg_qty_orders_item_domain_30days': 3.1427390791027165,\n",
       "  'avg_qty_orders_item_sel_30days': 4.429577464788731,\n",
       "  'avg_si_item_sel_30day': 4.511599,\n",
       "  'benefit': 0.001,\n",
       "  'boosted': False,\n",
       "  'category_id': 'MLA3724',\n",
       "  'conversion': False,\n",
       "  'date': '2020-04-01',\n",
       "  'deal_print_id': '17bfe7b0-7480-11ea-a387-65bd48ab9972',\n",
       "  'domain_id': 'MLA-SNEAKERS',\n",
       "  'etl_version': '0.0.1',\n",
       "  'free_shipping': True,\n",
       "  'fulfillment': False,\n",
       "  'full_name': 'Deportes y Fitness -> Zapatillas',\n",
       "  'health': 0.81,\n",
       "  'is_pdp': False,\n",
       "  'product_id': nan,\n",
       "  'item_id': 'MLA823451186',\n",
       "  'listing_type_id': 'gold_special',\n",
       "  'logistic_type': 'drop_off',\n",
       "  'main_picture': 'http://mla-s1-p.mlstatic.com/754793-MLA32765483112_112019-O.jpg',\n",
       "  'offset': 288,\n",
       "  'original_price': 6700,\n",
       "  'platform': '/mobile/android',\n",
       "  'price': 3999,\n",
       "  'print_position': 311,\n",
       "  'print_server_timestamp': '2020-04-01T21:20:11.738-0400',\n",
       "  'qty_items_dom': 25410.0,\n",
       "  'qty_items_sel': 2414.0,\n",
       "  'site_id': 'MLA',\n",
       "  'sold_quantity': 17,\n",
       "  'tags': '[good_quality_thumbnail, incomplete_technical_specs, today_promotion, brand_verified, good_quality_picture, immediate_payment, cart_eligible]',\n",
       "  'title': 'Zapatillas Hovr Sonic 2 Under Armour',\n",
       "  'total_asp_item_domain_30days': 56.936334144899995,\n",
       "  'total_asp_item_sel_30days': 52.9825333579,\n",
       "  'total_gmv_domain_bday': 135373.071667,\n",
       "  'total_gmv_item_30days': 350.29,\n",
       "  'total_items_domain': 147168,\n",
       "  'total_items_seller': 11711,\n",
       "  'total_orders_domain_30days': 79857.0,\n",
       "  'total_orders_item_30days': 5.0,\n",
       "  'total_orders_sel_30days': 10693.0,\n",
       "  'total_si_domain_30days': 81455.0,\n",
       "  'total_si_item_30days': 5.0,\n",
       "  'total_si_sel_30days': 10891.0,\n",
       "  'total_visits_domain': 7821316,\n",
       "  'total_visits_item': 1789,\n",
       "  'total_visits_seller': 1422288,\n",
       "  'uid': 'b0f9aa19-00d5-4afd-aa77-45be7c849562',\n",
       "  'user_id': nan,\n",
       "  'warranty': nan}]"
      ]
     },
     "execution_count": 12,
     "metadata": {},
     "output_type": "execute_result"
    }
   ],
   "source": [
    "X_train[:2]"
   ]
  },
  {
   "cell_type": "code",
   "execution_count": 13,
   "metadata": {},
   "outputs": [
    {
     "data": {
      "text/plain": [
       "array([543, 1789, 7473, 416, 612, 7453, 5132, 4524, 17921, 21528],\n",
       "      dtype=object)"
      ]
     },
     "execution_count": 13,
     "metadata": {},
     "output_type": "execute_result"
    }
   ],
   "source": [
    "np.array(list(map(lambda record: record['total_visits_item'], X_train[:10])), dtype=object)"
   ]
  },
  {
   "cell_type": "code",
   "execution_count": 14,
   "metadata": {},
   "outputs": [
    {
     "data": {
      "text/plain": [
       "array([True, True, False, nan], dtype=object)"
      ]
     },
     "execution_count": 14,
     "metadata": {},
     "output_type": "execute_result"
    }
   ],
   "source": [
    "string_arr = np.array([True, True, False, np.nan], dtype=object)\n",
    "string_arr"
   ]
  },
  {
   "cell_type": "code",
   "execution_count": 15,
   "metadata": {},
   "outputs": [
    {
     "data": {
      "text/plain": [
       "array(['True', 'True', 'False', 'nan'], dtype='<U5')"
      ]
     },
     "execution_count": 15,
     "metadata": {},
     "output_type": "execute_result"
    }
   ],
   "source": [
    "float_arr = string_arr.astype(np.str)\n",
    "float_arr"
   ]
  },
  {
   "cell_type": "markdown",
   "metadata": {},
   "source": [
    "### Selected features"
   ]
  },
  {
   "cell_type": "code",
   "execution_count": 16,
   "metadata": {},
   "outputs": [],
   "source": [
    "numerical_features = [\n",
    "    'available_quantity',\n",
    "    'avg_gmv_item_sel',\n",
    "    'avg_qty_orders_item_domain_30days',\n",
    "    'avg_qty_orders_item_sel_30days',\n",
    "    'health', \n",
    "    'sold_quantity',\n",
    "    'total_asp_item_domain_30days',\n",
    "    'total_asp_item_sel_30days',\n",
    "    'total_gmv_domain_bday',\n",
    "    'total_gmv_item_30days',\n",
    "    'total_items_seller',\n",
    "    'total_orders_domain_30days',\n",
    "    'total_orders_item_30days',\n",
    "    'total_orders_sel_30days',  \n",
    "]\n",
    "\n",
    "categorical_features = [\n",
    "    'free_shipping',\n",
    "    'is_pdp',\n",
    "    \n",
    "    # Categoricals\n",
    "    'category_id',\n",
    "    'deal_print_id',\n",
    "    'domain_id',\n",
    "    'product_id',\n",
    "    'item_id',\n",
    "    'listing_type_id',\n",
    "    'logistic_type',\n",
    "    'platform',\n",
    "    'tags',\n",
    "    'uid',\n",
    "    'user_id',\n",
    "    'offset',  \n",
    "    'print_position',\n",
    "]\n",
    "\n",
    "date_features = ['date']\n",
    "new_categorical_features = ['day_of_week', 'is_weekend']\n",
    "target_column = ['conversion']"
   ]
  },
  {
   "cell_type": "code",
   "execution_count": 17,
   "metadata": {},
   "outputs": [
    {
     "data": {
      "text/plain": [
       "(14, 15, 1, 31)"
      ]
     },
     "execution_count": 17,
     "metadata": {},
     "output_type": "execute_result"
    }
   ],
   "source": [
    "len(numerical_features), len(categorical_features), len(date_features), len(numerical_features+categorical_features+new_categorical_features)"
   ]
  },
  {
   "cell_type": "markdown",
   "metadata": {},
   "source": [
    "### Dataset's features subsetings"
   ]
  },
  {
   "cell_type": "markdown",
   "metadata": {},
   "source": [
    "### Transformations"
   ]
  },
  {
   "cell_type": "markdown",
   "metadata": {},
   "source": [
    "#### Feature extractions"
   ]
  },
  {
   "cell_type": "code",
   "execution_count": 18,
   "metadata": {},
   "outputs": [],
   "source": [
    "def get_day_of_week(feature:np.ndarray) -> np.ndarray:\n",
    "    dates = [datetime.strptime(str_date, '%Y-%m-%d') for str_date in feature]\n",
    "    return np.array([str(dt.weekday()+1) for dt in dates], dtype=object)\n",
    "\n",
    "def is_weekend(feature:np.ndarray) -> np.ndarray:\n",
    "    dates = [datetime.strptime(str_date, '%Y-%m-%d') for str_date in feature]\n",
    "    return np.array(['0' if dt.weekday() >= 0 and dt.weekday() <= 4 else '1' for dt in dates], dtype=np.object)"
   ]
  },
  {
   "cell_type": "code",
   "execution_count": null,
   "metadata": {},
   "outputs": [],
   "source": []
  },
  {
   "cell_type": "code",
   "execution_count": 19,
   "metadata": {},
   "outputs": [],
   "source": [
    "# Year, Month, Day, Day of the week, Is weekend\n",
    "#print_date_ft_extractor = FeatureExtractor(decompose_print_date)\n",
    "#_, _, _, day_of_week_feature, is_weekend_feature = print_date_ft_extractor.transform([train_df['date'].to_numpy()])\n",
    "#X_train = np.hstack((X_train, day_of_week_feature.reshape(-1,1), is_weekend_feature.reshape(-1,1)))\n",
    "#X_train[:3,:], X_train.shape"
   ]
  },
  {
   "cell_type": "code",
   "execution_count": 20,
   "metadata": {},
   "outputs": [],
   "source": [
    "#_, _, _, day_of_week_feature, is_weekend_feature = print_date_ft_extractor.transform([validation_df['date'].to_numpy()])\n",
    "#X_validation = np.hstack((X_validation, day_of_week_feature.reshape(-1,1), is_weekend_feature.reshape(-1,1)))\n",
    "#X_validation[:3,:], X_validation.shape"
   ]
  },
  {
   "cell_type": "code",
   "execution_count": 21,
   "metadata": {},
   "outputs": [],
   "source": [
    "#_, _, _, day_of_week_feature, is_weekend_feature = print_date_ft_extractor.transform([test_df['date'].to_numpy()])\n",
    "#X_test = np.hstack((X_test, day_of_week_feature.reshape(-1,1), is_weekend_feature.reshape(-1,1)))\n",
    "#X_test[:3,:], X_test.shape"
   ]
  },
  {
   "cell_type": "code",
   "execution_count": 22,
   "metadata": {},
   "outputs": [],
   "source": [
    "#feature_tms = CategoricalTransformer(force_casting=True)\n",
    "#feature_tms = CategoricalTransformer([FT(trim), FT(replace, kw_args=categorical_missing_replacement_args), FT(transform_tags)])\n",
    "#feature_tms = CategoricalTransformer([FT(trim), FT(replace, kw_args=categorical_missing_replacement_args)], force_casting=True)\n",
    "#tranformed_train = feature_tms.fit_transform(X_train[:,12])\n",
    "#len(feature_tms.encoder.classes_)"
   ]
  },
  {
   "cell_type": "code",
   "execution_count": 23,
   "metadata": {},
   "outputs": [],
   "source": [
    "#feature_tms.transform(X_validation[:,12])\n",
    "#len(feature_tms.encoder.classes_)"
   ]
  },
  {
   "cell_type": "markdown",
   "metadata": {},
   "source": [
    "#### Functions"
   ]
  },
  {
   "cell_type": "code",
   "execution_count": 24,
   "metadata": {},
   "outputs": [],
   "source": [
    "def transform_tags(feature:np.ndarray) -> np.ndarray:\n",
    "    tms_1 = [value[1:-1] for value in feature]\n",
    "    tms_2 = [sorted(value.split(', ')) for value in tms_1]\n",
    "    tms_3 = [' '.join(value) for value in tms_2]\n",
    "    return np.array(tms_3, dtype=object) "
   ]
  },
  {
   "cell_type": "code",
   "execution_count": 25,
   "metadata": {},
   "outputs": [],
   "source": [
    "dataset_tranformer = DatasetTransformer([\n",
    "    # Categorical features - Boolean\n",
    "    ('free_shipping', CategoricalTransformer('free_shipping')),\n",
    "    ('is_pdp', CategoricalTransformer('is_pdp')),\n",
    "    # Categorical features\n",
    "    ('category_id', CategoricalTransformer('category_id')),\n",
    "    ('deal_print_id', CategoricalTransformer('deal_print_id')),\n",
    "    ('domain_id', CategoricalTransformer('domain_id')),\n",
    "    ('product_id', CategoricalTransformer('product_id')),\n",
    "    ('item_id', CategoricalTransformer('item_id')),\n",
    "    ('listing_type_id', CategoricalTransformer('listing_type_id')),\n",
    "    ('logistic_type', CategoricalTransformer('logistic_type')),\n",
    "    ('platform', CategoricalTransformer('platform')),\n",
    "    ('tags', CategoricalTransformer(feature='tags', pre_tms=[FT(transform_tags)])),\n",
    "    ('uid', CategoricalTransformer('uid')),\n",
    "    ('user_id', CategoricalTransformer('user_id')),\n",
    "    ('offset', CategoricalTransformer('offset')),\n",
    "    ('print_position', CategoricalTransformer('print_position')),\n",
    "    # Categorical Features extracted from \"date\"\n",
    "    ('day_of_week', CategoricalTransformer(feature='date', pre_tms=[FT(get_day_of_week)])),\n",
    "    ('is_weekend', CategoricalTransformer(feature='date', pre_tms=[FT(is_weekend)])),\n",
    "    \n",
    "    # Numerical features\n",
    "    ('available_quantity', NumericalTransformer('available_quantity')),\n",
    "    ('avg_gmv_item_sel', NumericalTransformer('avg_gmv_item_sel')),\n",
    "    ('avg_qty_orders_item_domain_30days', NumericalTransformer('avg_qty_orders_item_domain_30days')),\n",
    "    ('avg_qty_orders_item_sel_30days', NumericalTransformer('avg_qty_orders_item_sel_30days')),\n",
    "    ('health', NumericalTransformer('health')),\n",
    "    ('sold_quantity', NumericalTransformer('sold_quantity')),\n",
    "    ('total_asp_item_domain_30days', NumericalTransformer('total_asp_item_domain_30days')),\n",
    "    ('total_asp_item_sel_30days', NumericalTransformer('total_asp_item_sel_30days')),\n",
    "    ('total_gmv_domain_bday', NumericalTransformer('total_gmv_domain_bday')),\n",
    "    ('total_gmv_item_30days', NumericalTransformer('total_gmv_item_30days')),\n",
    "    ('total_items_seller', NumericalTransformer('total_items_seller')),\n",
    "    ('total_orders_domain_30days', NumericalTransformer('total_orders_domain_30days')),\n",
    "    ('total_orders_item_30days', NumericalTransformer('total_orders_item_30days')),\n",
    "    ('total_orders_sel_30days', NumericalTransformer('total_orders_sel_30days'))\n",
    "])\n",
    "\n",
    "target_transformer = CategoricalTargetTransformer('conversion')"
   ]
  },
  {
   "cell_type": "code",
   "execution_count": 26,
   "metadata": {},
   "outputs": [
    {
     "name": "stdout",
     "output_type": "stream",
     "text": [
      "CPU times: user 7.05 s, sys: 408 ms, total: 7.45 s\n",
      "Wall time: 7.46 s\n"
     ]
    }
   ],
   "source": [
    "%%time\n",
    "numerical_features_train, categorical_features_train = dataset_tranformer.fit_transform(X_train)\n",
    "target_train = target_transformer.fit_transform(Y_train)"
   ]
  },
  {
   "cell_type": "code",
   "execution_count": 27,
   "metadata": {},
   "outputs": [
    {
     "data": {
      "text/plain": [
       "((143072, 14), (143072, 17), (143072, 1))"
      ]
     },
     "execution_count": 27,
     "metadata": {},
     "output_type": "execute_result"
    }
   ],
   "source": [
    "numerical_features_train.shape, categorical_features_train.shape, target_train.shape"
   ]
  },
  {
   "cell_type": "code",
   "execution_count": 28,
   "metadata": {},
   "outputs": [
    {
     "data": {
      "text/plain": [
       "(array([ 0.26768434, -0.21190022, -0.18871243, -0.03254   , -0.14799243,\n",
       "        -0.22626288, -0.21842838, -0.11496574,  0.5019387 , -0.17790767]),\n",
       " (143072,))"
      ]
     },
     "execution_count": 28,
     "metadata": {},
     "output_type": "execute_result"
    }
   ],
   "source": [
    "numerical_features_train[:10,1].squeeze(), numerical_features_train[:,1].shape"
   ]
  },
  {
   "cell_type": "code",
   "execution_count": 29,
   "metadata": {},
   "outputs": [
    {
     "data": {
      "text/plain": [
       "(array([ 0.26768434, -0.21190022, -0.18871243, -0.03254   , -0.14799243,\n",
       "        -0.22626288, -0.21842838, -0.11496574,  0.5019387 , -0.17790767]),\n",
       " (143072,))"
      ]
     },
     "execution_count": 29,
     "metadata": {},
     "output_type": "execute_result"
    }
   ],
   "source": [
    "from sklearn.preprocessing import StandardScaler, LabelEncoder\n",
    "from sklearn.impute import SimpleImputer\n",
    "t1 = SimpleImputer().fit_transform(train_df['avg_gmv_item_sel'].values.reshape(-1,1))\n",
    "scaler = StandardScaler()\n",
    "t1 = scaler.fit_transform(t1)\n",
    "t1[:10,0].squeeze(), t1[:,0].squeeze().shape"
   ]
  },
  {
   "cell_type": "code",
   "execution_count": 30,
   "metadata": {},
   "outputs": [
    {
     "data": {
      "text/plain": [
       "(array([1085.83645223]), array([15921177.31068242]))"
      ]
     },
     "execution_count": 30,
     "metadata": {},
     "output_type": "execute_result"
    }
   ],
   "source": [
    "_, tms = dataset_tranformer.get_feature('avg_gmv_item_sel')\n",
    "tms.scaler.mean_, tms.scaler.var_"
   ]
  },
  {
   "cell_type": "code",
   "execution_count": 31,
   "metadata": {},
   "outputs": [
    {
     "data": {
      "text/plain": [
       "(array([1085.83645223]), array([15921177.31068242]))"
      ]
     },
     "execution_count": 31,
     "metadata": {},
     "output_type": "execute_result"
    }
   ],
   "source": [
    "scaler.mean_, scaler.var_"
   ]
  },
  {
   "cell_type": "code",
   "execution_count": 32,
   "metadata": {},
   "outputs": [
    {
     "data": {
      "text/plain": [
       "(array([  45,  562,  652,  234,  463, 1116,   77, 1764, 1765, 1957]),\n",
       " array(['MLA10005', 'MLA1002', 'MLA10059', 'MLA10060', 'MLA10061',\n",
       "        'MLA10063', 'MLA10064', 'MLA10066', 'MLA10067', 'MLA10068'],\n",
       "       dtype=object))"
      ]
     },
     "execution_count": 32,
     "metadata": {},
     "output_type": "execute_result"
    }
   ],
   "source": [
    "label_enconder = LabelEncoder()\n",
    "t2 = label_enconder.fit_transform(train_df['category_id'])\n",
    "t2[:10], label_enconder.classes_[:10]"
   ]
  },
  {
   "cell_type": "code",
   "execution_count": 33,
   "metadata": {},
   "outputs": [
    {
     "data": {
      "text/plain": [
       "array(['MLA10005', 'MLA1002', 'MLA10059', 'MLA10060', 'MLA10061',\n",
       "       'MLA10063', 'MLA10064', 'MLA10066', 'MLA10067', 'MLA10068'],\n",
       "      dtype='<U9')"
      ]
     },
     "execution_count": 33,
     "metadata": {},
     "output_type": "execute_result"
    }
   ],
   "source": [
    "_, tms = dataset_tranformer.get_feature('category_id')\n",
    "tms.encoder.classes_[:10]"
   ]
  },
  {
   "cell_type": "code",
   "execution_count": 34,
   "metadata": {},
   "outputs": [
    {
     "data": {
      "text/plain": [
       "array([  45,  562,  652,  234,  463, 1116,   77, 1764, 1765, 1957])"
      ]
     },
     "execution_count": 34,
     "metadata": {},
     "output_type": "execute_result"
    }
   ],
   "source": [
    "categorical_features_train[:10,2]"
   ]
  },
  {
   "cell_type": "code",
   "execution_count": 35,
   "metadata": {},
   "outputs": [
    {
     "data": {
      "text/plain": [
       "True"
      ]
     },
     "execution_count": 35,
     "metadata": {},
     "output_type": "execute_result"
    }
   ],
   "source": [
    "np.all(categorical_features_train[:,2] == t2)"
   ]
  },
  {
   "cell_type": "code",
   "execution_count": null,
   "metadata": {},
   "outputs": [],
   "source": []
  },
  {
   "cell_type": "code",
   "execution_count": 36,
   "metadata": {},
   "outputs": [
    {
     "data": {
      "text/plain": [
       "False"
      ]
     },
     "execution_count": 36,
     "metadata": {},
     "output_type": "execute_result"
    }
   ],
   "source": [
    "np.all(numerical_features_train[:,0].squeeze() == t1[:,0].squeeze())"
   ]
  },
  {
   "cell_type": "code",
   "execution_count": 37,
   "metadata": {},
   "outputs": [],
   "source": [
    "diff = np.setdiff1d(numerical_features_train[:,1].squeeze(), t1[:,0].squeeze())"
   ]
  },
  {
   "cell_type": "code",
   "execution_count": 38,
   "metadata": {},
   "outputs": [
    {
     "data": {
      "text/plain": [
       "accepts_mercadopago                       0\n",
       "available_quantity                        0\n",
       "avg_gmv_item_domain_30days             3218\n",
       "avg_gmv_item_sel                       3218\n",
       "avg_gmv_seller_bday                    3218\n",
       "avg_qty_orders_item_domain_30days      3218\n",
       "avg_qty_orders_item_sel_30days         3218\n",
       "avg_si_item_sel_30day                  3218\n",
       "benefit                                   1\n",
       "boosted                                   0\n",
       "category_id                               0\n",
       "conversion                                0\n",
       "date                                      0\n",
       "deal_print_id                             0\n",
       "domain_id                                 0\n",
       "etl_version                               0\n",
       "free_shipping                             0\n",
       "fulfillment                               0\n",
       "full_name                                 0\n",
       "health                                    0\n",
       "is_pdp                                64675\n",
       "product_id                           108175\n",
       "item_id                                   0\n",
       "listing_type_id                           0\n",
       "logistic_type                             0\n",
       "main_picture                           2422\n",
       "offset                                    0\n",
       "original_price                            0\n",
       "platform                                  0\n",
       "price                                     0\n",
       "print_position                            0\n",
       "print_server_timestamp                    0\n",
       "qty_items_dom                          3218\n",
       "qty_items_sel                          3218\n",
       "site_id                                   0\n",
       "sold_quantity                             0\n",
       "tags                                      0\n",
       "title                                     0\n",
       "total_asp_item_domain_30days           3218\n",
       "total_asp_item_sel_30days              3218\n",
       "total_gmv_domain_bday                  3218\n",
       "total_gmv_item_30days                  3218\n",
       "total_items_domain                        0\n",
       "total_items_seller                        0\n",
       "total_orders_domain_30days             3218\n",
       "total_orders_item_30days               3218\n",
       "total_orders_sel_30days                3218\n",
       "total_si_domain_30days                 3218\n",
       "total_si_item_30days                   3218\n",
       "total_si_sel_30days                    3218\n",
       "total_visits_domain                       0\n",
       "total_visits_item                         0\n",
       "total_visits_seller                       0\n",
       "uid                                       0\n",
       "user_id                               15481\n",
       "warranty                              34974\n",
       "dtype: int64"
      ]
     },
     "execution_count": 38,
     "metadata": {},
     "output_type": "execute_result"
    }
   ],
   "source": [
    "train_df.isna().sum()"
   ]
  },
  {
   "cell_type": "code",
   "execution_count": 39,
   "metadata": {},
   "outputs": [
    {
     "name": "stdout",
     "output_type": "stream",
     "text": [
      "free_shipping\n",
      "unique_values: 2\n",
      "diff: 0\n",
      "self.encoder.classes_: 2\n",
      "is_pdp\n",
      "unique_values: 3\n",
      "diff: 0\n",
      "self.encoder.classes_: 3\n",
      "category_id\n",
      "unique_values: 1168\n",
      "diff: 158\n",
      "self.encoder.classes_: 2198\n",
      "deal_print_id\n",
      "unique_values: 37335\n",
      "diff: 36912\n",
      "self.encoder.classes_: 177948\n",
      "domain_id\n",
      "unique_values: 961\n",
      "diff: 112\n",
      "self.encoder.classes_: 1693\n",
      "product_id\n",
      "unique_values: 1010\n",
      "diff: 634\n",
      "self.encoder.classes_: 4079\n",
      "item_id\n",
      "unique_values: 5021\n",
      "diff: 5021\n",
      "self.encoder.classes_: 24962\n",
      "listing_type_id\n",
      "unique_values: 2\n",
      "diff: 0\n",
      "self.encoder.classes_: 2\n",
      "logistic_type\n",
      "unique_values: 7\n",
      "diff: 0\n",
      "self.encoder.classes_: 7\n",
      "platform\n",
      "unique_values: 4\n",
      "diff: 0\n",
      "self.encoder.classes_: 4\n",
      "tags\n",
      "unique_values: 198\n",
      "diff: 24\n",
      "self.encoder.classes_: 316\n",
      "uid\n",
      "unique_values: 35499\n",
      "diff: 27033\n",
      "self.encoder.classes_: 147059\n",
      "user_id\n",
      "unique_values: 31445\n",
      "diff: 23160\n",
      "self.encoder.classes_: 128045\n",
      "offset\n",
      "unique_values: 159\n",
      "diff: 1\n",
      "self.encoder.classes_: 208\n",
      "print_position\n",
      "unique_values: 5491\n",
      "diff: 717\n",
      "self.encoder.classes_: 10633\n",
      "day_of_week\n",
      "unique_values: 7\n",
      "diff: 0\n",
      "self.encoder.classes_: 7\n",
      "is_weekend\n",
      "unique_values: 2\n",
      "diff: 0\n",
      "self.encoder.classes_: 2\n",
      "available_quantity\n",
      "avg_gmv_item_sel\n",
      "avg_qty_orders_item_domain_30days\n",
      "avg_qty_orders_item_sel_30days\n",
      "health\n",
      "sold_quantity\n",
      "total_asp_item_domain_30days\n",
      "total_asp_item_sel_30days\n",
      "total_gmv_domain_bday\n",
      "total_gmv_item_30days\n",
      "total_items_seller\n",
      "total_orders_domain_30days\n",
      "total_orders_item_30days\n",
      "total_orders_sel_30days\n",
      "CPU times: user 1.71 s, sys: 139 ms, total: 1.85 s\n",
      "Wall time: 1.84 s\n"
     ]
    }
   ],
   "source": [
    "%%time\n",
    "numerical_features_validation, categorical_features_validation = dataset_tranformer.transform(X_validation)\n",
    "target_validation = target_transformer.transform(Y_validation)"
   ]
  },
  {
   "cell_type": "code",
   "execution_count": 40,
   "metadata": {},
   "outputs": [
    {
     "data": {
      "text/plain": [
       "((37689, 14), (37689, 17), (37689, 1))"
      ]
     },
     "execution_count": 40,
     "metadata": {},
     "output_type": "execute_result"
    }
   ],
   "source": [
    "numerical_features_validation.shape, categorical_features_validation.shape, target_validation.shape"
   ]
  },
  {
   "cell_type": "code",
   "execution_count": 41,
   "metadata": {},
   "outputs": [
    {
     "data": {
      "text/plain": [
       "(141036, 37335)"
      ]
     },
     "execution_count": 41,
     "metadata": {},
     "output_type": "execute_result"
    }
   ],
   "source": [
    "len(train_df['deal_print_id'].unique()), len(validation_df['deal_print_id'].unique())"
   ]
  },
  {
   "cell_type": "code",
   "execution_count": 42,
   "metadata": {},
   "outputs": [
    {
     "ename": "KeyboardInterrupt",
     "evalue": "",
     "output_type": "error",
     "traceback": [
      "\u001b[0;31m---------------------------------------------------------------------------\u001b[0m",
      "\u001b[0;31mKeyboardInterrupt\u001b[0m                         Traceback (most recent call last)",
      "\u001b[0;32m<timed exec>\u001b[0m in \u001b[0;36m<module>\u001b[0;34m\u001b[0m\n",
      "\u001b[0;32m<__array_function__ internals>\u001b[0m in \u001b[0;36msetdiff1d\u001b[0;34m(*args, **kwargs)\u001b[0m\n",
      "\u001b[0;32m/usr/local/lib/python3.8/site-packages/numpy/lib/arraysetops.py\u001b[0m in \u001b[0;36msetdiff1d\u001b[0;34m(ar1, ar2, assume_unique)\u001b[0m\n\u001b[1;32m    796\u001b[0m         \u001b[0mar1\u001b[0m \u001b[0;34m=\u001b[0m \u001b[0munique\u001b[0m\u001b[0;34m(\u001b[0m\u001b[0mar1\u001b[0m\u001b[0;34m)\u001b[0m\u001b[0;34m\u001b[0m\u001b[0;34m\u001b[0m\u001b[0m\n\u001b[1;32m    797\u001b[0m         \u001b[0mar2\u001b[0m \u001b[0;34m=\u001b[0m \u001b[0munique\u001b[0m\u001b[0;34m(\u001b[0m\u001b[0mar2\u001b[0m\u001b[0;34m)\u001b[0m\u001b[0;34m\u001b[0m\u001b[0;34m\u001b[0m\u001b[0m\n\u001b[0;32m--> 798\u001b[0;31m     \u001b[0;32mreturn\u001b[0m \u001b[0mar1\u001b[0m\u001b[0;34m[\u001b[0m\u001b[0min1d\u001b[0m\u001b[0;34m(\u001b[0m\u001b[0mar1\u001b[0m\u001b[0;34m,\u001b[0m \u001b[0mar2\u001b[0m\u001b[0;34m,\u001b[0m \u001b[0massume_unique\u001b[0m\u001b[0;34m=\u001b[0m\u001b[0;32mTrue\u001b[0m\u001b[0;34m,\u001b[0m \u001b[0minvert\u001b[0m\u001b[0;34m=\u001b[0m\u001b[0;32mTrue\u001b[0m\u001b[0;34m)\u001b[0m\u001b[0;34m]\u001b[0m\u001b[0;34m\u001b[0m\u001b[0;34m\u001b[0m\u001b[0m\n\u001b[0m",
      "\u001b[0;32m<__array_function__ internals>\u001b[0m in \u001b[0;36min1d\u001b[0;34m(*args, **kwargs)\u001b[0m\n",
      "\u001b[0;32m/usr/local/lib/python3.8/site-packages/numpy/lib/arraysetops.py\u001b[0m in \u001b[0;36min1d\u001b[0;34m(ar1, ar2, assume_unique, invert)\u001b[0m\n\u001b[1;32m    574\u001b[0m             \u001b[0mmask\u001b[0m \u001b[0;34m=\u001b[0m \u001b[0mnp\u001b[0m\u001b[0;34m.\u001b[0m\u001b[0mones\u001b[0m\u001b[0;34m(\u001b[0m\u001b[0mlen\u001b[0m\u001b[0;34m(\u001b[0m\u001b[0mar1\u001b[0m\u001b[0;34m)\u001b[0m\u001b[0;34m,\u001b[0m \u001b[0mdtype\u001b[0m\u001b[0;34m=\u001b[0m\u001b[0mbool\u001b[0m\u001b[0;34m)\u001b[0m\u001b[0;34m\u001b[0m\u001b[0;34m\u001b[0m\u001b[0m\n\u001b[1;32m    575\u001b[0m             \u001b[0;32mfor\u001b[0m \u001b[0ma\u001b[0m \u001b[0;32min\u001b[0m \u001b[0mar2\u001b[0m\u001b[0;34m:\u001b[0m\u001b[0;34m\u001b[0m\u001b[0;34m\u001b[0m\u001b[0m\n\u001b[0;32m--> 576\u001b[0;31m                 \u001b[0mmask\u001b[0m \u001b[0;34m&=\u001b[0m \u001b[0;34m(\u001b[0m\u001b[0mar1\u001b[0m \u001b[0;34m!=\u001b[0m \u001b[0ma\u001b[0m\u001b[0;34m)\u001b[0m\u001b[0;34m\u001b[0m\u001b[0;34m\u001b[0m\u001b[0m\n\u001b[0m\u001b[1;32m    577\u001b[0m         \u001b[0;32melse\u001b[0m\u001b[0;34m:\u001b[0m\u001b[0;34m\u001b[0m\u001b[0;34m\u001b[0m\u001b[0m\n\u001b[1;32m    578\u001b[0m             \u001b[0mmask\u001b[0m \u001b[0;34m=\u001b[0m \u001b[0mnp\u001b[0m\u001b[0;34m.\u001b[0m\u001b[0mzeros\u001b[0m\u001b[0;34m(\u001b[0m\u001b[0mlen\u001b[0m\u001b[0;34m(\u001b[0m\u001b[0mar1\u001b[0m\u001b[0;34m)\u001b[0m\u001b[0;34m,\u001b[0m \u001b[0mdtype\u001b[0m\u001b[0;34m=\u001b[0m\u001b[0mbool\u001b[0m\u001b[0;34m)\u001b[0m\u001b[0;34m\u001b[0m\u001b[0;34m\u001b[0m\u001b[0m\n",
      "\u001b[0;31mKeyboardInterrupt\u001b[0m: "
     ]
    }
   ],
   "source": [
    "#%%time\n",
    "#diff = np.setdiff1d(validation_df['deal_print_id'].unique(), train_df['deal_print_id'].unique(), True)\n",
    "#len(diff)"
   ]
  },
  {
   "cell_type": "code",
   "execution_count": 53,
   "metadata": {},
   "outputs": [
    {
     "name": "stdout",
     "output_type": "stream",
     "text": [
      "free_shipping\n",
      "unique_values: 2\n",
      "diff: 0\n",
      "self.encoder.classes_: 2\n",
      "is_pdp\n",
      "unique_values: 3\n",
      "diff: 0\n",
      "self.encoder.classes_: 3\n",
      "category_id\n",
      "unique_values: 880\n",
      "diff: 0\n",
      "self.encoder.classes_: 2284\n",
      "deal_print_id\n",
      "unique_values: 19057\n",
      "diff: 0\n",
      "self.encoder.classes_: 196744\n",
      "domain_id\n",
      "unique_values: 744\n",
      "diff: 0\n",
      "self.encoder.classes_: 1742\n",
      "product_id\n",
      "unique_values: 611\n",
      "diff: 0\n",
      "self.encoder.classes_: 4441\n",
      "item_id\n",
      "unique_values: 2733\n",
      "diff: 0\n",
      "self.encoder.classes_: 27695\n",
      "listing_type_id\n",
      "unique_values: 2\n",
      "diff: 0\n",
      "self.encoder.classes_: 2\n",
      "logistic_type\n",
      "unique_values: 6\n",
      "diff: 0\n",
      "self.encoder.classes_: 7\n",
      "platform\n",
      "unique_values: 4\n",
      "diff: 0\n",
      "self.encoder.classes_: 4\n",
      "tags\n",
      "unique_values: 129\n",
      "diff: 0\n",
      "self.encoder.classes_: 324\n",
      "uid\n",
      "unique_values: 18453\n",
      "diff: 0\n",
      "self.encoder.classes_: 159996\n",
      "user_id\n",
      "unique_values: 16404\n",
      "diff: 0\n",
      "self.encoder.classes_: 139111\n",
      "offset\n",
      "unique_values: 143\n",
      "diff: 0\n",
      "self.encoder.classes_: 209\n",
      "print_position\n",
      "unique_values: 3981\n",
      "diff: 0\n",
      "self.encoder.classes_: 10902\n",
      "day_of_week\n",
      "unique_values: 7\n",
      "diff: 0\n",
      "self.encoder.classes_: 7\n",
      "is_weekend\n",
      "unique_values: 2\n",
      "diff: 0\n",
      "self.encoder.classes_: 2\n",
      "available_quantity\n",
      "avg_gmv_item_sel\n",
      "avg_qty_orders_item_domain_30days\n",
      "avg_qty_orders_item_sel_30days\n",
      "health\n",
      "sold_quantity\n",
      "total_asp_item_domain_30days\n",
      "total_asp_item_sel_30days\n",
      "total_gmv_domain_bday\n",
      "total_gmv_item_30days\n",
      "total_items_seller\n",
      "total_orders_domain_30days\n",
      "total_orders_item_30days\n",
      "total_orders_sel_30days\n",
      "CPU times: user 942 ms, sys: 109 ms, total: 1.05 s\n",
      "Wall time: 1.04 s\n"
     ]
    }
   ],
   "source": [
    "%%time\n",
    "numerical_features_test, categorical_features_test = dataset_tranformer.transform(X_test)"
   ]
  },
  {
   "cell_type": "code",
   "execution_count": 74,
   "metadata": {},
   "outputs": [
    {
     "data": {
      "text/plain": [
       "((19211, 14), (19211, 17))"
      ]
     },
     "execution_count": 74,
     "metadata": {},
     "output_type": "execute_result"
    }
   ],
   "source": [
    "numerical_features_test.shape, categorical_features_test.shape"
   ]
  },
  {
   "cell_type": "markdown",
   "metadata": {},
   "source": [
    "### Datasets and Dataloaders"
   ]
  },
  {
   "cell_type": "code",
   "execution_count": 54,
   "metadata": {},
   "outputs": [],
   "source": [
    "train_ds = TabularDataset(numerical_features_train, categorical_features_train, target_train)\n",
    "validation_ds = TabularDataset(numerical_features_validation, categorical_features_validation, target_validation)\n",
    "test_ds = TabularDataset(numerical_features_test, categorical_features_test)"
   ]
  },
  {
   "cell_type": "code",
   "execution_count": 55,
   "metadata": {},
   "outputs": [
    {
     "name": "stdout",
     "output_type": "stream",
     "text": [
      "0 -> x_numerical: torch.Size([14]), X_categorical: torch.Size([17]) Y: tensor([0.])\n"
     ]
    }
   ],
   "source": [
    "for i in range(1):\n",
    "    x_numerical, x_categorical, y = train_ds[i]\n",
    "    print(f'{i} -> x_numerical: {x_numerical.shape}, X_categorical: {x_categorical.shape} Y: {y}')"
   ]
  },
  {
   "cell_type": "code",
   "execution_count": 56,
   "metadata": {},
   "outputs": [
    {
     "name": "stdout",
     "output_type": "stream",
     "text": [
      "0 -> x_numerical: torch.Size([14]), X_categorical: torch.Size([17]) Y: tensor([0.])\n"
     ]
    }
   ],
   "source": [
    "for i in range(1):\n",
    "    x_numerical, x_categorical, y = validation_ds[i]\n",
    "    print(f'{i} -> x_numerical: {x_numerical.shape}, X_categorical: {x_categorical.shape} Y: {y}')"
   ]
  },
  {
   "cell_type": "code",
   "execution_count": 57,
   "metadata": {},
   "outputs": [
    {
     "name": "stdout",
     "output_type": "stream",
     "text": [
      "0 -> x_numerical: torch.Size([14]), X_categorical: torch.Size([17]) Y: nan\n"
     ]
    }
   ],
   "source": [
    "for i in range(1):\n",
    "    x_numerical, x_categorical, y = test_ds[i]\n",
    "    print(f'{i} -> x_numerical: {x_numerical.shape}, X_categorical: {x_categorical.shape} Y: {y}')"
   ]
  },
  {
   "cell_type": "code",
   "execution_count": 58,
   "metadata": {},
   "outputs": [],
   "source": [
    "train_dl = DataLoader(train_ds, batch_size=1024, shuffle=True)\n",
    "\n",
    "train_dl_for_prediction = DataLoader(train_ds, batch_size=1024, shuffle=False)\n",
    "validation_dl = DataLoader(validation_ds, batch_size=1024, shuffle=False)\n",
    "test_dl = DataLoader(test_ds, batch_size=1024, shuffle=False)"
   ]
  },
  {
   "cell_type": "code",
   "execution_count": 49,
   "metadata": {},
   "outputs": [],
   "source": [
    "#for x_numerical, x_categorical, y in train_dl:\n",
    "#    print(f'{x_numerical.shape}, {x_categorical.shape}, {y.shape}')"
   ]
  },
  {
   "cell_type": "markdown",
   "metadata": {},
   "source": [
    "### Training the network"
   ]
  },
  {
   "cell_type": "code",
   "execution_count": 59,
   "metadata": {},
   "outputs": [
    {
     "data": {
      "text/plain": [
       "[(2, 1),\n",
       " (3, 1),\n",
       " (2284, 50),\n",
       " (196744, 50),\n",
       " (1742, 50),\n",
       " (4441, 50),\n",
       " (27695, 50),\n",
       " (2, 1),\n",
       " (7, 3),\n",
       " (4, 2),\n",
       " (324, 50),\n",
       " (159996, 50),\n",
       " (139111, 50),\n",
       " (209, 50),\n",
       " (10902, 50),\n",
       " (7, 3),\n",
       " (2, 1)]"
      ]
     },
     "execution_count": 59,
     "metadata": {},
     "output_type": "execute_result"
    }
   ],
   "source": [
    "embedding_dims = []\n",
    "for feature in categorical_features + new_categorical_features:\n",
    "    _, feature_tms = dataset_tranformer.get_feature(feature)\n",
    "    #print(feature_tms)\n",
    "    q_unique_values = len(feature_tms.encoder.classes_)\n",
    "    embedding_size = min(q_unique_values//2, 50)\n",
    "    mapping = (q_unique_values, embedding_size)\n",
    "    embedding_dims.append(mapping)\n",
    "\n",
    "embedding_dims"
   ]
  },
  {
   "cell_type": "code",
   "execution_count": 60,
   "metadata": {},
   "outputs": [],
   "source": [
    "model = FullyConnectedNetworkClassifier(\n",
    "    q_numerical_features = len(numerical_features), \n",
    "    q_categorical_features = len(categorical_features + new_categorical_features),\n",
    "    hidden_layers_size=[1024,512,128,64],\n",
    "    embedding_dims=embedding_dims\n",
    ")\n",
    "optimizer = Adam(model.parameters(), lr=1e-1)\n",
    "lr_scheduler = ExponentialLR(optimizer=optimizer, gamma=0.97)\n",
    "bceloss_fn = nn.BCELoss(reduction='mean')\n",
    "epochs=3"
   ]
  },
  {
   "cell_type": "code",
   "execution_count": 61,
   "metadata": {},
   "outputs": [
    {
     "data": {
      "text/plain": [
       "FullyConnectedNetworkClassifier(\n",
       "  (embeddings_layer): ModuleList(\n",
       "    (0): Embedding(2, 1)\n",
       "    (1): Embedding(3, 1)\n",
       "    (2): Embedding(2284, 50)\n",
       "    (3): Embedding(196744, 50)\n",
       "    (4): Embedding(1742, 50)\n",
       "    (5): Embedding(4441, 50)\n",
       "    (6): Embedding(27695, 50)\n",
       "    (7): Embedding(2, 1)\n",
       "    (8): Embedding(7, 3)\n",
       "    (9): Embedding(4, 2)\n",
       "    (10): Embedding(324, 50)\n",
       "    (11): Embedding(159996, 50)\n",
       "    (12): Embedding(139111, 50)\n",
       "    (13): Embedding(209, 50)\n",
       "    (14): Embedding(10902, 50)\n",
       "    (15): Embedding(7, 3)\n",
       "    (16): Embedding(2, 1)\n",
       "  )\n",
       "  (embedding_dropout): Dropout(p=0.6, inplace=False)\n",
       "  (layer_0): Sequential(\n",
       "    (0): Linear(in_features=526, out_features=1024, bias=True)\n",
       "    (1): ReLU()\n",
       "    (2): Dropout(p=0.3, inplace=False)\n",
       "    (3): BatchNorm1d(1024, eps=1e-05, momentum=0.1, affine=True, track_running_stats=True)\n",
       "  )\n",
       "  (layer_1): Sequential(\n",
       "    (0): Linear(in_features=1024, out_features=512, bias=True)\n",
       "    (1): ReLU()\n",
       "    (2): Dropout(p=0.3, inplace=False)\n",
       "    (3): BatchNorm1d(512, eps=1e-05, momentum=0.1, affine=True, track_running_stats=True)\n",
       "  )\n",
       "  (layer_2): Sequential(\n",
       "    (0): Linear(in_features=512, out_features=128, bias=True)\n",
       "    (1): ReLU()\n",
       "    (2): Dropout(p=0.3, inplace=False)\n",
       "    (3): BatchNorm1d(128, eps=1e-05, momentum=0.1, affine=True, track_running_stats=True)\n",
       "  )\n",
       "  (layer_3): Sequential(\n",
       "    (0): Linear(in_features=128, out_features=64, bias=True)\n",
       "    (1): ReLU()\n",
       "    (2): Dropout(p=0.3, inplace=False)\n",
       "    (3): BatchNorm1d(64, eps=1e-05, momentum=0.1, affine=True, track_running_stats=True)\n",
       "  )\n",
       "  (output): Sequential(\n",
       "    (0): Linear(in_features=64, out_features=1, bias=True)\n",
       "    (1): Sigmoid()\n",
       "  )\n",
       ")"
      ]
     },
     "execution_count": 61,
     "metadata": {},
     "output_type": "execute_result"
    }
   ],
   "source": [
    "model"
   ]
  },
  {
   "cell_type": "code",
   "execution_count": 62,
   "metadata": {},
   "outputs": [
    {
     "name": "stdout",
     "output_type": "stream",
     "text": [
      "CPU times: user 8min 57s, sys: 34.6 s, total: 9min 31s\n",
      "Wall time: 2min 41s\n"
     ]
    }
   ],
   "source": [
    "%%time\n",
    "losses = model.fit(train_dl=train_dl, epochs=epochs, loss_fn=bceloss_fn, opt=optimizer, scheduler=lr_scheduler)"
   ]
  },
  {
   "cell_type": "code",
   "execution_count": 63,
   "metadata": {},
   "outputs": [
    {
     "data": {
      "text/plain": [
       "[<matplotlib.lines.Line2D at 0x184894a60>]"
      ]
     },
     "execution_count": 63,
     "metadata": {},
     "output_type": "execute_result"
    },
    {
     "data": {
      "image/png": "[encoded data removed]",
      "text/plain": [
       "<Figure size 432x288 with 1 Axes>"
      ]
     },
     "metadata": {
      "needs_background": "light"
     },
     "output_type": "display_data"
    }
   ],
   "source": [
    "plt.plot(range(len(losses)), losses)"
   ]
  },
  {
   "cell_type": "markdown",
   "metadata": {},
   "source": [
    "### Validating the net"
   ]
  },
  {
   "cell_type": "code",
   "execution_count": 64,
   "metadata": {},
   "outputs": [],
   "source": [
    "x_numerical_train, x_categorical_train, y_train = train_ds.reverse_transform()"
   ]
  },
  {
   "cell_type": "code",
   "execution_count": 65,
   "metadata": {},
   "outputs": [],
   "source": [
    "x_numerical_val, x_categorical_val, y_val = validation_ds.reverse_transform()"
   ]
  },
  {
   "cell_type": "code",
   "execution_count": 66,
   "metadata": {},
   "outputs": [],
   "source": [
    "x_numerical_test, x_categorical_test, _ = test_ds.reverse_transform()"
   ]
  },
  {
   "cell_type": "code",
   "execution_count": 67,
   "metadata": {},
   "outputs": [],
   "source": [
    "y_train_pred = model.predict(train_dl_for_prediction).numpy().squeeze()"
   ]
  },
  {
   "cell_type": "code",
   "execution_count": 68,
   "metadata": {},
   "outputs": [],
   "source": [
    "y_val_pred = model.predict(validation_dl).numpy().squeeze()"
   ]
  },
  {
   "cell_type": "code",
   "execution_count": 69,
   "metadata": {},
   "outputs": [
    {
     "ename": "IndexError",
     "evalue": "index out of range in self",
     "output_type": "error",
     "traceback": [
      "\u001b[0;31m---------------------------------------------------------------------------\u001b[0m",
      "\u001b[0;31mIndexError\u001b[0m                                Traceback (most recent call last)",
      "\u001b[0;32m<ipython-input-69-d0add02d005e>\u001b[0m in \u001b[0;36m<module>\u001b[0;34m\u001b[0m\n\u001b[0;32m----> 1\u001b[0;31m \u001b[0my_test_pred\u001b[0m \u001b[0;34m=\u001b[0m \u001b[0mmodel\u001b[0m\u001b[0;34m.\u001b[0m\u001b[0mpredict\u001b[0m\u001b[0;34m(\u001b[0m\u001b[0mtest_dl\u001b[0m\u001b[0;34m)\u001b[0m\u001b[0;34m.\u001b[0m\u001b[0mnumpy\u001b[0m\u001b[0;34m(\u001b[0m\u001b[0;34m)\u001b[0m\u001b[0;34m.\u001b[0m\u001b[0msqueeze\u001b[0m\u001b[0;34m(\u001b[0m\u001b[0;34m)\u001b[0m\u001b[0;34m\u001b[0m\u001b[0;34m\u001b[0m\u001b[0m\n\u001b[0m",
      "\u001b[0;32m~/personal_repos/nbs/Meli/CVR Data Challenge/lib/Models.py\u001b[0m in \u001b[0;36mpredict\u001b[0;34m(self, data_loader)\u001b[0m\n\u001b[1;32m     79\u001b[0m         \u001b[0;32mwith\u001b[0m \u001b[0mtorch\u001b[0m\u001b[0;34m.\u001b[0m\u001b[0mno_grad\u001b[0m\u001b[0;34m(\u001b[0m\u001b[0;34m)\u001b[0m\u001b[0;34m:\u001b[0m\u001b[0;34m\u001b[0m\u001b[0;34m\u001b[0m\u001b[0m\n\u001b[1;32m     80\u001b[0m             \u001b[0;32mfor\u001b[0m \u001b[0mx_numerical\u001b[0m\u001b[0;34m,\u001b[0m \u001b[0mx_categorical\u001b[0m\u001b[0;34m,\u001b[0m \u001b[0my\u001b[0m \u001b[0;32min\u001b[0m \u001b[0mdata_loader\u001b[0m\u001b[0;34m:\u001b[0m\u001b[0;34m\u001b[0m\u001b[0;34m\u001b[0m\u001b[0m\n\u001b[0;32m---> 81\u001b[0;31m                 \u001b[0mpreds\u001b[0m \u001b[0;34m=\u001b[0m \u001b[0mself\u001b[0m\u001b[0;34m.\u001b[0m\u001b[0mforward\u001b[0m\u001b[0;34m(\u001b[0m\u001b[0mx_numerical\u001b[0m\u001b[0;34m,\u001b[0m \u001b[0mx_categorical\u001b[0m\u001b[0;34m)\u001b[0m\u001b[0;34m\u001b[0m\u001b[0;34m\u001b[0m\u001b[0m\n\u001b[0m\u001b[1;32m     82\u001b[0m                 \u001b[0mpredictions\u001b[0m\u001b[0;34m.\u001b[0m\u001b[0mappend\u001b[0m\u001b[0;34m(\u001b[0m\u001b[0mpreds\u001b[0m\u001b[0;34m)\u001b[0m\u001b[0;34m\u001b[0m\u001b[0;34m\u001b[0m\u001b[0m\n\u001b[1;32m     83\u001b[0m         \u001b[0;32mreturn\u001b[0m \u001b[0mtorch\u001b[0m\u001b[0;34m.\u001b[0m\u001b[0mcat\u001b[0m\u001b[0;34m(\u001b[0m\u001b[0mpredictions\u001b[0m\u001b[0;34m)\u001b[0m\u001b[0;34m\u001b[0m\u001b[0;34m\u001b[0m\u001b[0m\n",
      "\u001b[0;32m~/personal_repos/nbs/Meli/CVR Data Challenge/lib/Models.py\u001b[0m in \u001b[0;36mforward\u001b[0;34m(self, numerical_features, categorical_features)\u001b[0m\n\u001b[1;32m     46\u001b[0m     \u001b[0;32mdef\u001b[0m \u001b[0mforward\u001b[0m\u001b[0;34m(\u001b[0m\u001b[0mself\u001b[0m\u001b[0;34m,\u001b[0m \u001b[0mnumerical_features\u001b[0m\u001b[0;34m:\u001b[0m\u001b[0mTensor\u001b[0m\u001b[0;34m,\u001b[0m \u001b[0mcategorical_features\u001b[0m\u001b[0;34m:\u001b[0m\u001b[0mTensor\u001b[0m\u001b[0;34m)\u001b[0m \u001b[0;34m->\u001b[0m \u001b[0mTensor\u001b[0m\u001b[0;34m:\u001b[0m\u001b[0;34m\u001b[0m\u001b[0;34m\u001b[0m\u001b[0m\n\u001b[1;32m     47\u001b[0m         \u001b[0;32mif\u001b[0m \u001b[0mself\u001b[0m\u001b[0;34m.\u001b[0m\u001b[0membeddings_layer\u001b[0m \u001b[0;32mis\u001b[0m \u001b[0;32mnot\u001b[0m \u001b[0;32mNone\u001b[0m\u001b[0;34m:\u001b[0m\u001b[0;34m\u001b[0m\u001b[0;34m\u001b[0m\u001b[0m\n\u001b[0;32m---> 48\u001b[0;31m             \u001b[0membeds\u001b[0m \u001b[0;34m=\u001b[0m \u001b[0;34m[\u001b[0m\u001b[0memb_layer\u001b[0m\u001b[0;34m(\u001b[0m\u001b[0mcategorical_features\u001b[0m\u001b[0;34m[\u001b[0m\u001b[0;34m:\u001b[0m\u001b[0;34m,\u001b[0m \u001b[0mi\u001b[0m\u001b[0;34m]\u001b[0m\u001b[0;34m)\u001b[0m \u001b[0;32mfor\u001b[0m \u001b[0mi\u001b[0m\u001b[0;34m,\u001b[0m \u001b[0memb_layer\u001b[0m \u001b[0;32min\u001b[0m \u001b[0menumerate\u001b[0m\u001b[0;34m(\u001b[0m\u001b[0mself\u001b[0m\u001b[0;34m.\u001b[0m\u001b[0membeddings_layer\u001b[0m\u001b[0;34m)\u001b[0m\u001b[0;34m]\u001b[0m\u001b[0;34m\u001b[0m\u001b[0;34m\u001b[0m\u001b[0m\n\u001b[0m\u001b[1;32m     49\u001b[0m             \u001b[0membeds\u001b[0m \u001b[0;34m=\u001b[0m \u001b[0mtorch\u001b[0m\u001b[0;34m.\u001b[0m\u001b[0mcat\u001b[0m\u001b[0;34m(\u001b[0m\u001b[0membeds\u001b[0m\u001b[0;34m,\u001b[0m \u001b[0;36m1\u001b[0m\u001b[0;34m)\u001b[0m\u001b[0;34m\u001b[0m\u001b[0;34m\u001b[0m\u001b[0m\n\u001b[1;32m     50\u001b[0m             \u001b[0mx\u001b[0m \u001b[0;34m=\u001b[0m \u001b[0mself\u001b[0m\u001b[0;34m.\u001b[0m\u001b[0membedding_dropout\u001b[0m\u001b[0;34m(\u001b[0m\u001b[0membeds\u001b[0m\u001b[0;34m)\u001b[0m\u001b[0;34m\u001b[0m\u001b[0;34m\u001b[0m\u001b[0m\n",
      "\u001b[0;32m~/personal_repos/nbs/Meli/CVR Data Challenge/lib/Models.py\u001b[0m in \u001b[0;36m<listcomp>\u001b[0;34m(.0)\u001b[0m\n\u001b[1;32m     46\u001b[0m     \u001b[0;32mdef\u001b[0m \u001b[0mforward\u001b[0m\u001b[0;34m(\u001b[0m\u001b[0mself\u001b[0m\u001b[0;34m,\u001b[0m \u001b[0mnumerical_features\u001b[0m\u001b[0;34m:\u001b[0m\u001b[0mTensor\u001b[0m\u001b[0;34m,\u001b[0m \u001b[0mcategorical_features\u001b[0m\u001b[0;34m:\u001b[0m\u001b[0mTensor\u001b[0m\u001b[0;34m)\u001b[0m \u001b[0;34m->\u001b[0m \u001b[0mTensor\u001b[0m\u001b[0;34m:\u001b[0m\u001b[0;34m\u001b[0m\u001b[0;34m\u001b[0m\u001b[0m\n\u001b[1;32m     47\u001b[0m         \u001b[0;32mif\u001b[0m \u001b[0mself\u001b[0m\u001b[0;34m.\u001b[0m\u001b[0membeddings_layer\u001b[0m \u001b[0;32mis\u001b[0m \u001b[0;32mnot\u001b[0m \u001b[0;32mNone\u001b[0m\u001b[0;34m:\u001b[0m\u001b[0;34m\u001b[0m\u001b[0;34m\u001b[0m\u001b[0m\n\u001b[0;32m---> 48\u001b[0;31m             \u001b[0membeds\u001b[0m \u001b[0;34m=\u001b[0m \u001b[0;34m[\u001b[0m\u001b[0memb_layer\u001b[0m\u001b[0;34m(\u001b[0m\u001b[0mcategorical_features\u001b[0m\u001b[0;34m[\u001b[0m\u001b[0;34m:\u001b[0m\u001b[0;34m,\u001b[0m \u001b[0mi\u001b[0m\u001b[0;34m]\u001b[0m\u001b[0;34m)\u001b[0m \u001b[0;32mfor\u001b[0m \u001b[0mi\u001b[0m\u001b[0;34m,\u001b[0m \u001b[0memb_layer\u001b[0m \u001b[0;32min\u001b[0m \u001b[0menumerate\u001b[0m\u001b[0;34m(\u001b[0m\u001b[0mself\u001b[0m\u001b[0;34m.\u001b[0m\u001b[0membeddings_layer\u001b[0m\u001b[0;34m)\u001b[0m\u001b[0;34m]\u001b[0m\u001b[0;34m\u001b[0m\u001b[0;34m\u001b[0m\u001b[0m\n\u001b[0m\u001b[1;32m     49\u001b[0m             \u001b[0membeds\u001b[0m \u001b[0;34m=\u001b[0m \u001b[0mtorch\u001b[0m\u001b[0;34m.\u001b[0m\u001b[0mcat\u001b[0m\u001b[0;34m(\u001b[0m\u001b[0membeds\u001b[0m\u001b[0;34m,\u001b[0m \u001b[0;36m1\u001b[0m\u001b[0;34m)\u001b[0m\u001b[0;34m\u001b[0m\u001b[0;34m\u001b[0m\u001b[0m\n\u001b[1;32m     50\u001b[0m             \u001b[0mx\u001b[0m \u001b[0;34m=\u001b[0m \u001b[0mself\u001b[0m\u001b[0;34m.\u001b[0m\u001b[0membedding_dropout\u001b[0m\u001b[0;34m(\u001b[0m\u001b[0membeds\u001b[0m\u001b[0;34m)\u001b[0m\u001b[0;34m\u001b[0m\u001b[0;34m\u001b[0m\u001b[0m\n",
      "\u001b[0;32m/usr/local/lib/python3.8/site-packages/torch/nn/modules/module.py\u001b[0m in \u001b[0;36m_call_impl\u001b[0;34m(self, *input, **kwargs)\u001b[0m\n\u001b[1;32m    720\u001b[0m             \u001b[0mresult\u001b[0m \u001b[0;34m=\u001b[0m \u001b[0mself\u001b[0m\u001b[0;34m.\u001b[0m\u001b[0m_slow_forward\u001b[0m\u001b[0;34m(\u001b[0m\u001b[0;34m*\u001b[0m\u001b[0minput\u001b[0m\u001b[0;34m,\u001b[0m \u001b[0;34m**\u001b[0m\u001b[0mkwargs\u001b[0m\u001b[0;34m)\u001b[0m\u001b[0;34m\u001b[0m\u001b[0;34m\u001b[0m\u001b[0m\n\u001b[1;32m    721\u001b[0m         \u001b[0;32melse\u001b[0m\u001b[0;34m:\u001b[0m\u001b[0;34m\u001b[0m\u001b[0;34m\u001b[0m\u001b[0m\n\u001b[0;32m--> 722\u001b[0;31m             \u001b[0mresult\u001b[0m \u001b[0;34m=\u001b[0m \u001b[0mself\u001b[0m\u001b[0;34m.\u001b[0m\u001b[0mforward\u001b[0m\u001b[0;34m(\u001b[0m\u001b[0;34m*\u001b[0m\u001b[0minput\u001b[0m\u001b[0;34m,\u001b[0m \u001b[0;34m**\u001b[0m\u001b[0mkwargs\u001b[0m\u001b[0;34m)\u001b[0m\u001b[0;34m\u001b[0m\u001b[0;34m\u001b[0m\u001b[0m\n\u001b[0m\u001b[1;32m    723\u001b[0m         for hook in itertools.chain(\n\u001b[1;32m    724\u001b[0m                 \u001b[0m_global_forward_hooks\u001b[0m\u001b[0;34m.\u001b[0m\u001b[0mvalues\u001b[0m\u001b[0;34m(\u001b[0m\u001b[0;34m)\u001b[0m\u001b[0;34m,\u001b[0m\u001b[0;34m\u001b[0m\u001b[0;34m\u001b[0m\u001b[0m\n",
      "\u001b[0;32m/usr/local/lib/python3.8/site-packages/torch/nn/modules/sparse.py\u001b[0m in \u001b[0;36mforward\u001b[0;34m(self, input)\u001b[0m\n\u001b[1;32m    122\u001b[0m \u001b[0;34m\u001b[0m\u001b[0m\n\u001b[1;32m    123\u001b[0m     \u001b[0;32mdef\u001b[0m \u001b[0mforward\u001b[0m\u001b[0;34m(\u001b[0m\u001b[0mself\u001b[0m\u001b[0;34m,\u001b[0m \u001b[0minput\u001b[0m\u001b[0;34m:\u001b[0m \u001b[0mTensor\u001b[0m\u001b[0;34m)\u001b[0m \u001b[0;34m->\u001b[0m \u001b[0mTensor\u001b[0m\u001b[0;34m:\u001b[0m\u001b[0;34m\u001b[0m\u001b[0;34m\u001b[0m\u001b[0m\n\u001b[0;32m--> 124\u001b[0;31m         return F.embedding(\n\u001b[0m\u001b[1;32m    125\u001b[0m             \u001b[0minput\u001b[0m\u001b[0;34m,\u001b[0m \u001b[0mself\u001b[0m\u001b[0;34m.\u001b[0m\u001b[0mweight\u001b[0m\u001b[0;34m,\u001b[0m \u001b[0mself\u001b[0m\u001b[0;34m.\u001b[0m\u001b[0mpadding_idx\u001b[0m\u001b[0;34m,\u001b[0m \u001b[0mself\u001b[0m\u001b[0;34m.\u001b[0m\u001b[0mmax_norm\u001b[0m\u001b[0;34m,\u001b[0m\u001b[0;34m\u001b[0m\u001b[0;34m\u001b[0m\u001b[0m\n\u001b[1;32m    126\u001b[0m             self.norm_type, self.scale_grad_by_freq, self.sparse)\n",
      "\u001b[0;32m/usr/local/lib/python3.8/site-packages/torch/nn/functional.py\u001b[0m in \u001b[0;36membedding\u001b[0;34m(input, weight, padding_idx, max_norm, norm_type, scale_grad_by_freq, sparse)\u001b[0m\n\u001b[1;32m   1812\u001b[0m         \u001b[0;31m# remove once script supports set_grad_enabled\u001b[0m\u001b[0;34m\u001b[0m\u001b[0;34m\u001b[0m\u001b[0;34m\u001b[0m\u001b[0m\n\u001b[1;32m   1813\u001b[0m         \u001b[0m_no_grad_embedding_renorm_\u001b[0m\u001b[0;34m(\u001b[0m\u001b[0mweight\u001b[0m\u001b[0;34m,\u001b[0m \u001b[0minput\u001b[0m\u001b[0;34m,\u001b[0m \u001b[0mmax_norm\u001b[0m\u001b[0;34m,\u001b[0m \u001b[0mnorm_type\u001b[0m\u001b[0;34m)\u001b[0m\u001b[0;34m\u001b[0m\u001b[0;34m\u001b[0m\u001b[0m\n\u001b[0;32m-> 1814\u001b[0;31m     \u001b[0;32mreturn\u001b[0m \u001b[0mtorch\u001b[0m\u001b[0;34m.\u001b[0m\u001b[0membedding\u001b[0m\u001b[0;34m(\u001b[0m\u001b[0mweight\u001b[0m\u001b[0;34m,\u001b[0m \u001b[0minput\u001b[0m\u001b[0;34m,\u001b[0m \u001b[0mpadding_idx\u001b[0m\u001b[0;34m,\u001b[0m \u001b[0mscale_grad_by_freq\u001b[0m\u001b[0;34m,\u001b[0m \u001b[0msparse\u001b[0m\u001b[0;34m)\u001b[0m\u001b[0;34m\u001b[0m\u001b[0;34m\u001b[0m\u001b[0m\n\u001b[0m\u001b[1;32m   1815\u001b[0m \u001b[0;34m\u001b[0m\u001b[0m\n\u001b[1;32m   1816\u001b[0m \u001b[0;34m\u001b[0m\u001b[0m\n",
      "\u001b[0;31mIndexError\u001b[0m: index out of range in self"
     ]
    }
   ],
   "source": [
    "y_test_pred = model.predict(test_dl).numpy().squeeze()"
   ]
  },
  {
   "cell_type": "markdown",
   "metadata": {},
   "source": [
    "#### Training"
   ]
  },
  {
   "cell_type": "code",
   "execution_count": 70,
   "metadata": {},
   "outputs": [
    {
     "name": "stdout",
     "output_type": "stream",
     "text": [
      "Auc Roc in training: 0.9296664450367758\n"
     ]
    }
   ],
   "source": [
    "aucroc_train = roc_auc_score(y_train, y_train_pred)\n",
    "print(f'Auc Roc in training: {aucroc_train}')"
   ]
  },
  {
   "cell_type": "code",
   "execution_count": 71,
   "metadata": {},
   "outputs": [
    {
     "name": "stdout",
     "output_type": "stream",
     "text": [
      "Accuracy in training: 0.9235979087452472\n"
     ]
    }
   ],
   "source": [
    "accuracy_train = accuracy_score(y_train, [1 if pred >= .5 else 0 for pred in y_train_pred])\n",
    "print(f'Accuracy in training: {accuracy_train}')"
   ]
  },
  {
   "cell_type": "markdown",
   "metadata": {},
   "source": [
    "#### Validation"
   ]
  },
  {
   "cell_type": "code",
   "execution_count": 72,
   "metadata": {},
   "outputs": [
    {
     "name": "stdout",
     "output_type": "stream",
     "text": [
      "Auc Roc in test: 0.8490117263768324\n"
     ]
    }
   ],
   "source": [
    "aucroc_val = roc_auc_score(y_val, y_val_pred)\n",
    "print(f'Auc Roc in test: {aucroc_val}')"
   ]
  },
  {
   "cell_type": "code",
   "execution_count": 73,
   "metadata": {},
   "outputs": [
    {
     "name": "stdout",
     "output_type": "stream",
     "text": [
      "Accuracy in test: 0.8999973467059355\n"
     ]
    }
   ],
   "source": [
    "accuracy_val = accuracy_score(y_val, [1 if pred >= .5 else 0 for pred in y_val_pred])\n",
    "print(f'Accuracy in test: {accuracy_val}')"
   ]
  },
  {
   "cell_type": "markdown",
   "metadata": {},
   "source": [
    "#### Testing submission"
   ]
  },
  {
   "cell_type": "code",
   "execution_count": 51,
   "metadata": {},
   "outputs": [
    {
     "data": {
      "text/plain": [
       "array([0.00653152, 0.00143854, 0.24205764, 0.00068901, 0.26798746],\n",
       "      dtype=float32)"
      ]
     },
     "execution_count": 51,
     "metadata": {},
     "output_type": "execute_result"
    }
   ],
   "source": [
    "y_test_pred[:5]"
   ]
  },
  {
   "cell_type": "code",
   "execution_count": 52,
   "metadata": {},
   "outputs": [
    {
     "data": {
      "text/html": [
       "<div>\n",
       "<style scoped>\n",
       "    .dataframe tbody tr th:only-of-type {\n",
       "        vertical-align: middle;\n",
       "    }\n",
       "\n",
       "    .dataframe tbody tr th {\n",
       "        vertical-align: top;\n",
       "    }\n",
       "\n",
       "    .dataframe thead th {\n",
       "        text-align: right;\n",
       "    }\n",
       "</style>\n",
       "<table border=\"1\" class=\"dataframe\">\n",
       "  <thead>\n",
       "    <tr style=\"text-align: right;\">\n",
       "      <th></th>\n",
       "      <th>ROW_ID</th>\n",
       "      <th>conversion</th>\n",
       "    </tr>\n",
       "  </thead>\n",
       "  <tbody>\n",
       "    <tr>\n",
       "      <th>19206</th>\n",
       "      <td>19206</td>\n",
       "      <td>0.0473</td>\n",
       "    </tr>\n",
       "    <tr>\n",
       "      <th>19207</th>\n",
       "      <td>19207</td>\n",
       "      <td>0.0560</td>\n",
       "    </tr>\n",
       "    <tr>\n",
       "      <th>19208</th>\n",
       "      <td>19208</td>\n",
       "      <td>0.0039</td>\n",
       "    </tr>\n",
       "    <tr>\n",
       "      <th>19209</th>\n",
       "      <td>19209</td>\n",
       "      <td>0.0465</td>\n",
       "    </tr>\n",
       "    <tr>\n",
       "      <th>19210</th>\n",
       "      <td>19210</td>\n",
       "      <td>0.0013</td>\n",
       "    </tr>\n",
       "  </tbody>\n",
       "</table>\n",
       "</div>"
      ],
      "text/plain": [
       "       ROW_ID  conversion\n",
       "19206   19206      0.0473\n",
       "19207   19207      0.0560\n",
       "19208   19208      0.0039\n",
       "19209   19209      0.0465\n",
       "19210   19210      0.0013"
      ]
     },
     "execution_count": 52,
     "metadata": {},
     "output_type": "execute_result"
    }
   ],
   "source": [
    "submission = pd.DataFrame({\n",
    "    'conversion': y_test_pred\n",
    "}).reset_index().rename({'index':'ROW_ID'}, axis=1)\n",
    "submission['conversion'] = np.round(submission['conversion'], 4)\n",
    "submission.tail()"
   ]
  },
  {
   "cell_type": "code",
   "execution_count": 53,
   "metadata": {},
   "outputs": [],
   "source": [
    "submission.to_csv('submissions/submission.csv.gz', compression='gzip', index=False)"
   ]
  }
 ],
 "metadata": {
  "kernelspec": {
   "display_name": "Python 3",
   "language": "python",
   "name": "python3"
  },
  "language_info": {
   "codemirror_mode": {
    "name": "ipython",
    "version": 3
   },
   "file_extension": ".py",
   "mimetype": "text/x-python",
   "name": "python",
   "nbconvert_exporter": "python",
   "pygments_lexer": "ipython3",
   "version": "3.8.5"
  }
 },
 "nbformat": 4,
 "nbformat_minor": 4
}
