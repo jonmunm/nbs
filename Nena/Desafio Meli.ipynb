{
 "cells": [
  {
   "cell_type": "code",
   "execution_count": null,
   "metadata": {},
   "outputs": [],
   "source": [
    "!pip install requests"
   ]
  },
  {
   "cell_type": "code",
   "execution_count": 1,
   "metadata": {},
   "outputs": [],
   "source": [
    "import sys\n",
    "import pandas as pd\n",
    "import numpy as np\n",
    "from datetime import datetime, timedelta\n",
    "import os\n",
    "from tqdm.notebook import tqdm as tqdm\n",
    "import requests"
   ]
  },
  {
   "cell_type": "markdown",
   "metadata": {},
   "source": [
    "# Extracción"
   ]
  },
  {
   "cell_type": "markdown",
   "metadata": {},
   "source": [
    "## Busqueda de items"
   ]
  },
  {
   "cell_type": "markdown",
   "metadata": {},
   "source": [
    "<a href=\"https://developers.mercadolibre.com.ar/es_ar/items-y-busquedas#Resumen-de-los-recursos-disponibles\">https://developers.mercadolibre.com.ar/es_ar/items-y-busquedas#Resumen-de-los-recursos-disponibles</a>"
   ]
  },
  {
   "cell_type": "code",
   "execution_count": 4,
   "metadata": {},
   "outputs": [],
   "source": [
    "search_endpoint = 'https://api.mercadolibre.com/sites/MLA/search?q={query_term}&offset={page}'"
   ]
  },
  {
   "cell_type": "code",
   "execution_count": 5,
   "metadata": {},
   "outputs": [
    {
     "name": "stdout",
     "output_type": "stream",
     "text": [
      "392 registros a las 2020-08-30 17:19:53.342744\n"
     ]
    },
    {
     "data": {
      "text/html": [
       "<div>\n",
       "<style scoped>\n",
       "    .dataframe tbody tr th:only-of-type {\n",
       "        vertical-align: middle;\n",
       "    }\n",
       "\n",
       "    .dataframe tbody tr th {\n",
       "        vertical-align: top;\n",
       "    }\n",
       "\n",
       "    .dataframe thead th {\n",
       "        text-align: right;\n",
       "    }\n",
       "</style>\n",
       "<table border=\"1\" class=\"dataframe\">\n",
       "  <thead>\n",
       "    <tr style=\"text-align: right;\">\n",
       "      <th></th>\n",
       "      <th>q</th>\n",
       "      <th>total_items</th>\n",
       "      <th>page</th>\n",
       "      <th>item_id</th>\n",
       "    </tr>\n",
       "  </thead>\n",
       "  <tbody>\n",
       "    <tr>\n",
       "      <th>0</th>\n",
       "      <td>Google Home</td>\n",
       "      <td>96</td>\n",
       "      <td>0</td>\n",
       "      <td>MLA746509501</td>\n",
       "    </tr>\n",
       "    <tr>\n",
       "      <th>1</th>\n",
       "      <td>Google Home</td>\n",
       "      <td>96</td>\n",
       "      <td>0</td>\n",
       "      <td>MLA868448532</td>\n",
       "    </tr>\n",
       "    <tr>\n",
       "      <th>2</th>\n",
       "      <td>Google Home</td>\n",
       "      <td>96</td>\n",
       "      <td>0</td>\n",
       "      <td>MLA747593028</td>\n",
       "    </tr>\n",
       "    <tr>\n",
       "      <th>3</th>\n",
       "      <td>Google Home</td>\n",
       "      <td>96</td>\n",
       "      <td>0</td>\n",
       "      <td>MLA721141246</td>\n",
       "    </tr>\n",
       "    <tr>\n",
       "      <th>4</th>\n",
       "      <td>Google Home</td>\n",
       "      <td>96</td>\n",
       "      <td>0</td>\n",
       "      <td>MLA763380385</td>\n",
       "    </tr>\n",
       "  </tbody>\n",
       "</table>\n",
       "</div>"
      ],
      "text/plain": [
       "             q  total_items  page       item_id\n",
       "0  Google Home           96     0  MLA746509501\n",
       "1  Google Home           96     0  MLA868448532\n",
       "2  Google Home           96     0  MLA747593028\n",
       "3  Google Home           96     0  MLA721141246\n",
       "4  Google Home           96     0  MLA763380385"
      ]
     },
     "execution_count": 5,
     "metadata": {},
     "output_type": "execute_result"
    }
   ],
   "source": [
    "query_terms = ['Google Home', 'Apple TV', 'Amazon Fire TV']\n",
    "search_data = []\n",
    "page = 0\n",
    "for query_term in query_terms:\n",
    "    while True:\n",
    "        response = requests.get(search_endpoint.format(query_term = query_term, page = page))\n",
    "        if response.status_code == 200:\n",
    "            response = response.json()\n",
    "            \n",
    "            # Si no hay mas items, pasamos al siguiente termino de busqueda\n",
    "            if len(response['results']) == 0:\n",
    "                page = 0\n",
    "                break\n",
    "            \n",
    "            for result in response['results']:\n",
    "                search_data.append({\n",
    "                    'q' : response['query'],\n",
    "                    'total_items' : response['paging']['total'],\n",
    "                    'page' : page,\n",
    "                    'item_id' : result['id']\n",
    "                })\n",
    "            page = page + 50\n",
    "            \n",
    "search_df = pd.DataFrame(search_data)\n",
    "print('{0:,} registros a las {1}'.format(len(search_df), datetime.now()))\n",
    "search_df.head()"
   ]
  },
  {
   "cell_type": "markdown",
   "metadata": {},
   "source": [
    "Guardamos los datos en un CSV"
   ]
  },
  {
   "cell_type": "code",
   "execution_count": 6,
   "metadata": {},
   "outputs": [],
   "source": [
    "search_df.to_csv('search.csv', index=False)"
   ]
  },
  {
   "cell_type": "markdown",
   "metadata": {},
   "source": [
    "## Data de items"
   ]
  },
  {
   "cell_type": "code",
   "execution_count": 7,
   "metadata": {},
   "outputs": [],
   "source": [
    "item_endpoint = 'https://api.mercadolibre.com/items/{item_id}'"
   ]
  },
  {
   "cell_type": "code",
   "execution_count": 8,
   "metadata": {},
   "outputs": [
    {
     "name": "stdout",
     "output_type": "stream",
     "text": [
      "392 registros a las 2020-08-30 17:21:38.674886\n"
     ]
    },
    {
     "data": {
      "text/html": [
       "<div>\n",
       "<style scoped>\n",
       "    .dataframe tbody tr th:only-of-type {\n",
       "        vertical-align: middle;\n",
       "    }\n",
       "\n",
       "    .dataframe tbody tr th {\n",
       "        vertical-align: top;\n",
       "    }\n",
       "\n",
       "    .dataframe thead th {\n",
       "        text-align: right;\n",
       "    }\n",
       "</style>\n",
       "<table border=\"1\" class=\"dataframe\">\n",
       "  <thead>\n",
       "    <tr style=\"text-align: right;\">\n",
       "      <th></th>\n",
       "      <th>id</th>\n",
       "      <th>site_id</th>\n",
       "      <th>title</th>\n",
       "      <th>seller_id</th>\n",
       "      <th>category_id</th>\n",
       "      <th>price</th>\n",
       "      <th>initial_quantity</th>\n",
       "      <th>available_quantity</th>\n",
       "      <th>sold_quantity</th>\n",
       "      <th>buying_mode</th>\n",
       "      <th>condition</th>\n",
       "      <th>pictures_quantity</th>\n",
       "      <th>accepts_mercadopago</th>\n",
       "      <th>domain_id</th>\n",
       "      <th>attributes_quantity</th>\n",
       "    </tr>\n",
       "  </thead>\n",
       "  <tbody>\n",
       "    <tr>\n",
       "      <th>0</th>\n",
       "      <td>MLA746509501</td>\n",
       "      <td>MLA</td>\n",
       "      <td>Google Home Mini Parlante Original Español Ok ...</td>\n",
       "      <td>91988078</td>\n",
       "      <td>MLA409415</td>\n",
       "      <td>5499.0</td>\n",
       "      <td>142</td>\n",
       "      <td>1</td>\n",
       "      <td>50</td>\n",
       "      <td>buy_it_now</td>\n",
       "      <td>new</td>\n",
       "      <td>6</td>\n",
       "      <td>True</td>\n",
       "      <td>MLA-SMART_SPEAKERS</td>\n",
       "      <td>14</td>\n",
       "    </tr>\n",
       "    <tr>\n",
       "      <th>1</th>\n",
       "      <td>MLA868448532</td>\n",
       "      <td>MLA</td>\n",
       "      <td>Google Home Mini Asistente Virtual</td>\n",
       "      <td>557639592</td>\n",
       "      <td>MLA409415</td>\n",
       "      <td>3890.0</td>\n",
       "      <td>43</td>\n",
       "      <td>1</td>\n",
       "      <td>25</td>\n",
       "      <td>buy_it_now</td>\n",
       "      <td>new</td>\n",
       "      <td>3</td>\n",
       "      <td>True</td>\n",
       "      <td>MLA-SMART_SPEAKERS</td>\n",
       "      <td>13</td>\n",
       "    </tr>\n",
       "    <tr>\n",
       "      <th>2</th>\n",
       "      <td>MLA747593028</td>\n",
       "      <td>MLA</td>\n",
       "      <td>Google Home Mini Asistente Virtual En Español ...</td>\n",
       "      <td>114495635</td>\n",
       "      <td>MLA409415</td>\n",
       "      <td>4870.0</td>\n",
       "      <td>926</td>\n",
       "      <td>2</td>\n",
       "      <td>450</td>\n",
       "      <td>buy_it_now</td>\n",
       "      <td>new</td>\n",
       "      <td>7</td>\n",
       "      <td>True</td>\n",
       "      <td>MLA-SMART_SPEAKERS</td>\n",
       "      <td>14</td>\n",
       "    </tr>\n",
       "    <tr>\n",
       "      <th>3</th>\n",
       "      <td>MLA721141246</td>\n",
       "      <td>MLA</td>\n",
       "      <td>Google Home Parlante Manos Libres Nuevo Origin...</td>\n",
       "      <td>309453406</td>\n",
       "      <td>MLA409415</td>\n",
       "      <td>10999.0</td>\n",
       "      <td>1031</td>\n",
       "      <td>500</td>\n",
       "      <td>25</td>\n",
       "      <td>buy_it_now</td>\n",
       "      <td>new</td>\n",
       "      <td>9</td>\n",
       "      <td>True</td>\n",
       "      <td>MLA-SMART_SPEAKERS</td>\n",
       "      <td>16</td>\n",
       "    </tr>\n",
       "    <tr>\n",
       "      <th>4</th>\n",
       "      <td>MLA763380385</td>\n",
       "      <td>MLA</td>\n",
       "      <td>Google Home Mini Asistente Virtual Español You...</td>\n",
       "      <td>309453406</td>\n",
       "      <td>MLA409415</td>\n",
       "      <td>4499.0</td>\n",
       "      <td>256</td>\n",
       "      <td>1</td>\n",
       "      <td>150</td>\n",
       "      <td>buy_it_now</td>\n",
       "      <td>new</td>\n",
       "      <td>18</td>\n",
       "      <td>True</td>\n",
       "      <td>MLA-SMART_SPEAKERS</td>\n",
       "      <td>13</td>\n",
       "    </tr>\n",
       "  </tbody>\n",
       "</table>\n",
       "</div>"
      ],
      "text/plain": [
       "             id site_id                                              title  \\\n",
       "0  MLA746509501     MLA  Google Home Mini Parlante Original Español Ok ...   \n",
       "1  MLA868448532     MLA                 Google Home Mini Asistente Virtual   \n",
       "2  MLA747593028     MLA  Google Home Mini Asistente Virtual En Español ...   \n",
       "3  MLA721141246     MLA  Google Home Parlante Manos Libres Nuevo Origin...   \n",
       "4  MLA763380385     MLA  Google Home Mini Asistente Virtual Español You...   \n",
       "\n",
       "   seller_id category_id    price  initial_quantity  available_quantity  \\\n",
       "0   91988078   MLA409415   5499.0               142                   1   \n",
       "1  557639592   MLA409415   3890.0                43                   1   \n",
       "2  114495635   MLA409415   4870.0               926                   2   \n",
       "3  309453406   MLA409415  10999.0              1031                 500   \n",
       "4  309453406   MLA409415   4499.0               256                   1   \n",
       "\n",
       "   sold_quantity buying_mode condition  pictures_quantity  \\\n",
       "0             50  buy_it_now       new                  6   \n",
       "1             25  buy_it_now       new                  3   \n",
       "2            450  buy_it_now       new                  7   \n",
       "3             25  buy_it_now       new                  9   \n",
       "4            150  buy_it_now       new                 18   \n",
       "\n",
       "   accepts_mercadopago           domain_id  attributes_quantity  \n",
       "0                 True  MLA-SMART_SPEAKERS                   14  \n",
       "1                 True  MLA-SMART_SPEAKERS                   13  \n",
       "2                 True  MLA-SMART_SPEAKERS                   14  \n",
       "3                 True  MLA-SMART_SPEAKERS                   16  \n",
       "4                 True  MLA-SMART_SPEAKERS                   13  "
      ]
     },
     "execution_count": 8,
     "metadata": {},
     "output_type": "execute_result"
    }
   ],
   "source": [
    "items_data = []\n",
    "for item_id in search_df['item_id'].unique():\n",
    "    response = requests.get(item_endpoint.format(item_id = item_id))\n",
    "    if response.status_code == 200:\n",
    "        response = response.json()\n",
    "        record = {\n",
    "            'id' : response['id'],\n",
    "            'site_id' : response['site_id'],\n",
    "            'title' : response['title'],\n",
    "            'seller_id' : response['seller_id'],\n",
    "            'category_id' : response['category_id'],\n",
    "            'price' : response['price'],\n",
    "            'initial_quantity' : response['initial_quantity'],\n",
    "            'available_quantity' : response['available_quantity'],\n",
    "            'sold_quantity' : response['sold_quantity'],\n",
    "            'buying_mode' : response['buying_mode'],\n",
    "            'condition' : response['condition'],\n",
    "            'pictures_quantity' : len(response['pictures']),\n",
    "            'accepts_mercadopago' : response['accepts_mercadopago'],\n",
    "            'domain_id' : response['domain_id'],\n",
    "            'attributes_quantity' : len(response['attributes']),\n",
    "            \n",
    "        }\n",
    "        items_data.append(record)\n",
    "            \n",
    "items_df = pd.DataFrame(items_data)\n",
    "print('{0:,} registros a las {1}'.format(len(items_df), datetime.now()))\n",
    "items_df.head()"
   ]
  },
  {
   "cell_type": "markdown",
   "metadata": {},
   "source": [
    "Guardamos los datos en un CSV"
   ]
  },
  {
   "cell_type": "code",
   "execution_count": 9,
   "metadata": {},
   "outputs": [],
   "source": [
    "items_df.to_csv('items.csv', index=False)"
   ]
  },
  {
   "cell_type": "markdown",
   "metadata": {},
   "source": [
    "## Data de sellers"
   ]
  },
  {
   "cell_type": "code",
   "execution_count": 10,
   "metadata": {},
   "outputs": [],
   "source": [
    "seller_endpoint = 'https://api.mercadolibre.com/users/{seller_id}'"
   ]
  },
  {
   "cell_type": "code",
   "execution_count": 11,
   "metadata": {},
   "outputs": [
    {
     "name": "stdout",
     "output_type": "stream",
     "text": [
      "295 registros a las 2020-08-30 17:22:56.389600\n"
     ]
    },
    {
     "data": {
      "text/html": [
       "<div>\n",
       "<style scoped>\n",
       "    .dataframe tbody tr th:only-of-type {\n",
       "        vertical-align: middle;\n",
       "    }\n",
       "\n",
       "    .dataframe tbody tr th {\n",
       "        vertical-align: top;\n",
       "    }\n",
       "\n",
       "    .dataframe thead th {\n",
       "        text-align: right;\n",
       "    }\n",
       "</style>\n",
       "<table border=\"1\" class=\"dataframe\">\n",
       "  <thead>\n",
       "    <tr style=\"text-align: right;\">\n",
       "      <th></th>\n",
       "      <th>id</th>\n",
       "      <th>nickname</th>\n",
       "      <th>user_type</th>\n",
       "      <th>points</th>\n",
       "      <th>seller_reputation_level_id</th>\n",
       "      <th>seller_reputation_power_status</th>\n",
       "      <th>total_transactions</th>\n",
       "      <th>canceled_transactions</th>\n",
       "      <th>completed_transactions</th>\n",
       "      <th>positive_rating</th>\n",
       "      <th>negative_rating</th>\n",
       "      <th>neutral_rating</th>\n",
       "    </tr>\n",
       "  </thead>\n",
       "  <tbody>\n",
       "    <tr>\n",
       "      <th>0</th>\n",
       "      <td>91988078</td>\n",
       "      <td>GAMING-CITY</td>\n",
       "      <td>normal</td>\n",
       "      <td>67677</td>\n",
       "      <td>5_green</td>\n",
       "      <td>platinum</td>\n",
       "      <td>145203</td>\n",
       "      <td>9805</td>\n",
       "      <td>135398</td>\n",
       "      <td>0.96</td>\n",
       "      <td>0.02</td>\n",
       "      <td>0.02</td>\n",
       "    </tr>\n",
       "    <tr>\n",
       "      <th>1</th>\n",
       "      <td>557639592</td>\n",
       "      <td>TECHSHOPFULL</td>\n",
       "      <td>normal</td>\n",
       "      <td>9</td>\n",
       "      <td>5_green</td>\n",
       "      <td>gold</td>\n",
       "      <td>206</td>\n",
       "      <td>10</td>\n",
       "      <td>196</td>\n",
       "      <td>1.00</td>\n",
       "      <td>0.00</td>\n",
       "      <td>0.00</td>\n",
       "    </tr>\n",
       "    <tr>\n",
       "      <th>2</th>\n",
       "      <td>114495635</td>\n",
       "      <td>GRYTECNO</td>\n",
       "      <td>normal</td>\n",
       "      <td>8031</td>\n",
       "      <td>5_green</td>\n",
       "      <td>platinum</td>\n",
       "      <td>24678</td>\n",
       "      <td>640</td>\n",
       "      <td>24038</td>\n",
       "      <td>0.98</td>\n",
       "      <td>0.01</td>\n",
       "      <td>0.01</td>\n",
       "    </tr>\n",
       "    <tr>\n",
       "      <th>3</th>\n",
       "      <td>309453406</td>\n",
       "      <td>BAZA 10</td>\n",
       "      <td>normal</td>\n",
       "      <td>6147</td>\n",
       "      <td>5_green</td>\n",
       "      <td>platinum</td>\n",
       "      <td>32061</td>\n",
       "      <td>2634</td>\n",
       "      <td>29427</td>\n",
       "      <td>0.94</td>\n",
       "      <td>0.04</td>\n",
       "      <td>0.02</td>\n",
       "    </tr>\n",
       "    <tr>\n",
       "      <th>4</th>\n",
       "      <td>284824585</td>\n",
       "      <td>SKY.VISION ELECTRONICA</td>\n",
       "      <td>normal</td>\n",
       "      <td>3687</td>\n",
       "      <td>5_green</td>\n",
       "      <td>platinum</td>\n",
       "      <td>19123</td>\n",
       "      <td>1500</td>\n",
       "      <td>17623</td>\n",
       "      <td>0.93</td>\n",
       "      <td>0.05</td>\n",
       "      <td>0.02</td>\n",
       "    </tr>\n",
       "  </tbody>\n",
       "</table>\n",
       "</div>"
      ],
      "text/plain": [
       "          id                nickname user_type  points  \\\n",
       "0   91988078             GAMING-CITY    normal   67677   \n",
       "1  557639592            TECHSHOPFULL    normal       9   \n",
       "2  114495635                GRYTECNO    normal    8031   \n",
       "3  309453406                 BAZA 10    normal    6147   \n",
       "4  284824585  SKY.VISION ELECTRONICA    normal    3687   \n",
       "\n",
       "  seller_reputation_level_id seller_reputation_power_status  \\\n",
       "0                    5_green                       platinum   \n",
       "1                    5_green                           gold   \n",
       "2                    5_green                       platinum   \n",
       "3                    5_green                       platinum   \n",
       "4                    5_green                       platinum   \n",
       "\n",
       "   total_transactions  canceled_transactions  completed_transactions  \\\n",
       "0              145203                   9805                  135398   \n",
       "1                 206                     10                     196   \n",
       "2               24678                    640                   24038   \n",
       "3               32061                   2634                   29427   \n",
       "4               19123                   1500                   17623   \n",
       "\n",
       "   positive_rating  negative_rating  neutral_rating  \n",
       "0             0.96             0.02            0.02  \n",
       "1             1.00             0.00            0.00  \n",
       "2             0.98             0.01            0.01  \n",
       "3             0.94             0.04            0.02  \n",
       "4             0.93             0.05            0.02  "
      ]
     },
     "execution_count": 11,
     "metadata": {},
     "output_type": "execute_result"
    }
   ],
   "source": [
    "sellers_data = []\n",
    "for seller_id in items_df['seller_id'].unique():\n",
    "    response = requests.get(seller_endpoint.format(seller_id = seller_id))\n",
    "    if response.status_code == 200:\n",
    "        response = response.json()\n",
    "        record = {\n",
    "            'id' : response['id'],\n",
    "            'nickname' : response['nickname'],\n",
    "            'user_type' : response['user_type'],\n",
    "            'points' : response['points'],\n",
    "            'seller_reputation_level_id' : response['seller_reputation']['level_id'],\n",
    "            'seller_reputation_power_status' : response['seller_reputation']['power_seller_status'],\n",
    "            'total_transactions' : response['seller_reputation']['transactions']['total'],\n",
    "            'canceled_transactions' : response['seller_reputation']['transactions']['canceled'],\n",
    "            'completed_transactions' : response['seller_reputation']['transactions']['completed'],\n",
    "            'positive_rating' : response['seller_reputation']['transactions']['ratings']['positive'],\n",
    "            'negative_rating' : response['seller_reputation']['transactions']['ratings']['negative'],\n",
    "            'neutral_rating' : response['seller_reputation']['transactions']['ratings']['neutral'],\n",
    "            \n",
    "        }\n",
    "        sellers_data.append(record)\n",
    "            \n",
    "sellers_df = pd.DataFrame(sellers_data)\n",
    "print('{0:,} registros a las {1}'.format(len(sellers_df), datetime.now()))\n",
    "sellers_df.head()"
   ]
  },
  {
   "cell_type": "markdown",
   "metadata": {},
   "source": [
    "Guardamos los datos en un CSV"
   ]
  },
  {
   "cell_type": "code",
   "execution_count": 12,
   "metadata": {},
   "outputs": [],
   "source": [
    "sellers_df.to_csv('sellers.csv', index=False)"
   ]
  },
  {
   "cell_type": "markdown",
   "metadata": {},
   "source": [
    "## Data de las categorias"
   ]
  },
  {
   "cell_type": "markdown",
   "metadata": {},
   "source": [
    "<a href=\"https://developers.mercadolibre.com.ar/es_ar/categorias-y-publicaciones\">https://developers.mercadolibre.com.ar/es_ar/categorias-y-publicaciones</a>"
   ]
  },
  {
   "cell_type": "code",
   "execution_count": 13,
   "metadata": {},
   "outputs": [],
   "source": [
    "category_endpoint = 'https://api.mercadolibre.com/categories/{category_id}'"
   ]
  },
  {
   "cell_type": "code",
   "execution_count": 14,
   "metadata": {},
   "outputs": [
    {
     "name": "stdout",
     "output_type": "stream",
     "text": [
      "2 registros a las 2020-08-30 17:22:57.261856\n"
     ]
    },
    {
     "data": {
      "text/html": [
       "<div>\n",
       "<style scoped>\n",
       "    .dataframe tbody tr th:only-of-type {\n",
       "        vertical-align: middle;\n",
       "    }\n",
       "\n",
       "    .dataframe tbody tr th {\n",
       "        vertical-align: top;\n",
       "    }\n",
       "\n",
       "    .dataframe thead th {\n",
       "        text-align: right;\n",
       "    }\n",
       "</style>\n",
       "<table border=\"1\" class=\"dataframe\">\n",
       "  <thead>\n",
       "    <tr style=\"text-align: right;\">\n",
       "      <th></th>\n",
       "      <th>id</th>\n",
       "      <th>name</th>\n",
       "      <th>total_items</th>\n",
       "    </tr>\n",
       "  </thead>\n",
       "  <tbody>\n",
       "    <tr>\n",
       "      <th>0</th>\n",
       "      <td>MLA409415</td>\n",
       "      <td>Asistentes Virtuales</td>\n",
       "      <td>345</td>\n",
       "    </tr>\n",
       "    <tr>\n",
       "      <th>1</th>\n",
       "      <td>MLA352001</td>\n",
       "      <td>Media Streaming</td>\n",
       "      <td>1610</td>\n",
       "    </tr>\n",
       "  </tbody>\n",
       "</table>\n",
       "</div>"
      ],
      "text/plain": [
       "          id                  name  total_items\n",
       "0  MLA409415  Asistentes Virtuales          345\n",
       "1  MLA352001       Media Streaming         1610"
      ]
     },
     "execution_count": 14,
     "metadata": {},
     "output_type": "execute_result"
    }
   ],
   "source": [
    "categories_data = []\n",
    "for category_id in items_df['category_id'].unique():\n",
    "    response = requests.get(category_endpoint.format(category_id = category_id))\n",
    "    if response.status_code == 200:\n",
    "        response = response.json()\n",
    "        record = {\n",
    "            'id' : response['id'],\n",
    "            'name' : response['name'],\n",
    "            'total_items' : response['total_items_in_this_category'],\n",
    "            \n",
    "        }\n",
    "        categories_data.append(record)\n",
    "            \n",
    "categories_df = pd.DataFrame(categories_data)\n",
    "print('{0:,} registros a las {1}'.format(len(categories_df), datetime.now()))\n",
    "categories_df.head()"
   ]
  },
  {
   "cell_type": "markdown",
   "metadata": {},
   "source": [
    "Guardamos los datos en un CSV"
   ]
  },
  {
   "cell_type": "code",
   "execution_count": 15,
   "metadata": {},
   "outputs": [],
   "source": [
    "categories_df.to_csv('categories.csv', index=False)"
   ]
  },
  {
   "cell_type": "markdown",
   "metadata": {},
   "source": [
    "## Data de las visitas de los sellers en los ultimos 30 dias"
   ]
  },
  {
   "cell_type": "markdown",
   "metadata": {},
   "source": [
    "<a href=\"https://developers.mercadolibre.com.ar/es_ar/metricas\">https://developers.mercadolibre.com.ar/es_ar/metricas</a>"
   ]
  },
  {
   "cell_type": "code",
   "execution_count": 16,
   "metadata": {},
   "outputs": [],
   "source": [
    "seller_visits_by_day_endpoint = 'https://api.mercadolibre.com/users/{seller_id}/items_visits/time_window?last=30&unit=day'"
   ]
  },
  {
   "cell_type": "code",
   "execution_count": 17,
   "metadata": {},
   "outputs": [
    {
     "name": "stdout",
     "output_type": "stream",
     "text": [
      "8,850 registros a las 2020-08-30 17:46:51.505870\n"
     ]
    },
    {
     "data": {
      "text/html": [
       "<div>\n",
       "<style scoped>\n",
       "    .dataframe tbody tr th:only-of-type {\n",
       "        vertical-align: middle;\n",
       "    }\n",
       "\n",
       "    .dataframe tbody tr th {\n",
       "        vertical-align: top;\n",
       "    }\n",
       "\n",
       "    .dataframe thead th {\n",
       "        text-align: right;\n",
       "    }\n",
       "</style>\n",
       "<table border=\"1\" class=\"dataframe\">\n",
       "  <thead>\n",
       "    <tr style=\"text-align: right;\">\n",
       "      <th></th>\n",
       "      <th>seller_id</th>\n",
       "      <th>total_visits</th>\n",
       "      <th>day</th>\n",
       "      <th>total_in_day</th>\n",
       "    </tr>\n",
       "  </thead>\n",
       "  <tbody>\n",
       "    <tr>\n",
       "      <th>0</th>\n",
       "      <td>91988078</td>\n",
       "      <td>932765</td>\n",
       "      <td>2020-07-31</td>\n",
       "      <td>41720</td>\n",
       "    </tr>\n",
       "    <tr>\n",
       "      <th>1</th>\n",
       "      <td>91988078</td>\n",
       "      <td>932765</td>\n",
       "      <td>2020-08-01</td>\n",
       "      <td>31217</td>\n",
       "    </tr>\n",
       "    <tr>\n",
       "      <th>2</th>\n",
       "      <td>91988078</td>\n",
       "      <td>932765</td>\n",
       "      <td>2020-08-02</td>\n",
       "      <td>30380</td>\n",
       "    </tr>\n",
       "    <tr>\n",
       "      <th>3</th>\n",
       "      <td>91988078</td>\n",
       "      <td>932765</td>\n",
       "      <td>2020-08-03</td>\n",
       "      <td>34533</td>\n",
       "    </tr>\n",
       "    <tr>\n",
       "      <th>4</th>\n",
       "      <td>91988078</td>\n",
       "      <td>932765</td>\n",
       "      <td>2020-08-04</td>\n",
       "      <td>29593</td>\n",
       "    </tr>\n",
       "  </tbody>\n",
       "</table>\n",
       "</div>"
      ],
      "text/plain": [
       "   seller_id  total_visits         day  total_in_day\n",
       "0   91988078        932765  2020-07-31         41720\n",
       "1   91988078        932765  2020-08-01         31217\n",
       "2   91988078        932765  2020-08-02         30380\n",
       "3   91988078        932765  2020-08-03         34533\n",
       "4   91988078        932765  2020-08-04         29593"
      ]
     },
     "execution_count": 17,
     "metadata": {},
     "output_type": "execute_result"
    }
   ],
   "source": [
    "seller_visits_data = []\n",
    "for seller_id in sellers_df['id'].unique():\n",
    "    response = requests.get(seller_visits_by_day_endpoint.format(seller_id = seller_id))\n",
    "    if response.status_code == 200:\n",
    "        response = response.json()\n",
    "            \n",
    "        for result in response['results']:\n",
    "            seller_visits_data.append({\n",
    "                'seller_id' : seller_id,\n",
    "                'total_visits' : response['total_visits'],\n",
    "                'day' : result['date'][:10],\n",
    "                'total_in_day' : result['total']\n",
    "            })\n",
    "            \n",
    "seller_visits_df = pd.DataFrame(seller_visits_data)\n",
    "print('{0:,} registros a las {1}'.format(len(seller_visits_df), datetime.now()))\n",
    "seller_visits_df.head()"
   ]
  },
  {
   "cell_type": "markdown",
   "metadata": {},
   "source": [
    "Guardamos los datos en un CSV"
   ]
  },
  {
   "cell_type": "code",
   "execution_count": 18,
   "metadata": {},
   "outputs": [],
   "source": [
    "seller_visits_df.to_csv('seller_visits.csv', index=False)"
   ]
  },
  {
   "cell_type": "markdown",
   "metadata": {},
   "source": [
    "## Data de las visitas de los items en los ultimos 30 dias"
   ]
  },
  {
   "cell_type": "markdown",
   "metadata": {},
   "source": [
    "<a href=\"https://developers.mercadolibre.com.ar/es_ar/metricas\">https://developers.mercadolibre.com.ar/es_ar/metricas</a>"
   ]
  },
  {
   "cell_type": "code",
   "execution_count": 20,
   "metadata": {},
   "outputs": [],
   "source": [
    "item_visits_by_day_endpoint = 'https://api.mercadolibre.com/items/{item_id}/visits/time_window?last=30&unit=day'"
   ]
  },
  {
   "cell_type": "code",
   "execution_count": 21,
   "metadata": {},
   "outputs": [
    {
     "name": "stdout",
     "output_type": "stream",
     "text": [
      "11,760 registros a las 2020-08-30 17:54:13.527279\n"
     ]
    },
    {
     "data": {
      "text/html": [
       "<div>\n",
       "<style scoped>\n",
       "    .dataframe tbody tr th:only-of-type {\n",
       "        vertical-align: middle;\n",
       "    }\n",
       "\n",
       "    .dataframe tbody tr th {\n",
       "        vertical-align: top;\n",
       "    }\n",
       "\n",
       "    .dataframe thead th {\n",
       "        text-align: right;\n",
       "    }\n",
       "</style>\n",
       "<table border=\"1\" class=\"dataframe\">\n",
       "  <thead>\n",
       "    <tr style=\"text-align: right;\">\n",
       "      <th></th>\n",
       "      <th>item_id</th>\n",
       "      <th>total_visits</th>\n",
       "      <th>day</th>\n",
       "      <th>total_in_day</th>\n",
       "    </tr>\n",
       "  </thead>\n",
       "  <tbody>\n",
       "    <tr>\n",
       "      <th>0</th>\n",
       "      <td>MLA746509501</td>\n",
       "      <td>8424</td>\n",
       "      <td>2020-07-31</td>\n",
       "      <td>358</td>\n",
       "    </tr>\n",
       "    <tr>\n",
       "      <th>1</th>\n",
       "      <td>MLA746509501</td>\n",
       "      <td>8424</td>\n",
       "      <td>2020-08-01</td>\n",
       "      <td>253</td>\n",
       "    </tr>\n",
       "    <tr>\n",
       "      <th>2</th>\n",
       "      <td>MLA746509501</td>\n",
       "      <td>8424</td>\n",
       "      <td>2020-08-02</td>\n",
       "      <td>335</td>\n",
       "    </tr>\n",
       "    <tr>\n",
       "      <th>3</th>\n",
       "      <td>MLA746509501</td>\n",
       "      <td>8424</td>\n",
       "      <td>2020-08-03</td>\n",
       "      <td>430</td>\n",
       "    </tr>\n",
       "    <tr>\n",
       "      <th>4</th>\n",
       "      <td>MLA746509501</td>\n",
       "      <td>8424</td>\n",
       "      <td>2020-08-04</td>\n",
       "      <td>403</td>\n",
       "    </tr>\n",
       "  </tbody>\n",
       "</table>\n",
       "</div>"
      ],
      "text/plain": [
       "        item_id  total_visits         day  total_in_day\n",
       "0  MLA746509501          8424  2020-07-31           358\n",
       "1  MLA746509501          8424  2020-08-01           253\n",
       "2  MLA746509501          8424  2020-08-02           335\n",
       "3  MLA746509501          8424  2020-08-03           430\n",
       "4  MLA746509501          8424  2020-08-04           403"
      ]
     },
     "execution_count": 21,
     "metadata": {},
     "output_type": "execute_result"
    }
   ],
   "source": [
    "item_visits_data = []\n",
    "for item_id in items_df['id'].unique():\n",
    "    response = requests.get(item_visits_by_day_endpoint.format(item_id = item_id))\n",
    "    if response.status_code == 200:\n",
    "        response = response.json()\n",
    "            \n",
    "        for result in response['results']:\n",
    "            item_visits_data.append({\n",
    "                'item_id' : item_id,\n",
    "                'total_visits' : response['total_visits'],\n",
    "                'day' : result['date'][:10],\n",
    "                'total_in_day' : result['total']\n",
    "            })\n",
    "            \n",
    "item_visits_df = pd.DataFrame(item_visits_data)\n",
    "print('{0:,} registros a las {1}'.format(len(item_visits_df), datetime.now()))\n",
    "item_visits_df.head()"
   ]
  },
  {
   "cell_type": "markdown",
   "metadata": {},
   "source": [
    "Guardamos los datos en un CSV"
   ]
  },
  {
   "cell_type": "code",
   "execution_count": 22,
   "metadata": {},
   "outputs": [],
   "source": [
    "item_visits_df.to_csv('item_visits.csv', index=False)"
   ]
  }
 ],
 "metadata": {
  "kernelspec": {
   "display_name": "Python 3",
   "language": "python",
   "name": "python3"
  },
  "language_info": {
   "codemirror_mode": {
    "name": "ipython",
    "version": 3
   },
   "file_extension": ".py",
   "mimetype": "text/x-python",
   "name": "python",
   "nbconvert_exporter": "python",
   "pygments_lexer": "ipython3",
   "version": "3.8.5"
  }
 },
 "nbformat": 4,
 "nbformat_minor": 4
}
