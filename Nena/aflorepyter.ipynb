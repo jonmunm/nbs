{
 "cells": [
  {
   "cell_type": "code",
   "execution_count": 1,
   "metadata": {},
   "outputs": [],
   "source": [
    "# ** PRACTICA DE PYTHON **\n",
    "## Reto Aflore\n",
    "### Candidatos, Experiencia Laboral, Listado de Trabajos, Solicitud del Candidato\n",
    "### Por Nohra Rincón\n",
    "# rinconnohra@hotmail.com"
   ]
  },
  {
   "cell_type": "code",
   "execution_count": 2,
   "metadata": {},
   "outputs": [],
   "source": [
    "# Importación de librerías\n",
    "import pandas as pd  # Manejo de Dataframes\n",
    "import matplotlib.pyplot as plt # Mostrar las Gráficas\n",
    "import numpy as np # Tratamiento de Datos\n",
    "import seaborn as sns # Visualización de Datos\n",
    "from datetime import timedelta, datetime # clase permite crear objetos para manejar fechas y horas\n",
    "from statistics import mean"
   ]
  },
  {
   "cell_type": "markdown",
   "metadata": {},
   "source": [
    "# Data extraction"
   ]
  },
  {
   "cell_type": "markdown",
   "metadata": {},
   "source": [
    "## Candidate applications"
   ]
  },
  {
   "cell_type": "code",
   "execution_count": 3,
   "metadata": {
    "scrolled": true
   },
   "outputs": [
    {
     "name": "stdout",
     "output_type": "stream",
     "text": [
      "248,316 registros a las 08/04/2020, 00:17:46\n"
     ]
    },
    {
     "data": {
      "text/html": [
       "<div>\n",
       "<style scoped>\n",
       "    .dataframe tbody tr th:only-of-type {\n",
       "        vertical-align: middle;\n",
       "    }\n",
       "\n",
       "    .dataframe tbody tr th {\n",
       "        vertical-align: top;\n",
       "    }\n",
       "\n",
       "    .dataframe thead th {\n",
       "        text-align: right;\n",
       "    }\n",
       "</style>\n",
       "<table border=\"1\" class=\"dataframe\">\n",
       "  <thead>\n",
       "    <tr style=\"text-align: right;\">\n",
       "      <th></th>\n",
       "      <th>Unnamed: 0</th>\n",
       "      <th>candidate_id</th>\n",
       "      <th>job_listing_id</th>\n",
       "      <th>date_recommanded</th>\n",
       "      <th>date_accepted</th>\n",
       "      <th>date_read</th>\n",
       "      <th>date_liked</th>\n",
       "      <th>date_disliked</th>\n",
       "    </tr>\n",
       "  </thead>\n",
       "  <tbody>\n",
       "    <tr>\n",
       "      <th>0</th>\n",
       "      <td>0</td>\n",
       "      <td>159325</td>\n",
       "      <td>10972</td>\n",
       "      <td>2017-11-01 13:48:50.932286</td>\n",
       "      <td>2017-11-01 13:54:12.249725</td>\n",
       "      <td>2017-11-02 15:47:52.000000</td>\n",
       "      <td>NaN</td>\n",
       "      <td>2017-11-02 15:48:43.172406</td>\n",
       "    </tr>\n",
       "    <tr>\n",
       "      <th>1</th>\n",
       "      <td>3</td>\n",
       "      <td>225337</td>\n",
       "      <td>10973</td>\n",
       "      <td>2017-11-01 13:51:09.280804</td>\n",
       "      <td>NaN</td>\n",
       "      <td>NaN</td>\n",
       "      <td>NaN</td>\n",
       "      <td>NaN</td>\n",
       "    </tr>\n",
       "    <tr>\n",
       "      <th>2</th>\n",
       "      <td>4</td>\n",
       "      <td>67163</td>\n",
       "      <td>10973</td>\n",
       "      <td>2017-11-01 13:51:09.913197</td>\n",
       "      <td>NaN</td>\n",
       "      <td>NaN</td>\n",
       "      <td>NaN</td>\n",
       "      <td>NaN</td>\n",
       "    </tr>\n",
       "    <tr>\n",
       "      <th>3</th>\n",
       "      <td>5</td>\n",
       "      <td>364149</td>\n",
       "      <td>10973</td>\n",
       "      <td>2017-11-01 13:51:10.247998</td>\n",
       "      <td>NaN</td>\n",
       "      <td>NaN</td>\n",
       "      <td>NaN</td>\n",
       "      <td>NaN</td>\n",
       "    </tr>\n",
       "    <tr>\n",
       "      <th>4</th>\n",
       "      <td>6</td>\n",
       "      <td>216233</td>\n",
       "      <td>10973</td>\n",
       "      <td>2017-11-01 13:51:10.784215</td>\n",
       "      <td>NaN</td>\n",
       "      <td>NaN</td>\n",
       "      <td>NaN</td>\n",
       "      <td>NaN</td>\n",
       "    </tr>\n",
       "  </tbody>\n",
       "</table>\n",
       "</div>"
      ],
      "text/plain": [
       "   Unnamed: 0  candidate_id  job_listing_id            date_recommanded  \\\n",
       "0           0        159325           10972  2017-11-01 13:48:50.932286   \n",
       "1           3        225337           10973  2017-11-01 13:51:09.280804   \n",
       "2           4         67163           10973  2017-11-01 13:51:09.913197   \n",
       "3           5        364149           10973  2017-11-01 13:51:10.247998   \n",
       "4           6        216233           10973  2017-11-01 13:51:10.784215   \n",
       "\n",
       "                date_accepted                   date_read date_liked  \\\n",
       "0  2017-11-01 13:54:12.249725  2017-11-02 15:47:52.000000        NaN   \n",
       "1                         NaN                         NaN        NaN   \n",
       "2                         NaN                         NaN        NaN   \n",
       "3                         NaN                         NaN        NaN   \n",
       "4                         NaN                         NaN        NaN   \n",
       "\n",
       "                date_disliked  \n",
       "0  2017-11-02 15:48:43.172406  \n",
       "1                         NaN  \n",
       "2                         NaN  \n",
       "3                         NaN  \n",
       "4                         NaN  "
      ]
     },
     "execution_count": 3,
     "metadata": {},
     "output_type": "execute_result"
    }
   ],
   "source": [
    "candidate_application_df = pd.read_csv('candidate_application.csv')\n",
    "print(f'{len(candidate_application_df):,} registros a las {datetime.now().strftime(\"%m/%d/%Y, %H:%M:%S\")}')\n",
    "candidate_application_df.head()"
   ]
  },
  {
   "cell_type": "markdown",
   "metadata": {},
   "source": [
    "## Candidates"
   ]
  },
  {
   "cell_type": "code",
   "execution_count": 4,
   "metadata": {
    "scrolled": true
   },
   "outputs": [
    {
     "name": "stdout",
     "output_type": "stream",
     "text": [
      "115,781 registros a las 08/04/2020, 00:17:46\n"
     ]
    },
    {
     "data": {
      "text/html": [
       "<div>\n",
       "<style scoped>\n",
       "    .dataframe tbody tr th:only-of-type {\n",
       "        vertical-align: middle;\n",
       "    }\n",
       "\n",
       "    .dataframe tbody tr th {\n",
       "        vertical-align: top;\n",
       "    }\n",
       "\n",
       "    .dataframe thead th {\n",
       "        text-align: right;\n",
       "    }\n",
       "</style>\n",
       "<table border=\"1\" class=\"dataframe\">\n",
       "  <thead>\n",
       "    <tr style=\"text-align: right;\">\n",
       "      <th></th>\n",
       "      <th>Unnamed: 0</th>\n",
       "      <th>id</th>\n",
       "      <th>location</th>\n",
       "      <th>birthdate</th>\n",
       "      <th>gender</th>\n",
       "      <th>salary_range</th>\n",
       "      <th>transport</th>\n",
       "      <th>created_on</th>\n",
       "    </tr>\n",
       "  </thead>\n",
       "  <tbody>\n",
       "    <tr>\n",
       "      <th>0</th>\n",
       "      <td>1</td>\n",
       "      <td>253757</td>\n",
       "      <td>Bogotá D.C.</td>\n",
       "      <td>1973-08-17 00:00:00.000000</td>\n",
       "      <td>Femenino</td>\n",
       "      <td>$2,5 a $3 millones</td>\n",
       "      <td>Carro</td>\n",
       "      <td>2017-04-21 02:32:44.879624</td>\n",
       "    </tr>\n",
       "    <tr>\n",
       "      <th>1</th>\n",
       "      <td>3</td>\n",
       "      <td>142106</td>\n",
       "      <td>Bogotá D.C.</td>\n",
       "      <td>1991-07-15 00:00:00.000000</td>\n",
       "      <td>Femenino</td>\n",
       "      <td>Mínimo a $1 millón</td>\n",
       "      <td>Ninguno</td>\n",
       "      <td>2016-07-06 15:38:34.847370</td>\n",
       "    </tr>\n",
       "    <tr>\n",
       "      <th>2</th>\n",
       "      <td>5</td>\n",
       "      <td>180807</td>\n",
       "      <td>Bogotá D.C.</td>\n",
       "      <td>1993-11-02 00:00:00.000000</td>\n",
       "      <td>Femenino</td>\n",
       "      <td>$2,5 a $3 millones</td>\n",
       "      <td>Ninguno</td>\n",
       "      <td>2016-09-06 17:30:30.138918</td>\n",
       "    </tr>\n",
       "    <tr>\n",
       "      <th>3</th>\n",
       "      <td>6</td>\n",
       "      <td>293837</td>\n",
       "      <td>Armenia</td>\n",
       "      <td>1987-07-30 00:00:00.000000</td>\n",
       "      <td>Masculino</td>\n",
       "      <td>$1 a $1,5 millones</td>\n",
       "      <td>Moto</td>\n",
       "      <td>2017-05-25 22:58:33.281604</td>\n",
       "    </tr>\n",
       "    <tr>\n",
       "      <th>4</th>\n",
       "      <td>8</td>\n",
       "      <td>411517</td>\n",
       "      <td>Soacha</td>\n",
       "      <td>1994-01-05 00:00:00.000000</td>\n",
       "      <td>Femenino</td>\n",
       "      <td>$1,5 a $2 millones</td>\n",
       "      <td>Moto</td>\n",
       "      <td>2017-10-08 13:00:13.293309</td>\n",
       "    </tr>\n",
       "  </tbody>\n",
       "</table>\n",
       "</div>"
      ],
      "text/plain": [
       "   Unnamed: 0      id     location                   birthdate     gender  \\\n",
       "0           1  253757  Bogotá D.C.  1973-08-17 00:00:00.000000   Femenino   \n",
       "1           3  142106  Bogotá D.C.  1991-07-15 00:00:00.000000   Femenino   \n",
       "2           5  180807  Bogotá D.C.  1993-11-02 00:00:00.000000   Femenino   \n",
       "3           6  293837      Armenia  1987-07-30 00:00:00.000000  Masculino   \n",
       "4           8  411517       Soacha  1994-01-05 00:00:00.000000   Femenino   \n",
       "\n",
       "         salary_range transport                  created_on  \n",
       "0  $2,5 a $3 millones     Carro  2017-04-21 02:32:44.879624  \n",
       "1  Mínimo a $1 millón   Ninguno  2016-07-06 15:38:34.847370  \n",
       "2  $2,5 a $3 millones   Ninguno  2016-09-06 17:30:30.138918  \n",
       "3  $1 a $1,5 millones      Moto  2017-05-25 22:58:33.281604  \n",
       "4  $1,5 a $2 millones      Moto  2017-10-08 13:00:13.293309  "
      ]
     },
     "execution_count": 4,
     "metadata": {},
     "output_type": "execute_result"
    }
   ],
   "source": [
    "candidate_df = pd.read_csv('candidate.csv')\n",
    "print(f'{len(candidate_df):,} registros a las {datetime.now().strftime(\"%m/%d/%Y, %H:%M:%S\")}')\n",
    "candidate_df.head()"
   ]
  },
  {
   "cell_type": "markdown",
   "metadata": {},
   "source": [
    "## Job listings"
   ]
  },
  {
   "cell_type": "code",
   "execution_count": 5,
   "metadata": {
    "scrolled": true
   },
   "outputs": [
    {
     "name": "stdout",
     "output_type": "stream",
     "text": [
      "10,420 registros a las 08/04/2020, 00:17:46\n"
     ]
    },
    {
     "data": {
      "text/html": [
       "<div>\n",
       "<style scoped>\n",
       "    .dataframe tbody tr th:only-of-type {\n",
       "        vertical-align: middle;\n",
       "    }\n",
       "\n",
       "    .dataframe tbody tr th {\n",
       "        vertical-align: top;\n",
       "    }\n",
       "\n",
       "    .dataframe thead th {\n",
       "        text-align: right;\n",
       "    }\n",
       "</style>\n",
       "<table border=\"1\" class=\"dataframe\">\n",
       "  <thead>\n",
       "    <tr style=\"text-align: right;\">\n",
       "      <th></th>\n",
       "      <th>Unnamed: 0</th>\n",
       "      <th>id</th>\n",
       "      <th>business_id</th>\n",
       "      <th>title</th>\n",
       "      <th>published_on</th>\n",
       "      <th>location</th>\n",
       "      <th>salary_range</th>\n",
       "      <th>industry_name</th>\n",
       "    </tr>\n",
       "  </thead>\n",
       "  <tbody>\n",
       "    <tr>\n",
       "      <th>0</th>\n",
       "      <td>5</td>\n",
       "      <td>43655</td>\n",
       "      <td>25104</td>\n",
       "      <td>Administrador de punto</td>\n",
       "      <td>2019-02-01 21:49:57.064140</td>\n",
       "      <td>Acacías</td>\n",
       "      <td>$1,5 a $2 millones</td>\n",
       "      <td>Comercio al por menor - retail</td>\n",
       "    </tr>\n",
       "    <tr>\n",
       "      <th>1</th>\n",
       "      <td>22</td>\n",
       "      <td>18586</td>\n",
       "      <td>12465</td>\n",
       "      <td>Asesor comercial</td>\n",
       "      <td>2018-04-09 19:05:41.864644</td>\n",
       "      <td>Amagá</td>\n",
       "      <td>$2 a $2,5 millones</td>\n",
       "      <td>Financiero y Seguros</td>\n",
       "    </tr>\n",
       "    <tr>\n",
       "      <th>2</th>\n",
       "      <td>31</td>\n",
       "      <td>34502</td>\n",
       "      <td>13594</td>\n",
       "      <td>Coordinador Comercial</td>\n",
       "      <td>2018-10-23 16:11:50.868641</td>\n",
       "      <td>Apartadó</td>\n",
       "      <td>$1,5 a $2 millones</td>\n",
       "      <td>Financiero y Seguros</td>\n",
       "    </tr>\n",
       "    <tr>\n",
       "      <th>3</th>\n",
       "      <td>36</td>\n",
       "      <td>24377</td>\n",
       "      <td>12117</td>\n",
       "      <td>Asesor Comercial Apartadó</td>\n",
       "      <td>2018-06-29 17:09:21.372184</td>\n",
       "      <td>Apartadó</td>\n",
       "      <td>Mínimo a $1 millón</td>\n",
       "      <td>Servicios</td>\n",
       "    </tr>\n",
       "    <tr>\n",
       "      <th>4</th>\n",
       "      <td>39</td>\n",
       "      <td>26714</td>\n",
       "      <td>17326</td>\n",
       "      <td>Asesor Comercial</td>\n",
       "      <td>2018-07-30 18:28:12.978446</td>\n",
       "      <td>Apartadó</td>\n",
       "      <td>$1 a $1,5 millones</td>\n",
       "      <td>Tecnología</td>\n",
       "    </tr>\n",
       "  </tbody>\n",
       "</table>\n",
       "</div>"
      ],
      "text/plain": [
       "   Unnamed: 0     id  business_id                      title  \\\n",
       "0           5  43655        25104     Administrador de punto   \n",
       "1          22  18586        12465           Asesor comercial   \n",
       "2          31  34502        13594      Coordinador Comercial   \n",
       "3          36  24377        12117  Asesor Comercial Apartadó   \n",
       "4          39  26714        17326           Asesor Comercial   \n",
       "\n",
       "                 published_on  location        salary_range  \\\n",
       "0  2019-02-01 21:49:57.064140   Acacías  $1,5 a $2 millones   \n",
       "1  2018-04-09 19:05:41.864644     Amagá  $2 a $2,5 millones   \n",
       "2  2018-10-23 16:11:50.868641  Apartadó  $1,5 a $2 millones   \n",
       "3  2018-06-29 17:09:21.372184  Apartadó  Mínimo a $1 millón   \n",
       "4  2018-07-30 18:28:12.978446  Apartadó  $1 a $1,5 millones   \n",
       "\n",
       "                    industry_name  \n",
       "0  Comercio al por menor - retail  \n",
       "1            Financiero y Seguros  \n",
       "2            Financiero y Seguros  \n",
       "3                       Servicios  \n",
       "4                      Tecnología  "
      ]
     },
     "execution_count": 5,
     "metadata": {},
     "output_type": "execute_result"
    }
   ],
   "source": [
    "job_listing_df = pd.read_csv('job_listing.csv')\n",
    "print(f'{len(job_listing_df):,} registros a las {datetime.now().strftime(\"%m/%d/%Y, %H:%M:%S\")}')\n",
    "job_listing_df.head()"
   ]
  },
  {
   "cell_type": "markdown",
   "metadata": {},
   "source": [
    "## Work experiences"
   ]
  },
  {
   "cell_type": "code",
   "execution_count": 6,
   "metadata": {
    "scrolled": false
   },
   "outputs": [
    {
     "name": "stdout",
     "output_type": "stream",
     "text": [
      "267,121 registros a las 08/04/2020, 00:17:47\n"
     ]
    },
    {
     "data": {
      "text/html": [
       "<div>\n",
       "<style scoped>\n",
       "    .dataframe tbody tr th:only-of-type {\n",
       "        vertical-align: middle;\n",
       "    }\n",
       "\n",
       "    .dataframe tbody tr th {\n",
       "        vertical-align: top;\n",
       "    }\n",
       "\n",
       "    .dataframe thead th {\n",
       "        text-align: right;\n",
       "    }\n",
       "</style>\n",
       "<table border=\"1\" class=\"dataframe\">\n",
       "  <thead>\n",
       "    <tr style=\"text-align: right;\">\n",
       "      <th></th>\n",
       "      <th>Unnamed: 0</th>\n",
       "      <th>id</th>\n",
       "      <th>candidate_id</th>\n",
       "      <th>job_title</th>\n",
       "      <th>industry_name</th>\n",
       "      <th>location</th>\n",
       "      <th>sale_type</th>\n",
       "      <th>person_in_charge</th>\n",
       "      <th>observed</th>\n",
       "      <th>starting_date</th>\n",
       "      <th>ending_date</th>\n",
       "    </tr>\n",
       "  </thead>\n",
       "  <tbody>\n",
       "    <tr>\n",
       "      <th>0</th>\n",
       "      <td>0</td>\n",
       "      <td>648179</td>\n",
       "      <td>843579.0</td>\n",
       "      <td>Asesor Comercial</td>\n",
       "      <td>Telecomunicaciones</td>\n",
       "      <td>Bogotá D.C.</td>\n",
       "      <td>Punto de Venta / Isla</td>\n",
       "      <td>0 personas</td>\n",
       "      <td>True</td>\n",
       "      <td>2017-10-01</td>\n",
       "      <td>2019-04-01</td>\n",
       "    </tr>\n",
       "    <tr>\n",
       "      <th>1</th>\n",
       "      <td>7</td>\n",
       "      <td>193905</td>\n",
       "      <td>243056.0</td>\n",
       "      <td>Asesora en Ventas</td>\n",
       "      <td>Comercio al por menor - retail</td>\n",
       "      <td>Barranquilla</td>\n",
       "      <td>Impulsador / Promotor / Mercaderista</td>\n",
       "      <td>0 personas</td>\n",
       "      <td>True</td>\n",
       "      <td>2014-11-01</td>\n",
       "      <td>2019-04-01</td>\n",
       "    </tr>\n",
       "    <tr>\n",
       "      <th>2</th>\n",
       "      <td>13</td>\n",
       "      <td>648150</td>\n",
       "      <td>843624.0</td>\n",
       "      <td>Vendedor Mostrador</td>\n",
       "      <td>Salud y Belleza</td>\n",
       "      <td>Bogotá D.C.</td>\n",
       "      <td>Canal Farmacia</td>\n",
       "      <td>1-2 personas</td>\n",
       "      <td>True</td>\n",
       "      <td>2016-01-01</td>\n",
       "      <td>2019-04-01</td>\n",
       "    </tr>\n",
       "    <tr>\n",
       "      <th>3</th>\n",
       "      <td>15</td>\n",
       "      <td>648157</td>\n",
       "      <td>842372.0</td>\n",
       "      <td>Asesor de Cobranza</td>\n",
       "      <td>Telecomunicaciones</td>\n",
       "      <td>Bogotá D.C.</td>\n",
       "      <td>Telemercadeo</td>\n",
       "      <td>0 personas</td>\n",
       "      <td>True</td>\n",
       "      <td>2015-12-01</td>\n",
       "      <td>2019-04-01</td>\n",
       "    </tr>\n",
       "    <tr>\n",
       "      <th>4</th>\n",
       "      <td>18</td>\n",
       "      <td>648215</td>\n",
       "      <td>843697.0</td>\n",
       "      <td>Asistente Administrativo</td>\n",
       "      <td>Servicios</td>\n",
       "      <td>Bogotá D.C.</td>\n",
       "      <td>NaN</td>\n",
       "      <td>0 personas</td>\n",
       "      <td>True</td>\n",
       "      <td>2014-06-01</td>\n",
       "      <td>2019-04-01</td>\n",
       "    </tr>\n",
       "  </tbody>\n",
       "</table>\n",
       "</div>"
      ],
      "text/plain": [
       "   Unnamed: 0      id  candidate_id                 job_title  \\\n",
       "0           0  648179      843579.0          Asesor Comercial   \n",
       "1           7  193905      243056.0         Asesora en Ventas   \n",
       "2          13  648150      843624.0        Vendedor Mostrador   \n",
       "3          15  648157      842372.0        Asesor de Cobranza   \n",
       "4          18  648215      843697.0  Asistente Administrativo   \n",
       "\n",
       "                    industry_name      location  \\\n",
       "0              Telecomunicaciones   Bogotá D.C.   \n",
       "1  Comercio al por menor - retail  Barranquilla   \n",
       "2                 Salud y Belleza   Bogotá D.C.   \n",
       "3              Telecomunicaciones   Bogotá D.C.   \n",
       "4                       Servicios   Bogotá D.C.   \n",
       "\n",
       "                              sale_type person_in_charge  observed  \\\n",
       "0                 Punto de Venta / Isla       0 personas      True   \n",
       "1  Impulsador / Promotor / Mercaderista       0 personas      True   \n",
       "2                        Canal Farmacia     1-2 personas      True   \n",
       "3                          Telemercadeo       0 personas      True   \n",
       "4                                   NaN       0 personas      True   \n",
       "\n",
       "  starting_date ending_date  \n",
       "0    2017-10-01  2019-04-01  \n",
       "1    2014-11-01  2019-04-01  \n",
       "2    2016-01-01  2019-04-01  \n",
       "3    2015-12-01  2019-04-01  \n",
       "4    2014-06-01  2019-04-01  "
      ]
     },
     "execution_count": 6,
     "metadata": {},
     "output_type": "execute_result"
    }
   ],
   "source": [
    "work_experience_df = pd.read_csv('work_experience.csv')\n",
    "print(f'{len(work_experience_df):,} registros a las {datetime.now().strftime(\"%m/%d/%Y, %H:%M:%S\")}')\n",
    "work_experience_df.head()"
   ]
  },
  {
   "cell_type": "markdown",
   "metadata": {},
   "source": [
    "# Data preparation and cleaning"
   ]
  },
  {
   "cell_type": "markdown",
   "metadata": {},
   "source": [
    "## Remove unnecesary first colum"
   ]
  },
  {
   "cell_type": "code",
   "execution_count": 7,
   "metadata": {},
   "outputs": [],
   "source": [
    "for df in [candidate_application_df, candidate_df, job_listing_df, work_experience_df]:\n",
    "    df.drop('Unnamed: 0', axis=1, inplace=True)"
   ]
  },
  {
   "cell_type": "markdown",
   "metadata": {},
   "source": [
    "## Data types, reordering and sorting"
   ]
  },
  {
   "cell_type": "markdown",
   "metadata": {},
   "source": [
    "### Candidate applications"
   ]
  },
  {
   "cell_type": "code",
   "execution_count": 8,
   "metadata": {},
   "outputs": [
    {
     "data": {
      "text/plain": [
       "candidate_id         int64\n",
       "job_listing_id       int64\n",
       "date_recommanded    object\n",
       "date_accepted       object\n",
       "date_read           object\n",
       "date_liked          object\n",
       "date_disliked       object\n",
       "dtype: object"
      ]
     },
     "execution_count": 8,
     "metadata": {},
     "output_type": "execute_result"
    }
   ],
   "source": [
    "candidate_application_df.dtypes"
   ]
  },
  {
   "cell_type": "markdown",
   "metadata": {},
   "source": [
    "Convertiremos las columnas de fechas"
   ]
  },
  {
   "cell_type": "code",
   "execution_count": 9,
   "metadata": {
    "scrolled": true
   },
   "outputs": [
    {
     "name": "stdout",
     "output_type": "stream",
     "text": [
      "248,316 registros a las 08/04/2020, 00:17:52\n"
     ]
    },
    {
     "data": {
      "text/html": [
       "<div>\n",
       "<style scoped>\n",
       "    .dataframe tbody tr th:only-of-type {\n",
       "        vertical-align: middle;\n",
       "    }\n",
       "\n",
       "    .dataframe tbody tr th {\n",
       "        vertical-align: top;\n",
       "    }\n",
       "\n",
       "    .dataframe thead th {\n",
       "        text-align: right;\n",
       "    }\n",
       "</style>\n",
       "<table border=\"1\" class=\"dataframe\">\n",
       "  <thead>\n",
       "    <tr style=\"text-align: right;\">\n",
       "      <th></th>\n",
       "      <th>candidate_id</th>\n",
       "      <th>job_listing_id</th>\n",
       "      <th>date_recommanded</th>\n",
       "      <th>date_accepted</th>\n",
       "      <th>date_read</th>\n",
       "      <th>date_liked</th>\n",
       "      <th>date_disliked</th>\n",
       "    </tr>\n",
       "  </thead>\n",
       "  <tbody>\n",
       "    <tr>\n",
       "      <th>0</th>\n",
       "      <td>159325</td>\n",
       "      <td>10972</td>\n",
       "      <td>2017-11-01 13:48:50</td>\n",
       "      <td>2017-11-01 13:54:12</td>\n",
       "      <td>2017-11-02 15:47:52</td>\n",
       "      <td>NaT</td>\n",
       "      <td>2017-11-02 15:48:43</td>\n",
       "    </tr>\n",
       "    <tr>\n",
       "      <th>1</th>\n",
       "      <td>225337</td>\n",
       "      <td>10973</td>\n",
       "      <td>2017-11-01 13:51:09</td>\n",
       "      <td>NaT</td>\n",
       "      <td>NaT</td>\n",
       "      <td>NaT</td>\n",
       "      <td>NaT</td>\n",
       "    </tr>\n",
       "    <tr>\n",
       "      <th>2</th>\n",
       "      <td>67163</td>\n",
       "      <td>10973</td>\n",
       "      <td>2017-11-01 13:51:09</td>\n",
       "      <td>NaT</td>\n",
       "      <td>NaT</td>\n",
       "      <td>NaT</td>\n",
       "      <td>NaT</td>\n",
       "    </tr>\n",
       "    <tr>\n",
       "      <th>3</th>\n",
       "      <td>364149</td>\n",
       "      <td>10973</td>\n",
       "      <td>2017-11-01 13:51:10</td>\n",
       "      <td>NaT</td>\n",
       "      <td>NaT</td>\n",
       "      <td>NaT</td>\n",
       "      <td>NaT</td>\n",
       "    </tr>\n",
       "    <tr>\n",
       "      <th>4</th>\n",
       "      <td>216233</td>\n",
       "      <td>10973</td>\n",
       "      <td>2017-11-01 13:51:10</td>\n",
       "      <td>NaT</td>\n",
       "      <td>NaT</td>\n",
       "      <td>NaT</td>\n",
       "      <td>NaT</td>\n",
       "    </tr>\n",
       "  </tbody>\n",
       "</table>\n",
       "</div>"
      ],
      "text/plain": [
       "   candidate_id  job_listing_id    date_recommanded       date_accepted  \\\n",
       "0        159325           10972 2017-11-01 13:48:50 2017-11-01 13:54:12   \n",
       "1        225337           10973 2017-11-01 13:51:09                 NaT   \n",
       "2         67163           10973 2017-11-01 13:51:09                 NaT   \n",
       "3        364149           10973 2017-11-01 13:51:10                 NaT   \n",
       "4        216233           10973 2017-11-01 13:51:10                 NaT   \n",
       "\n",
       "            date_read date_liked       date_disliked  \n",
       "0 2017-11-02 15:47:52        NaT 2017-11-02 15:48:43  \n",
       "1                 NaT        NaT                 NaT  \n",
       "2                 NaT        NaT                 NaT  \n",
       "3                 NaT        NaT                 NaT  \n",
       "4                 NaT        NaT                 NaT  "
      ]
     },
     "execution_count": 9,
     "metadata": {},
     "output_type": "execute_result"
    }
   ],
   "source": [
    "date_columns = ['date_recommanded', 'date_accepted', 'date_read', 'date_liked', 'date_disliked']\n",
    "\n",
    "def change_datetime_format(date_str):\n",
    "    if date_str is np.nan:\n",
    "        return np.nan\n",
    "    \n",
    "    return datetime.strptime(date_str[0:-7], '%Y-%m-%d %H:%M:%S')\n",
    "\n",
    "for column in date_columns:\n",
    "    candidate_application_df[column] = candidate_application_df[column].apply(change_datetime_format)\n",
    "    \n",
    "print(f'{len(candidate_application_df):,} registros a las {datetime.now().strftime(\"%m/%d/%Y, %H:%M:%S\")}')\n",
    "candidate_application_df.head()"
   ]
  },
  {
   "cell_type": "markdown",
   "metadata": {},
   "source": [
    "Reordenamos las columnas y ordenamos"
   ]
  },
  {
   "cell_type": "code",
   "execution_count": 10,
   "metadata": {
    "scrolled": true
   },
   "outputs": [
    {
     "name": "stdout",
     "output_type": "stream",
     "text": [
      "248,316 registros a las 08/04/2020, 00:17:52\n"
     ]
    },
    {
     "data": {
      "text/html": [
       "<div>\n",
       "<style scoped>\n",
       "    .dataframe tbody tr th:only-of-type {\n",
       "        vertical-align: middle;\n",
       "    }\n",
       "\n",
       "    .dataframe tbody tr th {\n",
       "        vertical-align: top;\n",
       "    }\n",
       "\n",
       "    .dataframe thead th {\n",
       "        text-align: right;\n",
       "    }\n",
       "</style>\n",
       "<table border=\"1\" class=\"dataframe\">\n",
       "  <thead>\n",
       "    <tr style=\"text-align: right;\">\n",
       "      <th></th>\n",
       "      <th>job_listing_id</th>\n",
       "      <th>candidate_id</th>\n",
       "      <th>date_recommanded</th>\n",
       "      <th>date_accepted</th>\n",
       "      <th>date_read</th>\n",
       "      <th>date_liked</th>\n",
       "      <th>date_disliked</th>\n",
       "    </tr>\n",
       "  </thead>\n",
       "  <tbody>\n",
       "    <tr>\n",
       "      <th>58208</th>\n",
       "      <td>7655</td>\n",
       "      <td>44197</td>\n",
       "      <td>2018-03-26 20:32:25</td>\n",
       "      <td>NaT</td>\n",
       "      <td>NaT</td>\n",
       "      <td>NaT</td>\n",
       "      <td>NaT</td>\n",
       "    </tr>\n",
       "    <tr>\n",
       "      <th>58214</th>\n",
       "      <td>7655</td>\n",
       "      <td>63099</td>\n",
       "      <td>2018-03-26 20:32:31</td>\n",
       "      <td>NaT</td>\n",
       "      <td>NaT</td>\n",
       "      <td>NaT</td>\n",
       "      <td>NaT</td>\n",
       "    </tr>\n",
       "    <tr>\n",
       "      <th>58206</th>\n",
       "      <td>7655</td>\n",
       "      <td>146327</td>\n",
       "      <td>2018-03-26 20:32:21</td>\n",
       "      <td>NaT</td>\n",
       "      <td>NaT</td>\n",
       "      <td>NaT</td>\n",
       "      <td>NaT</td>\n",
       "    </tr>\n",
       "    <tr>\n",
       "      <th>58192</th>\n",
       "      <td>7655</td>\n",
       "      <td>155751</td>\n",
       "      <td>2018-03-26 20:32:10</td>\n",
       "      <td>NaT</td>\n",
       "      <td>NaT</td>\n",
       "      <td>NaT</td>\n",
       "      <td>NaT</td>\n",
       "    </tr>\n",
       "    <tr>\n",
       "      <th>58198</th>\n",
       "      <td>7655</td>\n",
       "      <td>170411</td>\n",
       "      <td>2018-03-26 20:32:13</td>\n",
       "      <td>NaT</td>\n",
       "      <td>NaT</td>\n",
       "      <td>NaT</td>\n",
       "      <td>NaT</td>\n",
       "    </tr>\n",
       "  </tbody>\n",
       "</table>\n",
       "</div>"
      ],
      "text/plain": [
       "       job_listing_id  candidate_id    date_recommanded date_accepted  \\\n",
       "58208            7655         44197 2018-03-26 20:32:25           NaT   \n",
       "58214            7655         63099 2018-03-26 20:32:31           NaT   \n",
       "58206            7655        146327 2018-03-26 20:32:21           NaT   \n",
       "58192            7655        155751 2018-03-26 20:32:10           NaT   \n",
       "58198            7655        170411 2018-03-26 20:32:13           NaT   \n",
       "\n",
       "      date_read date_liked date_disliked  \n",
       "58208       NaT        NaT           NaT  \n",
       "58214       NaT        NaT           NaT  \n",
       "58206       NaT        NaT           NaT  \n",
       "58192       NaT        NaT           NaT  \n",
       "58198       NaT        NaT           NaT  "
      ]
     },
     "execution_count": 10,
     "metadata": {},
     "output_type": "execute_result"
    }
   ],
   "source": [
    "columns = ['job_listing_id', 'candidate_id', 'date_recommanded', 'date_accepted', 'date_read', 'date_liked', 'date_disliked']\n",
    "candidate_application_df = candidate_application_df[columns]\n",
    "candidate_application_df.sort_values(['job_listing_id', 'candidate_id'], ascending=[True, True], inplace=True)\n",
    "\n",
    "print(f'{len(candidate_application_df):,} registros a las {datetime.now().strftime(\"%m/%d/%Y, %H:%M:%S\")}')\n",
    "candidate_application_df.head()"
   ]
  },
  {
   "cell_type": "markdown",
   "metadata": {},
   "source": [
    "### Candidates"
   ]
  },
  {
   "cell_type": "code",
   "execution_count": 11,
   "metadata": {
    "scrolled": true
   },
   "outputs": [
    {
     "data": {
      "text/plain": [
       "id               int64\n",
       "location        object\n",
       "birthdate       object\n",
       "gender          object\n",
       "salary_range    object\n",
       "transport       object\n",
       "created_on      object\n",
       "dtype: object"
      ]
     },
     "execution_count": 11,
     "metadata": {},
     "output_type": "execute_result"
    }
   ],
   "source": [
    "candidate_df.dtypes"
   ]
  },
  {
   "cell_type": "markdown",
   "metadata": {},
   "source": [
    "Convertimos las fechas"
   ]
  },
  {
   "cell_type": "code",
   "execution_count": 12,
   "metadata": {
    "scrolled": true
   },
   "outputs": [
    {
     "name": "stdout",
     "output_type": "stream",
     "text": [
      "115,781 registros a las 08/04/2020, 00:17:56\n"
     ]
    },
    {
     "data": {
      "text/html": [
       "<div>\n",
       "<style scoped>\n",
       "    .dataframe tbody tr th:only-of-type {\n",
       "        vertical-align: middle;\n",
       "    }\n",
       "\n",
       "    .dataframe tbody tr th {\n",
       "        vertical-align: top;\n",
       "    }\n",
       "\n",
       "    .dataframe thead th {\n",
       "        text-align: right;\n",
       "    }\n",
       "</style>\n",
       "<table border=\"1\" class=\"dataframe\">\n",
       "  <thead>\n",
       "    <tr style=\"text-align: right;\">\n",
       "      <th></th>\n",
       "      <th>id</th>\n",
       "      <th>location</th>\n",
       "      <th>birthdate</th>\n",
       "      <th>gender</th>\n",
       "      <th>salary_range</th>\n",
       "      <th>transport</th>\n",
       "      <th>created_on</th>\n",
       "    </tr>\n",
       "  </thead>\n",
       "  <tbody>\n",
       "    <tr>\n",
       "      <th>0</th>\n",
       "      <td>253757</td>\n",
       "      <td>Bogotá D.C.</td>\n",
       "      <td>1973-08-17</td>\n",
       "      <td>Femenino</td>\n",
       "      <td>$2,5 a $3 millones</td>\n",
       "      <td>Carro</td>\n",
       "      <td>2017-04-21 02:32:44</td>\n",
       "    </tr>\n",
       "    <tr>\n",
       "      <th>1</th>\n",
       "      <td>142106</td>\n",
       "      <td>Bogotá D.C.</td>\n",
       "      <td>1991-07-15</td>\n",
       "      <td>Femenino</td>\n",
       "      <td>Mínimo a $1 millón</td>\n",
       "      <td>Ninguno</td>\n",
       "      <td>2016-07-06 15:38:34</td>\n",
       "    </tr>\n",
       "    <tr>\n",
       "      <th>2</th>\n",
       "      <td>180807</td>\n",
       "      <td>Bogotá D.C.</td>\n",
       "      <td>1993-11-02</td>\n",
       "      <td>Femenino</td>\n",
       "      <td>$2,5 a $3 millones</td>\n",
       "      <td>Ninguno</td>\n",
       "      <td>2016-09-06 17:30:30</td>\n",
       "    </tr>\n",
       "    <tr>\n",
       "      <th>3</th>\n",
       "      <td>293837</td>\n",
       "      <td>Armenia</td>\n",
       "      <td>1987-07-30</td>\n",
       "      <td>Masculino</td>\n",
       "      <td>$1 a $1,5 millones</td>\n",
       "      <td>Moto</td>\n",
       "      <td>2017-05-25 22:58:33</td>\n",
       "    </tr>\n",
       "    <tr>\n",
       "      <th>4</th>\n",
       "      <td>411517</td>\n",
       "      <td>Soacha</td>\n",
       "      <td>1994-01-05</td>\n",
       "      <td>Femenino</td>\n",
       "      <td>$1,5 a $2 millones</td>\n",
       "      <td>Moto</td>\n",
       "      <td>2017-10-08 13:00:13</td>\n",
       "    </tr>\n",
       "  </tbody>\n",
       "</table>\n",
       "</div>"
      ],
      "text/plain": [
       "       id     location  birthdate     gender        salary_range transport  \\\n",
       "0  253757  Bogotá D.C. 1973-08-17   Femenino  $2,5 a $3 millones     Carro   \n",
       "1  142106  Bogotá D.C. 1991-07-15   Femenino  Mínimo a $1 millón   Ninguno   \n",
       "2  180807  Bogotá D.C. 1993-11-02   Femenino  $2,5 a $3 millones   Ninguno   \n",
       "3  293837      Armenia 1987-07-30  Masculino  $1 a $1,5 millones      Moto   \n",
       "4  411517       Soacha 1994-01-05   Femenino  $1,5 a $2 millones      Moto   \n",
       "\n",
       "           created_on  \n",
       "0 2017-04-21 02:32:44  \n",
       "1 2016-07-06 15:38:34  \n",
       "2 2016-09-06 17:30:30  \n",
       "3 2017-05-25 22:58:33  \n",
       "4 2017-10-08 13:00:13  "
      ]
     },
     "execution_count": 12,
     "metadata": {},
     "output_type": "execute_result"
    }
   ],
   "source": [
    "date_columns = ['birthdate', 'created_on']\n",
    "for column in date_columns:\n",
    "    candidate_df[column] = candidate_df[column].apply(change_datetime_format)\n",
    "    \n",
    "print(f'{len(candidate_df):,} registros a las {datetime.now().strftime(\"%m/%d/%Y, %H:%M:%S\")}')\n",
    "candidate_df.head()"
   ]
  },
  {
   "cell_type": "markdown",
   "metadata": {},
   "source": [
    "Reemplazamos los *labels* de **salary_range** y ordenamos"
   ]
  },
  {
   "cell_type": "code",
   "execution_count": 13,
   "metadata": {},
   "outputs": [
    {
     "data": {
      "text/plain": [
       "array(['$2,5 a $3 millones', 'Mínimo a $1 millón', '$1 a $1,5 millones',\n",
       "       '$1,5 a $2 millones', '$2 a $2,5 millones', '$3,5 a $4 millones',\n",
       "       '$8 a $10 millones', '$6 a $8 millones', '$4 a $5 millones',\n",
       "       '$3 a $3,5 millones', '10+ millones', '$5 a $6 millones', nan],\n",
       "      dtype=object)"
      ]
     },
     "execution_count": 13,
     "metadata": {},
     "output_type": "execute_result"
    }
   ],
   "source": [
    "candidate_df['salary_range'].unique()"
   ]
  },
  {
   "cell_type": "code",
   "execution_count": 14,
   "metadata": {},
   "outputs": [
    {
     "name": "stdout",
     "output_type": "stream",
     "text": [
      "115,781 registros a las 08/04/2020, 00:17:56\n"
     ]
    },
    {
     "data": {
      "text/html": [
       "<div>\n",
       "<style scoped>\n",
       "    .dataframe tbody tr th:only-of-type {\n",
       "        vertical-align: middle;\n",
       "    }\n",
       "\n",
       "    .dataframe tbody tr th {\n",
       "        vertical-align: top;\n",
       "    }\n",
       "\n",
       "    .dataframe thead th {\n",
       "        text-align: right;\n",
       "    }\n",
       "</style>\n",
       "<table border=\"1\" class=\"dataframe\">\n",
       "  <thead>\n",
       "    <tr style=\"text-align: right;\">\n",
       "      <th></th>\n",
       "      <th>id</th>\n",
       "      <th>location</th>\n",
       "      <th>birthdate</th>\n",
       "      <th>gender</th>\n",
       "      <th>salary_range (M)</th>\n",
       "      <th>transport</th>\n",
       "      <th>created_on</th>\n",
       "    </tr>\n",
       "  </thead>\n",
       "  <tbody>\n",
       "    <tr>\n",
       "      <th>100240</th>\n",
       "      <td>2</td>\n",
       "      <td>Bogotá D.C.</td>\n",
       "      <td>1992-11-06</td>\n",
       "      <td>Femenino</td>\n",
       "      <td>1,5 a 2</td>\n",
       "      <td>Ninguno</td>\n",
       "      <td>2016-01-19 18:46:16</td>\n",
       "    </tr>\n",
       "    <tr>\n",
       "      <th>64119</th>\n",
       "      <td>51</td>\n",
       "      <td>Bogotá D.C.</td>\n",
       "      <td>1982-06-30</td>\n",
       "      <td>Masculino</td>\n",
       "      <td>3,5 a 4</td>\n",
       "      <td>Ninguno</td>\n",
       "      <td>2016-01-19 18:46:16</td>\n",
       "    </tr>\n",
       "    <tr>\n",
       "      <th>28353</th>\n",
       "      <td>53</td>\n",
       "      <td>Pereira</td>\n",
       "      <td>1989-09-14</td>\n",
       "      <td>Masculino</td>\n",
       "      <td>1 a 1,5</td>\n",
       "      <td>Ninguno</td>\n",
       "      <td>2016-01-19 18:46:16</td>\n",
       "    </tr>\n",
       "    <tr>\n",
       "      <th>81625</th>\n",
       "      <td>54</td>\n",
       "      <td>Medellín</td>\n",
       "      <td>1978-03-16</td>\n",
       "      <td>Masculino</td>\n",
       "      <td>3,5 a 4</td>\n",
       "      <td>Carro</td>\n",
       "      <td>2016-01-19 18:46:16</td>\n",
       "    </tr>\n",
       "    <tr>\n",
       "      <th>14865</th>\n",
       "      <td>57</td>\n",
       "      <td>Soacha</td>\n",
       "      <td>1970-10-22</td>\n",
       "      <td>Masculino</td>\n",
       "      <td>1 a 1,5</td>\n",
       "      <td>Ninguno</td>\n",
       "      <td>2016-01-19 18:52:00</td>\n",
       "    </tr>\n",
       "  </tbody>\n",
       "</table>\n",
       "</div>"
      ],
      "text/plain": [
       "        id     location  birthdate     gender salary_range (M) transport  \\\n",
       "100240   2  Bogotá D.C. 1992-11-06   Femenino          1,5 a 2   Ninguno   \n",
       "64119   51  Bogotá D.C. 1982-06-30  Masculino          3,5 a 4   Ninguno   \n",
       "28353   53      Pereira 1989-09-14  Masculino          1 a 1,5   Ninguno   \n",
       "81625   54     Medellín 1978-03-16  Masculino          3,5 a 4     Carro   \n",
       "14865   57       Soacha 1970-10-22  Masculino          1 a 1,5   Ninguno   \n",
       "\n",
       "                created_on  \n",
       "100240 2016-01-19 18:46:16  \n",
       "64119  2016-01-19 18:46:16  \n",
       "28353  2016-01-19 18:46:16  \n",
       "81625  2016-01-19 18:46:16  \n",
       "14865  2016-01-19 18:52:00  "
      ]
     },
     "execution_count": 14,
     "metadata": {},
     "output_type": "execute_result"
    }
   ],
   "source": [
    "salary_range_replacements = {\n",
    "    '$2,5 a $3 millones' : '2,5 a 3',\n",
    "    'Mínimo a $1 millón' : '< 1',\n",
    "    '$1 a $1,5 millones' : '1 a 1,5',\n",
    "    '$1,5 a $2 millones' : '1,5 a 2',\n",
    "    '$2 a $2,5 millones' : '2 a 2,5',\n",
    "    '$3,5 a $4 millones' : '3,5 a 4',\n",
    "    '$8 a $10 millones' : '8 a 10',\n",
    "    '$6 a $8 millones' : '6 a 8',\n",
    "    '$4 a $5 millones' : '4 a 5',\n",
    "    '$3 a $3,5 millones' : '3 a 3,5',\n",
    "    '10+ millones': '10+',\n",
    "    '$5 a $6 millones': '5 a 6'\n",
    "}\n",
    "candidate_df['salary_range'].replace(to_replace=salary_range_replacements, inplace=True)\n",
    "candidate_df.rename(columns={'salary_range' : 'salary_range (M)'}, inplace=True)\n",
    "\n",
    "candidate_df.sort_values('id', ascending=True, inplace=True)\n",
    "\n",
    "print(f'{len(candidate_df):,} registros a las {datetime.now().strftime(\"%m/%d/%Y, %H:%M:%S\")}')\n",
    "candidate_df.head()"
   ]
  },
  {
   "cell_type": "markdown",
   "metadata": {},
   "source": [
    "Imputamos los valores nulos"
   ]
  },
  {
   "cell_type": "code",
   "execution_count": 15,
   "metadata": {},
   "outputs": [],
   "source": [
    "missing_columns = ['location', 'gender', 'salary_range (M)', 'transport']\n",
    "for column in missing_columns:\n",
    "    candidate_df[column].fillna('N/A', inplace=True)"
   ]
  },
  {
   "cell_type": "markdown",
   "metadata": {},
   "source": [
    "### Job listings"
   ]
  },
  {
   "cell_type": "code",
   "execution_count": 16,
   "metadata": {
    "scrolled": true
   },
   "outputs": [
    {
     "data": {
      "text/plain": [
       "id                int64\n",
       "business_id       int64\n",
       "title            object\n",
       "published_on     object\n",
       "location         object\n",
       "salary_range     object\n",
       "industry_name    object\n",
       "dtype: object"
      ]
     },
     "execution_count": 16,
     "metadata": {},
     "output_type": "execute_result"
    }
   ],
   "source": [
    "job_listing_df.dtypes"
   ]
  },
  {
   "cell_type": "markdown",
   "metadata": {},
   "source": [
    "Convertimos las fechas"
   ]
  },
  {
   "cell_type": "code",
   "execution_count": 17,
   "metadata": {
    "scrolled": true
   },
   "outputs": [
    {
     "name": "stdout",
     "output_type": "stream",
     "text": [
      "10,420 registros a las 08/04/2020, 00:17:57\n"
     ]
    },
    {
     "data": {
      "text/html": [
       "<div>\n",
       "<style scoped>\n",
       "    .dataframe tbody tr th:only-of-type {\n",
       "        vertical-align: middle;\n",
       "    }\n",
       "\n",
       "    .dataframe tbody tr th {\n",
       "        vertical-align: top;\n",
       "    }\n",
       "\n",
       "    .dataframe thead th {\n",
       "        text-align: right;\n",
       "    }\n",
       "</style>\n",
       "<table border=\"1\" class=\"dataframe\">\n",
       "  <thead>\n",
       "    <tr style=\"text-align: right;\">\n",
       "      <th></th>\n",
       "      <th>id</th>\n",
       "      <th>business_id</th>\n",
       "      <th>title</th>\n",
       "      <th>published_on</th>\n",
       "      <th>location</th>\n",
       "      <th>salary_range</th>\n",
       "      <th>industry_name</th>\n",
       "    </tr>\n",
       "  </thead>\n",
       "  <tbody>\n",
       "    <tr>\n",
       "      <th>0</th>\n",
       "      <td>43655</td>\n",
       "      <td>25104</td>\n",
       "      <td>Administrador de punto</td>\n",
       "      <td>2019-02-01 21:49:57</td>\n",
       "      <td>Acacías</td>\n",
       "      <td>$1,5 a $2 millones</td>\n",
       "      <td>Comercio al por menor - retail</td>\n",
       "    </tr>\n",
       "    <tr>\n",
       "      <th>1</th>\n",
       "      <td>18586</td>\n",
       "      <td>12465</td>\n",
       "      <td>Asesor comercial</td>\n",
       "      <td>2018-04-09 19:05:41</td>\n",
       "      <td>Amagá</td>\n",
       "      <td>$2 a $2,5 millones</td>\n",
       "      <td>Financiero y Seguros</td>\n",
       "    </tr>\n",
       "    <tr>\n",
       "      <th>2</th>\n",
       "      <td>34502</td>\n",
       "      <td>13594</td>\n",
       "      <td>Coordinador Comercial</td>\n",
       "      <td>2018-10-23 16:11:50</td>\n",
       "      <td>Apartadó</td>\n",
       "      <td>$1,5 a $2 millones</td>\n",
       "      <td>Financiero y Seguros</td>\n",
       "    </tr>\n",
       "    <tr>\n",
       "      <th>3</th>\n",
       "      <td>24377</td>\n",
       "      <td>12117</td>\n",
       "      <td>Asesor Comercial Apartadó</td>\n",
       "      <td>2018-06-29 17:09:21</td>\n",
       "      <td>Apartadó</td>\n",
       "      <td>Mínimo a $1 millón</td>\n",
       "      <td>Servicios</td>\n",
       "    </tr>\n",
       "    <tr>\n",
       "      <th>4</th>\n",
       "      <td>26714</td>\n",
       "      <td>17326</td>\n",
       "      <td>Asesor Comercial</td>\n",
       "      <td>2018-07-30 18:28:12</td>\n",
       "      <td>Apartadó</td>\n",
       "      <td>$1 a $1,5 millones</td>\n",
       "      <td>Tecnología</td>\n",
       "    </tr>\n",
       "  </tbody>\n",
       "</table>\n",
       "</div>"
      ],
      "text/plain": [
       "      id  business_id                      title        published_on  \\\n",
       "0  43655        25104     Administrador de punto 2019-02-01 21:49:57   \n",
       "1  18586        12465           Asesor comercial 2018-04-09 19:05:41   \n",
       "2  34502        13594      Coordinador Comercial 2018-10-23 16:11:50   \n",
       "3  24377        12117  Asesor Comercial Apartadó 2018-06-29 17:09:21   \n",
       "4  26714        17326           Asesor Comercial 2018-07-30 18:28:12   \n",
       "\n",
       "   location        salary_range                   industry_name  \n",
       "0   Acacías  $1,5 a $2 millones  Comercio al por menor - retail  \n",
       "1     Amagá  $2 a $2,5 millones            Financiero y Seguros  \n",
       "2  Apartadó  $1,5 a $2 millones            Financiero y Seguros  \n",
       "3  Apartadó  Mínimo a $1 millón                       Servicios  \n",
       "4  Apartadó  $1 a $1,5 millones                      Tecnología  "
      ]
     },
     "execution_count": 17,
     "metadata": {},
     "output_type": "execute_result"
    }
   ],
   "source": [
    "date_columns = ['published_on']\n",
    "for column in date_columns:\n",
    "    job_listing_df[column] = job_listing_df[column].apply(change_datetime_format)\n",
    "    \n",
    "print(f'{len(job_listing_df):,} registros a las {datetime.now().strftime(\"%m/%d/%Y, %H:%M:%S\")}')\n",
    "job_listing_df.head()"
   ]
  },
  {
   "cell_type": "markdown",
   "metadata": {},
   "source": [
    "Reemplazamos los *labels* de **salary_range** y ordenamos"
   ]
  },
  {
   "cell_type": "code",
   "execution_count": 18,
   "metadata": {
    "scrolled": false
   },
   "outputs": [
    {
     "data": {
      "text/plain": [
       "array(['$1,5 a $2 millones', '$2 a $2,5 millones', 'Mínimo a $1 millón',\n",
       "       '$1 a $1,5 millones', '$3 a $3,5 millones', '$3,5 a $4 millones',\n",
       "       '$2,5 a $3 millones', '$6 a $8 millones', '$4 a $5 millones',\n",
       "       '$5 a $6 millones', '10+ millones', '$8 a $10 millones'],\n",
       "      dtype=object)"
      ]
     },
     "execution_count": 18,
     "metadata": {},
     "output_type": "execute_result"
    }
   ],
   "source": [
    "job_listing_df['salary_range'].unique()"
   ]
  },
  {
   "cell_type": "code",
   "execution_count": 19,
   "metadata": {
    "scrolled": true
   },
   "outputs": [
    {
     "name": "stdout",
     "output_type": "stream",
     "text": [
      "10,420 registros a las 08/04/2020, 00:17:57\n"
     ]
    },
    {
     "data": {
      "text/html": [
       "<div>\n",
       "<style scoped>\n",
       "    .dataframe tbody tr th:only-of-type {\n",
       "        vertical-align: middle;\n",
       "    }\n",
       "\n",
       "    .dataframe tbody tr th {\n",
       "        vertical-align: top;\n",
       "    }\n",
       "\n",
       "    .dataframe thead th {\n",
       "        text-align: right;\n",
       "    }\n",
       "</style>\n",
       "<table border=\"1\" class=\"dataframe\">\n",
       "  <thead>\n",
       "    <tr style=\"text-align: right;\">\n",
       "      <th></th>\n",
       "      <th>id</th>\n",
       "      <th>business_id</th>\n",
       "      <th>title</th>\n",
       "      <th>published_on</th>\n",
       "      <th>location</th>\n",
       "      <th>salary_range (M)</th>\n",
       "      <th>industry_name</th>\n",
       "    </tr>\n",
       "  </thead>\n",
       "  <tbody>\n",
       "    <tr>\n",
       "      <th>8295</th>\n",
       "      <td>7655</td>\n",
       "      <td>5812</td>\n",
       "      <td>ejecutiva comercial señior</td>\n",
       "      <td>2018-03-26 20:29:51</td>\n",
       "      <td>Medellín</td>\n",
       "      <td>1 a 1,5</td>\n",
       "      <td>Comercio al por menor - retail</td>\n",
       "    </tr>\n",
       "    <tr>\n",
       "      <th>1172</th>\n",
       "      <td>8534</td>\n",
       "      <td>6410</td>\n",
       "      <td>asesores comerciales</td>\n",
       "      <td>2018-06-29 19:13:26</td>\n",
       "      <td>Bogotá D.C.</td>\n",
       "      <td>1 a 1,5</td>\n",
       "      <td>Manufactura e Insumos</td>\n",
       "    </tr>\n",
       "    <tr>\n",
       "      <th>1191</th>\n",
       "      <td>10320</td>\n",
       "      <td>6732</td>\n",
       "      <td>Vendedor Artes Graficas</td>\n",
       "      <td>2017-11-28 14:35:54</td>\n",
       "      <td>Bogotá D.C.</td>\n",
       "      <td>2 a 2,5</td>\n",
       "      <td>Publicidad y Medios</td>\n",
       "    </tr>\n",
       "    <tr>\n",
       "      <th>1274</th>\n",
       "      <td>10465</td>\n",
       "      <td>7715</td>\n",
       "      <td>Asesor comercial externo - Conocimiento en Fer...</td>\n",
       "      <td>2017-12-06 13:49:26</td>\n",
       "      <td>Bogotá D.C.</td>\n",
       "      <td>&lt; 1</td>\n",
       "      <td>Construcción</td>\n",
       "    </tr>\n",
       "    <tr>\n",
       "      <th>457</th>\n",
       "      <td>10972</td>\n",
       "      <td>5231</td>\n",
       "      <td>Administradora de Sala de Ventas</td>\n",
       "      <td>2017-11-01 13:48:42</td>\n",
       "      <td>Barranquilla</td>\n",
       "      <td>2,5 a 3</td>\n",
       "      <td>Construcción</td>\n",
       "    </tr>\n",
       "  </tbody>\n",
       "</table>\n",
       "</div>"
      ],
      "text/plain": [
       "         id  business_id                                              title  \\\n",
       "8295   7655         5812                         ejecutiva comercial señior   \n",
       "1172   8534         6410                               asesores comerciales   \n",
       "1191  10320         6732                           Vendedor Artes Graficas    \n",
       "1274  10465         7715  Asesor comercial externo - Conocimiento en Fer...   \n",
       "457   10972         5231                   Administradora de Sala de Ventas   \n",
       "\n",
       "            published_on      location salary_range (M)  \\\n",
       "8295 2018-03-26 20:29:51      Medellín          1 a 1,5   \n",
       "1172 2018-06-29 19:13:26   Bogotá D.C.          1 a 1,5   \n",
       "1191 2017-11-28 14:35:54   Bogotá D.C.          2 a 2,5   \n",
       "1274 2017-12-06 13:49:26   Bogotá D.C.              < 1   \n",
       "457  2017-11-01 13:48:42  Barranquilla          2,5 a 3   \n",
       "\n",
       "                       industry_name  \n",
       "8295  Comercio al por menor - retail  \n",
       "1172           Manufactura e Insumos  \n",
       "1191             Publicidad y Medios  \n",
       "1274                    Construcción  \n",
       "457                     Construcción  "
      ]
     },
     "execution_count": 19,
     "metadata": {},
     "output_type": "execute_result"
    }
   ],
   "source": [
    "salary_range_replacements = {\n",
    "    '$2,5 a $3 millones' : '2,5 a 3',\n",
    "    'Mínimo a $1 millón' : '< 1',\n",
    "    '$1 a $1,5 millones' : '1 a 1,5',\n",
    "    '$1,5 a $2 millones' : '1,5 a 2',\n",
    "    '$2 a $2,5 millones' : '2 a 2,5',\n",
    "    '$3,5 a $4 millones' : '3,5 a 4',\n",
    "    '$8 a $10 millones' : '8 a 10',\n",
    "    '$6 a $8 millones' : '6 a 8',\n",
    "    '$4 a $5 millones' : '4 a 5',\n",
    "    '$3 a $3,5 millones' : '3 a 3,5',\n",
    "    '10+ millones': '10+',\n",
    "    '$5 a $6 millones': '5 a 6'\n",
    "}\n",
    "job_listing_df['salary_range'].replace(to_replace=salary_range_replacements, inplace=True)\n",
    "job_listing_df.rename(columns={'salary_range' : 'salary_range (M)'}, inplace=True)\n",
    "\n",
    "job_listing_df.sort_values('id', ascending=True, inplace=True)\n",
    "\n",
    "print(f'{len(job_listing_df):,} registros a las {datetime.now().strftime(\"%m/%d/%Y, %H:%M:%S\")}')\n",
    "job_listing_df.head()"
   ]
  },
  {
   "cell_type": "markdown",
   "metadata": {},
   "source": [
    "### Work experiences"
   ]
  },
  {
   "cell_type": "code",
   "execution_count": 20,
   "metadata": {
    "scrolled": false
   },
   "outputs": [
    {
     "data": {
      "text/plain": [
       "id                    int64\n",
       "candidate_id        float64\n",
       "job_title            object\n",
       "industry_name        object\n",
       "location             object\n",
       "sale_type            object\n",
       "person_in_charge     object\n",
       "observed               bool\n",
       "starting_date        object\n",
       "ending_date          object\n",
       "dtype: object"
      ]
     },
     "execution_count": 20,
     "metadata": {},
     "output_type": "execute_result"
    }
   ],
   "source": [
    "work_experience_df.dtypes"
   ]
  },
  {
   "cell_type": "markdown",
   "metadata": {},
   "source": [
    "Convertimos los enteros"
   ]
  },
  {
   "cell_type": "code",
   "execution_count": 21,
   "metadata": {},
   "outputs": [],
   "source": [
    "work_experience_df['candidate_id'] = work_experience_df['candidate_id'].astype(np.int64)"
   ]
  },
  {
   "cell_type": "markdown",
   "metadata": {},
   "source": [
    "Convertimos las fechas"
   ]
  },
  {
   "cell_type": "code",
   "execution_count": 22,
   "metadata": {},
   "outputs": [
    {
     "name": "stdout",
     "output_type": "stream",
     "text": [
      "267,121 registros a las 08/04/2020, 00:18:04\n"
     ]
    },
    {
     "data": {
      "text/html": [
       "<div>\n",
       "<style scoped>\n",
       "    .dataframe tbody tr th:only-of-type {\n",
       "        vertical-align: middle;\n",
       "    }\n",
       "\n",
       "    .dataframe tbody tr th {\n",
       "        vertical-align: top;\n",
       "    }\n",
       "\n",
       "    .dataframe thead th {\n",
       "        text-align: right;\n",
       "    }\n",
       "</style>\n",
       "<table border=\"1\" class=\"dataframe\">\n",
       "  <thead>\n",
       "    <tr style=\"text-align: right;\">\n",
       "      <th></th>\n",
       "      <th>id</th>\n",
       "      <th>candidate_id</th>\n",
       "      <th>job_title</th>\n",
       "      <th>industry_name</th>\n",
       "      <th>location</th>\n",
       "      <th>sale_type</th>\n",
       "      <th>person_in_charge</th>\n",
       "      <th>observed</th>\n",
       "      <th>starting_date</th>\n",
       "      <th>ending_date</th>\n",
       "    </tr>\n",
       "  </thead>\n",
       "  <tbody>\n",
       "    <tr>\n",
       "      <th>0</th>\n",
       "      <td>648179</td>\n",
       "      <td>843579</td>\n",
       "      <td>Asesor Comercial</td>\n",
       "      <td>Telecomunicaciones</td>\n",
       "      <td>Bogotá D.C.</td>\n",
       "      <td>Punto de Venta / Isla</td>\n",
       "      <td>0 personas</td>\n",
       "      <td>True</td>\n",
       "      <td>2017-10-01</td>\n",
       "      <td>2019-04-01</td>\n",
       "    </tr>\n",
       "    <tr>\n",
       "      <th>1</th>\n",
       "      <td>193905</td>\n",
       "      <td>243056</td>\n",
       "      <td>Asesora en Ventas</td>\n",
       "      <td>Comercio al por menor - retail</td>\n",
       "      <td>Barranquilla</td>\n",
       "      <td>Impulsador / Promotor / Mercaderista</td>\n",
       "      <td>0 personas</td>\n",
       "      <td>True</td>\n",
       "      <td>2014-11-01</td>\n",
       "      <td>2019-04-01</td>\n",
       "    </tr>\n",
       "    <tr>\n",
       "      <th>2</th>\n",
       "      <td>648150</td>\n",
       "      <td>843624</td>\n",
       "      <td>Vendedor Mostrador</td>\n",
       "      <td>Salud y Belleza</td>\n",
       "      <td>Bogotá D.C.</td>\n",
       "      <td>Canal Farmacia</td>\n",
       "      <td>1-2 personas</td>\n",
       "      <td>True</td>\n",
       "      <td>2016-01-01</td>\n",
       "      <td>2019-04-01</td>\n",
       "    </tr>\n",
       "    <tr>\n",
       "      <th>3</th>\n",
       "      <td>648157</td>\n",
       "      <td>842372</td>\n",
       "      <td>Asesor de Cobranza</td>\n",
       "      <td>Telecomunicaciones</td>\n",
       "      <td>Bogotá D.C.</td>\n",
       "      <td>Telemercadeo</td>\n",
       "      <td>0 personas</td>\n",
       "      <td>True</td>\n",
       "      <td>2015-12-01</td>\n",
       "      <td>2019-04-01</td>\n",
       "    </tr>\n",
       "    <tr>\n",
       "      <th>4</th>\n",
       "      <td>648215</td>\n",
       "      <td>843697</td>\n",
       "      <td>Asistente Administrativo</td>\n",
       "      <td>Servicios</td>\n",
       "      <td>Bogotá D.C.</td>\n",
       "      <td>NaN</td>\n",
       "      <td>0 personas</td>\n",
       "      <td>True</td>\n",
       "      <td>2014-06-01</td>\n",
       "      <td>2019-04-01</td>\n",
       "    </tr>\n",
       "  </tbody>\n",
       "</table>\n",
       "</div>"
      ],
      "text/plain": [
       "       id  candidate_id                 job_title  \\\n",
       "0  648179        843579          Asesor Comercial   \n",
       "1  193905        243056         Asesora en Ventas   \n",
       "2  648150        843624        Vendedor Mostrador   \n",
       "3  648157        842372        Asesor de Cobranza   \n",
       "4  648215        843697  Asistente Administrativo   \n",
       "\n",
       "                    industry_name      location  \\\n",
       "0              Telecomunicaciones   Bogotá D.C.   \n",
       "1  Comercio al por menor - retail  Barranquilla   \n",
       "2                 Salud y Belleza   Bogotá D.C.   \n",
       "3              Telecomunicaciones   Bogotá D.C.   \n",
       "4                       Servicios   Bogotá D.C.   \n",
       "\n",
       "                              sale_type person_in_charge  observed  \\\n",
       "0                 Punto de Venta / Isla       0 personas      True   \n",
       "1  Impulsador / Promotor / Mercaderista       0 personas      True   \n",
       "2                        Canal Farmacia     1-2 personas      True   \n",
       "3                          Telemercadeo       0 personas      True   \n",
       "4                                   NaN       0 personas      True   \n",
       "\n",
       "  starting_date ending_date  \n",
       "0    2017-10-01  2019-04-01  \n",
       "1    2014-11-01  2019-04-01  \n",
       "2    2016-01-01  2019-04-01  \n",
       "3    2015-12-01  2019-04-01  \n",
       "4    2014-06-01  2019-04-01  "
      ]
     },
     "execution_count": 22,
     "metadata": {},
     "output_type": "execute_result"
    }
   ],
   "source": [
    "date_columns = ['starting_date', 'ending_date']\n",
    "\n",
    "def change_date_format(date_str):\n",
    "    if date_str is np.nan:\n",
    "        return np.nan\n",
    "    \n",
    "    return datetime.strptime(date_str, '%Y-%m-%d')\n",
    "\n",
    "for column in date_columns:\n",
    "    work_experience_df[column] = work_experience_df[column].apply(change_date_format)\n",
    "    \n",
    "print(f'{len(work_experience_df):,} registros a las {datetime.now().strftime(\"%m/%d/%Y, %H:%M:%S\")}')\n",
    "work_experience_df.head()"
   ]
  },
  {
   "cell_type": "markdown",
   "metadata": {},
   "source": [
    "Reemplazamos los *labels* de **person_in_charge** y ordenamos"
   ]
  },
  {
   "cell_type": "code",
   "execution_count": 23,
   "metadata": {},
   "outputs": [
    {
     "data": {
      "text/plain": [
       "array(['0 personas', '1-2 personas', '6-10 personas', '20+ personas',\n",
       "       '11-20 personas', '3-5 personas', nan], dtype=object)"
      ]
     },
     "execution_count": 23,
     "metadata": {},
     "output_type": "execute_result"
    }
   ],
   "source": [
    "work_experience_df['person_in_charge'].unique()"
   ]
  },
  {
   "cell_type": "code",
   "execution_count": 24,
   "metadata": {},
   "outputs": [
    {
     "name": "stdout",
     "output_type": "stream",
     "text": [
      "267,121 registros a las 08/04/2020, 00:18:05\n"
     ]
    },
    {
     "data": {
      "text/html": [
       "<div>\n",
       "<style scoped>\n",
       "    .dataframe tbody tr th:only-of-type {\n",
       "        vertical-align: middle;\n",
       "    }\n",
       "\n",
       "    .dataframe tbody tr th {\n",
       "        vertical-align: top;\n",
       "    }\n",
       "\n",
       "    .dataframe thead th {\n",
       "        text-align: right;\n",
       "    }\n",
       "</style>\n",
       "<table border=\"1\" class=\"dataframe\">\n",
       "  <thead>\n",
       "    <tr style=\"text-align: right;\">\n",
       "      <th></th>\n",
       "      <th>id</th>\n",
       "      <th>candidate_id</th>\n",
       "      <th>job_title</th>\n",
       "      <th>industry_name</th>\n",
       "      <th>location</th>\n",
       "      <th>sale_type</th>\n",
       "      <th>person_in_charge</th>\n",
       "      <th>observed</th>\n",
       "      <th>starting_date</th>\n",
       "      <th>ending_date</th>\n",
       "    </tr>\n",
       "  </thead>\n",
       "  <tbody>\n",
       "    <tr>\n",
       "      <th>0</th>\n",
       "      <td>648179</td>\n",
       "      <td>843579</td>\n",
       "      <td>Asesor Comercial</td>\n",
       "      <td>Telecomunicaciones</td>\n",
       "      <td>Bogotá D.C.</td>\n",
       "      <td>Punto de Venta / Isla</td>\n",
       "      <td>0</td>\n",
       "      <td>True</td>\n",
       "      <td>2017-10-01</td>\n",
       "      <td>2019-04-01</td>\n",
       "    </tr>\n",
       "    <tr>\n",
       "      <th>1</th>\n",
       "      <td>193905</td>\n",
       "      <td>243056</td>\n",
       "      <td>Asesora en Ventas</td>\n",
       "      <td>Comercio al por menor - retail</td>\n",
       "      <td>Barranquilla</td>\n",
       "      <td>Impulsador / Promotor / Mercaderista</td>\n",
       "      <td>0</td>\n",
       "      <td>True</td>\n",
       "      <td>2014-11-01</td>\n",
       "      <td>2019-04-01</td>\n",
       "    </tr>\n",
       "    <tr>\n",
       "      <th>2</th>\n",
       "      <td>648150</td>\n",
       "      <td>843624</td>\n",
       "      <td>Vendedor Mostrador</td>\n",
       "      <td>Salud y Belleza</td>\n",
       "      <td>Bogotá D.C.</td>\n",
       "      <td>Canal Farmacia</td>\n",
       "      <td>1 o 2</td>\n",
       "      <td>True</td>\n",
       "      <td>2016-01-01</td>\n",
       "      <td>2019-04-01</td>\n",
       "    </tr>\n",
       "    <tr>\n",
       "      <th>3</th>\n",
       "      <td>648157</td>\n",
       "      <td>842372</td>\n",
       "      <td>Asesor de Cobranza</td>\n",
       "      <td>Telecomunicaciones</td>\n",
       "      <td>Bogotá D.C.</td>\n",
       "      <td>Telemercadeo</td>\n",
       "      <td>0</td>\n",
       "      <td>True</td>\n",
       "      <td>2015-12-01</td>\n",
       "      <td>2019-04-01</td>\n",
       "    </tr>\n",
       "    <tr>\n",
       "      <th>4</th>\n",
       "      <td>648215</td>\n",
       "      <td>843697</td>\n",
       "      <td>Asistente Administrativo</td>\n",
       "      <td>Servicios</td>\n",
       "      <td>Bogotá D.C.</td>\n",
       "      <td>NaN</td>\n",
       "      <td>0</td>\n",
       "      <td>True</td>\n",
       "      <td>2014-06-01</td>\n",
       "      <td>2019-04-01</td>\n",
       "    </tr>\n",
       "  </tbody>\n",
       "</table>\n",
       "</div>"
      ],
      "text/plain": [
       "       id  candidate_id                 job_title  \\\n",
       "0  648179        843579          Asesor Comercial   \n",
       "1  193905        243056         Asesora en Ventas   \n",
       "2  648150        843624        Vendedor Mostrador   \n",
       "3  648157        842372        Asesor de Cobranza   \n",
       "4  648215        843697  Asistente Administrativo   \n",
       "\n",
       "                    industry_name      location  \\\n",
       "0              Telecomunicaciones   Bogotá D.C.   \n",
       "1  Comercio al por menor - retail  Barranquilla   \n",
       "2                 Salud y Belleza   Bogotá D.C.   \n",
       "3              Telecomunicaciones   Bogotá D.C.   \n",
       "4                       Servicios   Bogotá D.C.   \n",
       "\n",
       "                              sale_type person_in_charge  observed  \\\n",
       "0                 Punto de Venta / Isla                0      True   \n",
       "1  Impulsador / Promotor / Mercaderista                0      True   \n",
       "2                        Canal Farmacia            1 o 2      True   \n",
       "3                          Telemercadeo                0      True   \n",
       "4                                   NaN                0      True   \n",
       "\n",
       "  starting_date ending_date  \n",
       "0    2017-10-01  2019-04-01  \n",
       "1    2014-11-01  2019-04-01  \n",
       "2    2016-01-01  2019-04-01  \n",
       "3    2015-12-01  2019-04-01  \n",
       "4    2014-06-01  2019-04-01  "
      ]
     },
     "execution_count": 24,
     "metadata": {},
     "output_type": "execute_result"
    }
   ],
   "source": [
    "person_in_charge_replacements = {\n",
    "    '0 personas' : '0',\n",
    "    '1-2 personas' : '1 o 2',\n",
    "    '6-10 personas' : '6 a 10',\n",
    "    '20+ personas' : '20+',\n",
    "    '11-20 personas' : '11 a 20',\n",
    "    '3-5 personas' : '3 a 5'\n",
    "}\n",
    "work_experience_df['person_in_charge'].replace(to_replace=person_in_charge_replacements, inplace=True)\n",
    "\n",
    "print(f'{len(work_experience_df):,} registros a las {datetime.now().strftime(\"%m/%d/%Y, %H:%M:%S\")}')\n",
    "work_experience_df.head()"
   ]
  },
  {
   "cell_type": "markdown",
   "metadata": {},
   "source": [
    "Reemplazamos los labels de **person_in_charge**"
   ]
  },
  {
   "cell_type": "code",
   "execution_count": 25,
   "metadata": {},
   "outputs": [
    {
     "name": "stdout",
     "output_type": "stream",
     "text": [
      "267,121 registros a las 08/04/2020, 00:18:05\n"
     ]
    },
    {
     "data": {
      "text/html": [
       "<div>\n",
       "<style scoped>\n",
       "    .dataframe tbody tr th:only-of-type {\n",
       "        vertical-align: middle;\n",
       "    }\n",
       "\n",
       "    .dataframe tbody tr th {\n",
       "        vertical-align: top;\n",
       "    }\n",
       "\n",
       "    .dataframe thead th {\n",
       "        text-align: right;\n",
       "    }\n",
       "</style>\n",
       "<table border=\"1\" class=\"dataframe\">\n",
       "  <thead>\n",
       "    <tr style=\"text-align: right;\">\n",
       "      <th></th>\n",
       "      <th>id</th>\n",
       "      <th>candidate_id</th>\n",
       "      <th>job_title</th>\n",
       "      <th>industry_name</th>\n",
       "      <th>location</th>\n",
       "      <th>sale_type</th>\n",
       "      <th>person_in_charge</th>\n",
       "      <th>observed</th>\n",
       "      <th>starting_date</th>\n",
       "      <th>ending_date</th>\n",
       "    </tr>\n",
       "  </thead>\n",
       "  <tbody>\n",
       "    <tr>\n",
       "      <th>0</th>\n",
       "      <td>648179</td>\n",
       "      <td>843579</td>\n",
       "      <td>Asesor Comercial</td>\n",
       "      <td>Telecomunicaciones</td>\n",
       "      <td>Bogotá D.C.</td>\n",
       "      <td>Punto de Venta / Isla</td>\n",
       "      <td>0</td>\n",
       "      <td>Yes</td>\n",
       "      <td>2017-10-01</td>\n",
       "      <td>2019-04-01</td>\n",
       "    </tr>\n",
       "    <tr>\n",
       "      <th>1</th>\n",
       "      <td>193905</td>\n",
       "      <td>243056</td>\n",
       "      <td>Asesora en Ventas</td>\n",
       "      <td>Comercio al por menor - retail</td>\n",
       "      <td>Barranquilla</td>\n",
       "      <td>Impulsador / Promotor / Mercaderista</td>\n",
       "      <td>0</td>\n",
       "      <td>Yes</td>\n",
       "      <td>2014-11-01</td>\n",
       "      <td>2019-04-01</td>\n",
       "    </tr>\n",
       "    <tr>\n",
       "      <th>2</th>\n",
       "      <td>648150</td>\n",
       "      <td>843624</td>\n",
       "      <td>Vendedor Mostrador</td>\n",
       "      <td>Salud y Belleza</td>\n",
       "      <td>Bogotá D.C.</td>\n",
       "      <td>Canal Farmacia</td>\n",
       "      <td>1 o 2</td>\n",
       "      <td>Yes</td>\n",
       "      <td>2016-01-01</td>\n",
       "      <td>2019-04-01</td>\n",
       "    </tr>\n",
       "    <tr>\n",
       "      <th>3</th>\n",
       "      <td>648157</td>\n",
       "      <td>842372</td>\n",
       "      <td>Asesor de Cobranza</td>\n",
       "      <td>Telecomunicaciones</td>\n",
       "      <td>Bogotá D.C.</td>\n",
       "      <td>Telemercadeo</td>\n",
       "      <td>0</td>\n",
       "      <td>Yes</td>\n",
       "      <td>2015-12-01</td>\n",
       "      <td>2019-04-01</td>\n",
       "    </tr>\n",
       "    <tr>\n",
       "      <th>4</th>\n",
       "      <td>648215</td>\n",
       "      <td>843697</td>\n",
       "      <td>Asistente Administrativo</td>\n",
       "      <td>Servicios</td>\n",
       "      <td>Bogotá D.C.</td>\n",
       "      <td>NaN</td>\n",
       "      <td>0</td>\n",
       "      <td>Yes</td>\n",
       "      <td>2014-06-01</td>\n",
       "      <td>2019-04-01</td>\n",
       "    </tr>\n",
       "  </tbody>\n",
       "</table>\n",
       "</div>"
      ],
      "text/plain": [
       "       id  candidate_id                 job_title  \\\n",
       "0  648179        843579          Asesor Comercial   \n",
       "1  193905        243056         Asesora en Ventas   \n",
       "2  648150        843624        Vendedor Mostrador   \n",
       "3  648157        842372        Asesor de Cobranza   \n",
       "4  648215        843697  Asistente Administrativo   \n",
       "\n",
       "                    industry_name      location  \\\n",
       "0              Telecomunicaciones   Bogotá D.C.   \n",
       "1  Comercio al por menor - retail  Barranquilla   \n",
       "2                 Salud y Belleza   Bogotá D.C.   \n",
       "3              Telecomunicaciones   Bogotá D.C.   \n",
       "4                       Servicios   Bogotá D.C.   \n",
       "\n",
       "                              sale_type person_in_charge observed  \\\n",
       "0                 Punto de Venta / Isla                0      Yes   \n",
       "1  Impulsador / Promotor / Mercaderista                0      Yes   \n",
       "2                        Canal Farmacia            1 o 2      Yes   \n",
       "3                          Telemercadeo                0      Yes   \n",
       "4                                   NaN                0      Yes   \n",
       "\n",
       "  starting_date ending_date  \n",
       "0    2017-10-01  2019-04-01  \n",
       "1    2014-11-01  2019-04-01  \n",
       "2    2016-01-01  2019-04-01  \n",
       "3    2015-12-01  2019-04-01  \n",
       "4    2014-06-01  2019-04-01  "
      ]
     },
     "execution_count": 25,
     "metadata": {},
     "output_type": "execute_result"
    }
   ],
   "source": [
    "work_experience_df['observed'] = work_experience_df['observed'].apply(lambda observed: 'Yes' if observed else 'No')\n",
    "print(f'{len(work_experience_df):,} registros a las {datetime.now().strftime(\"%m/%d/%Y, %H:%M:%S\")}')\n",
    "work_experience_df.head()"
   ]
  },
  {
   "cell_type": "markdown",
   "metadata": {},
   "source": [
    "Finalmente, reordenamos las columnas y ordenamos"
   ]
  },
  {
   "cell_type": "code",
   "execution_count": 26,
   "metadata": {
    "scrolled": true
   },
   "outputs": [
    {
     "name": "stdout",
     "output_type": "stream",
     "text": [
      "267,121 registros a las 08/04/2020, 00:18:05\n"
     ]
    },
    {
     "data": {
      "text/html": [
       "<div>\n",
       "<style scoped>\n",
       "    .dataframe tbody tr th:only-of-type {\n",
       "        vertical-align: middle;\n",
       "    }\n",
       "\n",
       "    .dataframe tbody tr th {\n",
       "        vertical-align: top;\n",
       "    }\n",
       "\n",
       "    .dataframe thead th {\n",
       "        text-align: right;\n",
       "    }\n",
       "</style>\n",
       "<table border=\"1\" class=\"dataframe\">\n",
       "  <thead>\n",
       "    <tr style=\"text-align: right;\">\n",
       "      <th></th>\n",
       "      <th>candidate_id</th>\n",
       "      <th>id</th>\n",
       "      <th>job_title</th>\n",
       "      <th>industry_name</th>\n",
       "      <th>location</th>\n",
       "      <th>sale_type</th>\n",
       "      <th>person_in_charge</th>\n",
       "      <th>observed</th>\n",
       "      <th>starting_date</th>\n",
       "      <th>ending_date</th>\n",
       "    </tr>\n",
       "  </thead>\n",
       "  <tbody>\n",
       "    <tr>\n",
       "      <th>46528</th>\n",
       "      <td>2</td>\n",
       "      <td>75221</td>\n",
       "      <td>Gerente</td>\n",
       "      <td>Consumo masivo y Alimentos</td>\n",
       "      <td>Bogotá D.C.</td>\n",
       "      <td>Ejecutivo de cuenta / Key Account Manager</td>\n",
       "      <td>1 o 2</td>\n",
       "      <td>No</td>\n",
       "      <td>2016-01-01</td>\n",
       "      <td>2019-04-01</td>\n",
       "    </tr>\n",
       "    <tr>\n",
       "      <th>204660</th>\n",
       "      <td>51</td>\n",
       "      <td>231146</td>\n",
       "      <td>Key Account</td>\n",
       "      <td>Consumo masivo y Alimentos</td>\n",
       "      <td>Bogotá D.C.</td>\n",
       "      <td>Ejecutivo de cuenta / Key Account Manager</td>\n",
       "      <td>1 o 2</td>\n",
       "      <td>Yes</td>\n",
       "      <td>2016-01-01</td>\n",
       "      <td>2019-04-01</td>\n",
       "    </tr>\n",
       "    <tr>\n",
       "      <th>146420</th>\n",
       "      <td>51</td>\n",
       "      <td>231158</td>\n",
       "      <td>Gerente Comercial de Importados</td>\n",
       "      <td>Consumo masivo y Alimentos</td>\n",
       "      <td>Bogotá D.C.</td>\n",
       "      <td>Ejecutivo de cuenta / Key Account Manager</td>\n",
       "      <td>6 a 10</td>\n",
       "      <td>Yes</td>\n",
       "      <td>2011-09-01</td>\n",
       "      <td>2019-04-01</td>\n",
       "    </tr>\n",
       "    <tr>\n",
       "      <th>213767</th>\n",
       "      <td>53</td>\n",
       "      <td>9</td>\n",
       "      <td>Administrador Sucursal - Franquicia Pintuco</td>\n",
       "      <td>NaN</td>\n",
       "      <td>Pereira</td>\n",
       "      <td>Ventas de Mostrador</td>\n",
       "      <td>3 a 5</td>\n",
       "      <td>No</td>\n",
       "      <td>2014-05-01</td>\n",
       "      <td>2019-04-01</td>\n",
       "    </tr>\n",
       "    <tr>\n",
       "      <th>225409</th>\n",
       "      <td>54</td>\n",
       "      <td>10</td>\n",
       "      <td>Asesor On Farm</td>\n",
       "      <td>Agropecuario</td>\n",
       "      <td>Medellín</td>\n",
       "      <td>Viajero (Correrías)</td>\n",
       "      <td>0</td>\n",
       "      <td>Yes</td>\n",
       "      <td>2015-10-01</td>\n",
       "      <td>2019-04-01</td>\n",
       "    </tr>\n",
       "  </tbody>\n",
       "</table>\n",
       "</div>"
      ],
      "text/plain": [
       "        candidate_id      id                                    job_title  \\\n",
       "46528              2   75221                                      Gerente   \n",
       "204660            51  231146                                  Key Account   \n",
       "146420            51  231158              Gerente Comercial de Importados   \n",
       "213767            53       9  Administrador Sucursal - Franquicia Pintuco   \n",
       "225409            54      10                               Asesor On Farm   \n",
       "\n",
       "                     industry_name     location  \\\n",
       "46528   Consumo masivo y Alimentos  Bogotá D.C.   \n",
       "204660  Consumo masivo y Alimentos  Bogotá D.C.   \n",
       "146420  Consumo masivo y Alimentos  Bogotá D.C.   \n",
       "213767                         NaN      Pereira   \n",
       "225409                Agropecuario     Medellín   \n",
       "\n",
       "                                        sale_type person_in_charge observed  \\\n",
       "46528   Ejecutivo de cuenta / Key Account Manager            1 o 2       No   \n",
       "204660  Ejecutivo de cuenta / Key Account Manager            1 o 2      Yes   \n",
       "146420  Ejecutivo de cuenta / Key Account Manager           6 a 10      Yes   \n",
       "213767                        Ventas de Mostrador            3 a 5       No   \n",
       "225409                        Viajero (Correrías)                0      Yes   \n",
       "\n",
       "       starting_date ending_date  \n",
       "46528     2016-01-01  2019-04-01  \n",
       "204660    2016-01-01  2019-04-01  \n",
       "146420    2011-09-01  2019-04-01  \n",
       "213767    2014-05-01  2019-04-01  \n",
       "225409    2015-10-01  2019-04-01  "
      ]
     },
     "execution_count": 26,
     "metadata": {},
     "output_type": "execute_result"
    }
   ],
   "source": [
    "columns = [\n",
    "    'candidate_id', \n",
    "    'id', \n",
    "    'job_title', \n",
    "    'industry_name', \n",
    "    'location',\n",
    "    'sale_type', \n",
    "    'person_in_charge', \n",
    "    'observed', \n",
    "    'starting_date',\n",
    "    'ending_date'\n",
    "]\n",
    "\n",
    "work_experience_df = work_experience_df[columns]\n",
    "work_experience_df.sort_values(['candidate_id', 'id'], ascending=[True, True], inplace=True)\n",
    "\n",
    "print(f'{len(work_experience_df):,} registros a las {datetime.now().strftime(\"%m/%d/%Y, %H:%M:%S\")}')\n",
    "work_experience_df.head()"
   ]
  },
  {
   "cell_type": "markdown",
   "metadata": {},
   "source": [
    "## Analysis"
   ]
  },
  {
   "cell_type": "markdown",
   "metadata": {},
   "source": [
    "#### 1. Provide the total number of candidates that have received an invitation and the total number of candidates that have accepted an invitation."
   ]
  },
  {
   "cell_type": "code",
   "execution_count": null,
   "metadata": {},
   "outputs": [],
   "source": []
  },
  {
   "cell_type": "markdown",
   "metadata": {},
   "source": [
    "#### 2. What is the total rate of accepted invitations? What percentage of candidates have accepted an invitation?"
   ]
  },
  {
   "cell_type": "code",
   "execution_count": null,
   "metadata": {},
   "outputs": [],
   "source": []
  },
  {
   "cell_type": "markdown",
   "metadata": {},
   "source": [
    "#### 3. What is the distribution of candidates by age? What is the distribution of candidates by gender? What is the distribution of candidates by salary range?"
   ]
  },
  {
   "cell_type": "code",
   "execution_count": null,
   "metadata": {},
   "outputs": [],
   "source": []
  },
  {
   "cell_type": "markdown",
   "metadata": {},
   "source": [
    "#### 4. Consider the distinct segments age, gender, salary_range and candidate residence city (only the first 10 most populated cities in the db). Are there significant differences of acceptance rate within such segments? Argue the answer."
   ]
  },
  {
   "cell_type": "markdown",
   "metadata": {},
   "source": [
    "Buscamos las 10 ciudades mas pobladas"
   ]
  },
  {
   "cell_type": "code",
   "execution_count": 27,
   "metadata": {},
   "outputs": [
    {
     "name": "stdout",
     "output_type": "stream",
     "text": [
      "10 registros a las 08/04/2020, 00:18:05\n"
     ]
    },
    {
     "data": {
      "text/html": [
       "<div>\n",
       "<style scoped>\n",
       "    .dataframe tbody tr th:only-of-type {\n",
       "        vertical-align: middle;\n",
       "    }\n",
       "\n",
       "    .dataframe tbody tr th {\n",
       "        vertical-align: top;\n",
       "    }\n",
       "\n",
       "    .dataframe thead th {\n",
       "        text-align: right;\n",
       "    }\n",
       "</style>\n",
       "<table border=\"1\" class=\"dataframe\">\n",
       "  <thead>\n",
       "    <tr style=\"text-align: right;\">\n",
       "      <th></th>\n",
       "      <th>location</th>\n",
       "      <th>population_candidates</th>\n",
       "    </tr>\n",
       "  </thead>\n",
       "  <tbody>\n",
       "    <tr>\n",
       "      <th>28</th>\n",
       "      <td>Bogotá D.C.</td>\n",
       "      <td>57882</td>\n",
       "    </tr>\n",
       "    <tr>\n",
       "      <th>175</th>\n",
       "      <td>Medellín</td>\n",
       "      <td>14649</td>\n",
       "    </tr>\n",
       "    <tr>\n",
       "      <th>45</th>\n",
       "      <td>Cali</td>\n",
       "      <td>9844</td>\n",
       "    </tr>\n",
       "    <tr>\n",
       "      <th>24</th>\n",
       "      <td>Barranquilla</td>\n",
       "      <td>5569</td>\n",
       "    </tr>\n",
       "    <tr>\n",
       "      <th>282</th>\n",
       "      <td>Soacha</td>\n",
       "      <td>2611</td>\n",
       "    </tr>\n",
       "    <tr>\n",
       "      <th>32</th>\n",
       "      <td>Bucaramanga</td>\n",
       "      <td>2574</td>\n",
       "    </tr>\n",
       "    <tr>\n",
       "      <th>49</th>\n",
       "      <td>Cartagena de Indias</td>\n",
       "      <td>1899</td>\n",
       "    </tr>\n",
       "    <tr>\n",
       "      <th>26</th>\n",
       "      <td>Bello</td>\n",
       "      <td>1764</td>\n",
       "    </tr>\n",
       "    <tr>\n",
       "      <th>204</th>\n",
       "      <td>Pereira</td>\n",
       "      <td>1201</td>\n",
       "    </tr>\n",
       "    <tr>\n",
       "      <th>142</th>\n",
       "      <td>Ibagué</td>\n",
       "      <td>1032</td>\n",
       "    </tr>\n",
       "  </tbody>\n",
       "</table>\n",
       "</div>"
      ],
      "text/plain": [
       "                location  population_candidates\n",
       "28           Bogotá D.C.                  57882\n",
       "175             Medellín                  14649\n",
       "45                  Cali                   9844\n",
       "24          Barranquilla                   5569\n",
       "282               Soacha                   2611\n",
       "32           Bucaramanga                   2574\n",
       "49   Cartagena de Indias                   1899\n",
       "26                 Bello                   1764\n",
       "204              Pereira                   1201\n",
       "142               Ibagué                   1032"
      ]
     },
     "execution_count": 27,
     "metadata": {},
     "output_type": "execute_result"
    }
   ],
   "source": [
    "top10_cities_grouped_df = candidate_df.groupby('location').agg(population_candidates = ('id', 'count')).reset_index()\n",
    "top10_cities_grouped_df.sort_values('population_candidates', ascending=False, inplace=True)\n",
    "top10_cities_grouped_df = top10_cities_grouped_df.head(10)\n",
    "\n",
    "print(f'{len(top10_cities_grouped_df):,} registros a las {datetime.now().strftime(\"%m/%d/%Y, %H:%M:%S\")}')\n",
    "top10_cities_grouped_df.head(10)"
   ]
  },
  {
   "cell_type": "markdown",
   "metadata": {},
   "source": [
    "Nos quedamos con los candidatos de las 10 ciudades mas pobladas"
   ]
  },
  {
   "cell_type": "code",
   "execution_count": 28,
   "metadata": {},
   "outputs": [
    {
     "name": "stdout",
     "output_type": "stream",
     "text": [
      "99,025 registros a las 08/04/2020, 00:18:05\n"
     ]
    },
    {
     "data": {
      "text/html": [
       "<div>\n",
       "<style scoped>\n",
       "    .dataframe tbody tr th:only-of-type {\n",
       "        vertical-align: middle;\n",
       "    }\n",
       "\n",
       "    .dataframe tbody tr th {\n",
       "        vertical-align: top;\n",
       "    }\n",
       "\n",
       "    .dataframe thead th {\n",
       "        text-align: right;\n",
       "    }\n",
       "</style>\n",
       "<table border=\"1\" class=\"dataframe\">\n",
       "  <thead>\n",
       "    <tr style=\"text-align: right;\">\n",
       "      <th></th>\n",
       "      <th>id</th>\n",
       "      <th>location</th>\n",
       "      <th>birthdate</th>\n",
       "      <th>gender</th>\n",
       "      <th>salary_range (M)</th>\n",
       "      <th>transport</th>\n",
       "      <th>created_on</th>\n",
       "    </tr>\n",
       "  </thead>\n",
       "  <tbody>\n",
       "    <tr>\n",
       "      <th>100240</th>\n",
       "      <td>2</td>\n",
       "      <td>Bogotá D.C.</td>\n",
       "      <td>1992-11-06</td>\n",
       "      <td>Femenino</td>\n",
       "      <td>1,5 a 2</td>\n",
       "      <td>Ninguno</td>\n",
       "      <td>2016-01-19 18:46:16</td>\n",
       "    </tr>\n",
       "    <tr>\n",
       "      <th>64119</th>\n",
       "      <td>51</td>\n",
       "      <td>Bogotá D.C.</td>\n",
       "      <td>1982-06-30</td>\n",
       "      <td>Masculino</td>\n",
       "      <td>3,5 a 4</td>\n",
       "      <td>Ninguno</td>\n",
       "      <td>2016-01-19 18:46:16</td>\n",
       "    </tr>\n",
       "    <tr>\n",
       "      <th>28353</th>\n",
       "      <td>53</td>\n",
       "      <td>Pereira</td>\n",
       "      <td>1989-09-14</td>\n",
       "      <td>Masculino</td>\n",
       "      <td>1 a 1,5</td>\n",
       "      <td>Ninguno</td>\n",
       "      <td>2016-01-19 18:46:16</td>\n",
       "    </tr>\n",
       "    <tr>\n",
       "      <th>81625</th>\n",
       "      <td>54</td>\n",
       "      <td>Medellín</td>\n",
       "      <td>1978-03-16</td>\n",
       "      <td>Masculino</td>\n",
       "      <td>3,5 a 4</td>\n",
       "      <td>Carro</td>\n",
       "      <td>2016-01-19 18:46:16</td>\n",
       "    </tr>\n",
       "    <tr>\n",
       "      <th>14865</th>\n",
       "      <td>57</td>\n",
       "      <td>Soacha</td>\n",
       "      <td>1970-10-22</td>\n",
       "      <td>Masculino</td>\n",
       "      <td>1 a 1,5</td>\n",
       "      <td>Ninguno</td>\n",
       "      <td>2016-01-19 18:52:00</td>\n",
       "    </tr>\n",
       "  </tbody>\n",
       "</table>\n",
       "</div>"
      ],
      "text/plain": [
       "        id     location  birthdate     gender salary_range (M) transport  \\\n",
       "100240   2  Bogotá D.C. 1992-11-06   Femenino          1,5 a 2   Ninguno   \n",
       "64119   51  Bogotá D.C. 1982-06-30  Masculino          3,5 a 4   Ninguno   \n",
       "28353   53      Pereira 1989-09-14  Masculino          1 a 1,5   Ninguno   \n",
       "81625   54     Medellín 1978-03-16  Masculino          3,5 a 4     Carro   \n",
       "14865   57       Soacha 1970-10-22  Masculino          1 a 1,5   Ninguno   \n",
       "\n",
       "                created_on  \n",
       "100240 2016-01-19 18:46:16  \n",
       "64119  2016-01-19 18:46:16  \n",
       "28353  2016-01-19 18:46:16  \n",
       "81625  2016-01-19 18:46:16  \n",
       "14865  2016-01-19 18:52:00  "
      ]
     },
     "execution_count": 28,
     "metadata": {},
     "output_type": "execute_result"
    }
   ],
   "source": [
    "top10_populaties_cities = top10_cities_grouped_df['location'].values\n",
    "top10_cities_cantidates_df = candidate_df[candidate_df['location'].isin(top10_populaties_cities)]\n",
    "\n",
    "print(f'{len(top10_cities_cantidates_df):,} registros a las {datetime.now().strftime(\"%m/%d/%Y, %H:%M:%S\")}')\n",
    "top10_cities_cantidates_df.head()"
   ]
  },
  {
   "cell_type": "code",
   "execution_count": 29,
   "metadata": {},
   "outputs": [
    {
     "data": {
      "text/plain": [
       "id                  0\n",
       "location            0\n",
       "birthdate           0\n",
       "gender              0\n",
       "salary_range (M)    0\n",
       "transport           0\n",
       "created_on          0\n",
       "dtype: int64"
      ]
     },
     "execution_count": 29,
     "metadata": {},
     "output_type": "execute_result"
    }
   ],
   "source": [
    "top10_cities_cantidates_df.isna().sum()"
   ]
  },
  {
   "cell_type": "markdown",
   "metadata": {},
   "source": [
    "Podemos observar, que solo considerando las ciudades mas pobladas, se puede decir concentran la mayor proporcion de candidatos (**mas del 80%**). Especificamente:"
   ]
  },
  {
   "cell_type": "code",
   "execution_count": 30,
   "metadata": {
    "scrolled": true
   },
   "outputs": [
    {
     "data": {
      "text/plain": [
       "85.53"
      ]
     },
     "execution_count": 30,
     "metadata": {},
     "output_type": "execute_result"
    }
   ],
   "source": [
    "total_candidates = len(candidate_df)\n",
    "total_candidates_top10_cities = len(top10_cities_cantidates_df)\n",
    "concentration_ratio = round(total_candidates_top10_cities/total_candidates*100, 2)\n",
    "concentration_ratio"
   ]
  },
  {
   "cell_type": "markdown",
   "metadata": {},
   "source": [
    "Ahora, obtenemos las ofertas laborales de los candidatos que residen en el top 10 de las ciudades mas pobladas"
   ]
  },
  {
   "cell_type": "code",
   "execution_count": 31,
   "metadata": {
    "scrolled": true
   },
   "outputs": [
    {
     "name": "stdout",
     "output_type": "stream",
     "text": [
      "219,251 registros a las 08/04/2020, 00:18:05\n"
     ]
    },
    {
     "data": {
      "text/html": [
       "<div>\n",
       "<style scoped>\n",
       "    .dataframe tbody tr th:only-of-type {\n",
       "        vertical-align: middle;\n",
       "    }\n",
       "\n",
       "    .dataframe tbody tr th {\n",
       "        vertical-align: top;\n",
       "    }\n",
       "\n",
       "    .dataframe thead th {\n",
       "        text-align: right;\n",
       "    }\n",
       "</style>\n",
       "<table border=\"1\" class=\"dataframe\">\n",
       "  <thead>\n",
       "    <tr style=\"text-align: right;\">\n",
       "      <th></th>\n",
       "      <th>job_listing_id</th>\n",
       "      <th>candidate_id</th>\n",
       "      <th>date_recommanded</th>\n",
       "      <th>date_accepted</th>\n",
       "      <th>date_read</th>\n",
       "      <th>date_liked</th>\n",
       "      <th>date_disliked</th>\n",
       "      <th>id</th>\n",
       "      <th>location</th>\n",
       "      <th>birthdate</th>\n",
       "      <th>gender</th>\n",
       "      <th>salary_range (M)</th>\n",
       "      <th>transport</th>\n",
       "      <th>created_on</th>\n",
       "    </tr>\n",
       "  </thead>\n",
       "  <tbody>\n",
       "    <tr>\n",
       "      <th>0</th>\n",
       "      <td>7655</td>\n",
       "      <td>44197</td>\n",
       "      <td>2018-03-26 20:32:25</td>\n",
       "      <td>NaT</td>\n",
       "      <td>NaT</td>\n",
       "      <td>NaT</td>\n",
       "      <td>NaT</td>\n",
       "      <td>44197.0</td>\n",
       "      <td>Medellín</td>\n",
       "      <td>1996-07-31</td>\n",
       "      <td>Masculino</td>\n",
       "      <td>&lt; 1</td>\n",
       "      <td>Ninguno</td>\n",
       "      <td>2016-04-28 23:13:04</td>\n",
       "    </tr>\n",
       "    <tr>\n",
       "      <th>1</th>\n",
       "      <td>7655</td>\n",
       "      <td>63099</td>\n",
       "      <td>2018-03-26 20:32:31</td>\n",
       "      <td>NaT</td>\n",
       "      <td>NaT</td>\n",
       "      <td>NaT</td>\n",
       "      <td>NaT</td>\n",
       "      <td>63099.0</td>\n",
       "      <td>Medellín</td>\n",
       "      <td>1998-01-10</td>\n",
       "      <td>Femenino</td>\n",
       "      <td>1 a 1,5</td>\n",
       "      <td>Ninguno</td>\n",
       "      <td>2016-05-12 03:32:22</td>\n",
       "    </tr>\n",
       "    <tr>\n",
       "      <th>2</th>\n",
       "      <td>7655</td>\n",
       "      <td>146327</td>\n",
       "      <td>2018-03-26 20:32:21</td>\n",
       "      <td>NaT</td>\n",
       "      <td>NaT</td>\n",
       "      <td>NaT</td>\n",
       "      <td>NaT</td>\n",
       "      <td>146327.0</td>\n",
       "      <td>Medellín</td>\n",
       "      <td>1977-08-03</td>\n",
       "      <td>Masculino</td>\n",
       "      <td>1,5 a 2</td>\n",
       "      <td>Ninguno</td>\n",
       "      <td>2016-07-07 19:57:47</td>\n",
       "    </tr>\n",
       "    <tr>\n",
       "      <th>3</th>\n",
       "      <td>7655</td>\n",
       "      <td>155751</td>\n",
       "      <td>2018-03-26 20:32:10</td>\n",
       "      <td>NaT</td>\n",
       "      <td>NaT</td>\n",
       "      <td>NaT</td>\n",
       "      <td>NaT</td>\n",
       "      <td>155751.0</td>\n",
       "      <td>Medellín</td>\n",
       "      <td>1987-06-09</td>\n",
       "      <td>Masculino</td>\n",
       "      <td>2 a 2,5</td>\n",
       "      <td>Moto</td>\n",
       "      <td>2016-07-13 19:12:39</td>\n",
       "    </tr>\n",
       "    <tr>\n",
       "      <th>4</th>\n",
       "      <td>7655</td>\n",
       "      <td>170411</td>\n",
       "      <td>2018-03-26 20:32:13</td>\n",
       "      <td>NaT</td>\n",
       "      <td>NaT</td>\n",
       "      <td>NaT</td>\n",
       "      <td>NaT</td>\n",
       "      <td>170411.0</td>\n",
       "      <td>Medellín</td>\n",
       "      <td>1974-06-26</td>\n",
       "      <td>Femenino</td>\n",
       "      <td>2 a 2,5</td>\n",
       "      <td>Carro</td>\n",
       "      <td>2016-08-03 20:48:54</td>\n",
       "    </tr>\n",
       "  </tbody>\n",
       "</table>\n",
       "</div>"
      ],
      "text/plain": [
       "   job_listing_id  candidate_id    date_recommanded date_accepted date_read  \\\n",
       "0            7655         44197 2018-03-26 20:32:25           NaT       NaT   \n",
       "1            7655         63099 2018-03-26 20:32:31           NaT       NaT   \n",
       "2            7655        146327 2018-03-26 20:32:21           NaT       NaT   \n",
       "3            7655        155751 2018-03-26 20:32:10           NaT       NaT   \n",
       "4            7655        170411 2018-03-26 20:32:13           NaT       NaT   \n",
       "\n",
       "  date_liked date_disliked        id  location  birthdate     gender  \\\n",
       "0        NaT           NaT   44197.0  Medellín 1996-07-31  Masculino   \n",
       "1        NaT           NaT   63099.0  Medellín 1998-01-10   Femenino   \n",
       "2        NaT           NaT  146327.0  Medellín 1977-08-03  Masculino   \n",
       "3        NaT           NaT  155751.0  Medellín 1987-06-09  Masculino   \n",
       "4        NaT           NaT  170411.0  Medellín 1974-06-26   Femenino   \n",
       "\n",
       "  salary_range (M) transport          created_on  \n",
       "0              < 1   Ninguno 2016-04-28 23:13:04  \n",
       "1          1 a 1,5   Ninguno 2016-05-12 03:32:22  \n",
       "2          1,5 a 2   Ninguno 2016-07-07 19:57:47  \n",
       "3          2 a 2,5      Moto 2016-07-13 19:12:39  \n",
       "4          2 a 2,5     Carro 2016-08-03 20:48:54  "
      ]
     },
     "execution_count": 31,
     "metadata": {},
     "output_type": "execute_result"
    }
   ],
   "source": [
    "application_top10_cities_df = candidate_application_df.merge(\n",
    "    top10_cities_cantidates_df, \n",
    "    right_on='id',\n",
    "    left_on='candidate_id',\n",
    "    how='left'\n",
    ")\n",
    "\n",
    "application_top10_cities_df.dropna(subset=['birthdate'], inplace=True)\n",
    "\n",
    "print(f'{len(application_top10_cities_df):,} registros a las {datetime.now().strftime(\"%m/%d/%Y, %H:%M:%S\")}')\n",
    "application_top10_cities_df.head()"
   ]
  },
  {
   "cell_type": "code",
   "execution_count": 32,
   "metadata": {},
   "outputs": [
    {
     "data": {
      "text/plain": [
       "job_listing_id           0\n",
       "candidate_id             0\n",
       "date_recommanded         0\n",
       "date_accepted       204118\n",
       "date_read           206002\n",
       "date_liked          214198\n",
       "date_disliked       213641\n",
       "id                       0\n",
       "location                 0\n",
       "birthdate                0\n",
       "gender                   0\n",
       "salary_range (M)         0\n",
       "transport                0\n",
       "created_on               0\n",
       "dtype: int64"
      ]
     },
     "execution_count": 32,
     "metadata": {},
     "output_type": "execute_result"
    }
   ],
   "source": [
    "application_top10_cities_df.isna().sum()"
   ]
  },
  {
   "cell_type": "markdown",
   "metadata": {},
   "source": [
    "Iniciamos las agrupaciones y calculo de ratios por segmento"
   ]
  },
  {
   "cell_type": "code",
   "execution_count": 33,
   "metadata": {},
   "outputs": [],
   "source": [
    "accepted_ratio_fn = lambda series: round(series.dropna().count()/len(series)*100,2)"
   ]
  },
  {
   "cell_type": "markdown",
   "metadata": {},
   "source": [
    "**Gender**"
   ]
  },
  {
   "cell_type": "code",
   "execution_count": 34,
   "metadata": {},
   "outputs": [
    {
     "name": "stdout",
     "output_type": "stream",
     "text": [
      "3 registros a las 08/04/2020, 00:18:06\n"
     ]
    },
    {
     "data": {
      "text/html": [
       "<div>\n",
       "<style scoped>\n",
       "    .dataframe tbody tr th:only-of-type {\n",
       "        vertical-align: middle;\n",
       "    }\n",
       "\n",
       "    .dataframe tbody tr th {\n",
       "        vertical-align: top;\n",
       "    }\n",
       "\n",
       "    .dataframe thead th {\n",
       "        text-align: right;\n",
       "    }\n",
       "</style>\n",
       "<table border=\"1\" class=\"dataframe\">\n",
       "  <thead>\n",
       "    <tr style=\"text-align: right;\">\n",
       "      <th></th>\n",
       "      <th>gender</th>\n",
       "      <th>applications</th>\n",
       "      <th>accepted_application_percentage</th>\n",
       "    </tr>\n",
       "  </thead>\n",
       "  <tbody>\n",
       "    <tr>\n",
       "      <th>0</th>\n",
       "      <td>Femenino</td>\n",
       "      <td>134038</td>\n",
       "      <td>6.50</td>\n",
       "    </tr>\n",
       "    <tr>\n",
       "      <th>1</th>\n",
       "      <td>Masculino</td>\n",
       "      <td>85072</td>\n",
       "      <td>7.54</td>\n",
       "    </tr>\n",
       "    <tr>\n",
       "      <th>2</th>\n",
       "      <td>N/A</td>\n",
       "      <td>141</td>\n",
       "      <td>1.42</td>\n",
       "    </tr>\n",
       "  </tbody>\n",
       "</table>\n",
       "</div>"
      ],
      "text/plain": [
       "      gender  applications  accepted_application_percentage\n",
       "0   Femenino        134038                             6.50\n",
       "1  Masculino         85072                             7.54\n",
       "2        N/A           141                             1.42"
      ]
     },
     "execution_count": 34,
     "metadata": {},
     "output_type": "execute_result"
    }
   ],
   "source": [
    "grouped_gender_df = application_top10_cities_df.groupby('gender').agg(\n",
    "    applications = ('id', 'count'),\n",
    "    accepted_application_percentage = ('date_accepted', accepted_ratio_fn)\n",
    ").reset_index()\n",
    "\n",
    "grouped_gender_df.sort_values('applications', ascending=False, inplace=True)\n",
    "\n",
    "print(f'{len(grouped_gender_df):,} registros a las {datetime.now().strftime(\"%m/%d/%Y, %H:%M:%S\")}')\n",
    "grouped_gender_df.head()"
   ]
  },
  {
   "cell_type": "markdown",
   "metadata": {},
   "source": [
    "*Conclusiones aca Nena*"
   ]
  },
  {
   "cell_type": "markdown",
   "metadata": {},
   "source": [
    "**Salary range**"
   ]
  },
  {
   "cell_type": "code",
   "execution_count": 35,
   "metadata": {},
   "outputs": [
    {
     "name": "stdout",
     "output_type": "stream",
     "text": [
      "13 registros a las 08/04/2020, 00:18:06\n"
     ]
    },
    {
     "data": {
      "text/html": [
       "<div>\n",
       "<style scoped>\n",
       "    .dataframe tbody tr th:only-of-type {\n",
       "        vertical-align: middle;\n",
       "    }\n",
       "\n",
       "    .dataframe tbody tr th {\n",
       "        vertical-align: top;\n",
       "    }\n",
       "\n",
       "    .dataframe thead th {\n",
       "        text-align: right;\n",
       "    }\n",
       "</style>\n",
       "<table border=\"1\" class=\"dataframe\">\n",
       "  <thead>\n",
       "    <tr style=\"text-align: right;\">\n",
       "      <th></th>\n",
       "      <th>salary_range (M)</th>\n",
       "      <th>applications</th>\n",
       "      <th>accepted_application_percentage</th>\n",
       "    </tr>\n",
       "  </thead>\n",
       "  <tbody>\n",
       "    <tr>\n",
       "      <th>11</th>\n",
       "      <td>&lt; 1</td>\n",
       "      <td>80895</td>\n",
       "      <td>6.81</td>\n",
       "    </tr>\n",
       "    <tr>\n",
       "      <th>0</th>\n",
       "      <td>1 a 1,5</td>\n",
       "      <td>62041</td>\n",
       "      <td>6.61</td>\n",
       "    </tr>\n",
       "    <tr>\n",
       "      <th>1</th>\n",
       "      <td>1,5 a 2</td>\n",
       "      <td>27629</td>\n",
       "      <td>8.09</td>\n",
       "    </tr>\n",
       "    <tr>\n",
       "      <th>3</th>\n",
       "      <td>2 a 2,5</td>\n",
       "      <td>15342</td>\n",
       "      <td>7.06</td>\n",
       "    </tr>\n",
       "    <tr>\n",
       "      <th>4</th>\n",
       "      <td>2,5 a 3</td>\n",
       "      <td>10241</td>\n",
       "      <td>7.48</td>\n",
       "    </tr>\n",
       "    <tr>\n",
       "      <th>5</th>\n",
       "      <td>3 a 3,5</td>\n",
       "      <td>7707</td>\n",
       "      <td>6.58</td>\n",
       "    </tr>\n",
       "    <tr>\n",
       "      <th>7</th>\n",
       "      <td>4 a 5</td>\n",
       "      <td>5656</td>\n",
       "      <td>6.29</td>\n",
       "    </tr>\n",
       "    <tr>\n",
       "      <th>6</th>\n",
       "      <td>3,5 a 4</td>\n",
       "      <td>4024</td>\n",
       "      <td>7.36</td>\n",
       "    </tr>\n",
       "    <tr>\n",
       "      <th>8</th>\n",
       "      <td>5 a 6</td>\n",
       "      <td>2525</td>\n",
       "      <td>5.98</td>\n",
       "    </tr>\n",
       "    <tr>\n",
       "      <th>9</th>\n",
       "      <td>6 a 8</td>\n",
       "      <td>2099</td>\n",
       "      <td>4.43</td>\n",
       "    </tr>\n",
       "    <tr>\n",
       "      <th>10</th>\n",
       "      <td>8 a 10</td>\n",
       "      <td>947</td>\n",
       "      <td>3.06</td>\n",
       "    </tr>\n",
       "    <tr>\n",
       "      <th>2</th>\n",
       "      <td>10+</td>\n",
       "      <td>123</td>\n",
       "      <td>4.88</td>\n",
       "    </tr>\n",
       "    <tr>\n",
       "      <th>12</th>\n",
       "      <td>N/A</td>\n",
       "      <td>22</td>\n",
       "      <td>4.55</td>\n",
       "    </tr>\n",
       "  </tbody>\n",
       "</table>\n",
       "</div>"
      ],
      "text/plain": [
       "   salary_range (M)  applications  accepted_application_percentage\n",
       "11              < 1         80895                             6.81\n",
       "0           1 a 1,5         62041                             6.61\n",
       "1           1,5 a 2         27629                             8.09\n",
       "3           2 a 2,5         15342                             7.06\n",
       "4           2,5 a 3         10241                             7.48\n",
       "5           3 a 3,5          7707                             6.58\n",
       "7             4 a 5          5656                             6.29\n",
       "6           3,5 a 4          4024                             7.36\n",
       "8             5 a 6          2525                             5.98\n",
       "9             6 a 8          2099                             4.43\n",
       "10           8 a 10           947                             3.06\n",
       "2               10+           123                             4.88\n",
       "12              N/A            22                             4.55"
      ]
     },
     "execution_count": 35,
     "metadata": {},
     "output_type": "execute_result"
    }
   ],
   "source": [
    "grouped_salary_range_df = application_top10_cities_df.groupby('salary_range (M)').agg(\n",
    "    applications = ('id', 'count'),\n",
    "    accepted_application_percentage = ('date_accepted', accepted_ratio_fn)\n",
    ").reset_index()\n",
    "\n",
    "grouped_salary_range_df.sort_values('applications', ascending=False, inplace=True)\n",
    "\n",
    "print(f'{len(grouped_salary_range_df):,} registros a las {datetime.now().strftime(\"%m/%d/%Y, %H:%M:%S\")}')\n",
    "grouped_salary_range_df.head(20)"
   ]
  },
  {
   "cell_type": "markdown",
   "metadata": {},
   "source": [
    "*Conclusiones aca Nena*"
   ]
  },
  {
   "cell_type": "markdown",
   "metadata": {},
   "source": [
    "**Location**"
   ]
  },
  {
   "cell_type": "code",
   "execution_count": 36,
   "metadata": {},
   "outputs": [
    {
     "name": "stdout",
     "output_type": "stream",
     "text": [
      "10 registros a las 08/04/2020, 00:18:06\n"
     ]
    },
    {
     "data": {
      "text/html": [
       "<div>\n",
       "<style scoped>\n",
       "    .dataframe tbody tr th:only-of-type {\n",
       "        vertical-align: middle;\n",
       "    }\n",
       "\n",
       "    .dataframe tbody tr th {\n",
       "        vertical-align: top;\n",
       "    }\n",
       "\n",
       "    .dataframe thead th {\n",
       "        text-align: right;\n",
       "    }\n",
       "</style>\n",
       "<table border=\"1\" class=\"dataframe\">\n",
       "  <thead>\n",
       "    <tr style=\"text-align: right;\">\n",
       "      <th></th>\n",
       "      <th>location</th>\n",
       "      <th>applications</th>\n",
       "      <th>accepted_application_percentage</th>\n",
       "    </tr>\n",
       "  </thead>\n",
       "  <tbody>\n",
       "    <tr>\n",
       "      <th>2</th>\n",
       "      <td>Bogotá D.C.</td>\n",
       "      <td>142282</td>\n",
       "      <td>6.30</td>\n",
       "    </tr>\n",
       "    <tr>\n",
       "      <th>7</th>\n",
       "      <td>Medellín</td>\n",
       "      <td>30872</td>\n",
       "      <td>7.43</td>\n",
       "    </tr>\n",
       "    <tr>\n",
       "      <th>4</th>\n",
       "      <td>Cali</td>\n",
       "      <td>18290</td>\n",
       "      <td>7.89</td>\n",
       "    </tr>\n",
       "    <tr>\n",
       "      <th>0</th>\n",
       "      <td>Barranquilla</td>\n",
       "      <td>8419</td>\n",
       "      <td>9.54</td>\n",
       "    </tr>\n",
       "    <tr>\n",
       "      <th>9</th>\n",
       "      <td>Soacha</td>\n",
       "      <td>6116</td>\n",
       "      <td>6.21</td>\n",
       "    </tr>\n",
       "    <tr>\n",
       "      <th>3</th>\n",
       "      <td>Bucaramanga</td>\n",
       "      <td>3887</td>\n",
       "      <td>8.34</td>\n",
       "    </tr>\n",
       "    <tr>\n",
       "      <th>1</th>\n",
       "      <td>Bello</td>\n",
       "      <td>3662</td>\n",
       "      <td>7.73</td>\n",
       "    </tr>\n",
       "    <tr>\n",
       "      <th>5</th>\n",
       "      <td>Cartagena de Indias</td>\n",
       "      <td>2531</td>\n",
       "      <td>12.88</td>\n",
       "    </tr>\n",
       "    <tr>\n",
       "      <th>8</th>\n",
       "      <td>Pereira</td>\n",
       "      <td>1773</td>\n",
       "      <td>8.40</td>\n",
       "    </tr>\n",
       "    <tr>\n",
       "      <th>6</th>\n",
       "      <td>Ibagué</td>\n",
       "      <td>1419</td>\n",
       "      <td>12.05</td>\n",
       "    </tr>\n",
       "  </tbody>\n",
       "</table>\n",
       "</div>"
      ],
      "text/plain": [
       "              location  applications  accepted_application_percentage\n",
       "2          Bogotá D.C.        142282                             6.30\n",
       "7             Medellín         30872                             7.43\n",
       "4                 Cali         18290                             7.89\n",
       "0         Barranquilla          8419                             9.54\n",
       "9               Soacha          6116                             6.21\n",
       "3          Bucaramanga          3887                             8.34\n",
       "1                Bello          3662                             7.73\n",
       "5  Cartagena de Indias          2531                            12.88\n",
       "8              Pereira          1773                             8.40\n",
       "6               Ibagué          1419                            12.05"
      ]
     },
     "execution_count": 36,
     "metadata": {},
     "output_type": "execute_result"
    }
   ],
   "source": [
    "grouped_location_df = application_top10_cities_df.groupby('location').agg(\n",
    "    applications = ('id', 'count'),\n",
    "    accepted_application_percentage = ('date_accepted', accepted_ratio_fn)\n",
    ").reset_index()\n",
    "\n",
    "grouped_location_df.sort_values('applications', ascending=False, inplace=True)\n",
    "\n",
    "print(f'{len(grouped_location_df):,} registros a las {datetime.now().strftime(\"%m/%d/%Y, %H:%M:%S\")}')\n",
    "grouped_location_df.head(10)"
   ]
  },
  {
   "cell_type": "markdown",
   "metadata": {},
   "source": [
    "*Conclusiones aca Nena*"
   ]
  },
  {
   "cell_type": "code",
   "execution_count": 37,
   "metadata": {},
   "outputs": [
    {
     "name": "stdout",
     "output_type": "stream",
     "text": [
      "10 registros a las 08/04/2020, 00:18:06\n"
     ]
    },
    {
     "data": {
      "text/html": [
       "<div>\n",
       "<style scoped>\n",
       "    .dataframe tbody tr th:only-of-type {\n",
       "        vertical-align: middle;\n",
       "    }\n",
       "\n",
       "    .dataframe tbody tr th {\n",
       "        vertical-align: top;\n",
       "    }\n",
       "\n",
       "    .dataframe thead th {\n",
       "        text-align: right;\n",
       "    }\n",
       "</style>\n",
       "<table border=\"1\" class=\"dataframe\">\n",
       "  <thead>\n",
       "    <tr style=\"text-align: right;\">\n",
       "      <th></th>\n",
       "      <th>location</th>\n",
       "      <th>applications</th>\n",
       "      <th>accepted_application_percentage</th>\n",
       "    </tr>\n",
       "  </thead>\n",
       "  <tbody>\n",
       "    <tr>\n",
       "      <th>2</th>\n",
       "      <td>Bogotá D.C.</td>\n",
       "      <td>142282</td>\n",
       "      <td>6.30</td>\n",
       "    </tr>\n",
       "    <tr>\n",
       "      <th>7</th>\n",
       "      <td>Medellín</td>\n",
       "      <td>30872</td>\n",
       "      <td>7.43</td>\n",
       "    </tr>\n",
       "    <tr>\n",
       "      <th>4</th>\n",
       "      <td>Cali</td>\n",
       "      <td>18290</td>\n",
       "      <td>7.89</td>\n",
       "    </tr>\n",
       "    <tr>\n",
       "      <th>0</th>\n",
       "      <td>Barranquilla</td>\n",
       "      <td>8419</td>\n",
       "      <td>9.54</td>\n",
       "    </tr>\n",
       "    <tr>\n",
       "      <th>9</th>\n",
       "      <td>Soacha</td>\n",
       "      <td>6116</td>\n",
       "      <td>6.21</td>\n",
       "    </tr>\n",
       "    <tr>\n",
       "      <th>3</th>\n",
       "      <td>Bucaramanga</td>\n",
       "      <td>3887</td>\n",
       "      <td>8.34</td>\n",
       "    </tr>\n",
       "    <tr>\n",
       "      <th>1</th>\n",
       "      <td>Bello</td>\n",
       "      <td>3662</td>\n",
       "      <td>7.73</td>\n",
       "    </tr>\n",
       "    <tr>\n",
       "      <th>5</th>\n",
       "      <td>Cartagena de Indias</td>\n",
       "      <td>2531</td>\n",
       "      <td>12.88</td>\n",
       "    </tr>\n",
       "    <tr>\n",
       "      <th>8</th>\n",
       "      <td>Pereira</td>\n",
       "      <td>1773</td>\n",
       "      <td>8.40</td>\n",
       "    </tr>\n",
       "    <tr>\n",
       "      <th>6</th>\n",
       "      <td>Ibagué</td>\n",
       "      <td>1419</td>\n",
       "      <td>12.05</td>\n",
       "    </tr>\n",
       "  </tbody>\n",
       "</table>\n",
       "</div>"
      ],
      "text/plain": [
       "              location  applications  accepted_application_percentage\n",
       "2          Bogotá D.C.        142282                             6.30\n",
       "7             Medellín         30872                             7.43\n",
       "4                 Cali         18290                             7.89\n",
       "0         Barranquilla          8419                             9.54\n",
       "9               Soacha          6116                             6.21\n",
       "3          Bucaramanga          3887                             8.34\n",
       "1                Bello          3662                             7.73\n",
       "5  Cartagena de Indias          2531                            12.88\n",
       "8              Pereira          1773                             8.40\n",
       "6               Ibagué          1419                            12.05"
      ]
     },
     "execution_count": 37,
     "metadata": {},
     "output_type": "execute_result"
    }
   ],
   "source": [
    "grouped_location_df = application_top10_cities_df.groupby('location').agg(\n",
    "    applications = ('id', 'count'),\n",
    "    accepted_application_percentage = ('date_accepted', accepted_ratio_fn)\n",
    ").reset_index()\n",
    "\n",
    "grouped_location_df.sort_values('applications', ascending=False, inplace=True)\n",
    "\n",
    "print(f'{len(grouped_location_df):,} registros a las {datetime.now().strftime(\"%m/%d/%Y, %H:%M:%S\")}')\n",
    "grouped_location_df.head(10)"
   ]
  },
  {
   "cell_type": "markdown",
   "metadata": {},
   "source": [
    "**Age**"
   ]
  },
  {
   "cell_type": "code",
   "execution_count": 38,
   "metadata": {},
   "outputs": [],
   "source": [
    "application_top10_cities_df['Age'] = datetime.today() - application_top10_cities_df['birthdate']\n",
    "application_top10_cities_df['Age'] = application_top10_cities_df['Age'].apply(lambda age: int(age.days/365))"
   ]
  },
  {
   "cell_type": "code",
   "execution_count": 39,
   "metadata": {},
   "outputs": [
    {
     "name": "stdout",
     "output_type": "stream",
     "text": [
      "69 registros a las 08/04/2020, 00:18:09\n"
     ]
    },
    {
     "data": {
      "text/html": [
       "<div>\n",
       "<style scoped>\n",
       "    .dataframe tbody tr th:only-of-type {\n",
       "        vertical-align: middle;\n",
       "    }\n",
       "\n",
       "    .dataframe tbody tr th {\n",
       "        vertical-align: top;\n",
       "    }\n",
       "\n",
       "    .dataframe thead th {\n",
       "        text-align: right;\n",
       "    }\n",
       "</style>\n",
       "<table border=\"1\" class=\"dataframe\">\n",
       "  <thead>\n",
       "    <tr style=\"text-align: right;\">\n",
       "      <th></th>\n",
       "      <th>Age</th>\n",
       "      <th>applications</th>\n",
       "      <th>accepted_application_percentage</th>\n",
       "    </tr>\n",
       "  </thead>\n",
       "  <tbody>\n",
       "    <tr>\n",
       "      <th>0</th>\n",
       "      <td>1</td>\n",
       "      <td>243</td>\n",
       "      <td>10.29</td>\n",
       "    </tr>\n",
       "    <tr>\n",
       "      <th>1</th>\n",
       "      <td>2</td>\n",
       "      <td>793</td>\n",
       "      <td>5.42</td>\n",
       "    </tr>\n",
       "    <tr>\n",
       "      <th>2</th>\n",
       "      <td>3</td>\n",
       "      <td>707</td>\n",
       "      <td>3.11</td>\n",
       "    </tr>\n",
       "    <tr>\n",
       "      <th>3</th>\n",
       "      <td>4</td>\n",
       "      <td>186</td>\n",
       "      <td>0.54</td>\n",
       "    </tr>\n",
       "    <tr>\n",
       "      <th>4</th>\n",
       "      <td>5</td>\n",
       "      <td>4</td>\n",
       "      <td>0.00</td>\n",
       "    </tr>\n",
       "    <tr>\n",
       "      <th>5</th>\n",
       "      <td>6</td>\n",
       "      <td>23</td>\n",
       "      <td>0.00</td>\n",
       "    </tr>\n",
       "    <tr>\n",
       "      <th>6</th>\n",
       "      <td>7</td>\n",
       "      <td>1</td>\n",
       "      <td>0.00</td>\n",
       "    </tr>\n",
       "    <tr>\n",
       "      <th>7</th>\n",
       "      <td>9</td>\n",
       "      <td>9</td>\n",
       "      <td>0.00</td>\n",
       "    </tr>\n",
       "    <tr>\n",
       "      <th>8</th>\n",
       "      <td>10</td>\n",
       "      <td>3</td>\n",
       "      <td>0.00</td>\n",
       "    </tr>\n",
       "    <tr>\n",
       "      <th>9</th>\n",
       "      <td>11</td>\n",
       "      <td>3</td>\n",
       "      <td>0.00</td>\n",
       "    </tr>\n",
       "    <tr>\n",
       "      <th>10</th>\n",
       "      <td>12</td>\n",
       "      <td>4</td>\n",
       "      <td>0.00</td>\n",
       "    </tr>\n",
       "    <tr>\n",
       "      <th>11</th>\n",
       "      <td>13</td>\n",
       "      <td>1</td>\n",
       "      <td>0.00</td>\n",
       "    </tr>\n",
       "    <tr>\n",
       "      <th>12</th>\n",
       "      <td>14</td>\n",
       "      <td>6</td>\n",
       "      <td>0.00</td>\n",
       "    </tr>\n",
       "    <tr>\n",
       "      <th>13</th>\n",
       "      <td>15</td>\n",
       "      <td>2</td>\n",
       "      <td>0.00</td>\n",
       "    </tr>\n",
       "    <tr>\n",
       "      <th>14</th>\n",
       "      <td>16</td>\n",
       "      <td>2</td>\n",
       "      <td>0.00</td>\n",
       "    </tr>\n",
       "    <tr>\n",
       "      <th>15</th>\n",
       "      <td>17</td>\n",
       "      <td>11</td>\n",
       "      <td>9.09</td>\n",
       "    </tr>\n",
       "    <tr>\n",
       "      <th>16</th>\n",
       "      <td>18</td>\n",
       "      <td>26</td>\n",
       "      <td>7.69</td>\n",
       "    </tr>\n",
       "    <tr>\n",
       "      <th>17</th>\n",
       "      <td>19</td>\n",
       "      <td>418</td>\n",
       "      <td>11.72</td>\n",
       "    </tr>\n",
       "    <tr>\n",
       "      <th>18</th>\n",
       "      <td>20</td>\n",
       "      <td>2850</td>\n",
       "      <td>8.60</td>\n",
       "    </tr>\n",
       "    <tr>\n",
       "      <th>19</th>\n",
       "      <td>21</td>\n",
       "      <td>6012</td>\n",
       "      <td>7.04</td>\n",
       "    </tr>\n",
       "    <tr>\n",
       "      <th>20</th>\n",
       "      <td>22</td>\n",
       "      <td>8949</td>\n",
       "      <td>6.36</td>\n",
       "    </tr>\n",
       "    <tr>\n",
       "      <th>21</th>\n",
       "      <td>23</td>\n",
       "      <td>10828</td>\n",
       "      <td>5.30</td>\n",
       "    </tr>\n",
       "    <tr>\n",
       "      <th>22</th>\n",
       "      <td>24</td>\n",
       "      <td>11817</td>\n",
       "      <td>5.28</td>\n",
       "    </tr>\n",
       "    <tr>\n",
       "      <th>23</th>\n",
       "      <td>25</td>\n",
       "      <td>12262</td>\n",
       "      <td>5.63</td>\n",
       "    </tr>\n",
       "    <tr>\n",
       "      <th>24</th>\n",
       "      <td>26</td>\n",
       "      <td>12025</td>\n",
       "      <td>5.96</td>\n",
       "    </tr>\n",
       "    <tr>\n",
       "      <th>25</th>\n",
       "      <td>27</td>\n",
       "      <td>11281</td>\n",
       "      <td>6.37</td>\n",
       "    </tr>\n",
       "    <tr>\n",
       "      <th>26</th>\n",
       "      <td>28</td>\n",
       "      <td>10849</td>\n",
       "      <td>5.47</td>\n",
       "    </tr>\n",
       "    <tr>\n",
       "      <th>27</th>\n",
       "      <td>29</td>\n",
       "      <td>11189</td>\n",
       "      <td>5.80</td>\n",
       "    </tr>\n",
       "    <tr>\n",
       "      <th>28</th>\n",
       "      <td>30</td>\n",
       "      <td>9795</td>\n",
       "      <td>5.89</td>\n",
       "    </tr>\n",
       "    <tr>\n",
       "      <th>29</th>\n",
       "      <td>31</td>\n",
       "      <td>9409</td>\n",
       "      <td>6.24</td>\n",
       "    </tr>\n",
       "  </tbody>\n",
       "</table>\n",
       "</div>"
      ],
      "text/plain": [
       "    Age  applications  accepted_application_percentage\n",
       "0     1           243                            10.29\n",
       "1     2           793                             5.42\n",
       "2     3           707                             3.11\n",
       "3     4           186                             0.54\n",
       "4     5             4                             0.00\n",
       "5     6            23                             0.00\n",
       "6     7             1                             0.00\n",
       "7     9             9                             0.00\n",
       "8    10             3                             0.00\n",
       "9    11             3                             0.00\n",
       "10   12             4                             0.00\n",
       "11   13             1                             0.00\n",
       "12   14             6                             0.00\n",
       "13   15             2                             0.00\n",
       "14   16             2                             0.00\n",
       "15   17            11                             9.09\n",
       "16   18            26                             7.69\n",
       "17   19           418                            11.72\n",
       "18   20          2850                             8.60\n",
       "19   21          6012                             7.04\n",
       "20   22          8949                             6.36\n",
       "21   23         10828                             5.30\n",
       "22   24         11817                             5.28\n",
       "23   25         12262                             5.63\n",
       "24   26         12025                             5.96\n",
       "25   27         11281                             6.37\n",
       "26   28         10849                             5.47\n",
       "27   29         11189                             5.80\n",
       "28   30          9795                             5.89\n",
       "29   31          9409                             6.24"
      ]
     },
     "execution_count": 39,
     "metadata": {},
     "output_type": "execute_result"
    }
   ],
   "source": [
    "grouped_age_df = application_top10_cities_df.groupby('Age').agg(\n",
    "    applications = ('id', 'count'),\n",
    "    accepted_application_percentage = ('date_accepted', accepted_ratio_fn)\n",
    ").reset_index()\n",
    "\n",
    "grouped_age_df.sort_values('Age', ascending=True, inplace=True)\n",
    "\n",
    "print(f'{len(grouped_age_df):,} registros a las {datetime.now().strftime(\"%m/%d/%Y, %H:%M:%S\")}')\n",
    "grouped_age_df.head(30)"
   ]
  },
  {
   "cell_type": "markdown",
   "metadata": {},
   "source": [
    "*Conclusiones aca Nena*"
   ]
  },
  {
   "cell_type": "markdown",
   "metadata": {},
   "source": [
    "#### 5. Consider all the jobs published in the month of January 2019, what is the average number of candidates that have accepted an invitation per post? Extend the answer for all months by plotting time line cohort (on job published) by month.\n"
   ]
  },
  {
   "cell_type": "code",
   "execution_count": null,
   "metadata": {},
   "outputs": [],
   "source": []
  },
  {
   "cell_type": "markdown",
   "metadata": {},
   "source": [
    "#### 6. Plot the timeline of total number of jobs published by month, has there been a growth? What is the average monthly growth rate?\n"
   ]
  },
  {
   "cell_type": "code",
   "execution_count": 40,
   "metadata": {
    "scrolled": true
   },
   "outputs": [
    {
     "name": "stdout",
     "output_type": "stream",
     "text": [
      "10,420 registros a las 08/04/2020, 00:18:09\n"
     ]
    },
    {
     "data": {
      "text/html": [
       "<div>\n",
       "<style scoped>\n",
       "    .dataframe tbody tr th:only-of-type {\n",
       "        vertical-align: middle;\n",
       "    }\n",
       "\n",
       "    .dataframe tbody tr th {\n",
       "        vertical-align: top;\n",
       "    }\n",
       "\n",
       "    .dataframe thead th {\n",
       "        text-align: right;\n",
       "    }\n",
       "</style>\n",
       "<table border=\"1\" class=\"dataframe\">\n",
       "  <thead>\n",
       "    <tr style=\"text-align: right;\">\n",
       "      <th></th>\n",
       "      <th>id</th>\n",
       "      <th>published_on</th>\n",
       "    </tr>\n",
       "  </thead>\n",
       "  <tbody>\n",
       "    <tr>\n",
       "      <th>457</th>\n",
       "      <td>10972</td>\n",
       "      <td>2017-11-01 13:48:42</td>\n",
       "    </tr>\n",
       "    <tr>\n",
       "      <th>9428</th>\n",
       "      <td>10973</td>\n",
       "      <td>2017-11-01 13:49:26</td>\n",
       "    </tr>\n",
       "    <tr>\n",
       "      <th>396</th>\n",
       "      <td>10984</td>\n",
       "      <td>2017-11-01 15:04:51</td>\n",
       "    </tr>\n",
       "    <tr>\n",
       "      <th>3592</th>\n",
       "      <td>10988</td>\n",
       "      <td>2017-11-01 16:05:32</td>\n",
       "    </tr>\n",
       "    <tr>\n",
       "      <th>4321</th>\n",
       "      <td>10990</td>\n",
       "      <td>2017-11-01 16:05:54</td>\n",
       "    </tr>\n",
       "  </tbody>\n",
       "</table>\n",
       "</div>"
      ],
      "text/plain": [
       "         id        published_on\n",
       "457   10972 2017-11-01 13:48:42\n",
       "9428  10973 2017-11-01 13:49:26\n",
       "396   10984 2017-11-01 15:04:51\n",
       "3592  10988 2017-11-01 16:05:32\n",
       "4321  10990 2017-11-01 16:05:54"
      ]
     },
     "execution_count": 40,
     "metadata": {},
     "output_type": "execute_result"
    }
   ],
   "source": [
    "sorted_job_listing_df = job_listing_df.sort_values('published_on', ascending=True)\n",
    "\n",
    "# Me quedo solo con las columnas necesaras\n",
    "target_columns = ['id', 'published_on']\n",
    "sorted_job_listing_df = sorted_job_listing_df[target_columns]\n",
    "\n",
    "print(f'{len(sorted_job_listing_df):,} registros a las {datetime.now().strftime(\"%m/%d/%Y, %H:%M:%S\")}')\n",
    "sorted_job_listing_df.head()"
   ]
  },
  {
   "cell_type": "markdown",
   "metadata": {},
   "source": [
    "Haremos la extracción del mes y año de la fecha de publicación, y agrupamos"
   ]
  },
  {
   "cell_type": "code",
   "execution_count": 41,
   "metadata": {
    "scrolled": false
   },
   "outputs": [
    {
     "name": "stdout",
     "output_type": "stream",
     "text": [
      "17 registros a las 08/04/2020, 00:18:09\n"
     ]
    },
    {
     "data": {
      "text/html": [
       "<div>\n",
       "<style scoped>\n",
       "    .dataframe tbody tr th:only-of-type {\n",
       "        vertical-align: middle;\n",
       "    }\n",
       "\n",
       "    .dataframe tbody tr th {\n",
       "        vertical-align: top;\n",
       "    }\n",
       "\n",
       "    .dataframe thead th {\n",
       "        text-align: right;\n",
       "    }\n",
       "</style>\n",
       "<table border=\"1\" class=\"dataframe\">\n",
       "  <thead>\n",
       "    <tr style=\"text-align: right;\">\n",
       "      <th></th>\n",
       "      <th>label</th>\n",
       "      <th>year</th>\n",
       "      <th>month</th>\n",
       "      <th>id</th>\n",
       "    </tr>\n",
       "  </thead>\n",
       "  <tbody>\n",
       "    <tr>\n",
       "      <th>0</th>\n",
       "      <td>2017-11</td>\n",
       "      <td>2017</td>\n",
       "      <td>11</td>\n",
       "      <td>333</td>\n",
       "    </tr>\n",
       "    <tr>\n",
       "      <th>1</th>\n",
       "      <td>2017-12</td>\n",
       "      <td>2017</td>\n",
       "      <td>12</td>\n",
       "      <td>219</td>\n",
       "    </tr>\n",
       "    <tr>\n",
       "      <th>2</th>\n",
       "      <td>2018-1</td>\n",
       "      <td>2018</td>\n",
       "      <td>1</td>\n",
       "      <td>444</td>\n",
       "    </tr>\n",
       "    <tr>\n",
       "      <th>3</th>\n",
       "      <td>2018-10</td>\n",
       "      <td>2018</td>\n",
       "      <td>10</td>\n",
       "      <td>908</td>\n",
       "    </tr>\n",
       "    <tr>\n",
       "      <th>4</th>\n",
       "      <td>2018-11</td>\n",
       "      <td>2018</td>\n",
       "      <td>11</td>\n",
       "      <td>716</td>\n",
       "    </tr>\n",
       "  </tbody>\n",
       "</table>\n",
       "</div>"
      ],
      "text/plain": [
       "     label  year  month   id\n",
       "0  2017-11  2017     11  333\n",
       "1  2017-12  2017     12  219\n",
       "2   2018-1  2018      1  444\n",
       "3  2018-10  2018     10  908\n",
       "4  2018-11  2018     11  716"
      ]
     },
     "execution_count": 41,
     "metadata": {},
     "output_type": "execute_result"
    }
   ],
   "source": [
    "sorted_job_listing_df['year'] = (sorted_job_listing_df['published_on'].astype(str).str[0:4]).astype(int)\n",
    "sorted_job_listing_df['month'] = (sorted_job_listing_df['published_on'].astype(str).str[5:7]).astype(int)\n",
    "sorted_job_listing_df['label'] = sorted_job_listing_df.apply(lambda df: f\"{df['year']}-{df['month']}\", axis=1)\n",
    "\n",
    "# Agrupamos\n",
    "grouped_job_listing_df = sorted_job_listing_df.groupby(['label', 'year', 'month']).agg({'id' : 'count'}).reset_index()\n",
    "print(f'{len(grouped_job_listing_df):,} registros a las {datetime.now().strftime(\"%m/%d/%Y, %H:%M:%S\")}')\n",
    "grouped_job_listing_df.head()"
   ]
  },
  {
   "cell_type": "markdown",
   "metadata": {},
   "source": [
    "Calculamos el ratio de crecimiento por cada mes"
   ]
  },
  {
   "cell_type": "code",
   "execution_count": 42,
   "metadata": {},
   "outputs": [],
   "source": [
    "offerings_by_month = grouped_job_listing_df['id'].values"
   ]
  },
  {
   "cell_type": "code",
   "execution_count": 43,
   "metadata": {},
   "outputs": [],
   "source": [
    "monthly_growth = []\n",
    "for i, _ in enumerate(offerings_by_month):\n",
    "    if i == 0:\n",
    "        monthly_growth.append(1)\n",
    "    else:\n",
    "        growth = round(offerings_by_month[i]/offerings_by_month[i-1], 2)\n",
    "        monthly_growth.append(growth)"
   ]
  },
  {
   "cell_type": "code",
   "execution_count": 44,
   "metadata": {
    "scrolled": true
   },
   "outputs": [
    {
     "name": "stdout",
     "output_type": "stream",
     "text": [
      "17 registros a las 08/04/2020, 00:18:09\n"
     ]
    },
    {
     "data": {
      "text/html": [
       "<div>\n",
       "<style scoped>\n",
       "    .dataframe tbody tr th:only-of-type {\n",
       "        vertical-align: middle;\n",
       "    }\n",
       "\n",
       "    .dataframe tbody tr th {\n",
       "        vertical-align: top;\n",
       "    }\n",
       "\n",
       "    .dataframe thead th {\n",
       "        text-align: right;\n",
       "    }\n",
       "</style>\n",
       "<table border=\"1\" class=\"dataframe\">\n",
       "  <thead>\n",
       "    <tr style=\"text-align: right;\">\n",
       "      <th></th>\n",
       "      <th>label</th>\n",
       "      <th>year</th>\n",
       "      <th>month</th>\n",
       "      <th>id</th>\n",
       "      <th>monthly_growth</th>\n",
       "    </tr>\n",
       "  </thead>\n",
       "  <tbody>\n",
       "    <tr>\n",
       "      <th>0</th>\n",
       "      <td>2017-11</td>\n",
       "      <td>2017</td>\n",
       "      <td>11</td>\n",
       "      <td>333</td>\n",
       "      <td>1.00</td>\n",
       "    </tr>\n",
       "    <tr>\n",
       "      <th>1</th>\n",
       "      <td>2017-12</td>\n",
       "      <td>2017</td>\n",
       "      <td>12</td>\n",
       "      <td>219</td>\n",
       "      <td>0.66</td>\n",
       "    </tr>\n",
       "    <tr>\n",
       "      <th>2</th>\n",
       "      <td>2018-1</td>\n",
       "      <td>2018</td>\n",
       "      <td>1</td>\n",
       "      <td>444</td>\n",
       "      <td>2.03</td>\n",
       "    </tr>\n",
       "    <tr>\n",
       "      <th>3</th>\n",
       "      <td>2018-10</td>\n",
       "      <td>2018</td>\n",
       "      <td>10</td>\n",
       "      <td>908</td>\n",
       "      <td>2.05</td>\n",
       "    </tr>\n",
       "    <tr>\n",
       "      <th>4</th>\n",
       "      <td>2018-11</td>\n",
       "      <td>2018</td>\n",
       "      <td>11</td>\n",
       "      <td>716</td>\n",
       "      <td>0.79</td>\n",
       "    </tr>\n",
       "  </tbody>\n",
       "</table>\n",
       "</div>"
      ],
      "text/plain": [
       "     label  year  month   id  monthly_growth\n",
       "0  2017-11  2017     11  333            1.00\n",
       "1  2017-12  2017     12  219            0.66\n",
       "2   2018-1  2018      1  444            2.03\n",
       "3  2018-10  2018     10  908            2.05\n",
       "4  2018-11  2018     11  716            0.79"
      ]
     },
     "execution_count": 44,
     "metadata": {},
     "output_type": "execute_result"
    }
   ],
   "source": [
    "grouped_job_listing_df['monthly_growth'] = pd.Series(monthly_growth)\n",
    "print(f'{len(grouped_job_listing_df):,} registros a las {datetime.now().strftime(\"%m/%d/%Y, %H:%M:%S\")}')\n",
    "grouped_job_listing_df.head()"
   ]
  },
  {
   "cell_type": "markdown",
   "metadata": {},
   "source": [
    "El ratio promedio de crecimiento mensual de la cantidad de ofertas laborales es:"
   ]
  },
  {
   "cell_type": "code",
   "execution_count": 45,
   "metadata": {},
   "outputs": [
    {
     "data": {
      "text/plain": [
       "112.06"
      ]
     },
     "execution_count": 45,
     "metadata": {},
     "output_type": "execute_result"
    }
   ],
   "source": [
    "monthly_grouth_avg = round(grouped_job_listing_df['monthly_growth'].mean() * 100, 2)\n",
    "monthly_grouth_avg"
   ]
  },
  {
   "cell_type": "markdown",
   "metadata": {},
   "source": [
    "Ahora, graficamos con **seaborn**"
   ]
  },
  {
   "cell_type": "code",
   "execution_count": 46,
   "metadata": {
    "scrolled": false
   },
   "outputs": [
    {
     "data": {
      "image/png": "[encoded data removed]",
      "text/plain": [
       "<Figure size 1800x432 with 1 Axes>"
      ]
     },
     "metadata": {
      "needs_background": "light"
     },
     "output_type": "display_data"
    }
   ],
   "source": [
    "plt.figure(figsize=(25,6))\n",
    "ax = sns.lineplot(x='label', y='id', data=grouped_job_listing_df)\n",
    "ax.grid()\n",
    "plt.show()"
   ]
  },
  {
   "cell_type": "markdown",
   "metadata": {},
   "source": [
    "Podemos ver en la gráfica, que la tendencia marcada desde **2018-4**, indica que en **2019-4** habrán casi cerca de 1.000 ofertas"
   ]
  },
  {
   "cell_type": "markdown",
   "metadata": {},
   "source": [
    "#### 7. Assume the job growth rate stays constant to the average monthly growth rate, what would be the expected number of jobs published after one year (January 2020)?\n"
   ]
  },
  {
   "cell_type": "code",
   "execution_count": null,
   "metadata": {},
   "outputs": [],
   "source": []
  },
  {
   "cell_type": "markdown",
   "metadata": {},
   "source": [
    "#### 8. Can you try to predict what would be the total number of jobs published in the first week of April 2019?\n"
   ]
  },
  {
   "cell_type": "markdown",
   "metadata": {},
   "source": [
    "#### 9. Given that a candidate has created his account between 2018-01-01 and 2019-01-01 and has received invitations within 30 days from the account creation, what’s the percentage of candidates that accept at least one?\n"
   ]
  },
  {
   "cell_type": "markdown",
   "metadata": {},
   "source": [
    "Filtramos los candidatos con fecha de creacion **created_on** entre *2018-01-01* y *2019-01-01*"
   ]
  },
  {
   "cell_type": "code",
   "execution_count": 47,
   "metadata": {},
   "outputs": [
    {
     "name": "stdout",
     "output_type": "stream",
     "text": [
      "49,091 registros a las 08/04/2020, 00:18:09\n"
     ]
    },
    {
     "data": {
      "text/html": [
       "<div>\n",
       "<style scoped>\n",
       "    .dataframe tbody tr th:only-of-type {\n",
       "        vertical-align: middle;\n",
       "    }\n",
       "\n",
       "    .dataframe tbody tr th {\n",
       "        vertical-align: top;\n",
       "    }\n",
       "\n",
       "    .dataframe thead th {\n",
       "        text-align: right;\n",
       "    }\n",
       "</style>\n",
       "<table border=\"1\" class=\"dataframe\">\n",
       "  <thead>\n",
       "    <tr style=\"text-align: right;\">\n",
       "      <th></th>\n",
       "      <th>id</th>\n",
       "      <th>location</th>\n",
       "      <th>birthdate</th>\n",
       "      <th>gender</th>\n",
       "      <th>salary_range (M)</th>\n",
       "      <th>transport</th>\n",
       "      <th>created_on</th>\n",
       "    </tr>\n",
       "  </thead>\n",
       "  <tbody>\n",
       "    <tr>\n",
       "      <th>105299</th>\n",
       "      <td>451285</td>\n",
       "      <td>Bogotá D.C.</td>\n",
       "      <td>1986-09-28</td>\n",
       "      <td>Masculino</td>\n",
       "      <td>2,5 a 3</td>\n",
       "      <td>Moto</td>\n",
       "      <td>2018-01-01 00:35:30</td>\n",
       "    </tr>\n",
       "    <tr>\n",
       "      <th>19140</th>\n",
       "      <td>451286</td>\n",
       "      <td>Medellín</td>\n",
       "      <td>1990-09-06</td>\n",
       "      <td>Masculino</td>\n",
       "      <td>1 a 1,5</td>\n",
       "      <td>Ninguno</td>\n",
       "      <td>2018-01-01 00:38:59</td>\n",
       "    </tr>\n",
       "    <tr>\n",
       "      <th>69449</th>\n",
       "      <td>451287</td>\n",
       "      <td>Bogotá D.C.</td>\n",
       "      <td>1985-01-16</td>\n",
       "      <td>Femenino</td>\n",
       "      <td>1,5 a 2</td>\n",
       "      <td>Carro</td>\n",
       "      <td>2018-01-01 00:50:07</td>\n",
       "    </tr>\n",
       "    <tr>\n",
       "      <th>48443</th>\n",
       "      <td>451288</td>\n",
       "      <td>Barranquilla</td>\n",
       "      <td>1980-07-03</td>\n",
       "      <td>Masculino</td>\n",
       "      <td>1,5 a 2</td>\n",
       "      <td>Ninguno</td>\n",
       "      <td>2018-01-01 01:02:12</td>\n",
       "    </tr>\n",
       "    <tr>\n",
       "      <th>98447</th>\n",
       "      <td>451298</td>\n",
       "      <td>Bogotá D.C.</td>\n",
       "      <td>1976-04-21</td>\n",
       "      <td>Masculino</td>\n",
       "      <td>1,5 a 2</td>\n",
       "      <td>Ninguno</td>\n",
       "      <td>2018-01-01 01:25:08</td>\n",
       "    </tr>\n",
       "  </tbody>\n",
       "</table>\n",
       "</div>"
      ],
      "text/plain": [
       "            id      location  birthdate     gender salary_range (M) transport  \\\n",
       "105299  451285   Bogotá D.C. 1986-09-28  Masculino          2,5 a 3      Moto   \n",
       "19140   451286      Medellín 1990-09-06  Masculino          1 a 1,5   Ninguno   \n",
       "69449   451287   Bogotá D.C. 1985-01-16   Femenino          1,5 a 2     Carro   \n",
       "48443   451288  Barranquilla 1980-07-03  Masculino          1,5 a 2   Ninguno   \n",
       "98447   451298   Bogotá D.C. 1976-04-21  Masculino          1,5 a 2   Ninguno   \n",
       "\n",
       "                created_on  \n",
       "105299 2018-01-01 00:35:30  \n",
       "19140  2018-01-01 00:38:59  \n",
       "69449  2018-01-01 00:50:07  \n",
       "48443  2018-01-01 01:02:12  \n",
       "98447  2018-01-01 01:25:08  "
      ]
     },
     "execution_count": 47,
     "metadata": {},
     "output_type": "execute_result"
    }
   ],
   "source": [
    "filtered_cadidates_df = candidate_df[\n",
    "    (candidate_df['created_on'] >= '2018-01-01') &\n",
    "    (candidate_df['created_on'] <= '2019-01-01')\n",
    "]\n",
    "\n",
    "print(f'{len(filtered_cadidates_df):,} registros a las {datetime.now().strftime(\"%m/%d/%Y, %H:%M:%S\")}')\n",
    "filtered_cadidates_df.head()"
   ]
  },
  {
   "cell_type": "markdown",
   "metadata": {},
   "source": [
    "Unimos con las aplicaciones laborales de estos candidatos"
   ]
  },
  {
   "cell_type": "code",
   "execution_count": 48,
   "metadata": {},
   "outputs": [
    {
     "name": "stdout",
     "output_type": "stream",
     "text": [
      "97,995 registros a las 08/04/2020, 00:18:10\n"
     ]
    },
    {
     "data": {
      "text/html": [
       "<div>\n",
       "<style scoped>\n",
       "    .dataframe tbody tr th:only-of-type {\n",
       "        vertical-align: middle;\n",
       "    }\n",
       "\n",
       "    .dataframe tbody tr th {\n",
       "        vertical-align: top;\n",
       "    }\n",
       "\n",
       "    .dataframe thead th {\n",
       "        text-align: right;\n",
       "    }\n",
       "</style>\n",
       "<table border=\"1\" class=\"dataframe\">\n",
       "  <thead>\n",
       "    <tr style=\"text-align: right;\">\n",
       "      <th></th>\n",
       "      <th>job_listing_id</th>\n",
       "      <th>candidate_id</th>\n",
       "      <th>date_recommanded</th>\n",
       "      <th>date_accepted</th>\n",
       "      <th>date_read</th>\n",
       "      <th>date_liked</th>\n",
       "      <th>date_disliked</th>\n",
       "      <th>id</th>\n",
       "      <th>location</th>\n",
       "      <th>birthdate</th>\n",
       "      <th>gender</th>\n",
       "      <th>salary_range (M)</th>\n",
       "      <th>transport</th>\n",
       "      <th>created_on</th>\n",
       "    </tr>\n",
       "  </thead>\n",
       "  <tbody>\n",
       "    <tr>\n",
       "      <th>17</th>\n",
       "      <td>7655</td>\n",
       "      <td>473694</td>\n",
       "      <td>2018-03-26 20:32:16</td>\n",
       "      <td>NaT</td>\n",
       "      <td>NaT</td>\n",
       "      <td>NaT</td>\n",
       "      <td>NaT</td>\n",
       "      <td>473694.0</td>\n",
       "      <td>Bello</td>\n",
       "      <td>1981-10-19</td>\n",
       "      <td>Femenino</td>\n",
       "      <td>&lt; 1</td>\n",
       "      <td>Ninguno</td>\n",
       "      <td>2018-01-19 15:36:56</td>\n",
       "    </tr>\n",
       "    <tr>\n",
       "      <th>18</th>\n",
       "      <td>7655</td>\n",
       "      <td>475926</td>\n",
       "      <td>2018-03-26 20:32:19</td>\n",
       "      <td>2018-03-26 21:47:54</td>\n",
       "      <td>2018-03-27 16:24:35</td>\n",
       "      <td>NaT</td>\n",
       "      <td>NaT</td>\n",
       "      <td>475926.0</td>\n",
       "      <td>Medellín</td>\n",
       "      <td>1986-09-21</td>\n",
       "      <td>Femenino</td>\n",
       "      <td>&lt; 1</td>\n",
       "      <td>Ninguno</td>\n",
       "      <td>2018-01-20 22:00:51</td>\n",
       "    </tr>\n",
       "    <tr>\n",
       "      <th>19</th>\n",
       "      <td>7655</td>\n",
       "      <td>484994</td>\n",
       "      <td>2018-03-26 20:32:31</td>\n",
       "      <td>2018-04-06 01:10:51</td>\n",
       "      <td>NaT</td>\n",
       "      <td>NaT</td>\n",
       "      <td>NaT</td>\n",
       "      <td>484994.0</td>\n",
       "      <td>Envigado</td>\n",
       "      <td>1965-02-08</td>\n",
       "      <td>Femenino</td>\n",
       "      <td>2,5 a 3</td>\n",
       "      <td>Carro</td>\n",
       "      <td>2018-01-25 17:28:33</td>\n",
       "    </tr>\n",
       "    <tr>\n",
       "      <th>20</th>\n",
       "      <td>7655</td>\n",
       "      <td>487870</td>\n",
       "      <td>2018-03-26 20:32:13</td>\n",
       "      <td>NaT</td>\n",
       "      <td>NaT</td>\n",
       "      <td>NaT</td>\n",
       "      <td>NaT</td>\n",
       "      <td>487870.0</td>\n",
       "      <td>Medellín</td>\n",
       "      <td>1972-08-07</td>\n",
       "      <td>Masculino</td>\n",
       "      <td>1 a 1,5</td>\n",
       "      <td>Ninguno</td>\n",
       "      <td>2018-01-27 01:59:30</td>\n",
       "    </tr>\n",
       "    <tr>\n",
       "      <th>21</th>\n",
       "      <td>7655</td>\n",
       "      <td>513090</td>\n",
       "      <td>2018-03-26 20:32:23</td>\n",
       "      <td>NaT</td>\n",
       "      <td>NaT</td>\n",
       "      <td>NaT</td>\n",
       "      <td>NaT</td>\n",
       "      <td>513090.0</td>\n",
       "      <td>Medellín</td>\n",
       "      <td>1990-03-14</td>\n",
       "      <td>Femenino</td>\n",
       "      <td>&lt; 1</td>\n",
       "      <td>Ninguno</td>\n",
       "      <td>2018-02-08 12:39:39</td>\n",
       "    </tr>\n",
       "  </tbody>\n",
       "</table>\n",
       "</div>"
      ],
      "text/plain": [
       "    job_listing_id  candidate_id    date_recommanded       date_accepted  \\\n",
       "17            7655        473694 2018-03-26 20:32:16                 NaT   \n",
       "18            7655        475926 2018-03-26 20:32:19 2018-03-26 21:47:54   \n",
       "19            7655        484994 2018-03-26 20:32:31 2018-04-06 01:10:51   \n",
       "20            7655        487870 2018-03-26 20:32:13                 NaT   \n",
       "21            7655        513090 2018-03-26 20:32:23                 NaT   \n",
       "\n",
       "             date_read date_liked date_disliked        id  location  \\\n",
       "17                 NaT        NaT           NaT  473694.0     Bello   \n",
       "18 2018-03-27 16:24:35        NaT           NaT  475926.0  Medellín   \n",
       "19                 NaT        NaT           NaT  484994.0  Envigado   \n",
       "20                 NaT        NaT           NaT  487870.0  Medellín   \n",
       "21                 NaT        NaT           NaT  513090.0  Medellín   \n",
       "\n",
       "    birthdate     gender salary_range (M) transport          created_on  \n",
       "17 1981-10-19   Femenino              < 1   Ninguno 2018-01-19 15:36:56  \n",
       "18 1986-09-21   Femenino              < 1   Ninguno 2018-01-20 22:00:51  \n",
       "19 1965-02-08   Femenino          2,5 a 3     Carro 2018-01-25 17:28:33  \n",
       "20 1972-08-07  Masculino          1 a 1,5   Ninguno 2018-01-27 01:59:30  \n",
       "21 1990-03-14   Femenino              < 1   Ninguno 2018-02-08 12:39:39  "
      ]
     },
     "execution_count": 48,
     "metadata": {},
     "output_type": "execute_result"
    }
   ],
   "source": [
    "filtered_candidate_applications_df = candidate_application_df.merge(\n",
    "    filtered_cadidates_df, \n",
    "    left_on='candidate_id',\n",
    "    right_on='id',\n",
    "    how='left'\n",
    ")\n",
    "\n",
    "filtered_candidate_applications_df.dropna(subset=['id'], inplace=True)\n",
    "print(f'{len(filtered_candidate_applications_df):,} registros a las {datetime.now().strftime(\"%m/%d/%Y, %H:%M:%S\")}')\n",
    "filtered_candidate_applications_df.head()"
   ]
  },
  {
   "cell_type": "markdown",
   "metadata": {},
   "source": [
    "Reodenamos las columnas"
   ]
  },
  {
   "cell_type": "code",
   "execution_count": 49,
   "metadata": {},
   "outputs": [
    {
     "name": "stdout",
     "output_type": "stream",
     "text": [
      "97,995 registros a las 08/04/2020, 00:18:10\n"
     ]
    },
    {
     "data": {
      "text/html": [
       "<div>\n",
       "<style scoped>\n",
       "    .dataframe tbody tr th:only-of-type {\n",
       "        vertical-align: middle;\n",
       "    }\n",
       "\n",
       "    .dataframe tbody tr th {\n",
       "        vertical-align: top;\n",
       "    }\n",
       "\n",
       "    .dataframe thead th {\n",
       "        text-align: right;\n",
       "    }\n",
       "</style>\n",
       "<table border=\"1\" class=\"dataframe\">\n",
       "  <thead>\n",
       "    <tr style=\"text-align: right;\">\n",
       "      <th></th>\n",
       "      <th>candidate_id</th>\n",
       "      <th>date_recommanded</th>\n",
       "      <th>date_accepted</th>\n",
       "      <th>created_on</th>\n",
       "    </tr>\n",
       "  </thead>\n",
       "  <tbody>\n",
       "    <tr>\n",
       "      <th>134389</th>\n",
       "      <td>451285</td>\n",
       "      <td>2018-09-22 16:22:06</td>\n",
       "      <td>NaT</td>\n",
       "      <td>2018-01-01 00:35:30</td>\n",
       "    </tr>\n",
       "    <tr>\n",
       "      <th>24625</th>\n",
       "      <td>451286</td>\n",
       "      <td>2018-01-11 13:56:02</td>\n",
       "      <td>2018-01-11 14:11:32</td>\n",
       "      <td>2018-01-01 00:38:59</td>\n",
       "    </tr>\n",
       "    <tr>\n",
       "      <th>36149</th>\n",
       "      <td>451286</td>\n",
       "      <td>2018-01-31 14:35:48</td>\n",
       "      <td>NaT</td>\n",
       "      <td>2018-01-01 00:38:59</td>\n",
       "    </tr>\n",
       "    <tr>\n",
       "      <th>50753</th>\n",
       "      <td>451286</td>\n",
       "      <td>2018-03-03 18:28:25</td>\n",
       "      <td>2018-03-03 20:37:53</td>\n",
       "      <td>2018-01-01 00:38:59</td>\n",
       "    </tr>\n",
       "    <tr>\n",
       "      <th>144809</th>\n",
       "      <td>451286</td>\n",
       "      <td>2018-10-09 15:22:58</td>\n",
       "      <td>NaT</td>\n",
       "      <td>2018-01-01 00:38:59</td>\n",
       "    </tr>\n",
       "  </tbody>\n",
       "</table>\n",
       "</div>"
      ],
      "text/plain": [
       "        candidate_id    date_recommanded       date_accepted  \\\n",
       "134389        451285 2018-09-22 16:22:06                 NaT   \n",
       "24625         451286 2018-01-11 13:56:02 2018-01-11 14:11:32   \n",
       "36149         451286 2018-01-31 14:35:48                 NaT   \n",
       "50753         451286 2018-03-03 18:28:25 2018-03-03 20:37:53   \n",
       "144809        451286 2018-10-09 15:22:58                 NaT   \n",
       "\n",
       "                created_on  \n",
       "134389 2018-01-01 00:35:30  \n",
       "24625  2018-01-01 00:38:59  \n",
       "36149  2018-01-01 00:38:59  \n",
       "50753  2018-01-01 00:38:59  \n",
       "144809 2018-01-01 00:38:59  "
      ]
     },
     "execution_count": 49,
     "metadata": {},
     "output_type": "execute_result"
    }
   ],
   "source": [
    "target_columns = ['candidate_id', 'date_recommanded', 'date_accepted', 'created_on']\n",
    "filtered_candidate_applications_df = filtered_candidate_applications_df[target_columns]\n",
    "\n",
    "filtered_candidate_applications_df.sort_values(['candidate_id', 'date_recommanded'], ascending=[True, True], inplace=True)\n",
    "\n",
    "print(f'{len(filtered_candidate_applications_df):,} registros a las {datetime.now().strftime(\"%m/%d/%Y, %H:%M:%S\")}')\n",
    "filtered_candidate_applications_df.head()"
   ]
  },
  {
   "cell_type": "markdown",
   "metadata": {},
   "source": [
    "Nos quedamos solo con aquellas solicitudes de trabajo donde diferencia entre la fecha de creacion de la cuenta\n",
    "y la de recepcion de la solicitud *no supere los 30 dias*"
   ]
  },
  {
   "cell_type": "code",
   "execution_count": 50,
   "metadata": {
    "scrolled": false
   },
   "outputs": [
    {
     "name": "stdout",
     "output_type": "stream",
     "text": [
      "13,926 registros a las 08/04/2020, 00:18:11\n"
     ]
    },
    {
     "data": {
      "text/html": [
       "<div>\n",
       "<style scoped>\n",
       "    .dataframe tbody tr th:only-of-type {\n",
       "        vertical-align: middle;\n",
       "    }\n",
       "\n",
       "    .dataframe tbody tr th {\n",
       "        vertical-align: top;\n",
       "    }\n",
       "\n",
       "    .dataframe thead th {\n",
       "        text-align: right;\n",
       "    }\n",
       "</style>\n",
       "<table border=\"1\" class=\"dataframe\">\n",
       "  <thead>\n",
       "    <tr style=\"text-align: right;\">\n",
       "      <th></th>\n",
       "      <th>candidate_id</th>\n",
       "      <th>date_recommanded</th>\n",
       "      <th>date_accepted</th>\n",
       "      <th>created_on</th>\n",
       "      <th>created_to_recommanded (days)</th>\n",
       "    </tr>\n",
       "  </thead>\n",
       "  <tbody>\n",
       "    <tr>\n",
       "      <th>24625</th>\n",
       "      <td>451286</td>\n",
       "      <td>2018-01-11 13:56:02</td>\n",
       "      <td>2018-01-11 14:11:32</td>\n",
       "      <td>2018-01-01 00:38:59</td>\n",
       "      <td>10</td>\n",
       "    </tr>\n",
       "    <tr>\n",
       "      <th>36149</th>\n",
       "      <td>451286</td>\n",
       "      <td>2018-01-31 14:35:48</td>\n",
       "      <td>NaT</td>\n",
       "      <td>2018-01-01 00:38:59</td>\n",
       "      <td>30</td>\n",
       "    </tr>\n",
       "    <tr>\n",
       "      <th>21549</th>\n",
       "      <td>451287</td>\n",
       "      <td>2018-01-04 17:54:52</td>\n",
       "      <td>NaT</td>\n",
       "      <td>2018-01-01 00:50:07</td>\n",
       "      <td>3</td>\n",
       "    </tr>\n",
       "    <tr>\n",
       "      <th>32502</th>\n",
       "      <td>451287</td>\n",
       "      <td>2018-01-24 15:18:21</td>\n",
       "      <td>NaT</td>\n",
       "      <td>2018-01-01 00:50:07</td>\n",
       "      <td>23</td>\n",
       "    </tr>\n",
       "    <tr>\n",
       "      <th>34475</th>\n",
       "      <td>451581</td>\n",
       "      <td>2018-01-27 19:14:49</td>\n",
       "      <td>NaT</td>\n",
       "      <td>2018-01-01 21:25:23</td>\n",
       "      <td>25</td>\n",
       "    </tr>\n",
       "  </tbody>\n",
       "</table>\n",
       "</div>"
      ],
      "text/plain": [
       "       candidate_id    date_recommanded       date_accepted  \\\n",
       "24625        451286 2018-01-11 13:56:02 2018-01-11 14:11:32   \n",
       "36149        451286 2018-01-31 14:35:48                 NaT   \n",
       "21549        451287 2018-01-04 17:54:52                 NaT   \n",
       "32502        451287 2018-01-24 15:18:21                 NaT   \n",
       "34475        451581 2018-01-27 19:14:49                 NaT   \n",
       "\n",
       "               created_on  created_to_recommanded (days)  \n",
       "24625 2018-01-01 00:38:59                             10  \n",
       "36149 2018-01-01 00:38:59                             30  \n",
       "21549 2018-01-01 00:50:07                              3  \n",
       "32502 2018-01-01 00:50:07                             23  \n",
       "34475 2018-01-01 21:25:23                             25  "
      ]
     },
     "execution_count": 50,
     "metadata": {},
     "output_type": "execute_result"
    }
   ],
   "source": [
    "filtered_candidate_applications_df['created_to_recommanded (days)'] = \\\n",
    "    filtered_candidate_applications_df['date_recommanded'] - filtered_candidate_applications_df['created_on']\n",
    "\n",
    "filtered_candidate_applications_df['created_to_recommanded (days)'] = \\\n",
    "    filtered_candidate_applications_df['created_to_recommanded (days)'].apply(lambda duration: int(duration.days))\n",
    "\n",
    "# Entre la creacion de la cuenta y la recepcion de la invitacion, no pueden haber mas de 30 dias\n",
    "filtered_candidate_applications_df = \\\n",
    "    filtered_candidate_applications_df[filtered_candidate_applications_df['created_to_recommanded (days)'] <= 30]\n",
    "\n",
    "print(f'{len(filtered_candidate_applications_df):,} registros a las {datetime.now().strftime(\"%m/%d/%Y, %H:%M:%S\")}')\n",
    "filtered_candidate_applications_df.head()"
   ]
  },
  {
   "cell_type": "markdown",
   "metadata": {},
   "source": [
    "La cantidad de candidatos en esta situacion es:"
   ]
  },
  {
   "cell_type": "code",
   "execution_count": 51,
   "metadata": {},
   "outputs": [
    {
     "data": {
      "text/plain": [
       "11920"
      ]
     },
     "execution_count": 51,
     "metadata": {},
     "output_type": "execute_result"
    }
   ],
   "source": [
    "total = len(filtered_candidate_applications_df['candidate_id'].unique())\n",
    "total"
   ]
  },
  {
   "cell_type": "markdown",
   "metadata": {},
   "source": [
    "De estos, buscamos los han aceptado al menos una invitacion"
   ]
  },
  {
   "cell_type": "code",
   "execution_count": 52,
   "metadata": {},
   "outputs": [
    {
     "name": "stdout",
     "output_type": "stream",
     "text": [
      "2,880 registros a las 08/04/2020, 00:18:11\n"
     ]
    },
    {
     "data": {
      "text/html": [
       "<div>\n",
       "<style scoped>\n",
       "    .dataframe tbody tr th:only-of-type {\n",
       "        vertical-align: middle;\n",
       "    }\n",
       "\n",
       "    .dataframe tbody tr th {\n",
       "        vertical-align: top;\n",
       "    }\n",
       "\n",
       "    .dataframe thead th {\n",
       "        text-align: right;\n",
       "    }\n",
       "</style>\n",
       "<table border=\"1\" class=\"dataframe\">\n",
       "  <thead>\n",
       "    <tr style=\"text-align: right;\">\n",
       "      <th></th>\n",
       "      <th>candidate_id</th>\n",
       "      <th>date_recommanded</th>\n",
       "      <th>date_accepted</th>\n",
       "      <th>created_on</th>\n",
       "      <th>created_to_recommanded (days)</th>\n",
       "    </tr>\n",
       "  </thead>\n",
       "  <tbody>\n",
       "    <tr>\n",
       "      <th>24625</th>\n",
       "      <td>451286</td>\n",
       "      <td>2018-01-11 13:56:02</td>\n",
       "      <td>2018-01-11 14:11:32</td>\n",
       "      <td>2018-01-01 00:38:59</td>\n",
       "      <td>10</td>\n",
       "    </tr>\n",
       "    <tr>\n",
       "      <th>33706</th>\n",
       "      <td>451788</td>\n",
       "      <td>2018-01-25 22:06:39</td>\n",
       "      <td>2018-01-28 00:02:34</td>\n",
       "      <td>2018-01-02 03:08:53</td>\n",
       "      <td>23</td>\n",
       "    </tr>\n",
       "    <tr>\n",
       "      <th>26755</th>\n",
       "      <td>452083</td>\n",
       "      <td>2018-01-15 20:18:49</td>\n",
       "      <td>2018-01-15 21:33:22</td>\n",
       "      <td>2018-01-02 17:20:27</td>\n",
       "      <td>13</td>\n",
       "    </tr>\n",
       "    <tr>\n",
       "      <th>37315</th>\n",
       "      <td>452182</td>\n",
       "      <td>2018-02-01 16:41:08</td>\n",
       "      <td>2018-02-15 00:40:00</td>\n",
       "      <td>2018-01-02 19:48:38</td>\n",
       "      <td>29</td>\n",
       "    </tr>\n",
       "    <tr>\n",
       "      <th>31583</th>\n",
       "      <td>452459</td>\n",
       "      <td>2018-01-23 16:05:58</td>\n",
       "      <td>2018-01-24 16:15:47</td>\n",
       "      <td>2018-01-03 01:40:33</td>\n",
       "      <td>20</td>\n",
       "    </tr>\n",
       "  </tbody>\n",
       "</table>\n",
       "</div>"
      ],
      "text/plain": [
       "       candidate_id    date_recommanded       date_accepted  \\\n",
       "24625        451286 2018-01-11 13:56:02 2018-01-11 14:11:32   \n",
       "33706        451788 2018-01-25 22:06:39 2018-01-28 00:02:34   \n",
       "26755        452083 2018-01-15 20:18:49 2018-01-15 21:33:22   \n",
       "37315        452182 2018-02-01 16:41:08 2018-02-15 00:40:00   \n",
       "31583        452459 2018-01-23 16:05:58 2018-01-24 16:15:47   \n",
       "\n",
       "               created_on  created_to_recommanded (days)  \n",
       "24625 2018-01-01 00:38:59                             10  \n",
       "33706 2018-01-02 03:08:53                             23  \n",
       "26755 2018-01-02 17:20:27                             13  \n",
       "37315 2018-01-02 19:48:38                             29  \n",
       "31583 2018-01-03 01:40:33                             20  "
      ]
     },
     "execution_count": 52,
     "metadata": {},
     "output_type": "execute_result"
    }
   ],
   "source": [
    "filtered_candidate_applications_df = \\\n",
    "    filtered_candidate_applications_df[filtered_candidate_applications_df['date_accepted'].notnull()]\n",
    "\n",
    "print(f'{len(filtered_candidate_applications_df):,} registros a las {datetime.now().strftime(\"%m/%d/%Y, %H:%M:%S\")}')\n",
    "filtered_candidate_applications_df.head()"
   ]
  },
  {
   "cell_type": "code",
   "execution_count": 53,
   "metadata": {},
   "outputs": [],
   "source": [
    "subset = len(filtered_candidate_applications_df['candidate_id'].unique())"
   ]
  },
  {
   "cell_type": "markdown",
   "metadata": {},
   "source": [
    "El porcentaje de candidatos que ha aceptado al menos una invitacion es:"
   ]
  },
  {
   "cell_type": "code",
   "execution_count": 54,
   "metadata": {},
   "outputs": [
    {
     "data": {
      "text/plain": [
       "22.4"
      ]
     },
     "execution_count": 54,
     "metadata": {},
     "output_type": "execute_result"
    }
   ],
   "source": [
    "porcentaje = round(subset/total*100, 1)\n",
    "porcentaje"
   ]
  },
  {
   "cell_type": "markdown",
   "metadata": {},
   "source": [
    "#### Further EDA (Exploratory Data Analysis). Feel free to provide  insight on the data."
   ]
  },
  {
   "cell_type": "markdown",
   "metadata": {},
   "source": [
    "##### Years of work experience of the candidate"
   ]
  },
  {
   "cell_type": "markdown",
   "metadata": {},
   "source": [
    "Calculamos cuánto ha durado cada trabajador en sus trabajos"
   ]
  },
  {
   "cell_type": "code",
   "execution_count": 55,
   "metadata": {},
   "outputs": [
    {
     "name": "stdout",
     "output_type": "stream",
     "text": [
      "267,121 registros a las 08/04/2020, 00:18:15\n"
     ]
    },
    {
     "data": {
      "text/html": [
       "<div>\n",
       "<style scoped>\n",
       "    .dataframe tbody tr th:only-of-type {\n",
       "        vertical-align: middle;\n",
       "    }\n",
       "\n",
       "    .dataframe tbody tr th {\n",
       "        vertical-align: top;\n",
       "    }\n",
       "\n",
       "    .dataframe thead th {\n",
       "        text-align: right;\n",
       "    }\n",
       "</style>\n",
       "<table border=\"1\" class=\"dataframe\">\n",
       "  <thead>\n",
       "    <tr style=\"text-align: right;\">\n",
       "      <th></th>\n",
       "      <th>candidate_id</th>\n",
       "      <th>id</th>\n",
       "      <th>job_title</th>\n",
       "      <th>industry_name</th>\n",
       "      <th>location</th>\n",
       "      <th>sale_type</th>\n",
       "      <th>person_in_charge</th>\n",
       "      <th>observed</th>\n",
       "      <th>starting_date</th>\n",
       "      <th>ending_date</th>\n",
       "      <th>duration (Years)</th>\n",
       "    </tr>\n",
       "  </thead>\n",
       "  <tbody>\n",
       "    <tr>\n",
       "      <th>46528</th>\n",
       "      <td>2</td>\n",
       "      <td>75221</td>\n",
       "      <td>Gerente</td>\n",
       "      <td>Consumo masivo y Alimentos</td>\n",
       "      <td>Bogotá D.C.</td>\n",
       "      <td>Ejecutivo de cuenta / Key Account Manager</td>\n",
       "      <td>1 o 2</td>\n",
       "      <td>No</td>\n",
       "      <td>2016-01-01</td>\n",
       "      <td>2019-04-01</td>\n",
       "      <td>3.2</td>\n",
       "    </tr>\n",
       "    <tr>\n",
       "      <th>204660</th>\n",
       "      <td>51</td>\n",
       "      <td>231146</td>\n",
       "      <td>Key Account</td>\n",
       "      <td>Consumo masivo y Alimentos</td>\n",
       "      <td>Bogotá D.C.</td>\n",
       "      <td>Ejecutivo de cuenta / Key Account Manager</td>\n",
       "      <td>1 o 2</td>\n",
       "      <td>Yes</td>\n",
       "      <td>2016-01-01</td>\n",
       "      <td>2019-04-01</td>\n",
       "      <td>3.2</td>\n",
       "    </tr>\n",
       "    <tr>\n",
       "      <th>146420</th>\n",
       "      <td>51</td>\n",
       "      <td>231158</td>\n",
       "      <td>Gerente Comercial de Importados</td>\n",
       "      <td>Consumo masivo y Alimentos</td>\n",
       "      <td>Bogotá D.C.</td>\n",
       "      <td>Ejecutivo de cuenta / Key Account Manager</td>\n",
       "      <td>6 a 10</td>\n",
       "      <td>Yes</td>\n",
       "      <td>2011-09-01</td>\n",
       "      <td>2019-04-01</td>\n",
       "      <td>7.6</td>\n",
       "    </tr>\n",
       "    <tr>\n",
       "      <th>213767</th>\n",
       "      <td>53</td>\n",
       "      <td>9</td>\n",
       "      <td>Administrador Sucursal - Franquicia Pintuco</td>\n",
       "      <td>NaN</td>\n",
       "      <td>Pereira</td>\n",
       "      <td>Ventas de Mostrador</td>\n",
       "      <td>3 a 5</td>\n",
       "      <td>No</td>\n",
       "      <td>2014-05-01</td>\n",
       "      <td>2019-04-01</td>\n",
       "      <td>4.9</td>\n",
       "    </tr>\n",
       "    <tr>\n",
       "      <th>225409</th>\n",
       "      <td>54</td>\n",
       "      <td>10</td>\n",
       "      <td>Asesor On Farm</td>\n",
       "      <td>Agropecuario</td>\n",
       "      <td>Medellín</td>\n",
       "      <td>Viajero (Correrías)</td>\n",
       "      <td>0</td>\n",
       "      <td>Yes</td>\n",
       "      <td>2015-10-01</td>\n",
       "      <td>2019-04-01</td>\n",
       "      <td>3.5</td>\n",
       "    </tr>\n",
       "  </tbody>\n",
       "</table>\n",
       "</div>"
      ],
      "text/plain": [
       "        candidate_id      id                                    job_title  \\\n",
       "46528              2   75221                                      Gerente   \n",
       "204660            51  231146                                  Key Account   \n",
       "146420            51  231158              Gerente Comercial de Importados   \n",
       "213767            53       9  Administrador Sucursal - Franquicia Pintuco   \n",
       "225409            54      10                               Asesor On Farm   \n",
       "\n",
       "                     industry_name     location  \\\n",
       "46528   Consumo masivo y Alimentos  Bogotá D.C.   \n",
       "204660  Consumo masivo y Alimentos  Bogotá D.C.   \n",
       "146420  Consumo masivo y Alimentos  Bogotá D.C.   \n",
       "213767                         NaN      Pereira   \n",
       "225409                Agropecuario     Medellín   \n",
       "\n",
       "                                        sale_type person_in_charge observed  \\\n",
       "46528   Ejecutivo de cuenta / Key Account Manager            1 o 2       No   \n",
       "204660  Ejecutivo de cuenta / Key Account Manager            1 o 2      Yes   \n",
       "146420  Ejecutivo de cuenta / Key Account Manager           6 a 10      Yes   \n",
       "213767                        Ventas de Mostrador            3 a 5       No   \n",
       "225409                        Viajero (Correrías)                0      Yes   \n",
       "\n",
       "       starting_date ending_date  duration (Years)  \n",
       "46528     2016-01-01  2019-04-01               3.2  \n",
       "204660    2016-01-01  2019-04-01               3.2  \n",
       "146420    2011-09-01  2019-04-01               7.6  \n",
       "213767    2014-05-01  2019-04-01               4.9  \n",
       "225409    2015-10-01  2019-04-01               3.5  "
      ]
     },
     "execution_count": 55,
     "metadata": {},
     "output_type": "execute_result"
    }
   ],
   "source": [
    "work_experience_df['duration (Years)'] = work_experience_df['ending_date'] - work_experience_df['starting_date']\n",
    "work_experience_df['duration (Years)'] = work_experience_df['duration (Years)'].apply(lambda duration: round(duration.days/365,1))\n",
    "print(f'{len(work_experience_df):,} registros a las {datetime.now().strftime(\"%m/%d/%Y, %H:%M:%S\")}')\n",
    "work_experience_df.head()"
   ]
  },
  {
   "cell_type": "markdown",
   "metadata": {},
   "source": [
    "Agrupamos por candidato, para tener la experiencia total en años"
   ]
  },
  {
   "cell_type": "code",
   "execution_count": 56,
   "metadata": {
    "scrolled": true
   },
   "outputs": [
    {
     "name": "stdout",
     "output_type": "stream",
     "text": [
      "115,781 registros a las 08/04/2020, 00:18:15\n"
     ]
    },
    {
     "data": {
      "text/html": [
       "<div>\n",
       "<style scoped>\n",
       "    .dataframe tbody tr th:only-of-type {\n",
       "        vertical-align: middle;\n",
       "    }\n",
       "\n",
       "    .dataframe tbody tr th {\n",
       "        vertical-align: top;\n",
       "    }\n",
       "\n",
       "    .dataframe thead th {\n",
       "        text-align: right;\n",
       "    }\n",
       "</style>\n",
       "<table border=\"1\" class=\"dataframe\">\n",
       "  <thead>\n",
       "    <tr style=\"text-align: right;\">\n",
       "      <th></th>\n",
       "      <th>candidate_id</th>\n",
       "      <th>duration (Years)</th>\n",
       "    </tr>\n",
       "  </thead>\n",
       "  <tbody>\n",
       "    <tr>\n",
       "      <th>0</th>\n",
       "      <td>2</td>\n",
       "      <td>3.2</td>\n",
       "    </tr>\n",
       "    <tr>\n",
       "      <th>1</th>\n",
       "      <td>51</td>\n",
       "      <td>10.8</td>\n",
       "    </tr>\n",
       "    <tr>\n",
       "      <th>2</th>\n",
       "      <td>53</td>\n",
       "      <td>4.9</td>\n",
       "    </tr>\n",
       "    <tr>\n",
       "      <th>3</th>\n",
       "      <td>54</td>\n",
       "      <td>23.8</td>\n",
       "    </tr>\n",
       "    <tr>\n",
       "      <th>4</th>\n",
       "      <td>57</td>\n",
       "      <td>19.8</td>\n",
       "    </tr>\n",
       "  </tbody>\n",
       "</table>\n",
       "</div>"
      ],
      "text/plain": [
       "   candidate_id  duration (Years)\n",
       "0             2               3.2\n",
       "1            51              10.8\n",
       "2            53               4.9\n",
       "3            54              23.8\n",
       "4            57              19.8"
      ]
     },
     "execution_count": 56,
     "metadata": {},
     "output_type": "execute_result"
    }
   ],
   "source": [
    "work_experience_grouped_1_df = work_experience_df.groupby('candidate_id').agg({'duration (Years)' : 'sum'}).reset_index()\n",
    "print(f'{len(work_experience_grouped_1_df):,} registros a las {datetime.now().strftime(\"%m/%d/%Y, %H:%M:%S\")}')\n",
    "work_experience_grouped_1_df.head()"
   ]
  },
  {
   "cell_type": "markdown",
   "metadata": {},
   "source": [
    "Hacemos un analisis preliminar por deciles, para analizar la distribución de la experiencia laboral de años"
   ]
  },
  {
   "cell_type": "code",
   "execution_count": 57,
   "metadata": {
    "scrolled": true
   },
   "outputs": [
    {
     "data": {
      "text/plain": [
       "count    115781.000000\n",
       "mean         12.624262\n",
       "std          16.205463\n",
       "min           0.200000\n",
       "25%           3.500000\n",
       "50%           7.300000\n",
       "75%          15.200000\n",
       "90%          28.400000\n",
       "95%          40.800000\n",
       "99%          79.900000\n",
       "max         430.400000\n",
       "Name: duration (Years), dtype: float64"
      ]
     },
     "execution_count": 57,
     "metadata": {},
     "output_type": "execute_result"
    }
   ],
   "source": [
    "work_experience_grouped_1_df['duration (Years)'].describe([.25, .5, .75, .90, .95, .99])"
   ]
  },
  {
   "cell_type": "markdown",
   "metadata": {},
   "source": [
    "Podemos observar que hay *ouliers* en la data, ya que\n",
    "1. El 75% de los candidatos tiene 15 años de experiencia o menos\n",
    "1. El 95% de los candidatos tiene 40 años de experiencia o menos\n",
    "1. El 99% de los cantidatos tiene 79 años de experiencia o menos. Puede deberse a personas muy ancianas\n",
    "1. Existe un candidato que tiene 430 años de experiencia (!!). Claramente es un *outlier*"
   ]
  },
  {
   "cell_type": "markdown",
   "metadata": {},
   "source": [
    "Unimos con el dataframe de **candidates**"
   ]
  },
  {
   "cell_type": "code",
   "execution_count": 58,
   "metadata": {
    "scrolled": true
   },
   "outputs": [
    {
     "name": "stdout",
     "output_type": "stream",
     "text": [
      "115,781 registros a las 08/04/2020, 00:18:15\n"
     ]
    },
    {
     "data": {
      "text/html": [
       "<div>\n",
       "<style scoped>\n",
       "    .dataframe tbody tr th:only-of-type {\n",
       "        vertical-align: middle;\n",
       "    }\n",
       "\n",
       "    .dataframe tbody tr th {\n",
       "        vertical-align: top;\n",
       "    }\n",
       "\n",
       "    .dataframe thead th {\n",
       "        text-align: right;\n",
       "    }\n",
       "</style>\n",
       "<table border=\"1\" class=\"dataframe\">\n",
       "  <thead>\n",
       "    <tr style=\"text-align: right;\">\n",
       "      <th></th>\n",
       "      <th>id</th>\n",
       "      <th>location</th>\n",
       "      <th>birthdate</th>\n",
       "      <th>gender</th>\n",
       "      <th>salary_range (M)</th>\n",
       "      <th>transport</th>\n",
       "      <th>created_on</th>\n",
       "      <th>candidate_id</th>\n",
       "      <th>duration (Years)</th>\n",
       "    </tr>\n",
       "  </thead>\n",
       "  <tbody>\n",
       "    <tr>\n",
       "      <th>0</th>\n",
       "      <td>2</td>\n",
       "      <td>Bogotá D.C.</td>\n",
       "      <td>1992-11-06</td>\n",
       "      <td>Femenino</td>\n",
       "      <td>1,5 a 2</td>\n",
       "      <td>Ninguno</td>\n",
       "      <td>2016-01-19 18:46:16</td>\n",
       "      <td>2</td>\n",
       "      <td>3.2</td>\n",
       "    </tr>\n",
       "    <tr>\n",
       "      <th>1</th>\n",
       "      <td>51</td>\n",
       "      <td>Bogotá D.C.</td>\n",
       "      <td>1982-06-30</td>\n",
       "      <td>Masculino</td>\n",
       "      <td>3,5 a 4</td>\n",
       "      <td>Ninguno</td>\n",
       "      <td>2016-01-19 18:46:16</td>\n",
       "      <td>51</td>\n",
       "      <td>10.8</td>\n",
       "    </tr>\n",
       "    <tr>\n",
       "      <th>2</th>\n",
       "      <td>53</td>\n",
       "      <td>Pereira</td>\n",
       "      <td>1989-09-14</td>\n",
       "      <td>Masculino</td>\n",
       "      <td>1 a 1,5</td>\n",
       "      <td>Ninguno</td>\n",
       "      <td>2016-01-19 18:46:16</td>\n",
       "      <td>53</td>\n",
       "      <td>4.9</td>\n",
       "    </tr>\n",
       "    <tr>\n",
       "      <th>3</th>\n",
       "      <td>54</td>\n",
       "      <td>Medellín</td>\n",
       "      <td>1978-03-16</td>\n",
       "      <td>Masculino</td>\n",
       "      <td>3,5 a 4</td>\n",
       "      <td>Carro</td>\n",
       "      <td>2016-01-19 18:46:16</td>\n",
       "      <td>54</td>\n",
       "      <td>23.8</td>\n",
       "    </tr>\n",
       "    <tr>\n",
       "      <th>4</th>\n",
       "      <td>57</td>\n",
       "      <td>Soacha</td>\n",
       "      <td>1970-10-22</td>\n",
       "      <td>Masculino</td>\n",
       "      <td>1 a 1,5</td>\n",
       "      <td>Ninguno</td>\n",
       "      <td>2016-01-19 18:52:00</td>\n",
       "      <td>57</td>\n",
       "      <td>19.8</td>\n",
       "    </tr>\n",
       "  </tbody>\n",
       "</table>\n",
       "</div>"
      ],
      "text/plain": [
       "   id     location  birthdate     gender salary_range (M) transport  \\\n",
       "0   2  Bogotá D.C. 1992-11-06   Femenino          1,5 a 2   Ninguno   \n",
       "1  51  Bogotá D.C. 1982-06-30  Masculino          3,5 a 4   Ninguno   \n",
       "2  53      Pereira 1989-09-14  Masculino          1 a 1,5   Ninguno   \n",
       "3  54     Medellín 1978-03-16  Masculino          3,5 a 4     Carro   \n",
       "4  57       Soacha 1970-10-22  Masculino          1 a 1,5   Ninguno   \n",
       "\n",
       "           created_on  candidate_id  duration (Years)  \n",
       "0 2016-01-19 18:46:16             2               3.2  \n",
       "1 2016-01-19 18:46:16            51              10.8  \n",
       "2 2016-01-19 18:46:16            53               4.9  \n",
       "3 2016-01-19 18:46:16            54              23.8  \n",
       "4 2016-01-19 18:52:00            57              19.8  "
      ]
     },
     "execution_count": 58,
     "metadata": {},
     "output_type": "execute_result"
    }
   ],
   "source": [
    "candidate_2_df = candidate_df.merge(work_experience_grouped_1_df, left_on='id', right_on='candidate_id', how='left')\n",
    "print(f'{len(candidate_2_df):,} registros a las {datetime.now().strftime(\"%m/%d/%Y, %H:%M:%S\")}')\n",
    "candidate_2_df.head()"
   ]
  },
  {
   "cell_type": "markdown",
   "metadata": {},
   "source": []
  },
  {
   "cell_type": "code",
   "execution_count": 59,
   "metadata": {
    "scrolled": true
   },
   "outputs": [
    {
     "data": {
      "text/plain": [
       "array(['Ninguno', 'Carro', 'Camioneta', 'Moto', 'N/A'], dtype=object)"
      ]
     },
     "execution_count": 59,
     "metadata": {},
     "output_type": "execute_result"
    }
   ],
   "source": [
    "candidate_2_df.transport.unique()"
   ]
  },
  {
   "cell_type": "code",
   "execution_count": 60,
   "metadata": {},
   "outputs": [
    {
     "data": {
      "text/plain": [
       "array(['1,5 a 2', '3,5 a 4', '1 a 1,5', '4 a 5', '2,5 a 3', '2 a 2,5',\n",
       "       '< 1', '3 a 3,5', '5 a 6', '6 a 8', '8 a 10', '10+', 'N/A'],\n",
       "      dtype=object)"
      ]
     },
     "execution_count": 60,
     "metadata": {},
     "output_type": "execute_result"
    }
   ],
   "source": [
    "candidate_2_df['salary_range (M)'].unique()"
   ]
  },
  {
   "cell_type": "code",
   "execution_count": 61,
   "metadata": {},
   "outputs": [
    {
     "data": {
      "text/plain": [
       "array(['Femenino', 'Masculino', 'N/A'], dtype=object)"
      ]
     },
     "execution_count": 61,
     "metadata": {},
     "output_type": "execute_result"
    }
   ],
   "source": [
    "candidate_2_df.gender.unique()"
   ]
  },
  {
   "cell_type": "code",
   "execution_count": 62,
   "metadata": {
    "scrolled": false
   },
   "outputs": [
    {
     "data": {
      "image/png": "[encoded data removed]",
      "text/plain": [
       "<Figure size 1440x1440 with 3 Axes>"
      ]
     },
     "metadata": {
      "needs_background": "light"
     },
     "output_type": "display_data"
    }
   ],
   "source": [
    "fig, (ax1, ax2, ax3) = plt.subplots(3, 1, figsize=(20, 20))\n",
    "fig.suptitle('Distribution of years of experiences of candidates', fontsize=16, y=.915)\n",
    "\n",
    "sns.boxplot(y='duration (Years)', x='transport', data=candidate_2_df, ax=ax1, showfliers=False)\n",
    "ax1.set_ylabel('Year of experience')\n",
    "ax1.set_xlabel('Transports')\n",
    "\n",
    "sns.boxplot(y='duration (Years)', x='salary_range (M)', data=candidate_2_df, ax=ax2, showfliers=False)\n",
    "ax2.set_ylabel('Year of experience')\n",
    "ax2.set_xlabel('Salary ranges')\n",
    "\n",
    "sns.boxplot(y='duration (Years)', x='gender', data=candidate_2_df, ax=ax3, showfliers=False)\n",
    "ax3.set_ylabel('Year of experience')\n",
    "ax3.set_xlabel('Gender')\n",
    "\n",
    "plt.show()"
   ]
  },
  {
   "cell_type": "markdown",
   "metadata": {},
   "source": [
    "##### Age of the candidate"
   ]
  },
  {
   "cell_type": "markdown",
   "metadata": {},
   "source": [
    "Calculamos cuánto ha durado cada trabajador en sus trabajos"
   ]
  },
  {
   "cell_type": "code",
   "execution_count": 63,
   "metadata": {
    "scrolled": true
   },
   "outputs": [
    {
     "name": "stdout",
     "output_type": "stream",
     "text": [
      "115,781 registros a las 08/04/2020, 00:18:17\n"
     ]
    },
    {
     "data": {
      "text/html": [
       "<div>\n",
       "<style scoped>\n",
       "    .dataframe tbody tr th:only-of-type {\n",
       "        vertical-align: middle;\n",
       "    }\n",
       "\n",
       "    .dataframe tbody tr th {\n",
       "        vertical-align: top;\n",
       "    }\n",
       "\n",
       "    .dataframe thead th {\n",
       "        text-align: right;\n",
       "    }\n",
       "</style>\n",
       "<table border=\"1\" class=\"dataframe\">\n",
       "  <thead>\n",
       "    <tr style=\"text-align: right;\">\n",
       "      <th></th>\n",
       "      <th>id</th>\n",
       "      <th>location</th>\n",
       "      <th>birthdate</th>\n",
       "      <th>gender</th>\n",
       "      <th>salary_range (M)</th>\n",
       "      <th>transport</th>\n",
       "      <th>created_on</th>\n",
       "      <th>candidate_id</th>\n",
       "      <th>duration (Years)</th>\n",
       "      <th>Age</th>\n",
       "    </tr>\n",
       "  </thead>\n",
       "  <tbody>\n",
       "    <tr>\n",
       "      <th>0</th>\n",
       "      <td>2</td>\n",
       "      <td>Bogotá D.C.</td>\n",
       "      <td>1992-11-06</td>\n",
       "      <td>Femenino</td>\n",
       "      <td>1,5 a 2</td>\n",
       "      <td>Ninguno</td>\n",
       "      <td>2016-01-19 18:46:16</td>\n",
       "      <td>2</td>\n",
       "      <td>3.2</td>\n",
       "      <td>27</td>\n",
       "    </tr>\n",
       "    <tr>\n",
       "      <th>1</th>\n",
       "      <td>51</td>\n",
       "      <td>Bogotá D.C.</td>\n",
       "      <td>1982-06-30</td>\n",
       "      <td>Masculino</td>\n",
       "      <td>3,5 a 4</td>\n",
       "      <td>Ninguno</td>\n",
       "      <td>2016-01-19 18:46:16</td>\n",
       "      <td>51</td>\n",
       "      <td>10.8</td>\n",
       "      <td>38</td>\n",
       "    </tr>\n",
       "    <tr>\n",
       "      <th>2</th>\n",
       "      <td>53</td>\n",
       "      <td>Pereira</td>\n",
       "      <td>1989-09-14</td>\n",
       "      <td>Masculino</td>\n",
       "      <td>1 a 1,5</td>\n",
       "      <td>Ninguno</td>\n",
       "      <td>2016-01-19 18:46:16</td>\n",
       "      <td>53</td>\n",
       "      <td>4.9</td>\n",
       "      <td>30</td>\n",
       "    </tr>\n",
       "    <tr>\n",
       "      <th>3</th>\n",
       "      <td>54</td>\n",
       "      <td>Medellín</td>\n",
       "      <td>1978-03-16</td>\n",
       "      <td>Masculino</td>\n",
       "      <td>3,5 a 4</td>\n",
       "      <td>Carro</td>\n",
       "      <td>2016-01-19 18:46:16</td>\n",
       "      <td>54</td>\n",
       "      <td>23.8</td>\n",
       "      <td>42</td>\n",
       "    </tr>\n",
       "    <tr>\n",
       "      <th>4</th>\n",
       "      <td>57</td>\n",
       "      <td>Soacha</td>\n",
       "      <td>1970-10-22</td>\n",
       "      <td>Masculino</td>\n",
       "      <td>1 a 1,5</td>\n",
       "      <td>Ninguno</td>\n",
       "      <td>2016-01-19 18:52:00</td>\n",
       "      <td>57</td>\n",
       "      <td>19.8</td>\n",
       "      <td>49</td>\n",
       "    </tr>\n",
       "  </tbody>\n",
       "</table>\n",
       "</div>"
      ],
      "text/plain": [
       "   id     location  birthdate     gender salary_range (M) transport  \\\n",
       "0   2  Bogotá D.C. 1992-11-06   Femenino          1,5 a 2   Ninguno   \n",
       "1  51  Bogotá D.C. 1982-06-30  Masculino          3,5 a 4   Ninguno   \n",
       "2  53      Pereira 1989-09-14  Masculino          1 a 1,5   Ninguno   \n",
       "3  54     Medellín 1978-03-16  Masculino          3,5 a 4     Carro   \n",
       "4  57       Soacha 1970-10-22  Masculino          1 a 1,5   Ninguno   \n",
       "\n",
       "           created_on  candidate_id  duration (Years)  Age  \n",
       "0 2016-01-19 18:46:16             2               3.2   27  \n",
       "1 2016-01-19 18:46:16            51              10.8   38  \n",
       "2 2016-01-19 18:46:16            53               4.9   30  \n",
       "3 2016-01-19 18:46:16            54              23.8   42  \n",
       "4 2016-01-19 18:52:00            57              19.8   49  "
      ]
     },
     "execution_count": 63,
     "metadata": {},
     "output_type": "execute_result"
    }
   ],
   "source": [
    "candidate_2_df['Age'] = datetime.today() - candidate_2_df['birthdate']\n",
    "candidate_2_df['Age'] = candidate_2_df['Age'].apply(lambda age: int(age.days/365))\n",
    "print(f'{len(candidate_2_df):,} registros a las {datetime.now().strftime(\"%m/%d/%Y, %H:%M:%S\")}')\n",
    "candidate_2_df.head()"
   ]
  },
  {
   "cell_type": "code",
   "execution_count": 64,
   "metadata": {},
   "outputs": [
    {
     "data": {
      "text/plain": [
       "count    115781.000000\n",
       "mean         31.442534\n",
       "std           8.869336\n",
       "min           1.000000\n",
       "25%          25.000000\n",
       "50%          30.000000\n",
       "75%          37.000000\n",
       "90%          44.000000\n",
       "95%          49.000000\n",
       "99%          56.000000\n",
       "max          70.000000\n",
       "Name: Age, dtype: float64"
      ]
     },
     "execution_count": 64,
     "metadata": {},
     "output_type": "execute_result"
    }
   ],
   "source": [
    "candidate_2_df['Age'].describe([.25, .5, .75, .90, .95, .99])"
   ]
  },
  {
   "cell_type": "code",
   "execution_count": 65,
   "metadata": {
    "scrolled": true
   },
   "outputs": [
    {
     "data": {
      "image/png": "[encoded data removed]",
      "text/plain": [
       "<Figure size 1440x1440 with 3 Axes>"
      ]
     },
     "metadata": {
      "needs_background": "light"
     },
     "output_type": "display_data"
    }
   ],
   "source": [
    "fig, (ax1, ax2, ax3) = plt.subplots(3, 1, figsize=(20, 20))\n",
    "fig.suptitle('Distribution of years of experiences of candidates', fontsize=16, y=.915)\n",
    "\n",
    "sns.boxplot(y='Age', x='transport', data=candidate_2_df, ax=ax1, showfliers=False)\n",
    "ax1.set_ylabel('Age')\n",
    "ax1.set_xlabel('Transports')\n",
    "\n",
    "sns.boxplot(y='Age', x='salary_range (M)', data=candidate_2_df, ax=ax2, showfliers=False)\n",
    "ax2.set_ylabel('Age')\n",
    "ax2.set_xlabel('Salary ranges')\n",
    "\n",
    "sns.boxplot(y='Age', x='gender', data=candidate_2_df, ax=ax3, showfliers=False)\n",
    "ax3.set_ylabel('Age')\n",
    "ax3.set_xlabel('Gender')\n",
    "\n",
    "plt.show()"
   ]
  }
 ],
 "metadata": {
  "kernelspec": {
   "display_name": "Python 3",
   "language": "python",
   "name": "python3"
  },
  "language_info": {
   "codemirror_mode": {
    "name": "ipython",
    "version": 3
   },
   "file_extension": ".py",
   "mimetype": "text/x-python",
   "name": "python",
   "nbconvert_exporter": "python",
   "pygments_lexer": "ipython3",
   "version": "3.7.4"
  }
 },
 "nbformat": 4,
 "nbformat_minor": 4
}
