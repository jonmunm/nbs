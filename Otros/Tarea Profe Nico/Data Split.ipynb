{
 "cells": [
  {
   "cell_type": "code",
   "execution_count": 1,
   "metadata": {},
   "outputs": [],
   "source": [
    "%load_ext autoreload\n",
    "%autoreload 2"
   ]
  },
  {
   "cell_type": "code",
   "execution_count": 2,
   "metadata": {},
   "outputs": [],
   "source": [
    "import pandas as pd\n",
    "import numpy as np\n",
    "from datetime import datetime, timedelta\n",
    "from sklearn.model_selection import train_test_split"
   ]
  },
  {
   "cell_type": "markdown",
   "metadata": {},
   "source": [
    "##### Reproducibility"
   ]
  },
  {
   "cell_type": "code",
   "execution_count": 3,
   "metadata": {},
   "outputs": [],
   "source": [
    "np.random.seed(0)"
   ]
  },
  {
   "cell_type": "markdown",
   "metadata": {},
   "source": [
    "### Dataset's"
   ]
  },
  {
   "cell_type": "code",
   "execution_count": 5,
   "metadata": {},
   "outputs": [],
   "source": [
    "X_df = pd.read_csv('inputs/TRAIN.txt', sep='\\t', low_memory=False).sort_values('SKU', ascending=True)\n",
    "target = 'VENTA_ALTA'\n",
    "X_train, X_test, Y_train, Y_test = train_test_split(X_df.drop(target, axis=1), X_df[target], test_size=0.2, random_state=42)"
   ]
  },
  {
   "cell_type": "code",
   "execution_count": 6,
   "metadata": {},
   "outputs": [
    {
     "data": {
      "text/plain": [
       "(48637, 12160, 48637, 12160)"
      ]
     },
     "execution_count": 6,
     "metadata": {},
     "output_type": "execute_result"
    }
   ],
   "source": [
    "len(X_train), len(X_test), len(Y_train), len(Y_test)"
   ]
  },
  {
   "cell_type": "code",
   "execution_count": 7,
   "metadata": {},
   "outputs": [
    {
     "data": {
      "text/html": [
       "<div>\n",
       "<style scoped>\n",
       "    .dataframe tbody tr th:only-of-type {\n",
       "        vertical-align: middle;\n",
       "    }\n",
       "\n",
       "    .dataframe tbody tr th {\n",
       "        vertical-align: top;\n",
       "    }\n",
       "\n",
       "    .dataframe thead th {\n",
       "        text-align: right;\n",
       "    }\n",
       "</style>\n",
       "<table border=\"1\" class=\"dataframe\">\n",
       "  <thead>\n",
       "    <tr style=\"text-align: right;\">\n",
       "      <th></th>\n",
       "      <th>ORDEN</th>\n",
       "      <th>SKU</th>\n",
       "      <th>MARKETING</th>\n",
       "      <th>ACTUALIZACIONES</th>\n",
       "      <th>ACTUALIZADO</th>\n",
       "      <th>VENTAS_ACUMULADAS</th>\n",
       "      <th>PRICE</th>\n",
       "      <th>LANZAMIENTO</th>\n",
       "      <th>CANTIDAD</th>\n",
       "      <th>PRECIO_MIN</th>\n",
       "      <th>SD_PRECIO</th>\n",
       "    </tr>\n",
       "  </thead>\n",
       "  <tbody>\n",
       "    <tr>\n",
       "      <th>34739</th>\n",
       "      <td>7405</td>\n",
       "      <td>287003</td>\n",
       "      <td>D</td>\n",
       "      <td>2</td>\n",
       "      <td>1</td>\n",
       "      <td>497816</td>\n",
       "      <td>49.95</td>\n",
       "      <td>2002</td>\n",
       "      <td>83</td>\n",
       "      <td>31.78</td>\n",
       "      <td>21.02</td>\n",
       "    </tr>\n",
       "    <tr>\n",
       "      <th>13304</th>\n",
       "      <td>2701</td>\n",
       "      <td>146431</td>\n",
       "      <td>D</td>\n",
       "      <td>12</td>\n",
       "      <td>1</td>\n",
       "      <td>1604078</td>\n",
       "      <td>148.80</td>\n",
       "      <td>2009</td>\n",
       "      <td>28</td>\n",
       "      <td>50.17</td>\n",
       "      <td>142.17</td>\n",
       "    </tr>\n",
       "    <tr>\n",
       "      <th>12825</th>\n",
       "      <td>64477</td>\n",
       "      <td>3479827</td>\n",
       "      <td>S</td>\n",
       "      <td>2</td>\n",
       "      <td>1</td>\n",
       "      <td>197213</td>\n",
       "      <td>49.95</td>\n",
       "      <td>2015</td>\n",
       "      <td>81</td>\n",
       "      <td>0.00</td>\n",
       "      <td>28.99</td>\n",
       "    </tr>\n",
       "    <tr>\n",
       "      <th>33072</th>\n",
       "      <td>71790</td>\n",
       "      <td>57111</td>\n",
       "      <td>S</td>\n",
       "      <td>3</td>\n",
       "      <td>1</td>\n",
       "      <td>24919</td>\n",
       "      <td>67.00</td>\n",
       "      <td>2006</td>\n",
       "      <td>63</td>\n",
       "      <td>19.99</td>\n",
       "      <td>37.99</td>\n",
       "    </tr>\n",
       "    <tr>\n",
       "      <th>2430</th>\n",
       "      <td>67536</td>\n",
       "      <td>170147</td>\n",
       "      <td>S</td>\n",
       "      <td>2</td>\n",
       "      <td>1</td>\n",
       "      <td>1291848</td>\n",
       "      <td>99.95</td>\n",
       "      <td>2011</td>\n",
       "      <td>45</td>\n",
       "      <td>4.00</td>\n",
       "      <td>36.98</td>\n",
       "    </tr>\n",
       "  </tbody>\n",
       "</table>\n",
       "</div>"
      ],
      "text/plain": [
       "       ORDEN      SKU MARKETING  ACTUALIZACIONES  ACTUALIZADO  \\\n",
       "34739   7405   287003         D                2            1   \n",
       "13304   2701   146431         D               12            1   \n",
       "12825  64477  3479827         S                2            1   \n",
       "33072  71790    57111         S                3            1   \n",
       "2430   67536   170147         S                2            1   \n",
       "\n",
       "       VENTAS_ACUMULADAS   PRICE  LANZAMIENTO  CANTIDAD  PRECIO_MIN  SD_PRECIO  \n",
       "34739             497816   49.95         2002        83       31.78      21.02  \n",
       "13304            1604078  148.80         2009        28       50.17     142.17  \n",
       "12825             197213   49.95         2015        81        0.00      28.99  \n",
       "33072              24919   67.00         2006        63       19.99      37.99  \n",
       "2430             1291848   99.95         2011        45        4.00      36.98  "
      ]
     },
     "execution_count": 7,
     "metadata": {},
     "output_type": "execute_result"
    }
   ],
   "source": [
    "X_train.head()"
   ]
  },
  {
   "cell_type": "code",
   "execution_count": 8,
   "metadata": {},
   "outputs": [
    {
     "data": {
      "text/plain": [
       "34739    0\n",
       "13304    0\n",
       "12825    0\n",
       "33072    0\n",
       "2430     0\n",
       "Name: VENTA_ALTA, dtype: int64"
      ]
     },
     "execution_count": 8,
     "metadata": {},
     "output_type": "execute_result"
    }
   ],
   "source": [
    "Y_train.head()"
   ]
  },
  {
   "cell_type": "code",
   "execution_count": 9,
   "metadata": {},
   "outputs": [],
   "source": [
    "X_train['VENTA_ALTA'] = Y_train\n",
    "X_test['VENTA_ALTA'] = Y_test"
   ]
  },
  {
   "cell_type": "markdown",
   "metadata": {},
   "source": [
    "There was 31 items with no price, min_price and sd_price. We delete them ..."
   ]
  },
  {
   "cell_type": "code",
   "execution_count": 11,
   "metadata": {},
   "outputs": [],
   "source": [
    "X_train = X_train[(X_train['PRECIO_MIN'] > .0) | (X_train['SD_PRECIO'] > .0) | (X_train['PRICE'] > .0)]\n",
    "X_test = X_test[(X_test['PRECIO_MIN'] > .0) | (X_test['SD_PRECIO'] > .0) | (X_test['PRICE'] > .0)]"
   ]
  },
  {
   "cell_type": "code",
   "execution_count": 12,
   "metadata": {},
   "outputs": [],
   "source": [
    "X_train.to_csv('inputs/train.csv', index=False)\n",
    "X_test.to_csv('inputs/validation.csv', index=False)"
   ]
  }
 ],
 "metadata": {
  "kernelspec": {
   "display_name": "Python 3",
   "language": "python",
   "name": "python3"
  },
  "language_info": {
   "codemirror_mode": {
    "name": "ipython",
    "version": 3
   },
   "file_extension": ".py",
   "mimetype": "text/x-python",
   "name": "python",
   "nbconvert_exporter": "python",
   "pygments_lexer": "ipython3",
   "version": "3.8.5"
  }
 },
 "nbformat": 4,
 "nbformat_minor": 4
}
