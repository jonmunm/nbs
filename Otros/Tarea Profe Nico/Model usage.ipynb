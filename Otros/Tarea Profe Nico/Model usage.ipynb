{
 "cells": [
  {
   "cell_type": "code",
   "execution_count": 1,
   "metadata": {},
   "outputs": [],
   "source": [
    "%load_ext autoreload\n",
    "%autoreload 2"
   ]
  },
  {
   "cell_type": "code",
   "execution_count": 2,
   "metadata": {},
   "outputs": [],
   "source": [
    "import sys\n",
    "sys.path.append('.')\n",
    "\n",
    "import pandas as pd\n",
    "import numpy as np\n",
    "from datetime import datetime, timedelta\n",
    "\n",
    "import sklearn\n",
    "from sklearn.metrics import roc_auc_score\n",
    "from sklearn.preprocessing import FunctionTransformer as FT\n",
    "from sklearn.impute import SimpleImputer\n",
    "\n",
    "from lib.Datasets import TabularDataset\n",
    "from lib.Transformers import NumericalTransformer, CategoricalTransformer, CategoricalTargetTransformer, DatasetTransformer\n",
    "from lib.Runner import Runner\n",
    "\n",
    "%matplotlib inline\n",
    "import matplotlib.pyplot as plt\n",
    "\n",
    "import torch\n",
    "import torch.nn as nn\n",
    "import torch.nn.functional as F\n",
    "from torch import tensor, Tensor\n",
    "from torch.optim import Optimizer\n",
    "from torch.optim import Adam, SGD\n",
    "from torch.optim.lr_scheduler import ExponentialLR, OneCycleLR\n",
    "from torch.utils.data import DataLoader"
   ]
  },
  {
   "cell_type": "markdown",
   "metadata": {},
   "source": [
    "##### Reproducibility"
   ]
  },
  {
   "cell_type": "code",
   "execution_count": 3,
   "metadata": {},
   "outputs": [],
   "source": [
    "torch.manual_seed(0)\n",
    "np.random.seed(0)"
   ]
  },
  {
   "cell_type": "markdown",
   "metadata": {},
   "source": [
    "### Dataset's"
   ]
  },
  {
   "cell_type": "code",
   "execution_count": 39,
   "metadata": {},
   "outputs": [
    {
     "name": "stdout",
     "output_type": "stream",
     "text": [
      "48,610 registros a las 2020-11-09 16:48:04.762158\n"
     ]
    },
    {
     "data": {
      "text/plain": [
       "({'ORDEN': 63770,\n",
       "  'SKU': 50001,\n",
       "  'MARKETING': 'S',\n",
       "  'ACTUALIZACIONES': 8,\n",
       "  'ACTUALIZADO': 1,\n",
       "  'VENTAS_ACUMULADAS': 2167227,\n",
       "  'PRICE': 149.35,\n",
       "  'LANZAMIENTO': 2003,\n",
       "  'CANTIDAD': 32,\n",
       "  'PRECIO_MIN': 176.23,\n",
       "  'SD_PRECIO': 65.27,\n",
       "  'VENTA_ALTA': 0},\n",
       " 0)"
      ]
     },
     "execution_count": 39,
     "metadata": {},
     "output_type": "execute_result"
    }
   ],
   "source": [
    "X_train_df = pd.read_csv('inputs/train.csv', low_memory=False).sort_values('SKU', ascending=True)\n",
    "\n",
    "X_train = X_train_df.to_dict('records')\n",
    "Y_train = X_train_df['VENTA_ALTA'].values\n",
    "print('{0:,} registros a las {1}'.format(len(X_train), datetime.now()))\n",
    "X_train[0], Y_train[0]"
   ]
  },
  {
   "cell_type": "code",
   "execution_count": 40,
   "metadata": {},
   "outputs": [
    {
     "name": "stdout",
     "output_type": "stream",
     "text": [
      "12,156 registros a las 2020-11-09 16:48:07.572568\n"
     ]
    },
    {
     "data": {
      "text/plain": [
       "({'ORDEN': 5550,\n",
       "  'SKU': 50005,\n",
       "  'MARKETING': 'D',\n",
       "  'ACTUALIZACIONES': 7,\n",
       "  'ACTUALIZADO': 1,\n",
       "  'VENTAS_ACUMULADAS': 247778,\n",
       "  'PRICE': 128.95,\n",
       "  'LANZAMIENTO': 2008,\n",
       "  'CANTIDAD': 81,\n",
       "  'PRECIO_MIN': 72.93,\n",
       "  'SD_PRECIO': 21.74,\n",
       "  'VENTA_ALTA': 0},\n",
       " 0)"
      ]
     },
     "execution_count": 40,
     "metadata": {},
     "output_type": "execute_result"
    }
   ],
   "source": [
    "X_validation_df = pd.read_csv('inputs/validation.csv', low_memory=False).sort_values('SKU', ascending=True)\n",
    "\n",
    "X_validation = X_validation_df.to_dict('records')\n",
    "Y_validation = X_validation_df['VENTA_ALTA'].values\n",
    "print('{0:,} registros a las {1}'.format(len(X_validation), datetime.now()))\n",
    "X_validation[0], Y_validation[0]"
   ]
  },
  {
   "cell_type": "markdown",
   "metadata": {},
   "source": [
    "### Transformations & Feature enginnering"
   ]
  },
  {
   "cell_type": "code",
   "execution_count": 41,
   "metadata": {},
   "outputs": [],
   "source": [
    "def get_price(X):\n",
    "    prices = np.array(X['PRICE'], dtype=np.float64)\n",
    "    min_prices = np.array(X['PRECIO_MIN'], dtype=np.float64)\n",
    "    sd_prices = np.array(X['SD_PRECIO'], dtype=np.float64)\n",
    "    \n",
    "    return [price if price > 0 else min_price+sd_price for price, min_price, sd_price in zip(prices, min_prices, sd_prices)]\n",
    "\n",
    "get_discount = lambda X: 1 - np.array(X['price'], dtype=np.float64)/np.array(X['original_price'], dtype=np.float64)"
   ]
  },
  {
   "cell_type": "code",
   "execution_count": 42,
   "metadata": {},
   "outputs": [],
   "source": [
    "dataset_transformer = DatasetTransformer([\n",
    "    # Categorical features\n",
    "    ('orden', CategoricalTransformer('ORDEN', handle_unknown=True)),\n",
    "    ('sku', CategoricalTransformer('SKU', handle_unknown=True)),\n",
    "    ('marketing', CategoricalTransformer('MARKETING', handle_unknown=True)),\n",
    "    ('has_updated', CategoricalTransformer('ACTUALIZADO', handle_unknown=True)),\n",
    "    ('launch', CategoricalTransformer('LANZAMIENTO', handle_unknown=True)),\n",
    "    \n",
    "    # Numerical features\n",
    "    ('updates', NumericalTransformer('ACTUALIZACIONES')),\n",
    "    ('quantity', NumericalTransformer('CANTIDAD')),\n",
    "    ('price', NumericalTransformer(log=True, scaler=False, pre_tfms=[FT(get_price)], dtype=np.float64)),\n",
    "    ('accumulated_sales', NumericalTransformer('VENTAS_ACUMULADAS', log=True, scaler=False))\n",
    "])\n",
    "\n",
    "target_transformer = CategoricalTargetTransformer('high_sales')"
   ]
  },
  {
   "cell_type": "code",
   "execution_count": 43,
   "metadata": {},
   "outputs": [
    {
     "name": "stdout",
     "output_type": "stream",
     "text": [
      "CPU times: user 276 ms, sys: 12.3 ms, total: 289 ms\n",
      "Wall time: 289 ms\n"
     ]
    }
   ],
   "source": [
    "%%time\n",
    "X_train_numerical, X_train_categorical = dataset_transformer.fit_transform(X_train)\n",
    "target_train = target_transformer.fit_transform(Y_train)"
   ]
  },
  {
   "cell_type": "code",
   "execution_count": 44,
   "metadata": {},
   "outputs": [
    {
     "name": "stdout",
     "output_type": "stream",
     "text": [
      "CPU times: user 6.56 s, sys: 19.4 ms, total: 6.58 s\n",
      "Wall time: 6.59 s\n"
     ]
    }
   ],
   "source": [
    "%%time\n",
    "X_validation_numerical, X_validation_categorical = dataset_transformer.transform(X_validation)\n",
    "target_validation = target_transformer.transform(Y_validation)"
   ]
  },
  {
   "cell_type": "code",
   "execution_count": 13,
   "metadata": {},
   "outputs": [
    {
     "name": "stdout",
     "output_type": "stream",
     "text": [
      "CPU times: user 6.26 s, sys: 77.2 ms, total: 6.33 s\n",
      "Wall time: 6.34 s\n"
     ]
    }
   ],
   "source": [
    "%%time\n",
    "X_test_numerical, X_test_categorical = dataset_transformer.transform(X_test)"
   ]
  },
  {
   "cell_type": "markdown",
   "metadata": {},
   "source": [
    "### Datasets and Dataloaders"
   ]
  },
  {
   "cell_type": "code",
   "execution_count": 45,
   "metadata": {},
   "outputs": [],
   "source": [
    "train_ds = TabularDataset(X_train_numerical, X_train_categorical, target_train, torch.float)\n",
    "validation_ds = TabularDataset(X_validation_numerical, X_validation_categorical, target_validation, torch.float)\n",
    "#test_ds = TabularDataset(X_test_numerical, X_test_categorical)"
   ]
  },
  {
   "cell_type": "code",
   "execution_count": 46,
   "metadata": {},
   "outputs": [],
   "source": [
    "train_dl = DataLoader(train_ds, batch_size=1024, shuffle=True)\n",
    "validation_dl = DataLoader(validation_ds, batch_size=1024, shuffle=False)\n",
    "#test_dl = DataLoader(test_ds, batch_size=1024, shuffle=False)"
   ]
  },
  {
   "cell_type": "markdown",
   "metadata": {},
   "source": [
    "### Model"
   ]
  },
  {
   "cell_type": "code",
   "execution_count": 47,
   "metadata": {},
   "outputs": [],
   "source": [
    "class Model(nn.Module):\n",
    "    def __init__(self, q_numerical_features, q_categorical_features, hidden_layers_size, embedding_dims=None):\n",
    "        super(Model, self).__init__()\n",
    "        \n",
    "        self.hidden_layers_size = hidden_layers_size\n",
    "        \n",
    "        if embedding_dims is not None:\n",
    "            embedding_sizes = sum([embedding_size for _, embedding_size in embedding_dims])\n",
    "            self.embeddings_layer=nn.ModuleList(\n",
    "                [nn.Embedding(vocabulary_size, embedding_size) for vocabulary_size, embedding_size in embedding_dims]\n",
    "            )\n",
    "            self.embedding_dropout = nn.Dropout(0.6)\n",
    "        else:\n",
    "            embedding_sizes = 0\n",
    "            self.embeddings_layer = None\n",
    "        \n",
    "        self.layer_0 = nn.Sequential(\n",
    "            nn.Linear(embedding_sizes + q_numerical_features, hidden_layers_size[0], bias=True),\n",
    "            nn.ReLU(),\n",
    "            nn.Dropout(0.3),\n",
    "            nn.BatchNorm1d(hidden_layers_size[0]),            \n",
    "        ) \n",
    "        \n",
    "        for i, hidden_size in enumerate(hidden_layers_size[1:]):\n",
    "            layer = nn.Sequential(\n",
    "                nn.Linear(hidden_layers_size[i], hidden_layers_size[i+1], bias=True),\n",
    "                nn.ReLU(),\n",
    "                nn.Dropout(0.3),\n",
    "                nn.BatchNorm1d(hidden_layers_size[i+1]),            \n",
    "            )\n",
    "            setattr(self, f'layer_{i+1}', layer)\n",
    "        \n",
    "        self.output = nn.Sequential(\n",
    "            nn.Linear(hidden_layers_size[-1], 1, bias=True),\n",
    "            nn.Sigmoid()\n",
    "        )\n",
    "        \n",
    "    def forward(self, numerical_features:Tensor, categorical_features:Tensor) -> Tensor:\n",
    "        if self.embeddings_layer is not None:\n",
    "            embeds = [emb_layer(categorical_features[:, i]) for i, emb_layer in enumerate(self.embeddings_layer)] \n",
    "            embeds = torch.cat(embeds, 1)\n",
    "            x = self.embedding_dropout(embeds)\n",
    "        else:\n",
    "            embeds = tensor([])\n",
    "        \n",
    "        x = self.layer_0(torch.cat([embeds, numerical_features], 1))\n",
    "        for i in range(1, len(self.hidden_layers_size)):\n",
    "            x = getattr(self, f'layer_{i}')(x)\n",
    "        \n",
    "        return self.output(x)"
   ]
  },
  {
   "cell_type": "markdown",
   "metadata": {},
   "source": [
    "### Training the network"
   ]
  },
  {
   "cell_type": "code",
   "execution_count": 48,
   "metadata": {},
   "outputs": [],
   "source": [
    "embedding_dims = dataset_transformer.get_embeddings_size()\n",
    "numerical_features_quantity, categorical_features_quantity = dataset_transformer.get_features_quantity()"
   ]
  },
  {
   "cell_type": "code",
   "execution_count": 109,
   "metadata": {},
   "outputs": [
    {
     "data": {
      "text/plain": [
       "Model(\n",
       "  (embeddings_layer): ModuleList(\n",
       "    (0): Embedding(48611, 50)\n",
       "    (1): Embedding(48611, 50)\n",
       "    (2): Embedding(3, 1)\n",
       "    (3): Embedding(3, 1)\n",
       "    (4): Embedding(66, 33)\n",
       "  )\n",
       "  (embedding_dropout): Dropout(p=0.6, inplace=False)\n",
       "  (layer_0): Sequential(\n",
       "    (0): Linear(in_features=139, out_features=64, bias=True)\n",
       "    (1): ReLU()\n",
       "    (2): Dropout(p=0.3, inplace=False)\n",
       "    (3): BatchNorm1d(64, eps=1e-05, momentum=0.1, affine=True, track_running_stats=True)\n",
       "  )\n",
       "  (layer_1): Sequential(\n",
       "    (0): Linear(in_features=64, out_features=32, bias=True)\n",
       "    (1): ReLU()\n",
       "    (2): Dropout(p=0.3, inplace=False)\n",
       "    (3): BatchNorm1d(32, eps=1e-05, momentum=0.1, affine=True, track_running_stats=True)\n",
       "  )\n",
       "  (output): Sequential(\n",
       "    (0): Linear(in_features=32, out_features=1, bias=True)\n",
       "    (1): Sigmoid()\n",
       "  )\n",
       ")"
      ]
     },
     "execution_count": 109,
     "metadata": {},
     "output_type": "execute_result"
    }
   ],
   "source": [
    "model = Model(\n",
    "    q_numerical_features = numerical_features_quantity, \n",
    "    q_categorical_features = categorical_features_quantity,\n",
    "    hidden_layers_size=[64,32],\n",
    "    embedding_dims=embedding_dims\n",
    ")\n",
    "optimizer = Adam(model.parameters(), lr=.1)#, weight_decay=0.0005)\n",
    "scheduler = ExponentialLR(optimizer=optimizer, gamma=0.95)\n",
    "loss_fn = nn.BCELoss(reduction='mean')\n",
    "\n",
    "runner = Runner(model=model, optimizer=optimizer, loss_fn=loss_fn, batch_scheduler=scheduler)\n",
    "model"
   ]
  },
  {
   "cell_type": "code",
   "execution_count": 110,
   "metadata": {},
   "outputs": [
    {
     "data": {
      "text/html": [
       "<div>\n",
       "<style scoped>\n",
       "    .dataframe tbody tr th:only-of-type {\n",
       "        vertical-align: middle;\n",
       "    }\n",
       "\n",
       "    .dataframe tbody tr th {\n",
       "        vertical-align: top;\n",
       "    }\n",
       "\n",
       "    .dataframe thead th {\n",
       "        text-align: right;\n",
       "    }\n",
       "</style>\n",
       "<table border=\"1\" class=\"dataframe\">\n",
       "  <thead>\n",
       "    <tr style=\"text-align: right;\">\n",
       "      <th></th>\n",
       "      <th>epoch</th>\n",
       "      <th>train_loss</th>\n",
       "      <th>validation_loss</th>\n",
       "      <th>roc_auc</th>\n",
       "    </tr>\n",
       "  </thead>\n",
       "  <tbody>\n",
       "    <tr>\n",
       "      <th>0</th>\n",
       "      <td>1</td>\n",
       "      <td>0.381312</td>\n",
       "      <td>0.407660</td>\n",
       "      <td>0.792326</td>\n",
       "    </tr>\n",
       "    <tr>\n",
       "      <th>1</th>\n",
       "      <td>2</td>\n",
       "      <td>0.343672</td>\n",
       "      <td>0.413743</td>\n",
       "      <td>0.835275</td>\n",
       "    </tr>\n",
       "  </tbody>\n",
       "</table>\n",
       "</div>"
      ],
      "text/plain": [
       "   epoch  train_loss  validation_loss   roc_auc\n",
       "0      1    0.381312         0.407660  0.792326\n",
       "1      2    0.343672         0.413743  0.835275"
      ]
     },
     "metadata": {},
     "output_type": "display_data"
    },
    {
     "name": "stdout",
     "output_type": "stream",
     "text": [
      "CPU times: user 22.8 s, sys: 730 ms, total: 23.6 s\n",
      "Wall time: 5.92 s\n"
     ]
    }
   ],
   "source": [
    "%%time\n",
    "losses = runner.fit(train_dl, validation_dl, epochs=2)"
   ]
  },
  {
   "cell_type": "code",
   "execution_count": 111,
   "metadata": {},
   "outputs": [
    {
     "data": {
      "text/plain": [
       "[<matplotlib.lines.Line2D at 0x137be2d30>]"
      ]
     },
     "execution_count": 111,
     "metadata": {},
     "output_type": "execute_result"
    },
    {
     "data": {
      "image/png": "[encoded data removed]",
      "text/plain": [
       "<Figure size 432x288 with 1 Axes>"
      ]
     },
     "metadata": {
      "needs_background": "light"
     },
     "output_type": "display_data"
    }
   ],
   "source": [
    "plt.plot(range(len(losses)), losses)"
   ]
  },
  {
   "cell_type": "markdown",
   "metadata": {},
   "source": [
    "### Validating the net"
   ]
  },
  {
   "cell_type": "code",
   "execution_count": 112,
   "metadata": {},
   "outputs": [],
   "source": [
    "y_train_pred = runner.predict(DataLoader(train_dl.dataset, train_dl.batch_size))"
   ]
  },
  {
   "cell_type": "code",
   "execution_count": 113,
   "metadata": {},
   "outputs": [],
   "source": [
    "y_val_pred = runner.predict(validation_dl)"
   ]
  },
  {
   "cell_type": "code",
   "execution_count": 23,
   "metadata": {},
   "outputs": [],
   "source": [
    "y_test_pred = runner.predict(test_dl)"
   ]
  },
  {
   "cell_type": "markdown",
   "metadata": {},
   "source": [
    "#### Training"
   ]
  },
  {
   "cell_type": "code",
   "execution_count": 114,
   "metadata": {},
   "outputs": [
    {
     "name": "stdout",
     "output_type": "stream",
     "text": [
      "Auc Roc in training: 0.835275459018879\n"
     ]
    }
   ],
   "source": [
    "aucroc_train = roc_auc_score(target_train, y_train_pred)\n",
    "print(f'Auc Roc in training: {aucroc_train}')"
   ]
  },
  {
   "cell_type": "markdown",
   "metadata": {},
   "source": [
    "#### Validation"
   ]
  },
  {
   "cell_type": "code",
   "execution_count": 115,
   "metadata": {},
   "outputs": [
    {
     "name": "stdout",
     "output_type": "stream",
     "text": [
      "Auc Roc in test: 0.733655330486416\n"
     ]
    }
   ],
   "source": [
    "aucroc_val = roc_auc_score(target_validation, y_val_pred)\n",
    "print(f'Auc Roc in test: {aucroc_val}')"
   ]
  },
  {
   "cell_type": "markdown",
   "metadata": {},
   "source": [
    "#### Testing submission"
   ]
  },
  {
   "cell_type": "code",
   "execution_count": 26,
   "metadata": {},
   "outputs": [
    {
     "data": {
      "text/html": [
       "<div>\n",
       "<style scoped>\n",
       "    .dataframe tbody tr th:only-of-type {\n",
       "        vertical-align: middle;\n",
       "    }\n",
       "\n",
       "    .dataframe tbody tr th {\n",
       "        vertical-align: top;\n",
       "    }\n",
       "\n",
       "    .dataframe thead th {\n",
       "        text-align: right;\n",
       "    }\n",
       "</style>\n",
       "<table border=\"1\" class=\"dataframe\">\n",
       "  <thead>\n",
       "    <tr style=\"text-align: right;\">\n",
       "      <th></th>\n",
       "      <th>ROW_ID</th>\n",
       "      <th>conversion</th>\n",
       "    </tr>\n",
       "  </thead>\n",
       "  <tbody>\n",
       "    <tr>\n",
       "      <th>19206</th>\n",
       "      <td>19206</td>\n",
       "      <td>0.0738</td>\n",
       "    </tr>\n",
       "    <tr>\n",
       "      <th>19207</th>\n",
       "      <td>19207</td>\n",
       "      <td>0.1109</td>\n",
       "    </tr>\n",
       "    <tr>\n",
       "      <th>19208</th>\n",
       "      <td>19208</td>\n",
       "      <td>0.0003</td>\n",
       "    </tr>\n",
       "    <tr>\n",
       "      <th>19209</th>\n",
       "      <td>19209</td>\n",
       "      <td>0.0566</td>\n",
       "    </tr>\n",
       "    <tr>\n",
       "      <th>19210</th>\n",
       "      <td>19210</td>\n",
       "      <td>0.0005</td>\n",
       "    </tr>\n",
       "  </tbody>\n",
       "</table>\n",
       "</div>"
      ],
      "text/plain": [
       "       ROW_ID  conversion\n",
       "19206   19206      0.0738\n",
       "19207   19207      0.1109\n",
       "19208   19208      0.0003\n",
       "19209   19209      0.0566\n",
       "19210   19210      0.0005"
      ]
     },
     "execution_count": 26,
     "metadata": {},
     "output_type": "execute_result"
    }
   ],
   "source": [
    "submission = pd.DataFrame({\n",
    "    'conversion': y_test_pred.squeeze()\n",
    "}).reset_index().rename({'index':'ROW_ID'}, axis=1)\n",
    "submission['conversion'] = np.round(submission['conversion'], 4)\n",
    "submission.tail()"
   ]
  },
  {
   "cell_type": "code",
   "execution_count": 27,
   "metadata": {},
   "outputs": [],
   "source": [
    "submission.to_csv('submission_2020_09_22_002.csv.gz', compression='gzip', index=False)"
   ]
  }
 ],
 "metadata": {
  "kernelspec": {
   "display_name": "Python 3",
   "language": "python",
   "name": "python3"
  },
  "language_info": {
   "codemirror_mode": {
    "name": "ipython",
    "version": 3
   },
   "file_extension": ".py",
   "mimetype": "text/x-python",
   "name": "python",
   "nbconvert_exporter": "python",
   "pygments_lexer": "ipython3",
   "version": "3.8.5"
  }
 },
 "nbformat": 4,
 "nbformat_minor": 4
}
